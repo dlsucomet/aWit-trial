{
 "cells": [
  {
   "cell_type": "markdown",
   "id": "eb1854cc-0574-4561-91ae-591a87f0138a",
   "metadata": {},
   "source": [
    "## IMPORT NECESSARY LIBRARIES"
   ]
  },
  {
   "cell_type": "code",
   "execution_count": 1,
   "id": "7838b311-19a4-4b21-a431-69b1f6bfbc52",
   "metadata": {},
   "outputs": [],
   "source": [
    "import numpy as np\n",
    "import pandas as pd\n",
    "import matplotlib.pyplot as plt"
   ]
  },
  {
   "cell_type": "markdown",
   "id": "8f83d10f-4d13-4f8a-a713-1b6a83c3b06a",
   "metadata": {},
   "source": [
    "## GET AND READ CSV"
   ]
  },
  {
   "cell_type": "code",
   "execution_count": 2,
   "id": "376abb85-8abd-414a-aac8-291e5c6c7163",
   "metadata": {},
   "outputs": [
    {
     "data": {
      "text/html": [
       "<div>\n",
       "<style scoped>\n",
       "    .dataframe tbody tr th:only-of-type {\n",
       "        vertical-align: middle;\n",
       "    }\n",
       "\n",
       "    .dataframe tbody tr th {\n",
       "        vertical-align: top;\n",
       "    }\n",
       "\n",
       "    .dataframe thead th {\n",
       "        text-align: right;\n",
       "    }\n",
       "</style>\n",
       "<table border=\"1\" class=\"dataframe\">\n",
       "  <thead>\n",
       "    <tr style=\"text-align: right;\">\n",
       "      <th></th>\n",
       "      <th>Unnamed: 0</th>\n",
       "      <th>title</th>\n",
       "      <th>artist/s</th>\n",
       "      <th>danceability</th>\n",
       "      <th>key</th>\n",
       "      <th>loudness</th>\n",
       "      <th>speechiness</th>\n",
       "      <th>liveness</th>\n",
       "      <th>valence</th>\n",
       "      <th>tempo</th>\n",
       "      <th>duration_ms</th>\n",
       "    </tr>\n",
       "  </thead>\n",
       "  <tbody>\n",
       "    <tr>\n",
       "      <th>0</th>\n",
       "      <td>0</td>\n",
       "      <td>Kill Bill</td>\n",
       "      <td>SZA</td>\n",
       "      <td>0.644</td>\n",
       "      <td>8</td>\n",
       "      <td>-5.750</td>\n",
       "      <td>0.0351</td>\n",
       "      <td>0.1610</td>\n",
       "      <td>0.430</td>\n",
       "      <td>88.993</td>\n",
       "      <td>153947</td>\n",
       "    </tr>\n",
       "    <tr>\n",
       "      <th>1</th>\n",
       "      <td>1</td>\n",
       "      <td>Mahika</td>\n",
       "      <td>Adie | Janine Berdin</td>\n",
       "      <td>0.635</td>\n",
       "      <td>7</td>\n",
       "      <td>-7.406</td>\n",
       "      <td>0.0391</td>\n",
       "      <td>0.1390</td>\n",
       "      <td>0.601</td>\n",
       "      <td>81.976</td>\n",
       "      <td>201951</td>\n",
       "    </tr>\n",
       "    <tr>\n",
       "      <th>2</th>\n",
       "      <td>2</td>\n",
       "      <td>Anti-Hero</td>\n",
       "      <td>Taylor Swift</td>\n",
       "      <td>0.637</td>\n",
       "      <td>4</td>\n",
       "      <td>-6.571</td>\n",
       "      <td>0.0519</td>\n",
       "      <td>0.1420</td>\n",
       "      <td>0.533</td>\n",
       "      <td>97.008</td>\n",
       "      <td>200690</td>\n",
       "    </tr>\n",
       "    <tr>\n",
       "      <th>3</th>\n",
       "      <td>3</td>\n",
       "      <td>Here With Me</td>\n",
       "      <td>d4vd</td>\n",
       "      <td>0.574</td>\n",
       "      <td>4</td>\n",
       "      <td>-8.209</td>\n",
       "      <td>0.0254</td>\n",
       "      <td>0.1280</td>\n",
       "      <td>0.288</td>\n",
       "      <td>132.023</td>\n",
       "      <td>242485</td>\n",
       "    </tr>\n",
       "    <tr>\n",
       "      <th>4</th>\n",
       "      <td>4</td>\n",
       "      <td>Ditto</td>\n",
       "      <td>NewJeans</td>\n",
       "      <td>0.814</td>\n",
       "      <td>6</td>\n",
       "      <td>-5.957</td>\n",
       "      <td>0.1110</td>\n",
       "      <td>0.0993</td>\n",
       "      <td>0.183</td>\n",
       "      <td>133.854</td>\n",
       "      <td>185507</td>\n",
       "    </tr>\n",
       "  </tbody>\n",
       "</table>\n",
       "</div>"
      ],
      "text/plain": [
       "   Unnamed: 0         title              artist/s  danceability  key  \\\n",
       "0           0     Kill Bill                   SZA         0.644    8   \n",
       "1           1        Mahika  Adie | Janine Berdin         0.635    7   \n",
       "2           2     Anti-Hero          Taylor Swift         0.637    4   \n",
       "3           3  Here With Me                  d4vd         0.574    4   \n",
       "4           4         Ditto              NewJeans         0.814    6   \n",
       "\n",
       "   loudness  speechiness  liveness  valence    tempo  duration_ms  \n",
       "0    -5.750       0.0351    0.1610    0.430   88.993       153947  \n",
       "1    -7.406       0.0391    0.1390    0.601   81.976       201951  \n",
       "2    -6.571       0.0519    0.1420    0.533   97.008       200690  \n",
       "3    -8.209       0.0254    0.1280    0.288  132.023       242485  \n",
       "4    -5.957       0.1110    0.0993    0.183  133.854       185507  "
      ]
     },
     "execution_count": 2,
     "metadata": {},
     "output_type": "execute_result"
    }
   ],
   "source": [
    "intrinsic = pd.read_csv('ThesisHits.csv')\n",
    "# intrinsic = pd.read_csv('INTRINSIC\\ThesisHits.csv')\n",
    "\n",
    "intrinsic.head()"
   ]
  },
  {
   "cell_type": "markdown",
   "id": "6f0883d4-d13c-494b-83b3-3dda25a3b7d7",
   "metadata": {},
   "source": [
    "## DATA TYPES"
   ]
  },
  {
   "cell_type": "code",
   "execution_count": 3,
   "id": "4432d649-fee9-4236-b692-61b7dc02af0c",
   "metadata": {},
   "outputs": [
    {
     "name": "stdout",
     "output_type": "stream",
     "text": [
      "Unnamed: 0        int64\n",
      "title            object\n",
      "artist/s         object\n",
      "danceability    float64\n",
      "key               int64\n",
      "loudness        float64\n",
      "speechiness     float64\n",
      "liveness        float64\n",
      "valence         float64\n",
      "tempo           float64\n",
      "duration_ms       int64\n",
      "dtype: object\n"
     ]
    }
   ],
   "source": [
    "print(intrinsic.dtypes)"
   ]
  },
  {
   "cell_type": "markdown",
   "id": "2379129c-6c97-4611-ac0d-d65803eb4336",
   "metadata": {},
   "source": [
    "## ERASE MISSING VALUES"
   ]
  },
  {
   "cell_type": "code",
   "execution_count": 4,
   "id": "3274eabd-8d17-41a9-8517-fc13ad42cc67",
   "metadata": {},
   "outputs": [
    {
     "name": "stdout",
     "output_type": "stream",
     "text": [
      "Unnamed: 0      0\n",
      "title           0\n",
      "artist/s        0\n",
      "danceability    0\n",
      "key             0\n",
      "loudness        0\n",
      "speechiness     0\n",
      "liveness        0\n",
      "valence         0\n",
      "tempo           0\n",
      "duration_ms     0\n",
      "dtype: int64\n"
     ]
    }
   ],
   "source": [
    "print(intrinsic.isnull().sum())"
   ]
  },
  {
   "cell_type": "markdown",
   "id": "cb5483ad-1b4f-4fb2-a604-c36c3c47d09f",
   "metadata": {},
   "source": [
    "## SUMMARY STATISTICS"
   ]
  },
  {
   "cell_type": "markdown",
   "id": "80fd11d0-d053-4f00-9b5c-c252c13776c8",
   "metadata": {},
   "source": [
    "### Boxplots"
   ]
  },
  {
   "cell_type": "markdown",
   "id": "ee973ae7-fbee-461a-9b90-5cbc5520ca48",
   "metadata": {},
   "source": [
    "#### Danceability, Speechiness, Liveness, Valence"
   ]
  },
  {
   "cell_type": "code",
   "execution_count": 16,
   "id": "834fe799-1875-48a8-ae59-3c43767e43b7",
   "metadata": {},
   "outputs": [
    {
     "data": {
      "image/png": "[encoded data removed]",
      "text/plain": [
       "<Figure size 720x504 with 1 Axes>"
      ]
     },
     "metadata": {
      "needs_background": "light"
     },
     "output_type": "display_data"
    }
   ],
   "source": [
    "intrinsic_boxplots = [intrinsic[\"danceability\"], intrinsic[\"speechiness\"], intrinsic[\"liveness\"], intrinsic[\"valence\"]]\n",
    "fig = plt.figure(figsize =(10, 7))\n",
    " \n",
    "# Creating plot\n",
    "plt.boxplot(intrinsic_boxplots)\n",
    " \n",
    "# show plot\n",
    "plt.show()"
   ]
  },
  {
   "cell_type": "markdown",
   "id": "bec62ac5-edd3-436c-b151-305db5e52e96",
   "metadata": {},
   "source": [
    "#### Key"
   ]
  },
  {
   "cell_type": "code",
   "execution_count": 7,
   "id": "5f7b3dda-d972-46d3-a0b2-3a88bdd79adc",
   "metadata": {},
   "outputs": [
    {
     "data": {
      "image/png": "[encoded data removed]",
      "text/plain": [
       "<Figure size 720x504 with 1 Axes>"
      ]
     },
     "metadata": {
      "needs_background": "light"
     },
     "output_type": "display_data"
    }
   ],
   "source": [
    "fig = plt.figure(figsize =(10, 7))\n",
    " \n",
    "# Creating plot\n",
    "plt.boxplot(intrinsic[\"key\"])\n",
    " \n",
    "# show plot\n",
    "plt.show()"
   ]
  },
  {
   "cell_type": "markdown",
   "id": "c46bd1f0-0c02-408b-9bbe-f0ee8edb7bbf",
   "metadata": {},
   "source": [
    "#### Loudness"
   ]
  },
  {
   "cell_type": "code",
   "execution_count": 8,
   "id": "862d371c-01a5-4b07-af17-9eb7382ef1a2",
   "metadata": {},
   "outputs": [
    {
     "data": {
      "image/png": "[encoded data removed]",
      "text/plain": [
       "<Figure size 720x504 with 1 Axes>"
      ]
     },
     "metadata": {
      "needs_background": "light"
     },
     "output_type": "display_data"
    }
   ],
   "source": [
    "fig = plt.figure(figsize =(10, 7))\n",
    " \n",
    "# Creating plot\n",
    "plt.boxplot(intrinsic[\"loudness\"])\n",
    " \n",
    "# show plot\n",
    "plt.show()"
   ]
  },
  {
   "cell_type": "markdown",
   "id": "4c9c82f7-3a5c-4d6b-b65a-7f9ccb026af2",
   "metadata": {},
   "source": [
    "#### Tempo"
   ]
  },
  {
   "cell_type": "code",
   "execution_count": 12,
   "id": "6a48ef84-4c77-4893-afaa-be92946d6a5b",
   "metadata": {},
   "outputs": [
    {
     "data": {
      "image/png": "[encoded data removed]",
      "text/plain": [
       "<Figure size 720x504 with 1 Axes>"
      ]
     },
     "metadata": {
      "needs_background": "light"
     },
     "output_type": "display_data"
    }
   ],
   "source": [
    "fig = plt.figure(figsize =(10, 7))\n",
    " \n",
    "# Creating plot\n",
    "plt.boxplot(intrinsic[\"tempo\"])\n",
    " \n",
    "# show plot\n",
    "plt.show()"
   ]
  },
  {
   "cell_type": "markdown",
   "id": "684ca715-a902-4ec1-9f4d-bbc17b933793",
   "metadata": {},
   "source": [
    "#### Duration"
   ]
  },
  {
   "cell_type": "code",
   "execution_count": 13,
   "id": "fde3914a-f9c5-4969-92ef-510045e19ffc",
   "metadata": {},
   "outputs": [
    {
     "data": {
      "image/png": "[encoded data removed]",
      "text/plain": [
       "<Figure size 720x504 with 1 Axes>"
      ]
     },
     "metadata": {
      "needs_background": "light"
     },
     "output_type": "display_data"
    }
   ],
   "source": [
    "fig = plt.figure(figsize =(10, 7))\n",
    " \n",
    "# Creating plot\n",
    "plt.boxplot(intrinsic[\"duration_ms\"])\n",
    " \n",
    "# show plot\n",
    "plt.show()"
   ]
  },
  {
   "cell_type": "markdown",
   "id": "6d4445dc-3e3a-41d9-87de-b6d9e7321c4c",
   "metadata": {},
   "source": [
    "### MEAN, MEDIAN, MIN VALUE, MAX VALUE, STD OF danceability, loudness, speechiness, liveness, valence, tempo, duration"
   ]
  },
  {
   "cell_type": "code",
   "execution_count": 23,
   "id": "c9107dc2-d289-4d69-84d4-aee6ccdf67f9",
   "metadata": {},
   "outputs": [
    {
     "data": {
      "text/html": [
       "<div>\n",
       "<style scoped>\n",
       "    .dataframe tbody tr th:only-of-type {\n",
       "        vertical-align: middle;\n",
       "    }\n",
       "\n",
       "    .dataframe tbody tr th {\n",
       "        vertical-align: top;\n",
       "    }\n",
       "\n",
       "    .dataframe thead th {\n",
       "        text-align: right;\n",
       "    }\n",
       "</style>\n",
       "<table border=\"1\" class=\"dataframe\">\n",
       "  <thead>\n",
       "    <tr style=\"text-align: right;\">\n",
       "      <th></th>\n",
       "      <th>Summary Stat</th>\n",
       "      <th>Mean</th>\n",
       "      <th>Median</th>\n",
       "      <th>Standard Dev</th>\n",
       "      <th>Minimum</th>\n",
       "      <th>Maximum</th>\n",
       "    </tr>\n",
       "  </thead>\n",
       "  <tbody>\n",
       "    <tr>\n",
       "      <th>0</th>\n",
       "      <td>danceability</td>\n",
       "      <td>0.619220</td>\n",
       "      <td>0.6135</td>\n",
       "      <td>0.146130</td>\n",
       "      <td>0.3480</td>\n",
       "      <td>0.898</td>\n",
       "    </tr>\n",
       "    <tr>\n",
       "      <th>1</th>\n",
       "      <td>loudness</td>\n",
       "      <td>-7.365800</td>\n",
       "      <td>-7.2690</td>\n",
       "      <td>2.474646</td>\n",
       "      <td>-13.8500</td>\n",
       "      <td>-3.299</td>\n",
       "    </tr>\n",
       "    <tr>\n",
       "      <th>2</th>\n",
       "      <td>speechiness</td>\n",
       "      <td>0.053746</td>\n",
       "      <td>0.0428</td>\n",
       "      <td>0.033579</td>\n",
       "      <td>0.0232</td>\n",
       "      <td>0.225</td>\n",
       "    </tr>\n",
       "    <tr>\n",
       "      <th>3</th>\n",
       "      <td>liveness</td>\n",
       "      <td>0.155554</td>\n",
       "      <td>0.1310</td>\n",
       "      <td>0.073180</td>\n",
       "      <td>0.0771</td>\n",
       "      <td>0.332</td>\n",
       "    </tr>\n",
       "    <tr>\n",
       "      <th>4</th>\n",
       "      <td>valence</td>\n",
       "      <td>0.428720</td>\n",
       "      <td>0.3670</td>\n",
       "      <td>0.202503</td>\n",
       "      <td>0.1080</td>\n",
       "      <td>0.884</td>\n",
       "    </tr>\n",
       "    <tr>\n",
       "      <th>5</th>\n",
       "      <td>tempo</td>\n",
       "      <td>118.360140</td>\n",
       "      <td>119.9390</td>\n",
       "      <td>27.335394</td>\n",
       "      <td>60.0010</td>\n",
       "      <td>174.839</td>\n",
       "    </tr>\n",
       "    <tr>\n",
       "      <th>6</th>\n",
       "      <td>duration</td>\n",
       "      <td>216257.100000</td>\n",
       "      <td>203689.5000</td>\n",
       "      <td>46516.752214</td>\n",
       "      <td>134256.0000</td>\n",
       "      <td>335625.000</td>\n",
       "    </tr>\n",
       "  </tbody>\n",
       "</table>\n",
       "</div>"
      ],
      "text/plain": [
       "   Summary Stat           Mean       Median  Standard Dev      Minimum  \\\n",
       "0  danceability       0.619220       0.6135      0.146130       0.3480   \n",
       "1      loudness      -7.365800      -7.2690      2.474646     -13.8500   \n",
       "2   speechiness       0.053746       0.0428      0.033579       0.0232   \n",
       "3      liveness       0.155554       0.1310      0.073180       0.0771   \n",
       "4       valence       0.428720       0.3670      0.202503       0.1080   \n",
       "5         tempo     118.360140     119.9390     27.335394      60.0010   \n",
       "6      duration  216257.100000  203689.5000  46516.752214  134256.0000   \n",
       "\n",
       "      Maximum  \n",
       "0       0.898  \n",
       "1      -3.299  \n",
       "2       0.225  \n",
       "3       0.332  \n",
       "4       0.884  \n",
       "5     174.839  \n",
       "6  335625.000  "
      ]
     },
     "execution_count": 23,
     "metadata": {},
     "output_type": "execute_result"
    }
   ],
   "source": [
    "intrinsic_names_1 = [\"danceability\", \"loudness\", \"speechiness\", \"liveness\", \"valence\", \"tempo\", \"duration\"]\n",
    "intrinsic_mean = [intrinsic[\"danceability\"].mean(), intrinsic[\"loudness\"].mean(), intrinsic[\"speechiness\"].mean(), intrinsic[\"liveness\"].mean(), intrinsic[\"valence\"].mean(), intrinsic[\"tempo\"].mean(), intrinsic[\"duration_ms\"].mean()]\n",
    "intrinsic_median = [intrinsic[\"danceability\"].median(), intrinsic[\"loudness\"].median(), intrinsic[\"speechiness\"].median(), intrinsic[\"liveness\"].median(), intrinsic[\"valence\"].median(), intrinsic[\"tempo\"].median(), intrinsic[\"duration_ms\"].median()]\n",
    "intrinsic_min = [intrinsic[\"danceability\"].min(), intrinsic[\"loudness\"].min(), intrinsic[\"speechiness\"].min(), intrinsic[\"liveness\"].min(), intrinsic[\"valence\"].min(), intrinsic[\"tempo\"].min(), intrinsic[\"duration_ms\"].min()]\n",
    "intrinsic_max = [intrinsic[\"danceability\"].max(), intrinsic[\"loudness\"].max(), intrinsic[\"speechiness\"].max(), intrinsic[\"liveness\"].max(), intrinsic[\"valence\"].max(), intrinsic[\"tempo\"].max(), intrinsic[\"duration_ms\"].max()]\n",
    "intrinsic_std = [intrinsic[\"danceability\"].std(), intrinsic[\"loudness\"].std(), intrinsic[\"speechiness\"].std(), intrinsic[\"liveness\"].std(), intrinsic[\"valence\"].std(), intrinsic[\"tempo\"].std(), intrinsic[\"duration_ms\"].std()]\n",
    "\n",
    "intrinsic_stats = {'Summary Stat':intrinsic_names_1, 'Mean':intrinsic_mean, 'Median':intrinsic_median, 'Standard Dev':intrinsic_std, 'Minimum':intrinsic_min, 'Maximum':intrinsic_max}\n",
    "intrinsic_1 = pd.DataFrame(intrinsic_stats)\n",
    "intrinsic_1"
   ]
  },
  {
   "cell_type": "markdown",
   "id": "c36cb50b-3001-40fa-b7ba-507f3aeb3a61",
   "metadata": {},
   "source": [
    "### MODE, MIN VALUE, MAX VALUE, STD OF KEY"
   ]
  },
  {
   "cell_type": "code",
   "execution_count": 37,
   "id": "525e1dc5-b745-4624-8a64-9cdfeb04a048",
   "metadata": {},
   "outputs": [
    {
     "data": {
      "text/html": [
       "<div>\n",
       "<style scoped>\n",
       "    .dataframe tbody tr th:only-of-type {\n",
       "        vertical-align: middle;\n",
       "    }\n",
       "\n",
       "    .dataframe tbody tr th {\n",
       "        vertical-align: top;\n",
       "    }\n",
       "\n",
       "    .dataframe thead th {\n",
       "        text-align: right;\n",
       "    }\n",
       "</style>\n",
       "<table border=\"1\" class=\"dataframe\">\n",
       "  <thead>\n",
       "    <tr style=\"text-align: right;\">\n",
       "      <th></th>\n",
       "      <th>Summary Stat</th>\n",
       "      <th>Mode</th>\n",
       "      <th>Median</th>\n",
       "      <th>Standard Dev</th>\n",
       "      <th>Minimum</th>\n",
       "      <th>Maximum</th>\n",
       "    </tr>\n",
       "  </thead>\n",
       "  <tbody>\n",
       "    <tr>\n",
       "      <th>0</th>\n",
       "      <td>key</td>\n",
       "      <td>6</td>\n",
       "      <td>6.0</td>\n",
       "      <td>3.434281</td>\n",
       "      <td>0</td>\n",
       "      <td>11</td>\n",
       "    </tr>\n",
       "  </tbody>\n",
       "</table>\n",
       "</div>"
      ],
      "text/plain": [
       "  Summary Stat  Mode  Median  Standard Dev  Minimum  Maximum\n",
       "0          key     6     6.0      3.434281        0       11"
      ]
     },
     "execution_count": 37,
     "metadata": {},
     "output_type": "execute_result"
    }
   ],
   "source": [
    "intrinsic_stats_2 = {'Summary Stat':[\"key\"], 'Mode': [intrinsic[\"key\"].mode()[0]], 'Median':[intrinsic[\"key\"].median()], 'Standard Dev':[intrinsic[\"key\"].std()], 'Minimum':[intrinsic[\"key\"].min()], 'Maximum':[intrinsic[\"key\"].max()]}\n",
    "intrinsic_2 = pd.DataFrame(intrinsic_stats_2)\n",
    "intrinsic_2"
   ]
  },
  {
   "cell_type": "markdown",
   "id": "bc5e9306-21af-4970-957e-b5e6af91673f",
   "metadata": {},
   "source": [
    "#### Count of each instance of Key"
   ]
  },
  {
   "cell_type": "code",
   "execution_count": 28,
   "id": "1d14635c-5b64-47a7-9c23-9503f2a4c5c6",
   "metadata": {},
   "outputs": [
    {
     "name": "stdout",
     "output_type": "stream",
     "text": [
      "6     8\n",
      "11    6\n",
      "8     5\n",
      "0     4\n",
      "4     4\n",
      "7     4\n",
      "10    4\n",
      "1     3\n",
      "2     3\n",
      "3     3\n",
      "5     3\n",
      "9     3\n",
      "Name: key, dtype: int64\n"
     ]
    }
   ],
   "source": [
    "count = intrinsic[\"key\"].value_counts()\n",
    "print(count)"
   ]
  },
  {
   "cell_type": "markdown",
   "id": "16ba6c36-f3f1-4a3d-bb96-eb5c9c4df43a",
   "metadata": {},
   "source": [
    "## CARDINAL/NOMINAL/ORDINAL\n",
    "https://www.mathsisfun.com/numbers/cardinal-ordinal-nominal.html\n",
    "\n",
    "title           Nominal\n",
    "\n",
    "artist/s        Nominal\n",
    "\n",
    "danceability    Cardinal\n",
    "\n",
    "key             Ordinal\n",
    "\n",
    "loudness        Cardinal\n",
    "\n",
    "speechiness     Cardinal\n",
    "\n",
    "liveness        Cardinal\n",
    "\n",
    "valence         Cardinal\n",
    "\n",
    "tempo           Cardinal\n",
    "\n",
    "duration_ms     Cardinal"
   ]
  },
  {
   "cell_type": "code",
   "execution_count": null,
   "id": "0d501180-ce83-4fc3-a441-bcfbd37740a6",
   "metadata": {},
   "outputs": [],
   "source": []
  }
 ],
 "metadata": {
  "kernelspec": {
   "display_name": "Python 3 (ipykernel)",
   "language": "python",
   "name": "python3"
  },
  "language_info": {
   "codemirror_mode": {
    "name": "ipython",
    "version": 3
   },
   "file_extension": ".py",
   "mimetype": "text/x-python",
   "name": "python",
   "nbconvert_exporter": "python",
   "pygments_lexer": "ipython3",
   "version": "3.9.7"
  }
 },
 "nbformat": 4,
 "nbformat_minor": 5
}
