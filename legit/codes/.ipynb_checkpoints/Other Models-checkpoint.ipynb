{
 "cells": [
  {
   "cell_type": "code",
   "execution_count": null,
   "id": "4133c517",
   "metadata": {},
   "outputs": [],
   "source": [
    "# PRE-PROCESSING (NO EXTRINSIC YET)"
   ]
  },
  {
   "cell_type": "code",
   "execution_count": 33,
   "id": "53c4ae92",
   "metadata": {},
   "outputs": [],
   "source": [
    "import numpy as np\n",
    "import pandas as pd\n",
    "import matplotlib.pyplot as plt\n",
    "\n",
    "np.random.seed(1)"
   ]
  },
  {
   "cell_type": "code",
   "execution_count": 34,
   "id": "09596740",
   "metadata": {},
   "outputs": [
    {
     "name": "stdout",
     "output_type": "stream",
     "text": [
      "                                                title  \\\n",
      "0                                           Kill Bill   \n",
      "1                                              Mahika   \n",
      "2                                           Anti-Hero   \n",
      "3                                        Here With Me   \n",
      "4                                               Ditto   \n",
      "5                                       Made You Look   \n",
      "6                        Wet The Bed (feat. Ludacris)   \n",
      "7                           Unholy (feat. Kim Petras)   \n",
      "8                                 Under The Influence   \n",
      "9             Babalik Sa'yo (from \"2 Good 2 Be True\")   \n",
      "10  Until I Found You (with Em Beihold) - Em Beiho...   \n",
      "11                                      Midnight Rain   \n",
      "12                                             Umaasa   \n",
      "13                                             Fallen   \n",
      "14                                        Die For You   \n",
      "15                                          As It Was   \n",
      "16                                          Ikaw Lang   \n",
      "17                                              Jopay   \n",
      "18                                        Die For You   \n",
      "19                                 Fall In Love Alone   \n",
      "20            Left and Right (Feat. Jung Kook of BTS)   \n",
      "21                                        ANTIFRAGILE   \n",
      "22                                          THE SHADE   \n",
      "23                                           Isa lang   \n",
      "24                                           Old Love   \n",
      "25                                          City Girl   \n",
      "26                                          Bahala Na   \n",
      "27                                          Paraluman   \n",
      "28                                     Nobody Gets Me   \n",
      "29                                               Pano   \n",
      "30                                            Pasilyo   \n",
      "31             Creepin' (with The Weeknd & 21 Savage)   \n",
      "32                                         Angel Baby   \n",
      "33                                            Tahanan   \n",
      "34                                      Glimpse of Us   \n",
      "35                                        golden hour   \n",
      "36                                     Shinunoga E-Wa   \n",
      "37                                            Pagsamo   \n",
      "38                                         Sure Thing   \n",
      "39                                           Hype Boy   \n",
      "40                                  Until I Found You   \n",
      "41               Kumpas - Theme of “2 Good 2 Be True”   \n",
      "42                                              Shirt   \n",
      "43                                               Muli   \n",
      "44                                   I Wanna Be Yours   \n",
      "45                                             Kagome   \n",
      "46                                                OMG   \n",
      "47                                        double take   \n",
      "48                                              Yakap   \n",
      "49                                          Shut Down   \n",
      "\n",
      "                                 artist/s  danceability  key  loudness  \\\n",
      "0                                     SZA         0.644    8    -5.750   \n",
      "1                    Adie | Janine Berdin         0.635    7    -7.406   \n",
      "2                            Taylor Swift         0.637    4    -6.571   \n",
      "3                                    d4vd         0.574    4    -8.209   \n",
      "4                                NewJeans         0.814    6    -5.957   \n",
      "5                          Meghan Trainor         0.838   10    -3.562   \n",
      "6                  Chris Brown | Ludacris         0.580    6    -7.405   \n",
      "7                  Sam Smith | Kim Petras         0.714    2    -7.375   \n",
      "8                             Chris Brown         0.733    9    -5.529   \n",
      "9                        Moira Dela Torre         0.515    1    -7.798   \n",
      "10           Stephen Sanchez | Em Beihold         0.551   10    -5.339   \n",
      "11                           Taylor Swift         0.643    0   -11.738   \n",
      "12                                 Calein         0.627    9    -9.868   \n",
      "13                             Lola Amour         0.652    6    -4.098   \n",
      "14                             The Weeknd         0.582    1    -7.163   \n",
      "15                           Harry Styles         0.520    6    -5.338   \n",
      "16                                 NOBITA         0.513   11   -11.091   \n",
      "17                             Mayonnaise         0.348    6    -6.425   \n",
      "18                                   Joji         0.472    8    -7.379   \n",
      "19                            Stacey Ryan         0.676    7    -5.455   \n",
      "20         Charlie Puth | Jung Kook (BTS)         0.881    2    -4.898   \n",
      "21                            LE SSERAFIM         0.882   10    -3.299   \n",
      "22                      Rex Orange County         0.898    5    -7.973   \n",
      "23                            Arthur Nery         0.429    6    -8.445   \n",
      "24                    yuji | putri dahlia         0.478   11   -10.513   \n",
      "25                            Shanti Dope         0.684    0    -9.995   \n",
      "26                               Kenaniah         0.874   11   -11.168   \n",
      "27                                   Adie         0.519    5   -13.850   \n",
      "28                                    SZA         0.358    7    -8.285   \n",
      "29                           Zack Tabudlo         0.375    3    -7.018   \n",
      "30                         SunKissed Lola         0.710    2    -4.674   \n",
      "31  Metro Boomin | The Weeknd | 21 Savage         0.715    1    -6.005   \n",
      "32                            Troye Sivan         0.559   11    -6.425   \n",
      "33                                   Adie         0.394    3   -10.855   \n",
      "34                                   Joji         0.440    8    -9.258   \n",
      "35                                   JVKE         0.515    4    -4.801   \n",
      "36                             Fujii Kaze         0.600    6    -6.124   \n",
      "37                            Arthur Nery         0.644    6    -9.382   \n",
      "38                                 Miguel         0.684   11    -8.127   \n",
      "39                               NewJeans         0.593    4    -3.430   \n",
      "40                        Stephen Sanchez         0.539   10    -6.050   \n",
      "41                       Moira Dela Torre         0.545    5   -11.001   \n",
      "42                                    SZA         0.848    3    -7.720   \n",
      "43                           Ace Banzuelo         0.482   11    -3.620   \n",
      "44                         Arctic Monkeys         0.464    0    -9.345   \n",
      "45                                  Lo ki         0.572    7    -6.481   \n",
      "46                               NewJeans         0.804    9    -4.067   \n",
      "47                                  dhruv         0.656    8   -11.141   \n",
      "48                           Zack Tabudlo         0.738    8    -8.437   \n",
      "49                              BLACKPINK         0.813    0    -6.447   \n",
      "\n",
      "    speechiness  liveness  valence    tempo  duration_ms  stream_category  \n",
      "0        0.0351    0.1610    0.430   88.993       153947               10  \n",
      "1        0.0391    0.1390    0.601   81.976       201951                9  \n",
      "2        0.0519    0.1420    0.533   97.008       200690               10  \n",
      "3        0.0254    0.1280    0.288  132.023       242485               10  \n",
      "4        0.1110    0.0993    0.183  133.854       185507                9  \n",
      "5        0.0665    0.0771    0.884  144.981       134256                9  \n",
      "6        0.0429    0.1740    0.411  123.801       266307                9  \n",
      "7        0.0864    0.2660    0.238  131.121       156943                9  \n",
      "8        0.0427    0.1050    0.310  116.992       184613                8  \n",
      "9        0.0930    0.3300    0.695  157.866       229712                7  \n",
      "10       0.0286    0.2020    0.342  101.190       176440                7  \n",
      "11       0.0767    0.1150    0.230  139.865       174783                7  \n",
      "12       0.0232    0.3320    0.353   96.016       335625                8  \n",
      "13       0.0406    0.1470    0.615   98.079       201807                7  \n",
      "14       0.0627    0.1340    0.510  133.249       260253                7  \n",
      "15       0.0557    0.3110    0.662  173.930       167303                7  \n",
      "16       0.0336    0.0924    0.323  120.952       263500                7  \n",
      "17       0.0314    0.0959    0.301  137.619       270594                7  \n",
      "18       0.0510    0.2890    0.154  147.805       211667                6  \n",
      "19       0.0711    0.1270    0.522  171.883       205428                6  \n",
      "20       0.0324    0.0901    0.719  101.058       154487                6  \n",
      "21       0.0819    0.1130    0.824  105.025       184444                8  \n",
      "22       0.0620    0.0876    0.727  119.869       181507                7  \n",
      "23       0.0719    0.0846    0.375  121.170       269256                6  \n",
      "24       0.0283    0.1240    0.359  141.950       249382                7  \n",
      "25       0.0401    0.1130    0.247  127.026       188976                7  \n",
      "26       0.0861    0.0959    0.762  122.001       228689                7  \n",
      "27       0.0396    0.0946    0.108   90.121       312320                5  \n",
      "28       0.0285    0.1830    0.276   99.796       180853                5  \n",
      "29       0.0315    0.1910    0.415  174.839       254400                7  \n",
      "30       0.0351    0.1810    0.404  120.032       270250                6  \n",
      "31       0.0484    0.0822    0.172   97.950       221520                5  \n",
      "32       0.0358    0.1380    0.338   72.498       220780                5  \n",
      "33       0.0310    0.3150    0.300  109.862       293727                4  \n",
      "34       0.0531    0.1410    0.268  169.914       233456                4  \n",
      "35       0.0322    0.2500    0.153   94.467       209260                4  \n",
      "36       0.0452    0.1890    0.519  158.078       185573                4  \n",
      "37       0.0339    0.0962    0.356   60.001       297002                7  \n",
      "38       0.1000    0.1910    0.498   81.001       195373                5  \n",
      "39       0.2250    0.2860    0.783   99.976       179027                5  \n",
      "40       0.0288    0.1740    0.227  101.358       177720                5  \n",
      "41       0.0300    0.0944    0.349  124.022       268124                4  \n",
      "42       0.1020    0.0879    0.572  120.009       181840                3  \n",
      "43       0.0533    0.1030    0.281  144.020       290004                3  \n",
      "44       0.0256    0.0974    0.479   67.528       183956                2  \n",
      "45       0.0487    0.0891    0.207  105.006       238286                2  \n",
      "46       0.0433    0.1080    0.739  126.956       212253                1  \n",
      "47       0.0744    0.2210    0.196  109.239       171743                1  \n",
      "48       0.0334    0.1070    0.547  113.979       178947                1  \n",
      "49       0.0372    0.1830    0.651  110.053       175889                2  \n"
     ]
    }
   ],
   "source": [
    "songs = pd.read_csv('ThesisHits.csv', index_col=0)\n",
    "data = songs\n",
    "print(data)"
   ]
  },
  {
   "cell_type": "code",
   "execution_count": 35,
   "id": "b4cdece2",
   "metadata": {},
   "outputs": [
    {
     "name": "stdout",
     "output_type": "stream",
     "text": [
      "title              0\n",
      "artist/s           0\n",
      "danceability       0\n",
      "key                0\n",
      "loudness           0\n",
      "speechiness        0\n",
      "liveness           0\n",
      "valence            0\n",
      "tempo              0\n",
      "duration_ms        0\n",
      "stream_category    0\n",
      "dtype: int64\n"
     ]
    }
   ],
   "source": [
    "print(data.isnull().sum())"
   ]
  },
  {
   "cell_type": "code",
   "execution_count": 36,
   "id": "1acf00ed",
   "metadata": {},
   "outputs": [
    {
     "name": "stdout",
     "output_type": "stream",
     "text": [
      "title               object\n",
      "artist/s            object\n",
      "danceability       float64\n",
      "key                  int64\n",
      "loudness           float64\n",
      "speechiness        float64\n",
      "liveness           float64\n",
      "valence            float64\n",
      "tempo              float64\n",
      "duration_ms          int64\n",
      "stream_category      int64\n",
      "dtype: object\n"
     ]
    }
   ],
   "source": [
    "print(data.dtypes)"
   ]
  },
  {
   "cell_type": "code",
   "execution_count": 37,
   "id": "ef5e6142",
   "metadata": {
    "scrolled": false
   },
   "outputs": [
    {
     "name": "stdout",
     "output_type": "stream",
     "text": [
      "title               object\n",
      "artist/s            object\n",
      "danceability       float64\n",
      "key                float64\n",
      "loudness           float64\n",
      "speechiness        float64\n",
      "liveness           float64\n",
      "valence            float64\n",
      "tempo              float64\n",
      "duration_ms        float64\n",
      "stream_category      int64\n",
      "dtype: object\n"
     ]
    }
   ],
   "source": [
    "data = data.astype({'key':'float'})\n",
    "data = data.astype({'duration_ms':'float'})\n",
    "print(data.dtypes)"
   ]
  },
  {
   "cell_type": "code",
   "execution_count": 38,
   "id": "0f917f06",
   "metadata": {},
   "outputs": [
    {
     "name": "stdout",
     "output_type": "stream",
     "text": [
      "(50, 8)\n",
      "(50,)\n"
     ]
    }
   ],
   "source": [
    "# split data\n",
    "data = data.drop(columns=['title', 'artist/s'])\n",
    "X_data =  data.values[:,:-1]\n",
    "y_data = data.values[:,-1]\n",
    "\n",
    "print(X_data.shape)\n",
    "print(y_data.shape)"
   ]
  },
  {
   "cell_type": "code",
   "execution_count": 39,
   "id": "567be111",
   "metadata": {
    "scrolled": true
   },
   "outputs": [
    {
     "name": "stdout",
     "output_type": "stream",
     "text": [
      "X_train:  (37, 8)\n",
      "y_train:  (37,)\n",
      "X_test:  (13, 8)\n",
      "y_test:  (13,)\n"
     ]
    }
   ],
   "source": [
    "from sklearn.model_selection import train_test_split\n",
    "X_train, X_test, y_train, y_test = train_test_split(X_data, y_data, random_state=1)\n",
    "\n",
    "print(\"X_train: \", X_train.shape)\n",
    "print(\"y_train: \", y_train.shape)\n",
    "print(\"X_test: \", X_test.shape)\n",
    "print(\"y_test: \", y_test.shape)"
   ]
  },
  {
   "cell_type": "code",
   "execution_count": 40,
   "id": "b57444e4",
   "metadata": {},
   "outputs": [
    {
     "name": "stdout",
     "output_type": "stream",
     "text": [
      "[[ 6.00000e-01  6.00000e+00 -6.12400e+00  4.52000e-02  1.89000e-01\n",
      "   5.19000e-01  1.58078e+02  1.85573e+05]\n",
      " [ 6.76000e-01  7.00000e+00 -5.45500e+00  7.11000e-02  1.27000e-01\n",
      "   5.22000e-01  1.71883e+02  2.05428e+05]\n",
      " [ 8.48000e-01  3.00000e+00 -7.72000e+00  1.02000e-01  8.79000e-02\n",
      "   5.72000e-01  1.20009e+02  1.81840e+05]\n",
      " [ 8.13000e-01  0.00000e+00 -6.44700e+00  3.72000e-02  1.83000e-01\n",
      "   6.51000e-01  1.10053e+02  1.75889e+05]\n",
      " [ 8.74000e-01  1.10000e+01 -1.11680e+01  8.61000e-02  9.59000e-02\n",
      "   7.62000e-01  1.22001e+02  2.28689e+05]\n",
      " [ 8.98000e-01  5.00000e+00 -7.97300e+00  6.20000e-02  8.76000e-02\n",
      "   7.27000e-01  1.19869e+02  1.81507e+05]\n",
      " [ 6.52000e-01  6.00000e+00 -4.09800e+00  4.06000e-02  1.47000e-01\n",
      "   6.15000e-01  9.80790e+01  2.01807e+05]\n",
      " [ 5.45000e-01  5.00000e+00 -1.10010e+01  3.00000e-02  9.44000e-02\n",
      "   3.49000e-01  1.24022e+02  2.68124e+05]\n",
      " [ 3.48000e-01  6.00000e+00 -6.42500e+00  3.14000e-02  9.59000e-02\n",
      "   3.01000e-01  1.37619e+02  2.70594e+05]\n",
      " [ 5.72000e-01  7.00000e+00 -6.48100e+00  4.87000e-02  8.91000e-02\n",
      "   2.07000e-01  1.05006e+02  2.38286e+05]\n",
      " [ 4.78000e-01  1.10000e+01 -1.05130e+01  2.83000e-02  1.24000e-01\n",
      "   3.59000e-01  1.41950e+02  2.49382e+05]\n",
      " [ 4.29000e-01  6.00000e+00 -8.44500e+00  7.19000e-02  8.46000e-02\n",
      "   3.75000e-01  1.21170e+02  2.69256e+05]\n",
      " [ 8.14000e-01  6.00000e+00 -5.95700e+00  1.11000e-01  9.93000e-02\n",
      "   1.83000e-01  1.33854e+02  1.85507e+05]\n",
      " [ 3.94000e-01  3.00000e+00 -1.08550e+01  3.10000e-02  3.15000e-01\n",
      "   3.00000e-01  1.09862e+02  2.93727e+05]\n",
      " [ 5.82000e-01  1.00000e+00 -7.16300e+00  6.27000e-02  1.34000e-01\n",
      "   5.10000e-01  1.33249e+02  2.60253e+05]\n",
      " [ 7.10000e-01  2.00000e+00 -4.67400e+00  3.51000e-02  1.81000e-01\n",
      "   4.04000e-01  1.20032e+02  2.70250e+05]\n",
      " [ 5.51000e-01  1.00000e+01 -5.33900e+00  2.86000e-02  2.02000e-01\n",
      "   3.42000e-01  1.01190e+02  1.76440e+05]\n",
      " [ 3.58000e-01  7.00000e+00 -8.28500e+00  2.85000e-02  1.83000e-01\n",
      "   2.76000e-01  9.97960e+01  1.80853e+05]\n",
      " [ 4.64000e-01  0.00000e+00 -9.34500e+00  2.56000e-02  9.74000e-02\n",
      "   4.79000e-01  6.75280e+01  1.83956e+05]\n",
      " [ 4.40000e-01  8.00000e+00 -9.25800e+00  5.31000e-02  1.41000e-01\n",
      "   2.68000e-01  1.69914e+02  2.33456e+05]\n",
      " [ 4.72000e-01  8.00000e+00 -7.37900e+00  5.10000e-02  2.89000e-01\n",
      "   1.54000e-01  1.47805e+02  2.11667e+05]\n",
      " [ 8.81000e-01  2.00000e+00 -4.89800e+00  3.24000e-02  9.01000e-02\n",
      "   7.19000e-01  1.01058e+02  1.54487e+05]\n",
      " [ 6.84000e-01  0.00000e+00 -9.99500e+00  4.01000e-02  1.13000e-01\n",
      "   2.47000e-01  1.27026e+02  1.88976e+05]\n",
      " [ 5.80000e-01  6.00000e+00 -7.40500e+00  4.29000e-02  1.74000e-01\n",
      "   4.11000e-01  1.23801e+02  2.66307e+05]\n",
      " [ 7.14000e-01  2.00000e+00 -7.37500e+00  8.64000e-02  2.66000e-01\n",
      "   2.38000e-01  1.31121e+02  1.56943e+05]\n",
      " [ 6.56000e-01  8.00000e+00 -1.11410e+01  7.44000e-02  2.21000e-01\n",
      "   1.96000e-01  1.09239e+02  1.71743e+05]\n",
      " [ 6.35000e-01  7.00000e+00 -7.40600e+00  3.91000e-02  1.39000e-01\n",
      "   6.01000e-01  8.19760e+01  2.01951e+05]\n",
      " [ 5.13000e-01  1.10000e+01 -1.10910e+01  3.36000e-02  9.24000e-02\n",
      "   3.23000e-01  1.20952e+02  2.63500e+05]\n",
      " [ 6.44000e-01  8.00000e+00 -5.75000e+00  3.51000e-02  1.61000e-01\n",
      "   4.30000e-01  8.89930e+01  1.53947e+05]\n",
      " [ 5.20000e-01  6.00000e+00 -5.33800e+00  5.57000e-02  3.11000e-01\n",
      "   6.62000e-01  1.73930e+02  1.67303e+05]\n",
      " [ 8.38000e-01  1.00000e+01 -3.56200e+00  6.65000e-02  7.71000e-02\n",
      "   8.84000e-01  1.44981e+02  1.34256e+05]\n",
      " [ 6.43000e-01  0.00000e+00 -1.17380e+01  7.67000e-02  1.15000e-01\n",
      "   2.30000e-01  1.39865e+02  1.74783e+05]\n",
      " [ 5.15000e-01  1.00000e+00 -7.79800e+00  9.30000e-02  3.30000e-01\n",
      "   6.95000e-01  1.57866e+02  2.29712e+05]\n",
      " [ 7.33000e-01  9.00000e+00 -5.52900e+00  4.27000e-02  1.05000e-01\n",
      "   3.10000e-01  1.16992e+02  1.84613e+05]\n",
      " [ 6.27000e-01  9.00000e+00 -9.86800e+00  2.32000e-02  3.32000e-01\n",
      "   3.53000e-01  9.60160e+01  3.35625e+05]\n",
      " [ 4.82000e-01  1.10000e+01 -3.62000e+00  5.33000e-02  1.03000e-01\n",
      "   2.81000e-01  1.44020e+02  2.90004e+05]\n",
      " [ 6.44000e-01  6.00000e+00 -9.38200e+00  3.39000e-02  9.62000e-02\n",
      "   3.56000e-01  6.00010e+01  2.97002e+05]]\n"
     ]
    }
   ],
   "source": [
    "print(X_train)"
   ]
  },
  {
   "cell_type": "code",
   "execution_count": 44,
   "id": "2ef1b02c",
   "metadata": {},
   "outputs": [],
   "source": [
    "# normalizing (read that z-scaling is standardscaler)\n",
    "from sklearn.preprocessing import StandardScaler\n",
    "scaler = StandardScaler()\n",
    "X_train = scaler.fit_transform(X_train)\n",
    "X_test = scaler.transform(X_test) #why only transform? saw this sa intsy mp"
   ]
  },
  {
   "cell_type": "code",
   "execution_count": 52,
   "id": "1fb6d019",
   "metadata": {},
   "outputs": [],
   "source": [
    "def compute_RMSE(predictions, actual):\n",
    "    return np.sqrt(np.square(np.subtract(actual, predictions)).mean())\n",
    "def compute_mae(predictions, actual):\n",
    "    mae = np.absolute(np.subtract(actual, predictions)).mean()\n",
    "    return mae"
   ]
  },
  {
   "cell_type": "code",
   "execution_count": null,
   "id": "1aa11397",
   "metadata": {},
   "outputs": [],
   "source": [
    "# RANDOM FOREST"
   ]
  },
  {
   "cell_type": "code",
   "execution_count": 45,
   "id": "b23ffecf",
   "metadata": {},
   "outputs": [],
   "source": [
    "from sklearn.ensemble import RandomForestClassifier"
   ]
  },
  {
   "cell_type": "code",
   "execution_count": 46,
   "id": "8e0833d0",
   "metadata": {},
   "outputs": [],
   "source": [
    " RandomForestClassifier?"
   ]
  },
  {
   "cell_type": "code",
   "execution_count": 47,
   "id": "97f6ce37",
   "metadata": {},
   "outputs": [
    {
     "data": {
      "text/plain": [
       "{'bootstrap': True,\n",
       " 'ccp_alpha': 0.0,\n",
       " 'class_weight': None,\n",
       " 'criterion': 'gini',\n",
       " 'max_depth': None,\n",
       " 'max_features': 'auto',\n",
       " 'max_leaf_nodes': None,\n",
       " 'max_samples': None,\n",
       " 'min_impurity_decrease': 0.0,\n",
       " 'min_impurity_split': None,\n",
       " 'min_samples_leaf': 1,\n",
       " 'min_samples_split': 2,\n",
       " 'min_weight_fraction_leaf': 0.0,\n",
       " 'n_estimators': 100,\n",
       " 'n_jobs': None,\n",
       " 'oob_score': False,\n",
       " 'random_state': None,\n",
       " 'verbose': 0,\n",
       " 'warm_start': False}"
      ]
     },
     "execution_count": 47,
     "metadata": {},
     "output_type": "execute_result"
    }
   ],
   "source": [
    "rfc = RandomForestClassifier()\n",
    "rfc.get_params()"
   ]
  },
  {
   "cell_type": "code",
   "execution_count": 48,
   "id": "f5ae347e",
   "metadata": {},
   "outputs": [],
   "source": [
    "hyperparameters = [\n",
    "        {\n",
    "        'n_estimators' : [50, 100, 200, 400, 600, 800, 1000, 1200, 1600, 1800],\n",
    "        'max_depth' : [10, 30, 50, 100, 150, 200, 250, 300, 350, None],\n",
    "        'min_samples_split' : [2, 4, 6, 10, 15, 20],\n",
    "        'max_leaf_nodes' : [100, 300, 500, 700, 900, 1100, 1300, None]\n",
    "    }\n",
    "]"
   ]
  },
  {
   "cell_type": "code",
   "execution_count": 50,
   "id": "09e42307",
   "metadata": {},
   "outputs": [
    {
     "name": "stderr",
     "output_type": "stream",
     "text": [
      "C:\\Users\\angel\\anaconda3\\lib\\site-packages\\sklearn\\model_selection\\_split.py:666: UserWarning: The least populated class in y has only 1 members, which is less than n_splits=5.\n",
      "  warnings.warn((\"The least populated class in y has only %d\"\n"
     ]
    },
    {
     "data": {
      "text/plain": [
       "RandomizedSearchCV(estimator=RandomForestClassifier(),\n",
       "                   param_distributions=[{'max_depth': [10, 30, 50, 100, 150,\n",
       "                                                       200, 250, 300, 350,\n",
       "                                                       None],\n",
       "                                         'max_leaf_nodes': [100, 300, 500, 700,\n",
       "                                                            900, 1100, 1300,\n",
       "                                                            None],\n",
       "                                         'min_samples_split': [2, 4, 6, 10, 15,\n",
       "                                                               20],\n",
       "                                         'n_estimators': [50, 100, 200, 400,\n",
       "                                                          600, 800, 1000, 1200,\n",
       "                                                          1600, 1800]}],\n",
       "                   random_state=42)"
      ]
     },
     "execution_count": 50,
     "metadata": {},
     "output_type": "execute_result"
    }
   ],
   "source": [
    "from sklearn.model_selection import RandomizedSearchCV\n",
    "rsrfc = RandomizedSearchCV(rfc, hyperparameters, random_state=42)\n",
    "rsrfc.fit(X_train, y_train)"
   ]
  },
  {
   "cell_type": "code",
   "execution_count": 51,
   "id": "232a0f05",
   "metadata": {
    "scrolled": true
   },
   "outputs": [
    {
     "data": {
      "text/plain": [
       "{'n_estimators': 200,\n",
       " 'min_samples_split': 20,\n",
       " 'max_leaf_nodes': 1300,\n",
       " 'max_depth': 300}"
      ]
     },
     "execution_count": 51,
     "metadata": {},
     "output_type": "execute_result"
    }
   ],
   "source": [
    "best_params_rfc = rsrfc.best_params_\n",
    "best_params_rfc"
   ]
  },
  {
   "cell_type": "code",
   "execution_count": 53,
   "id": "4c6b7720",
   "metadata": {},
   "outputs": [
    {
     "name": "stdout",
     "output_type": "stream",
     "text": [
      "Training RMSE: 2.43288284118223\n",
      "Training MAE: 1.7027027027027026\n",
      "Test RMSE: 3.088439984597651\n",
      "Test MAE: 2.6153846153846154\n"
     ]
    }
   ],
   "source": [
    "best_model_rfc = rsrfc.best_estimator_\n",
    "\n",
    "predictions_train_rfc = best_model_rfc.predict(X_train)\n",
    "\n",
    "train_rmse_rfc = compute_RMSE(predictions_train_rfc, y_train)\n",
    "print('Training RMSE: {}'.format(train_rmse_rfc))\n",
    "\n",
    "train_mae_rfc = compute_mae(predictions_train_rfc, y_train)\n",
    "print('Training MAE: {}'.format(train_mae_rfc))\n",
    "\n",
    "predictions_test_rfc = best_model_rfc.predict(X_test)\n",
    "\n",
    "test_rmse_rfc = compute_RMSE(predictions_test_rfc, y_test)\n",
    "print('Test RMSE: {}'.format(test_rmse_rfc))\n",
    "\n",
    "test_mae_rfc = compute_mae(predictions_test_rfc, y_test)\n",
    "print('Test MAE: {}'.format(test_mae_rfc))"
   ]
  },
  {
   "cell_type": "code",
   "execution_count": null,
   "id": "81fe9529",
   "metadata": {},
   "outputs": [],
   "source": []
  },
  {
   "cell_type": "code",
   "execution_count": null,
   "id": "c850d248",
   "metadata": {},
   "outputs": [],
   "source": []
  },
  {
   "cell_type": "code",
   "execution_count": null,
   "id": "b986bf2d",
   "metadata": {},
   "outputs": [],
   "source": []
  },
  {
   "cell_type": "code",
   "execution_count": null,
   "id": "7152eccb",
   "metadata": {},
   "outputs": [],
   "source": [
    "# SVM"
   ]
  },
  {
   "cell_type": "code",
   "execution_count": 54,
   "id": "347c139a",
   "metadata": {},
   "outputs": [],
   "source": [
    "from sklearn.svm import SVC"
   ]
  },
  {
   "cell_type": "code",
   "execution_count": 55,
   "id": "5d44be8d",
   "metadata": {},
   "outputs": [],
   "source": [
    "SVC?"
   ]
  },
  {
   "cell_type": "code",
   "execution_count": 56,
   "id": "15d0eed3",
   "metadata": {},
   "outputs": [
    {
     "data": {
      "text/plain": [
       "{'C': 1.0,\n",
       " 'break_ties': False,\n",
       " 'cache_size': 200,\n",
       " 'class_weight': None,\n",
       " 'coef0': 0.0,\n",
       " 'decision_function_shape': 'ovr',\n",
       " 'degree': 3,\n",
       " 'gamma': 'scale',\n",
       " 'kernel': 'rbf',\n",
       " 'max_iter': -1,\n",
       " 'probability': False,\n",
       " 'random_state': None,\n",
       " 'shrinking': True,\n",
       " 'tol': 0.001,\n",
       " 'verbose': False}"
      ]
     },
     "execution_count": 56,
     "metadata": {},
     "output_type": "execute_result"
    }
   ],
   "source": [
    "svm = SVC()\n",
    "svm.get_params()"
   ]
  },
  {
   "cell_type": "code",
   "execution_count": 57,
   "id": "3e0cfb02",
   "metadata": {},
   "outputs": [],
   "source": [
    "hyperparameters = [\n",
    "        {\n",
    "        'C' : [0.1, 1, 100, 1000],\n",
    "        'kernel' : ['rbf', 'poly', 'sigmoid', 'linear'],\n",
    "        'degree' : [1, 2, 3, 4, 5, 6]\n",
    "    }\n",
    "]"
   ]
  },
  {
   "cell_type": "code",
   "execution_count": 58,
   "id": "d51ca322",
   "metadata": {},
   "outputs": [
    {
     "name": "stderr",
     "output_type": "stream",
     "text": [
      "C:\\Users\\angel\\anaconda3\\lib\\site-packages\\sklearn\\model_selection\\_split.py:666: UserWarning: The least populated class in y has only 1 members, which is less than n_splits=5.\n",
      "  warnings.warn((\"The least populated class in y has only %d\"\n"
     ]
    },
    {
     "data": {
      "text/plain": [
       "RandomizedSearchCV(estimator=SVC(),\n",
       "                   param_distributions=[{'C': [0.1, 1, 100, 1000],\n",
       "                                         'degree': [1, 2, 3, 4, 5, 6],\n",
       "                                         'kernel': ['rbf', 'poly', 'sigmoid',\n",
       "                                                    'linear']}],\n",
       "                   random_state=42)"
      ]
     },
     "execution_count": 58,
     "metadata": {},
     "output_type": "execute_result"
    }
   ],
   "source": [
    "rssvm = RandomizedSearchCV(svm, hyperparameters, random_state=42)\n",
    "rssvm.fit(X_train, y_train)"
   ]
  },
  {
   "cell_type": "code",
   "execution_count": 59,
   "id": "21afa23f",
   "metadata": {},
   "outputs": [
    {
     "data": {
      "text/plain": [
       "{'kernel': 'poly', 'degree': 3, 'C': 1}"
      ]
     },
     "execution_count": 59,
     "metadata": {},
     "output_type": "execute_result"
    }
   ],
   "source": [
    "best_params_svm = rssvm.best_params_\n",
    "best_params_svm"
   ]
  },
  {
   "cell_type": "code",
   "execution_count": 60,
   "id": "aea77571",
   "metadata": {},
   "outputs": [
    {
     "name": "stdout",
     "output_type": "stream",
     "text": [
      "Training RMSE: 1.9382354750537296\n",
      "Training MAE: 1.054054054054054\n",
      "Test RMSE: 3.05085107923876\n",
      "Test MAE: 2.5384615384615383\n"
     ]
    }
   ],
   "source": [
    "best_model_svm = rssvm.best_estimator_\n",
    "\n",
    "predictions_train_svm = best_model_svm.predict(X_train)\n",
    "\n",
    "train_rmse_svm = compute_RMSE(predictions_train_svm, y_train)\n",
    "print('Training RMSE: {}'.format(train_rmse_svm))\n",
    "\n",
    "train_mae_svm = compute_mae(predictions_train_svm, y_train)\n",
    "print('Training MAE: {}'.format(train_mae_svm))\n",
    "\n",
    "predictions_test_svm = best_model_svm.predict(X_test)\n",
    "\n",
    "test_rmse_svm = compute_RMSE(predictions_test_svm, y_test)\n",
    "print('Test RMSE: {}'.format(test_rmse_svm))\n",
    "\n",
    "test_mae_svm = compute_mae(predictions_test_svm, y_test)\n",
    "print('Test MAE: {}'.format(test_mae_svm))"
   ]
  },
  {
   "cell_type": "code",
   "execution_count": null,
   "id": "e35b1092",
   "metadata": {},
   "outputs": [],
   "source": []
  },
  {
   "cell_type": "code",
   "execution_count": null,
   "id": "74e455fd",
   "metadata": {},
   "outputs": [],
   "source": []
  },
  {
   "cell_type": "code",
   "execution_count": null,
   "id": "0b8d075d",
   "metadata": {},
   "outputs": [],
   "source": []
  },
  {
   "cell_type": "code",
   "execution_count": null,
   "id": "ac649a47",
   "metadata": {},
   "outputs": [],
   "source": []
  },
  {
   "cell_type": "code",
   "execution_count": null,
   "id": "1ccf36f3",
   "metadata": {},
   "outputs": [],
   "source": []
  },
  {
   "cell_type": "code",
   "execution_count": null,
   "id": "dda5299e",
   "metadata": {},
   "outputs": [],
   "source": []
  },
  {
   "cell_type": "code",
   "execution_count": null,
   "id": "07009907",
   "metadata": {},
   "outputs": [],
   "source": [
    "# BINARY TREES"
   ]
  },
  {
   "cell_type": "code",
   "execution_count": 61,
   "id": "65e44f87",
   "metadata": {},
   "outputs": [],
   "source": [
    "from sklearn.tree import DecisionTreeClassifier"
   ]
  },
  {
   "cell_type": "code",
   "execution_count": 62,
   "id": "83ea26d3",
   "metadata": {},
   "outputs": [],
   "source": [
    "DecisionTreeClassifier?"
   ]
  },
  {
   "cell_type": "code",
   "execution_count": 63,
   "id": "9405e7a3",
   "metadata": {},
   "outputs": [
    {
     "data": {
      "text/plain": [
       "{'ccp_alpha': 0.0,\n",
       " 'class_weight': None,\n",
       " 'criterion': 'gini',\n",
       " 'max_depth': None,\n",
       " 'max_features': None,\n",
       " 'max_leaf_nodes': None,\n",
       " 'min_impurity_decrease': 0.0,\n",
       " 'min_impurity_split': None,\n",
       " 'min_samples_leaf': 1,\n",
       " 'min_samples_split': 2,\n",
       " 'min_weight_fraction_leaf': 0.0,\n",
       " 'random_state': None,\n",
       " 'splitter': 'best'}"
      ]
     },
     "execution_count": 63,
     "metadata": {},
     "output_type": "execute_result"
    }
   ],
   "source": [
    "dt = DecisionTreeClassifier()\n",
    "dt.get_params()"
   ]
  },
  {
   "cell_type": "code",
   "execution_count": 64,
   "id": "c54576ac",
   "metadata": {},
   "outputs": [],
   "source": [
    "hyperparameters = [\n",
    "    {\n",
    "        'min_impurity_decrease': [0.001, 0.01, 0.05, 0.1, 0.3, 0.5],\n",
    "        'max_depth': [5, 10, 20, 30],\n",
    "        'min_samples_split': [2, 4, 6, 10, 15, 20],\n",
    "        'max_leaf_nodes': [3, 5, 10, 20, 50, 100]\n",
    "    }\n",
    "]"
   ]
  },
  {
   "cell_type": "code",
   "execution_count": 65,
   "id": "740466dc",
   "metadata": {},
   "outputs": [
    {
     "name": "stderr",
     "output_type": "stream",
     "text": [
      "C:\\Users\\angel\\anaconda3\\lib\\site-packages\\sklearn\\model_selection\\_split.py:666: UserWarning: The least populated class in y has only 1 members, which is less than n_splits=5.\n",
      "  warnings.warn((\"The least populated class in y has only %d\"\n"
     ]
    },
    {
     "data": {
      "text/plain": [
       "RandomizedSearchCV(cv=5, estimator=DecisionTreeClassifier(), n_iter=50,\n",
       "                   param_distributions=[{'max_depth': [5, 10, 20, 30],\n",
       "                                         'max_leaf_nodes': [3, 5, 10, 20, 50,\n",
       "                                                            100],\n",
       "                                         'min_impurity_decrease': [0.001, 0.01,\n",
       "                                                                   0.05, 0.1,\n",
       "                                                                   0.3, 0.5],\n",
       "                                         'min_samples_split': [2, 4, 6, 10, 15,\n",
       "                                                               20]}],\n",
       "                   random_state=42)"
      ]
     },
     "execution_count": 65,
     "metadata": {},
     "output_type": "execute_result"
    }
   ],
   "source": [
    "rsdt = RandomizedSearchCV(dt, hyperparameters, cv=5, random_state=42, n_iter=50)\n",
    "rsdt.fit(X_train, y_train)"
   ]
  },
  {
   "cell_type": "code",
   "execution_count": 66,
   "id": "99055009",
   "metadata": {},
   "outputs": [
    {
     "data": {
      "text/plain": [
       "{'min_samples_split': 2,\n",
       " 'min_impurity_decrease': 0.1,\n",
       " 'max_leaf_nodes': 100,\n",
       " 'max_depth': 5}"
      ]
     },
     "execution_count": 66,
     "metadata": {},
     "output_type": "execute_result"
    }
   ],
   "source": [
    "best_params_dt = rsdt.best_params_\n",
    "best_params_dt"
   ]
  },
  {
   "cell_type": "code",
   "execution_count": 67,
   "id": "8d08eb00",
   "metadata": {},
   "outputs": [
    {
     "name": "stdout",
     "output_type": "stream",
     "text": [
      "Training RMSE: 2.43288284118223\n",
      "Training MAE: 1.7027027027027026\n",
      "Test RMSE: 3.088439984597651\n",
      "Test MAE: 2.6153846153846154\n"
     ]
    }
   ],
   "source": [
    "best_model_dt = rsdt.best_estimator_\n",
    "\n",
    "predictions_train_dt = best_model_dt.predict(X_train)\n",
    "\n",
    "train_rmse_dt = compute_RMSE(predictions_train_dt, y_train)\n",
    "print('Training RMSE: {}'.format(train_rmse_dt))\n",
    "\n",
    "train_mae_dt = compute_mae(predictions_train_dt, y_train)\n",
    "print('Training MAE: {}'.format(train_mae_dt))\n",
    "\n",
    "predictions_test_dt = best_model_dt.predict(X_test)\n",
    "\n",
    "test_rmse_dt = compute_RMSE(predictions_test_dt, y_test)\n",
    "print('Test RMSE: {}'.format(test_rmse_dt))\n",
    "\n",
    "test_mae_dt = compute_mae(predictions_test_dt, y_test)\n",
    "print('Test MAE: {}'.format(test_mae_dt))"
   ]
  },
  {
   "cell_type": "code",
   "execution_count": null,
   "id": "f31af56f",
   "metadata": {},
   "outputs": [],
   "source": []
  }
 ],
 "metadata": {
  "kernelspec": {
   "display_name": "Python 3 (ipykernel)",
   "language": "python",
   "name": "python3"
  },
  "language_info": {
   "codemirror_mode": {
    "name": "ipython",
    "version": 3
   },
   "file_extension": ".py",
   "mimetype": "text/x-python",
   "name": "python",
   "nbconvert_exporter": "python",
   "pygments_lexer": "ipython3",
   "version": "3.9.7"
  }
 },
 "nbformat": 4,
 "nbformat_minor": 5
}
