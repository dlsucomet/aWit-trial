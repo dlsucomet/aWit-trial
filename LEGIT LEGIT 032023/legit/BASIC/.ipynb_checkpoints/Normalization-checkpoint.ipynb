{
 "cells": [
  {
   "cell_type": "markdown",
   "id": "dafbab13-26e5-4c1a-b533-e975008f3ebf",
   "metadata": {},
   "source": [
    "# NORMALIZATION "
   ]
  },
  {
   "cell_type": "code",
   "execution_count": 1,
   "id": "a0535eff-2e5d-4859-8471-039874274573",
   "metadata": {},
   "outputs": [
    {
     "name": "stdout",
     "output_type": "stream",
     "text": [
      "Requirement already satisfied: semopy in d:\\anaconda3\\lib\\site-packages (2.3.9)\n",
      "Requirement already satisfied: sympy in d:\\anaconda3\\lib\\site-packages (from semopy) (1.8)\n",
      "Requirement already satisfied: numpy in d:\\anaconda3\\lib\\site-packages (from semopy) (1.22.4)\n",
      "Requirement already satisfied: pandas in d:\\anaconda3\\lib\\site-packages (from semopy) (1.2.4)\n",
      "Requirement already satisfied: scipy in d:\\anaconda3\\lib\\site-packages (from semopy) (1.6.2)\n",
      "Requirement already satisfied: statsmodels in d:\\anaconda3\\lib\\site-packages (from semopy) (0.12.2)\n",
      "Requirement already satisfied: sklearn in d:\\anaconda3\\lib\\site-packages (from semopy) (0.0.post1)\n",
      "Requirement already satisfied: pytz>=2017.3 in d:\\anaconda3\\lib\\site-packages (from pandas->semopy) (2021.1)\n",
      "Requirement already satisfied: python-dateutil>=2.7.3 in d:\\anaconda3\\lib\\site-packages (from pandas->semopy) (2.8.1)\n",
      "Requirement already satisfied: six>=1.5 in c:\\users\\admin\\appdata\\roaming\\python\\python38\\site-packages (from python-dateutil>=2.7.3->pandas->semopy) (1.16.0)\n",
      "Requirement already satisfied: patsy>=0.5 in d:\\anaconda3\\lib\\site-packages (from statsmodels->semopy) (0.5.1)\n",
      "Requirement already satisfied: mpmath>=0.19 in d:\\anaconda3\\lib\\site-packages (from sympy->semopy) (1.2.1)\n"
     ]
    }
   ],
   "source": [
    "!pip install semopy"
   ]
  },
  {
   "cell_type": "code",
   "execution_count": 2,
   "id": "53c4ae92",
   "metadata": {},
   "outputs": [],
   "source": [
    "import numpy as np\n",
    "import pandas as pd\n",
    "import matplotlib.pyplot as plt\n",
    "import statistics as statistics\n",
    "import semopy as sem\n",
    "\n",
    "np.random.seed(1)"
   ]
  },
  {
   "cell_type": "code",
   "execution_count": 3,
   "id": "09596740",
   "metadata": {},
   "outputs": [
    {
     "name": "stdout",
     "output_type": "stream",
     "text": [
      "                                                title  \\\n",
      "0                                           Kill Bill   \n",
      "1                                              Mahika   \n",
      "2                                           Anti-Hero   \n",
      "3                                        Here With Me   \n",
      "4                                               Ditto   \n",
      "5                                       Made You Look   \n",
      "6                        Wet The Bed (feat. Ludacris)   \n",
      "7                           Unholy (feat. Kim Petras)   \n",
      "8                                 Under The Influence   \n",
      "9             Babalik Sa'yo (from \"2 Good 2 Be True\")   \n",
      "10  Until I Found You (with Em Beihold) - Em Beiho...   \n",
      "11                                      Midnight Rain   \n",
      "12                                             Umaasa   \n",
      "13                                             Fallen   \n",
      "14                                        Die For You   \n",
      "15                                          As It Was   \n",
      "16                                          Ikaw Lang   \n",
      "17                                              Jopay   \n",
      "18                                        Die For You   \n",
      "19                                 Fall In Love Alone   \n",
      "20            Left and Right (Feat. Jung Kook of BTS)   \n",
      "21                                        ANTIFRAGILE   \n",
      "22                                          THE SHADE   \n",
      "23                                           Isa lang   \n",
      "24                                           Old Love   \n",
      "25                                          City Girl   \n",
      "26                                          Bahala Na   \n",
      "27                                          Paraluman   \n",
      "28                                     Nobody Gets Me   \n",
      "29                                               Pano   \n",
      "30                                            Pasilyo   \n",
      "31             Creepin' (with The Weeknd & 21 Savage)   \n",
      "32                                         Angel Baby   \n",
      "33                                            Tahanan   \n",
      "34                                      Glimpse of Us   \n",
      "35                                        golden hour   \n",
      "36                                     Shinunoga E-Wa   \n",
      "37                                            Pagsamo   \n",
      "38                                         Sure Thing   \n",
      "39                                           Hype Boy   \n",
      "40                                  Until I Found You   \n",
      "41               Kumpas - Theme of “2 Good 2 Be True”   \n",
      "42                                              Shirt   \n",
      "43                                               Muli   \n",
      "44                                   I Wanna Be Yours   \n",
      "45                                             Kagome   \n",
      "46                                                OMG   \n",
      "47                                        double take   \n",
      "48                                              Yakap   \n",
      "49                                          Shut Down   \n",
      "\n",
      "                               artist/s  danceability  key  loudness  \\\n",
      "0                                   SZA         0.644    8    -5.750   \n",
      "1                   Adie, Janine Berdin         0.635    7    -7.406   \n",
      "2                          Taylor Swift         0.637    4    -6.571   \n",
      "3                                  d4vd         0.574    4    -8.209   \n",
      "4                              NewJeans         0.814    6    -5.957   \n",
      "5                        Meghan Trainor         0.838   10    -3.562   \n",
      "6                 Chris Brown, Ludacris         0.580    6    -7.405   \n",
      "7                 Sam Smith, Kim Petras         0.714    2    -7.375   \n",
      "8                           Chris Brown         0.733    9    -5.529   \n",
      "9                      Moira Dela Torre         0.515    1    -7.798   \n",
      "10          Stephen Sanchez, Em Beihold         0.551   10    -5.339   \n",
      "11                         Taylor Swift         0.643    0   -11.738   \n",
      "12                               Calein         0.627    9    -9.868   \n",
      "13                           Lola Amour         0.652    6    -4.098   \n",
      "14                           The Weeknd         0.582    1    -7.163   \n",
      "15                         Harry Styles         0.520    6    -5.338   \n",
      "16                               NOBITA         0.513   11   -11.091   \n",
      "17                           Mayonnaise         0.348    6    -6.425   \n",
      "18                                 Joji         0.472    8    -7.379   \n",
      "19                          Stacey Ryan         0.676    7    -5.455   \n",
      "20         Charlie Puth, Jung Kook, BTS         0.881    2    -4.898   \n",
      "21                          LE SSERAFIM         0.882   10    -3.299   \n",
      "22                    Rex Orange County         0.898    5    -7.973   \n",
      "23                          Arthur Nery         0.429    6    -8.445   \n",
      "24                   yuji, putri dahlia         0.478   11   -10.513   \n",
      "25                          Shanti Dope         0.684    0    -9.995   \n",
      "26                             Kenaniah         0.874   11   -11.168   \n",
      "27                                 Adie         0.519    5   -13.850   \n",
      "28                                  SZA         0.358    7    -8.285   \n",
      "29                         Zack Tabudlo         0.375    3    -7.018   \n",
      "30                       SunKissed Lola         0.710    2    -4.674   \n",
      "31  Metro Boomin, The Weeknd, 21 Savage         0.715    1    -6.005   \n",
      "32                          Troye Sivan         0.559   11    -6.425   \n",
      "33                                 Adie         0.394    3   -10.855   \n",
      "34                                 Joji         0.440    8    -9.258   \n",
      "35                                 JVKE         0.515    4    -4.801   \n",
      "36                           Fujii Kaze         0.600    6    -6.124   \n",
      "37                          Arthur Nery         0.644    6    -9.382   \n",
      "38                               Miguel         0.684   11    -8.127   \n",
      "39                             NewJeans         0.593    4    -3.430   \n",
      "40                      Stephen Sanchez         0.539   10    -6.050   \n",
      "41                     Moira Dela Torre         0.545    5   -11.001   \n",
      "42                                  SZA         0.848    3    -7.720   \n",
      "43                         Ace Banzuelo         0.482   11    -3.620   \n",
      "44                       Arctic Monkeys         0.464    0    -9.345   \n",
      "45                                Lo ki         0.572    7    -6.481   \n",
      "46                             NewJeans         0.804    9    -4.067   \n",
      "47                                dhruv         0.656    8   -11.141   \n",
      "48                         Zack Tabudlo         0.738    8    -8.437   \n",
      "49                            BLACKPINK         0.813    0    -6.447   \n",
      "\n",
      "    speechiness  liveness  valence    tempo  duration_ms  stream_category  \n",
      "0        0.0351    0.1610    0.430   88.993       153947               10  \n",
      "1        0.0391    0.1390    0.601   81.976       201951                9  \n",
      "2        0.0519    0.1420    0.533   97.008       200690               10  \n",
      "3        0.0254    0.1280    0.288  132.023       242485               10  \n",
      "4        0.1110    0.0993    0.183  133.854       185507                9  \n",
      "5        0.0665    0.0771    0.884  144.981       134256                9  \n",
      "6        0.0429    0.1740    0.411  123.801       266307                9  \n",
      "7        0.0864    0.2660    0.238  131.121       156943                9  \n",
      "8        0.0427    0.1050    0.310  116.992       184613                8  \n",
      "9        0.0930    0.3300    0.695  157.866       229712                7  \n",
      "10       0.0286    0.2020    0.342  101.190       176440                7  \n",
      "11       0.0767    0.1150    0.230  139.865       174783                7  \n",
      "12       0.0232    0.3320    0.353   96.016       335625                8  \n",
      "13       0.0406    0.1470    0.615   98.079       201807                7  \n",
      "14       0.0627    0.1340    0.510  133.249       260253                7  \n",
      "15       0.0557    0.3110    0.662  173.930       167303                7  \n",
      "16       0.0336    0.0924    0.323  120.952       263500                7  \n",
      "17       0.0314    0.0959    0.301  137.619       270594                7  \n",
      "18       0.0510    0.2890    0.154  147.805       211667                6  \n",
      "19       0.0711    0.1270    0.522  171.883       205428                6  \n",
      "20       0.0324    0.0901    0.719  101.058       154487                6  \n",
      "21       0.0819    0.1130    0.824  105.025       184444                8  \n",
      "22       0.0620    0.0876    0.727  119.869       181507                7  \n",
      "23       0.0719    0.0846    0.375  121.170       269256                6  \n",
      "24       0.0283    0.1240    0.359  141.950       249382                7  \n",
      "25       0.0401    0.1130    0.247  127.026       188976                7  \n",
      "26       0.0861    0.0959    0.762  122.001       228689                7  \n",
      "27       0.0396    0.0946    0.108   90.121       312320                5  \n",
      "28       0.0285    0.1830    0.276   99.796       180853                5  \n",
      "29       0.0315    0.1910    0.415  174.839       254400                7  \n",
      "30       0.0351    0.1810    0.404  120.032       270250                6  \n",
      "31       0.0484    0.0822    0.172   97.950       221520                5  \n",
      "32       0.0358    0.1380    0.338   72.498       220780                5  \n",
      "33       0.0310    0.3150    0.300  109.862       293727                4  \n",
      "34       0.0531    0.1410    0.268  169.914       233456                4  \n",
      "35       0.0322    0.2500    0.153   94.467       209260                4  \n",
      "36       0.0452    0.1890    0.519  158.078       185573                4  \n",
      "37       0.0339    0.0962    0.356   60.001       297002                7  \n",
      "38       0.1000    0.1910    0.498   81.001       195373                5  \n",
      "39       0.2250    0.2860    0.783   99.976       179027                5  \n",
      "40       0.0288    0.1740    0.227  101.358       177720                5  \n",
      "41       0.0300    0.0944    0.349  124.022       268124                4  \n",
      "42       0.1020    0.0879    0.572  120.009       181840                3  \n",
      "43       0.0533    0.1030    0.281  144.020       290004                3  \n",
      "44       0.0256    0.0974    0.479   67.528       183956                2  \n",
      "45       0.0487    0.0891    0.207  105.006       238286                2  \n",
      "46       0.0433    0.1080    0.739  126.956       212253                1  \n",
      "47       0.0744    0.2210    0.196  109.239       171743                1  \n",
      "48       0.0334    0.1070    0.547  113.979       178947                1  \n",
      "49       0.0372    0.1830    0.651  110.053       175889                2  \n"
     ]
    }
   ],
   "source": [
    "songs = pd.read_csv('intrinsic.csv', index_col=0)\n",
    "data = songs\n",
    "print(data)"
   ]
  },
  {
   "cell_type": "code",
   "execution_count": 4,
   "id": "d4ab4443-c413-47a7-ad60-fe226196a910",
   "metadata": {
    "tags": []
   },
   "outputs": [],
   "source": [
    "data = data.drop(columns=['stream_category'])"
   ]
  },
  {
   "cell_type": "markdown",
   "id": "25da8a34-763c-4ad2-bba8-879314a89f3a",
   "metadata": {},
   "source": [
    "TRIAL EXTRINSIC NORMALIZATION:"
   ]
  },
  {
   "cell_type": "code",
   "execution_count": 5,
   "id": "e9864c4b-c216-4b68-9957-09fe47e0d3f3",
   "metadata": {},
   "outputs": [],
   "source": [
    "extrinsic = pd.read_csv('extrinsic.csv', index_col=0)\n",
    "# extrinsic\n",
    "# data2 = extrinsic\n",
    "# print(data2)"
   ]
  },
  {
   "cell_type": "code",
   "execution_count": 6,
   "id": "348ada78-9dde-4d08-a303-71c35a4d59b7",
   "metadata": {},
   "outputs": [],
   "source": [
    "extrinsic['mean_trends'] = extrinsic.iloc[:, 5:67].mean(axis=1)\n",
    "# extrinsic\n",
    "# len(data2.columns)"
   ]
  },
  {
   "cell_type": "code",
   "execution_count": 7,
   "id": "9942ed1b-a05f-4abc-9da9-0f1b683dbd78",
   "metadata": {},
   "outputs": [],
   "source": [
    "# extracted_col = df1[\"Col3\"]\n",
    "# df2.insert(1, \"C3\", extracted_col)\n",
    "\n",
    "music_label = extrinsic[\"music_label\"]\n",
    "artist_collab = extrinsic[\"artist_collab\"]\n",
    "chart_history = extrinsic[\"chart_history\"] - 1\n",
    "mean_trends = extrinsic[\"mean_trends\"]\n",
    "\n",
    "data = data.join(music_label)\n",
    "data = data.join(artist_collab)\n",
    "data = data.join(chart_history)\n",
    "data = data.join(mean_trends)"
   ]
  },
  {
   "cell_type": "code",
   "execution_count": null,
   "id": "b48ad330",
   "metadata": {},
   "outputs": [],
   "source": []
  },
  {
   "cell_type": "code",
   "execution_count": 8,
   "id": "a5d12f8f-eef4-444c-8180-0a3e4d906c53",
   "metadata": {},
   "outputs": [],
   "source": [
    "# data.loc[data.music_label == 'major', 'label_category'] = 10 #check if better 1 and 10 or other values (make sure to understand semopy)\n",
    "# data.loc[data.music_label == 'indie', 'label_category'] = 5\n",
    "# data.loc[data.music_label == 'major-indie', 'label_category'] = 1\n",
    "data['music_label'].replace(['Major', 'Major-indie', 'Indie'], [10, 5, 1], inplace=True)\n",
    "# df['Education'].replace(['Under-Graduate', 'Diploma '], [0, 1], inplace=True)\n",
    "\n",
    "# data['music_label']"
   ]
  },
  {
   "cell_type": "code",
   "execution_count": 9,
   "id": "3d7b4bb3-0b62-4b12-9a7f-84dd7f9815bc",
   "metadata": {},
   "outputs": [],
   "source": [
    "# data"
   ]
  },
  {
   "cell_type": "code",
   "execution_count": 10,
   "id": "84290eea-da6b-48eb-9aac-8439938777bc",
   "metadata": {},
   "outputs": [],
   "source": [
    "week1 = pd.read_csv('week1 - streamcategory.csv')\n",
    "week2 = pd.read_csv('week2 - streamcategory.csv')\n",
    "week3 = pd.read_csv('week3 - streamcategory.csv')\n",
    "week4 = pd.read_csv('week4 - streamcategory.csv')\n",
    "week5 = pd.read_csv('week5 - streamcategory.csv')\n",
    "week6 = pd.read_csv('week6 - streamcategory.csv')\n",
    "week7 = pd.read_csv('week7 - streamcategory.csv')\n",
    "week8 = pd.read_csv('week8 - streamcategory.csv')\n",
    "week9 = pd.read_csv('week9 - streamcategory.csv')"
   ]
  },
  {
   "cell_type": "code",
   "execution_count": 11,
   "id": "6bdd7ef8-0ca7-42de-bd5a-ee368749f17f",
   "metadata": {},
   "outputs": [
    {
     "name": "stdout",
     "output_type": "stream",
     "text": [
      "                                                title  \\\n",
      "0                                           Kill Bill   \n",
      "1                                              Mahika   \n",
      "2                                           Anti-Hero   \n",
      "3                                        Here With Me   \n",
      "4                                               Ditto   \n",
      "5                                       Made You Look   \n",
      "6                        Wet The Bed (feat. Ludacris)   \n",
      "7                           Unholy (feat. Kim Petras)   \n",
      "8                                 Under The Influence   \n",
      "9             Babalik Sa'yo (from \"2 Good 2 Be True\")   \n",
      "10  Until I Found You (with Em Beihold) - Em Beiho...   \n",
      "11                                      Midnight Rain   \n",
      "12                                             Umaasa   \n",
      "13                                             Fallen   \n",
      "14                                        Die For You   \n",
      "15                                          As It Was   \n",
      "16                                          Ikaw Lang   \n",
      "17                                              Jopay   \n",
      "18                                        Die For You   \n",
      "19                                 Fall In Love Alone   \n",
      "20            Left and Right (Feat. Jung Kook of BTS)   \n",
      "21                                        ANTIFRAGILE   \n",
      "22                                          THE SHADE   \n",
      "23                                           Isa lang   \n",
      "24                                           Old Love   \n",
      "25                                          City Girl   \n",
      "26                                          Bahala Na   \n",
      "27                                          Paraluman   \n",
      "28                                     Nobody Gets Me   \n",
      "29                                               Pano   \n",
      "30                                            Pasilyo   \n",
      "31             Creepin' (with The Weeknd & 21 Savage)   \n",
      "32                                         Angel Baby   \n",
      "33                                            Tahanan   \n",
      "34                                      Glimpse of Us   \n",
      "35                                        golden hour   \n",
      "36                                     Shinunoga E-Wa   \n",
      "37                                            Pagsamo   \n",
      "38                                         Sure Thing   \n",
      "39                                           Hype Boy   \n",
      "40                                  Until I Found You   \n",
      "41               Kumpas - Theme of “2 Good 2 Be True”   \n",
      "42                                              Shirt   \n",
      "43                                               Muli   \n",
      "44                                   I Wanna Be Yours   \n",
      "45                                             Kagome   \n",
      "46                                                OMG   \n",
      "47                                        double take   \n",
      "48                                              Yakap   \n",
      "49                                          Shut Down   \n",
      "\n",
      "                               artist/s  danceability  key  loudness  \\\n",
      "0                                   SZA         0.644    8    -5.750   \n",
      "1                   Adie, Janine Berdin         0.635    7    -7.406   \n",
      "2                          Taylor Swift         0.637    4    -6.571   \n",
      "3                                  d4vd         0.574    4    -8.209   \n",
      "4                              NewJeans         0.814    6    -5.957   \n",
      "5                        Meghan Trainor         0.838   10    -3.562   \n",
      "6                 Chris Brown, Ludacris         0.580    6    -7.405   \n",
      "7                 Sam Smith, Kim Petras         0.714    2    -7.375   \n",
      "8                           Chris Brown         0.733    9    -5.529   \n",
      "9                      Moira Dela Torre         0.515    1    -7.798   \n",
      "10          Stephen Sanchez, Em Beihold         0.551   10    -5.339   \n",
      "11                         Taylor Swift         0.643    0   -11.738   \n",
      "12                               Calein         0.627    9    -9.868   \n",
      "13                           Lola Amour         0.652    6    -4.098   \n",
      "14                           The Weeknd         0.582    1    -7.163   \n",
      "15                         Harry Styles         0.520    6    -5.338   \n",
      "16                               NOBITA         0.513   11   -11.091   \n",
      "17                           Mayonnaise         0.348    6    -6.425   \n",
      "18                                 Joji         0.472    8    -7.379   \n",
      "19                          Stacey Ryan         0.676    7    -5.455   \n",
      "20         Charlie Puth, Jung Kook, BTS         0.881    2    -4.898   \n",
      "21                          LE SSERAFIM         0.882   10    -3.299   \n",
      "22                    Rex Orange County         0.898    5    -7.973   \n",
      "23                          Arthur Nery         0.429    6    -8.445   \n",
      "24                   yuji, putri dahlia         0.478   11   -10.513   \n",
      "25                          Shanti Dope         0.684    0    -9.995   \n",
      "26                             Kenaniah         0.874   11   -11.168   \n",
      "27                                 Adie         0.519    5   -13.850   \n",
      "28                                  SZA         0.358    7    -8.285   \n",
      "29                         Zack Tabudlo         0.375    3    -7.018   \n",
      "30                       SunKissed Lola         0.710    2    -4.674   \n",
      "31  Metro Boomin, The Weeknd, 21 Savage         0.715    1    -6.005   \n",
      "32                          Troye Sivan         0.559   11    -6.425   \n",
      "33                                 Adie         0.394    3   -10.855   \n",
      "34                                 Joji         0.440    8    -9.258   \n",
      "35                                 JVKE         0.515    4    -4.801   \n",
      "36                           Fujii Kaze         0.600    6    -6.124   \n",
      "37                          Arthur Nery         0.644    6    -9.382   \n",
      "38                               Miguel         0.684   11    -8.127   \n",
      "39                             NewJeans         0.593    4    -3.430   \n",
      "40                      Stephen Sanchez         0.539   10    -6.050   \n",
      "41                     Moira Dela Torre         0.545    5   -11.001   \n",
      "42                                  SZA         0.848    3    -7.720   \n",
      "43                         Ace Banzuelo         0.482   11    -3.620   \n",
      "44                       Arctic Monkeys         0.464    0    -9.345   \n",
      "45                                Lo ki         0.572    7    -6.481   \n",
      "46                             NewJeans         0.804    9    -4.067   \n",
      "47                                dhruv         0.656    8   -11.141   \n",
      "48                         Zack Tabudlo         0.738    8    -8.437   \n",
      "49                            BLACKPINK         0.813    0    -6.447   \n",
      "\n",
      "    speechiness  liveness  valence    tempo  duration_ms  ...  mean_trends  \\\n",
      "0        0.0351    0.1610    0.430   88.993       153947  ...    48.451613   \n",
      "1        0.0391    0.1390    0.601   81.976       201951  ...    23.338710   \n",
      "2        0.0519    0.1420    0.533   97.008       200690  ...    55.596774   \n",
      "3        0.0254    0.1280    0.288  132.023       242485  ...    32.403226   \n",
      "4        0.1110    0.0993    0.183  133.854       185507  ...    55.741935   \n",
      "5        0.0665    0.0771    0.884  144.981       134256  ...    17.709677   \n",
      "6        0.0429    0.1740    0.411  123.801       266307  ...    35.370968   \n",
      "7        0.0864    0.2660    0.238  131.121       156943  ...    33.612903   \n",
      "8        0.0427    0.1050    0.310  116.992       184613  ...    35.370968   \n",
      "9        0.0930    0.3300    0.695  157.866       229712  ...    35.451613   \n",
      "10       0.0286    0.2020    0.342  101.190       176440  ...    10.161290   \n",
      "11       0.0767    0.1150    0.230  139.865       174783  ...    55.596774   \n",
      "12       0.0232    0.3320    0.353   96.016       335625  ...    11.741935   \n",
      "13       0.0406    0.1470    0.615   98.079       201807  ...    26.080645   \n",
      "14       0.0627    0.1340    0.510  133.249       260253  ...    39.145161   \n",
      "15       0.0557    0.3110    0.662  173.930       167303  ...    16.870968   \n",
      "16       0.0336    0.0924    0.323  120.952       263500  ...    24.193548   \n",
      "17       0.0314    0.0959    0.301  137.619       270594  ...    18.225806   \n",
      "18       0.0510    0.2890    0.154  147.805       211667  ...    33.483871   \n",
      "19       0.0711    0.1270    0.522  171.883       205428  ...     4.629032   \n",
      "20       0.0324    0.0901    0.719  101.058       154487  ...     9.806452   \n",
      "21       0.0819    0.1130    0.824  105.025       184444  ...    26.064516   \n",
      "22       0.0620    0.0876    0.727  119.869       181507  ...    16.564516   \n",
      "23       0.0719    0.0846    0.375  121.170       269256  ...    38.564516   \n",
      "24       0.0283    0.1240    0.359  141.950       249382  ...    12.354839   \n",
      "25       0.0401    0.1130    0.247  127.026       188976  ...    18.145161   \n",
      "26       0.0861    0.0959    0.762  122.001       228689  ...     9.758065   \n",
      "27       0.0396    0.0946    0.108   90.121       312320  ...    23.338710   \n",
      "28       0.0285    0.1830    0.276   99.796       180853  ...    48.451613   \n",
      "29       0.0315    0.1910    0.415  174.839       254400  ...    23.612903   \n",
      "30       0.0351    0.1810    0.404  120.032       270250  ...    24.500000   \n",
      "31       0.0484    0.0822    0.172   97.950       221520  ...    15.451613   \n",
      "32       0.0358    0.1380    0.338   72.498       220780  ...     6.145161   \n",
      "33       0.0310    0.3150    0.300  109.862       293727  ...    23.338710   \n",
      "34       0.0531    0.1410    0.268  169.914       233456  ...    33.483871   \n",
      "35       0.0322    0.2500    0.153   94.467       209260  ...     9.370968   \n",
      "36       0.0452    0.1890    0.519  158.078       185573  ...    27.435484   \n",
      "37       0.0339    0.0962    0.356   60.001       297002  ...    38.564516   \n",
      "38       0.1000    0.1910    0.498   81.001       195373  ...    16.000000   \n",
      "39       0.2250    0.2860    0.783   99.976       179027  ...    55.741935   \n",
      "40       0.0288    0.1740    0.227  101.358       177720  ...    10.161290   \n",
      "41       0.0300    0.0944    0.349  124.022       268124  ...    35.451613   \n",
      "42       0.1020    0.0879    0.572  120.009       181840  ...    48.451613   \n",
      "43       0.0533    0.1030    0.281  144.020       290004  ...    12.790323   \n",
      "44       0.0256    0.0974    0.479   67.528       183956  ...     8.919355   \n",
      "45       0.0487    0.0891    0.207  105.006       238286  ...     7.596774   \n",
      "46       0.0433    0.1080    0.739  126.956       212253  ...    55.741935   \n",
      "47       0.0744    0.2210    0.196  109.239       171743  ...    10.000000   \n",
      "48       0.0334    0.1070    0.547  113.979       178947  ...    23.612903   \n",
      "49       0.0372    0.1830    0.651  110.053       175889  ...    56.048387   \n",
      "\n",
      "    stream1  stream2  stream3  stream4  stream5  stream6  stream7  stream8  \\\n",
      "0        10       10       10       10       10       10       10       10   \n",
      "1        10       10       10       10       10       10       10       10   \n",
      "2        10       10       10       10       10       10       10       10   \n",
      "3        10       10       10       10       10       10       10       10   \n",
      "4        10       10       10       10       10       10       10       10   \n",
      "5         9        9        9        9        9        9        9        9   \n",
      "6         9        9        9        9        9        9        9        8   \n",
      "7         9        9        9        9        9       10        9        9   \n",
      "8         9        9        9        9        9        9        9        9   \n",
      "9         9        9        9        9        9        9        9        9   \n",
      "10        9        9        6        7        8        9        9        9   \n",
      "11        9        9        9        9        9        9        9        9   \n",
      "12        9        9       10       10       10       10       10       10   \n",
      "13        9        9        9        9        9        9        9        9   \n",
      "14        9        9        9        9        9       10       10       10   \n",
      "15        9        9        9        9        9        9        9        9   \n",
      "16        9        9        9        9        9       10        9        9   \n",
      "17        9        9        9        9        9        9        9        9   \n",
      "18        9        9        9        9        9        8        7        7   \n",
      "19        9        9        9        9        9        9        9        9   \n",
      "20        9        9        9        9        9        9        9        7   \n",
      "21        9        9        9        9        9        9        8        6   \n",
      "22        9        9        9        9        9        9        9        9   \n",
      "23        9        9        9        9        9        9        9        9   \n",
      "24        9        9        9        9        9        9        9        9   \n",
      "25        9        9        9        9        9        9        9        9   \n",
      "26        9        9        9        9        9        9        9        9   \n",
      "27        9        9        9        9        9        9        9        9   \n",
      "28        9        9        9        9        9        9        9        9   \n",
      "29        9        9        9        9        9        9        9        9   \n",
      "30        9        9       10       10       10       10       10       10   \n",
      "31        9        9        9        9        9        9        9        9   \n",
      "32        9        9        8        9        8        8        8        7   \n",
      "33        9        8        8        9        9        9        9        9   \n",
      "34        9        9        9        9        8        8        7        7   \n",
      "35        9        9        9        9        9        9        9        9   \n",
      "36        8        8        8        8        8        7        7        6   \n",
      "37        8        9        8        9        9        9        8        8   \n",
      "38        8        9       10       10        9        9        9        9   \n",
      "39        8        9        9        9        9        9        9        9   \n",
      "40        8        7        7        7        6        7        7        7   \n",
      "41        8        8        7        7        8        8        7        6   \n",
      "42        8        9        9        9        6        6        5        5   \n",
      "43        8        8        8        8        9        8        8        7   \n",
      "44        8        8        8        9        8        8        8        8   \n",
      "45        8        8        6        7        6        5        4        4   \n",
      "46        8       10       10       10       10       10       10       10   \n",
      "47        7        8        7        9        8        8        8        8   \n",
      "48        7        7        8        9        9        9        9        9   \n",
      "49        7        7        6        6        6        6        6        5   \n",
      "\n",
      "    stream9  \n",
      "0        10  \n",
      "1        10  \n",
      "2        10  \n",
      "3        10  \n",
      "4        10  \n",
      "5         8  \n",
      "6         8  \n",
      "7         9  \n",
      "8         9  \n",
      "9         9  \n",
      "10        9  \n",
      "11        9  \n",
      "12       10  \n",
      "13        9  \n",
      "14       10  \n",
      "15        9  \n",
      "16        9  \n",
      "17        8  \n",
      "18        7  \n",
      "19        9  \n",
      "20        7  \n",
      "21        6  \n",
      "22        9  \n",
      "23        9  \n",
      "24        9  \n",
      "25        9  \n",
      "26        9  \n",
      "27        9  \n",
      "28        9  \n",
      "29        9  \n",
      "30       10  \n",
      "31        9  \n",
      "32        7  \n",
      "33        9  \n",
      "34        6  \n",
      "35        9  \n",
      "36        7  \n",
      "37        8  \n",
      "38        9  \n",
      "39        9  \n",
      "40        7  \n",
      "41        6  \n",
      "42        5  \n",
      "43        7  \n",
      "44        7  \n",
      "45        4  \n",
      "46       10  \n",
      "47        9  \n",
      "48        9  \n",
      "49        4  \n",
      "\n",
      "[50 rows x 23 columns]\n"
     ]
    }
   ],
   "source": [
    "week1.rename(columns={\"stream_category\": \"stream1\"}, inplace=True)\n",
    "week2.rename(columns={\"stream_category\": \"stream2\"}, inplace=True)\n",
    "week3.rename(columns={\"stream_category\": \"stream3\"}, inplace=True)\n",
    "week4.rename(columns={\"stream_category\": \"stream4\"}, inplace=True)\n",
    "week5.rename(columns={\"stream_category\": \"stream5\"}, inplace=True)\n",
    "week6.rename(columns={\"stream_category\": \"stream6\"}, inplace=True)\n",
    "week7.rename(columns={\"stream_category\": \"stream7\"}, inplace=True)\n",
    "week8.rename(columns={\"stream_category\": \"stream8\"}, inplace=True)\n",
    "week9.rename(columns={\"stream_category\": \"stream9\"}, inplace=True)\n",
    "\n",
    "week1.rename(columns={\"track_name\": \"title\"}, inplace=True)\n",
    "week2.rename(columns={\"track_name\": \"title\"}, inplace=True)\n",
    "week3.rename(columns={\"track_name\": \"title\"}, inplace=True)\n",
    "week4.rename(columns={\"track_name\": \"title\"}, inplace=True)\n",
    "week5.rename(columns={\"track_name\": \"title\"}, inplace=True)\n",
    "week6.rename(columns={\"track_name\": \"title\"}, inplace=True)\n",
    "week7.rename(columns={\"track_name\": \"title\"}, inplace=True)\n",
    "week8.rename(columns={\"track_name\": \"title\"}, inplace=True)\n",
    "week9.rename(columns={\"track_name\": \"title\"}, inplace=True)\n",
    "\n",
    "week1.rename(columns={\"artist_names\": \"artist/s\"}, inplace=True)\n",
    "week2.rename(columns={\"artist_names\": \"artist/s\"}, inplace=True)\n",
    "week3.rename(columns={\"artist_names\": \"artist/s\"}, inplace=True)\n",
    "week4.rename(columns={\"artist_names\": \"artist/s\"}, inplace=True)\n",
    "week5.rename(columns={\"artist_names\": \"artist/s\"}, inplace=True)\n",
    "week6.rename(columns={\"artist_names\": \"artist/s\"}, inplace=True)\n",
    "week7.rename(columns={\"artist_names\": \"artist/s\"}, inplace=True)\n",
    "week8.rename(columns={\"artist_names\": \"artist/s\"}, inplace=True)\n",
    "week9.rename(columns={\"artist_names\": \"artist/s\"}, inplace=True)\n",
    "\n",
    "data = pd.merge(data, week1[['title', 'artist/s', 'stream1']], how='left', on=['title', 'artist/s'])\n",
    "data = pd.merge(data, week2[['title', 'artist/s', 'stream2']], how='left', on=['title', 'artist/s'])\n",
    "data = pd.merge(data, week3[['title', 'artist/s', 'stream3']], how='left', on=['title', 'artist/s'])\n",
    "data = pd.merge(data, week4[['title', 'artist/s', 'stream4']], how='left', on=['title', 'artist/s'])\n",
    "data = pd.merge(data, week5[['title', 'artist/s', 'stream5']], how='left', on=['title', 'artist/s'])\n",
    "data = pd.merge(data, week6[['title', 'artist/s', 'stream6']], how='left', on=['title', 'artist/s'])\n",
    "data = pd.merge(data, week7[['title', 'artist/s', 'stream7']], how='left', on=['title', 'artist/s'])\n",
    "data = pd.merge(data, week8[['title', 'artist/s', 'stream8']], how='left', on=['title', 'artist/s'])\n",
    "data = pd.merge(data, week9[['title', 'artist/s', 'stream9']], how='left', on=['title', 'artist/s'])\n",
    "\n",
    "print(data)"
   ]
  },
  {
   "cell_type": "markdown",
   "id": "7e00b7f8-16e0-4e50-adb1-ffbabce3739b",
   "metadata": {},
   "source": [
    "TRIAL CROWDSOURCED:"
   ]
  },
  {
   "cell_type": "code",
   "execution_count": 12,
   "id": "ee712423-fa7d-4a33-a23f-33aab30f22ca",
   "metadata": {},
   "outputs": [],
   "source": [
    "crowdsource = pd.read_csv('crowdsource.csv', index_col=0)\n",
    "# crowdsource"
   ]
  },
  {
   "cell_type": "code",
   "execution_count": 13,
   "id": "1a0c78a2-e1d3-48cf-8768-c8b0d3e83cde",
   "metadata": {},
   "outputs": [],
   "source": [
    "def remove_values_from_list(the_list, val):\n",
    "   return [value for value in the_list if value != val]"
   ]
  },
  {
   "cell_type": "code",
   "execution_count": 14,
   "id": "e7d3ce00-b0fa-44f7-8a97-eddf5925f25c",
   "metadata": {},
   "outputs": [],
   "source": [
    "j = []\n",
    "\n",
    "for i in range(50):\n",
    "    x = crowdsource.iloc[i]['Song Familiarity']\n",
    "\n",
    "    # remove special characters\n",
    "    x = remove_values_from_list(x, ',')\n",
    "    x = remove_values_from_list(x, '[')\n",
    "    x = remove_values_from_list(x, ']')\n",
    "    x = remove_values_from_list(x, ' ')\n",
    "\n",
    "    # convert string list to integer list\n",
    "    x = list(map(int, x))\n",
    "\n",
    "    ans = statistics.mean(x)\n",
    "    j.append(ans)\n",
    "\n",
    "data['song_familiarity'] = j"
   ]
  },
  {
   "cell_type": "code",
   "execution_count": 15,
   "id": "471cc68a-e076-4d54-bab4-f5bb45ef0ce6",
   "metadata": {},
   "outputs": [],
   "source": [
    "j = []\n",
    "\n",
    "for i in range(50):\n",
    "    x = crowdsource.iloc[i]['Artist Familiarity']\n",
    "\n",
    "    # remove special characters\n",
    "    x = remove_values_from_list(x, ',')\n",
    "    x = remove_values_from_list(x, '[')\n",
    "    x = remove_values_from_list(x, ']')\n",
    "    x = remove_values_from_list(x, ' ')\n",
    "\n",
    "    # convert string list to integer list\n",
    "    x = list(map(int, x))\n",
    "\n",
    "    ans = statistics.mean(x)\n",
    "    j.append(ans)\n",
    "\n",
    "data['artist_familiarity'] = j"
   ]
  },
  {
   "cell_type": "code",
   "execution_count": 16,
   "id": "8df8d343-efa4-42c9-b645-5a702a216839",
   "metadata": {
    "tags": []
   },
   "outputs": [],
   "source": [
    "j = []\n",
    "\n",
    "for i in range(50):\n",
    "    x = crowdsource.iloc[i]['AR[bad-good]']\n",
    "\n",
    "    # remove special characters\n",
    "    x = remove_values_from_list(x, ',')\n",
    "    x = remove_values_from_list(x, '[')\n",
    "    x = remove_values_from_list(x, ']')\n",
    "    x = remove_values_from_list(x, ' ')\n",
    "\n",
    "    # convert string list to integer list\n",
    "    x = list(map(int, x))\n",
    "\n",
    "    ans = statistics.mean(x)\n",
    "    j.append(ans)\n",
    "\n",
    "data['bad_good'] = j"
   ]
  },
  {
   "cell_type": "code",
   "execution_count": 17,
   "id": "c14904b1-f39c-4977-ba57-607fcef844e9",
   "metadata": {},
   "outputs": [],
   "source": [
    "j = []\n",
    "\n",
    "for i in range(50):\n",
    "    x = crowdsource.iloc[i]['AR[distasteful-tasty]']\n",
    "\n",
    "    # remove special characters\n",
    "    x = remove_values_from_list(x, ',')\n",
    "    x = remove_values_from_list(x, '[')\n",
    "    x = remove_values_from_list(x, ']')\n",
    "    x = remove_values_from_list(x, ' ')\n",
    "\n",
    "    # convert string list to integer list\n",
    "    x = list(map(int, x))\n",
    "\n",
    "    ans = statistics.mean(x)\n",
    "    j.append(ans)\n",
    "\n",
    "data['distasteful_tasty'] = j"
   ]
  },
  {
   "cell_type": "code",
   "execution_count": 18,
   "id": "9ffb2e77-2637-434f-a7af-3d0cfeec427b",
   "metadata": {},
   "outputs": [],
   "source": [
    "j = []\n",
    "\n",
    "for i in range(50):\n",
    "    x = crowdsource.iloc[i]['AR[dull-exciting]']\n",
    "\n",
    "    # remove special characters\n",
    "    x = remove_values_from_list(x, ',')\n",
    "    x = remove_values_from_list(x, '[')\n",
    "    x = remove_values_from_list(x, ']')\n",
    "    x = remove_values_from_list(x, ' ')\n",
    "\n",
    "    # convert string list to integer list\n",
    "    x = list(map(int, x))\n",
    "\n",
    "    ans = statistics.mean(x)\n",
    "    j.append(ans)\n",
    "\n",
    "data['dull_exciting'] = j"
   ]
  },
  {
   "cell_type": "code",
   "execution_count": 19,
   "id": "e371a501-9857-4c06-8220-031131a7d76a",
   "metadata": {},
   "outputs": [],
   "source": [
    "j = []\n",
    "\n",
    "for i in range(50):\n",
    "    x = crowdsource.iloc[i]['AR[tasteless-tasteful]']\n",
    "\n",
    "    # remove special characters\n",
    "    x = remove_values_from_list(x, ',')\n",
    "    x = remove_values_from_list(x, '[')\n",
    "    x = remove_values_from_list(x, ']')\n",
    "    x = remove_values_from_list(x, ' ')\n",
    "\n",
    "    # convert string list to integer list\n",
    "    x = list(map(int, x))\n",
    "\n",
    "    ans = statistics.mean(x)\n",
    "    j.append(ans)\n",
    "\n",
    "data['tasteless_tasteful'] = j"
   ]
  },
  {
   "cell_type": "code",
   "execution_count": 20,
   "id": "9b6df660-7662-4053-a03b-515a4b297892",
   "metadata": {},
   "outputs": [],
   "source": [
    "j = []\n",
    "\n",
    "for i in range(50):\n",
    "    x = crowdsource.iloc[i]['AR[unimaginative-creative]']\n",
    "\n",
    "    # remove special characters\n",
    "    x = remove_values_from_list(x, ',')\n",
    "    x = remove_values_from_list(x, '[')\n",
    "    x = remove_values_from_list(x, ']')\n",
    "    x = remove_values_from_list(x, ' ')\n",
    "\n",
    "    # convert string list to integer list\n",
    "    x = list(map(int, x))\n",
    "\n",
    "    ans = statistics.mean(x)\n",
    "    j.append(ans)\n",
    "\n",
    "data['unimaginative_creative'] = j"
   ]
  },
  {
   "cell_type": "code",
   "execution_count": 21,
   "id": "a245d7f7-0292-4f0f-b505-4a6674c1e7ee",
   "metadata": {},
   "outputs": [],
   "source": [
    "j = []\n",
    "\n",
    "for i in range(50):\n",
    "    x = crowdsource.iloc[i]['AR[untalented-talented]']\n",
    "\n",
    "    # remove special characters\n",
    "    x = remove_values_from_list(x, ',')\n",
    "    x = remove_values_from_list(x, '[')\n",
    "    x = remove_values_from_list(x, ']')\n",
    "    x = remove_values_from_list(x, ' ')\n",
    "\n",
    "    # convert string list to integer list\n",
    "    x = list(map(int, x))\n",
    "\n",
    "    ans = statistics.mean(x)\n",
    "    j.append(ans)\n",
    "\n",
    "data['untalented_talented'] = j"
   ]
  },
  {
   "cell_type": "code",
   "execution_count": 22,
   "id": "b919be37-20a2-4ede-969e-b4c034365e57",
   "metadata": {},
   "outputs": [],
   "source": [
    "j = []\n",
    "\n",
    "for i in range(50):\n",
    "    x = crowdsource.iloc[i]['AR[unpleasant-pleasant]']\n",
    "\n",
    "    # remove special characters\n",
    "    x = remove_values_from_list(x, ',')\n",
    "    x = remove_values_from_list(x, '[')\n",
    "    x = remove_values_from_list(x, ']')\n",
    "    x = remove_values_from_list(x, ' ')\n",
    "\n",
    "    # convert string list to integer list\n",
    "    x = list(map(int, x))\n",
    "\n",
    "    ans = statistics.mean(x)\n",
    "    j.append(ans)\n",
    "\n",
    "data['unpleasant_pleasant'] = j"
   ]
  },
  {
   "cell_type": "code",
   "execution_count": 23,
   "id": "d56fb492-0fec-491d-8384-2c63e3af6d68",
   "metadata": {},
   "outputs": [],
   "source": [
    "j = []\n",
    "\n",
    "for i in range(50):\n",
    "    x = crowdsource.iloc[i]['AR[forgettable-memorable]']\n",
    "\n",
    "    # remove special characters\n",
    "    x = remove_values_from_list(x, ',')\n",
    "    x = remove_values_from_list(x, '[')\n",
    "    x = remove_values_from_list(x, ']')\n",
    "    x = remove_values_from_list(x, ' ')\n",
    "\n",
    "    # convert string list to integer list\n",
    "    x = list(map(int, x))\n",
    "\n",
    "    ans = statistics.mean(x)\n",
    "    j.append(ans)\n",
    "\n",
    "data['forgettable_memorable'] = j"
   ]
  },
  {
   "cell_type": "code",
   "execution_count": 24,
   "id": "488b52de-a08b-4830-86b6-7c2e133c8c32",
   "metadata": {},
   "outputs": [],
   "source": [
    "j = []\n",
    "\n",
    "for i in range(50):\n",
    "    x = crowdsource.iloc[i]['AR[boring-interesting]']\n",
    "\n",
    "    # remove special characters\n",
    "    x = remove_values_from_list(x, ',')\n",
    "    x = remove_values_from_list(x, '[')\n",
    "    x = remove_values_from_list(x, ']')\n",
    "    x = remove_values_from_list(x, ' ')\n",
    "\n",
    "    # convert string list to integer list\n",
    "    x = list(map(int, x))\n",
    "\n",
    "    ans = statistics.mean(x)\n",
    "    j.append(ans)\n",
    "\n",
    "data['boring_interesting'] = j"
   ]
  },
  {
   "cell_type": "code",
   "execution_count": 25,
   "id": "ba44ab40-03c3-4d3a-81f1-6dcc019e1b6a",
   "metadata": {},
   "outputs": [],
   "source": [
    "j = []\n",
    "\n",
    "for i in range(50):\n",
    "    x = crowdsource.iloc[i]['NR[listen to similar songs]']\n",
    "\n",
    "    # remove special characters\n",
    "    x = remove_values_from_list(x, ',')\n",
    "    x = remove_values_from_list(x, '[')\n",
    "    x = remove_values_from_list(x, ']')\n",
    "    x = remove_values_from_list(x, ' ')\n",
    "\n",
    "    # convert string list to integer list\n",
    "    x = list(map(int, x))\n",
    "\n",
    "    ans = statistics.mean(x)\n",
    "    j.append(ans)\n",
    "\n",
    "data['listen_similar'] = j"
   ]
  },
  {
   "cell_type": "code",
   "execution_count": 26,
   "id": "f4497ed7-dbfe-43c5-aeeb-a1ace6ba8a84",
   "metadata": {},
   "outputs": [],
   "source": [
    "j = []\n",
    "\n",
    "for i in range(50):\n",
    "    x = crowdsource.iloc[i]['NR[share to my friends]']\n",
    "\n",
    "    # remove special characters\n",
    "    x = remove_values_from_list(x, ',')\n",
    "    x = remove_values_from_list(x, '[')\n",
    "    x = remove_values_from_list(x, ']')\n",
    "    x = remove_values_from_list(x, ' ')\n",
    "\n",
    "    # convert string list to integer list\n",
    "    x = list(map(int, x))\n",
    "\n",
    "    ans = statistics.mean(x)\n",
    "    j.append(ans)\n",
    "\n",
    "data['share_friends'] = j"
   ]
  },
  {
   "cell_type": "code",
   "execution_count": 27,
   "id": "98af9870-6681-4856-9d15-e103c025b16c",
   "metadata": {},
   "outputs": [],
   "source": [
    "j = []\n",
    "\n",
    "for i in range(50):\n",
    "    x = crowdsource.iloc[i]['NR[add to my playlist]']\n",
    "\n",
    "    # remove special characters\n",
    "    x = remove_values_from_list(x, ',')\n",
    "    x = remove_values_from_list(x, '[')\n",
    "    x = remove_values_from_list(x, ']')\n",
    "    x = remove_values_from_list(x, ' ')\n",
    "\n",
    "    # convert string list to integer list\n",
    "    x = list(map(int, x))\n",
    "\n",
    "    ans = statistics.mean(x)\n",
    "    j.append(ans)\n",
    "\n",
    "data['add_playlist'] = j"
   ]
  },
  {
   "cell_type": "code",
   "execution_count": 28,
   "id": "6c5d6c58-cbb3-4984-b2e3-c025745ae663",
   "metadata": {},
   "outputs": [],
   "source": [
    "# song_familiarity = crowdsource[\"Song Familiarity\"]\n",
    "# artist_familiarity = crowdsource[\"Artist Familiarity\"]\n",
    "# bad_good = crowdsource[\"AR[bad-good]\"]\n",
    "# distasteful_tasty = crowdsource[\"AR[distasteful-tasty]\"]\n",
    "# dull_exciting = crowdsource[\"AR[dull-exciting]\"]\n",
    "# tasteless_tasteful = crowdsource[\"AR[tasteless-tasteful]\"]\n",
    "# unimaginative_creative = crowdsource[\"AR[unimaginative-creative]\"]\n",
    "# untalented_talented = crowdsource[\"AR[untalented-talented]\"]\n",
    "# unpleasant_pleasant = crowdsource[\"AR[unpleasant-pleasant]\"]\n",
    "# forgettable_memorable = crowdsource[\"AR[forgettable-memorable]\"]\n",
    "# boring_interesting = crowdsource[\"AR[boring-interesting]\"]\n",
    "# listen_similar = crowdsource[\"NR[listen to similar songs]\"]\n",
    "# share_friends = crowdsource[\"NR[share to my friends]\"]\n",
    "# add_playlist = crowdsource[\"NR[add to my playlist]\"]\n",
    "\n",
    "# data = data.join(song_familiarity)\n",
    "# data = data.join(artist_familiarity)\n",
    "# data = data.join(bad_good)\n",
    "# data = data.join(distasteful_tasty)\n",
    "# data = data.join(dull_exciting)\n",
    "# data = data.join(tasteless_tasteful)\n",
    "# data = data.join(unimaginative_creative)\n",
    "# data = data.join(untalented_talented)\n",
    "# data = data.join(unpleasant_pleasant)\n",
    "# data = data.join(forgettable_memorable)\n",
    "# data = data.join(boring_interesting)\n",
    "# data = data.join(listen_similar)\n",
    "# data = data.join(share_friends)\n",
    "# data = data.join(add_playlist)"
   ]
  },
  {
   "cell_type": "markdown",
   "id": "d32a8504-99c4-472a-9ca8-235d8d8e882b",
   "metadata": {},
   "source": [
    "INSERT WEEK 10"
   ]
  },
  {
   "cell_type": "code",
   "execution_count": 29,
   "id": "b94a9e0b-77a6-41bf-9085-938e35d4c415",
   "metadata": {},
   "outputs": [
    {
     "name": "stdout",
     "output_type": "stream",
     "text": [
      "                                                title  \\\n",
      "0                                           Kill Bill   \n",
      "1                                              Mahika   \n",
      "2                                           Anti-Hero   \n",
      "3                                        Here With Me   \n",
      "4                                               Ditto   \n",
      "5                                       Made You Look   \n",
      "6                        Wet The Bed (feat. Ludacris)   \n",
      "7                           Unholy (feat. Kim Petras)   \n",
      "8                                 Under The Influence   \n",
      "9             Babalik Sa'yo (from \"2 Good 2 Be True\")   \n",
      "10  Until I Found You (with Em Beihold) - Em Beiho...   \n",
      "11                                      Midnight Rain   \n",
      "12                                             Umaasa   \n",
      "13                                             Fallen   \n",
      "14                                        Die For You   \n",
      "15                                          As It Was   \n",
      "16                                          Ikaw Lang   \n",
      "17                                              Jopay   \n",
      "18                                        Die For You   \n",
      "19                                 Fall In Love Alone   \n",
      "20            Left and Right (Feat. Jung Kook of BTS)   \n",
      "21                                        ANTIFRAGILE   \n",
      "22                                          THE SHADE   \n",
      "23                                           Isa lang   \n",
      "24                                           Old Love   \n",
      "25                                          City Girl   \n",
      "26                                          Bahala Na   \n",
      "27                                          Paraluman   \n",
      "28                                     Nobody Gets Me   \n",
      "29                                               Pano   \n",
      "30                                            Pasilyo   \n",
      "31             Creepin' (with The Weeknd & 21 Savage)   \n",
      "32                                         Angel Baby   \n",
      "33                                            Tahanan   \n",
      "34                                      Glimpse of Us   \n",
      "35                                        golden hour   \n",
      "36                                     Shinunoga E-Wa   \n",
      "37                                            Pagsamo   \n",
      "38                                         Sure Thing   \n",
      "39                                           Hype Boy   \n",
      "40                                  Until I Found You   \n",
      "41               Kumpas - Theme of “2 Good 2 Be True”   \n",
      "42                                              Shirt   \n",
      "43                                               Muli   \n",
      "44                                   I Wanna Be Yours   \n",
      "45                                             Kagome   \n",
      "46                                                OMG   \n",
      "47                                        double take   \n",
      "48                                              Yakap   \n",
      "49                                          Shut Down   \n",
      "\n",
      "                               artist/s  danceability  key  loudness  \\\n",
      "0                                   SZA         0.644    8    -5.750   \n",
      "1                   Adie, Janine Berdin         0.635    7    -7.406   \n",
      "2                          Taylor Swift         0.637    4    -6.571   \n",
      "3                                  d4vd         0.574    4    -8.209   \n",
      "4                              NewJeans         0.814    6    -5.957   \n",
      "5                        Meghan Trainor         0.838   10    -3.562   \n",
      "6                 Chris Brown, Ludacris         0.580    6    -7.405   \n",
      "7                 Sam Smith, Kim Petras         0.714    2    -7.375   \n",
      "8                           Chris Brown         0.733    9    -5.529   \n",
      "9                      Moira Dela Torre         0.515    1    -7.798   \n",
      "10          Stephen Sanchez, Em Beihold         0.551   10    -5.339   \n",
      "11                         Taylor Swift         0.643    0   -11.738   \n",
      "12                               Calein         0.627    9    -9.868   \n",
      "13                           Lola Amour         0.652    6    -4.098   \n",
      "14                           The Weeknd         0.582    1    -7.163   \n",
      "15                         Harry Styles         0.520    6    -5.338   \n",
      "16                               NOBITA         0.513   11   -11.091   \n",
      "17                           Mayonnaise         0.348    6    -6.425   \n",
      "18                                 Joji         0.472    8    -7.379   \n",
      "19                          Stacey Ryan         0.676    7    -5.455   \n",
      "20         Charlie Puth, Jung Kook, BTS         0.881    2    -4.898   \n",
      "21                          LE SSERAFIM         0.882   10    -3.299   \n",
      "22                    Rex Orange County         0.898    5    -7.973   \n",
      "23                          Arthur Nery         0.429    6    -8.445   \n",
      "24                   yuji, putri dahlia         0.478   11   -10.513   \n",
      "25                          Shanti Dope         0.684    0    -9.995   \n",
      "26                             Kenaniah         0.874   11   -11.168   \n",
      "27                                 Adie         0.519    5   -13.850   \n",
      "28                                  SZA         0.358    7    -8.285   \n",
      "29                         Zack Tabudlo         0.375    3    -7.018   \n",
      "30                       SunKissed Lola         0.710    2    -4.674   \n",
      "31  Metro Boomin, The Weeknd, 21 Savage         0.715    1    -6.005   \n",
      "32                          Troye Sivan         0.559   11    -6.425   \n",
      "33                                 Adie         0.394    3   -10.855   \n",
      "34                                 Joji         0.440    8    -9.258   \n",
      "35                                 JVKE         0.515    4    -4.801   \n",
      "36                           Fujii Kaze         0.600    6    -6.124   \n",
      "37                          Arthur Nery         0.644    6    -9.382   \n",
      "38                               Miguel         0.684   11    -8.127   \n",
      "39                             NewJeans         0.593    4    -3.430   \n",
      "40                      Stephen Sanchez         0.539   10    -6.050   \n",
      "41                     Moira Dela Torre         0.545    5   -11.001   \n",
      "42                                  SZA         0.848    3    -7.720   \n",
      "43                         Ace Banzuelo         0.482   11    -3.620   \n",
      "44                       Arctic Monkeys         0.464    0    -9.345   \n",
      "45                                Lo ki         0.572    7    -6.481   \n",
      "46                             NewJeans         0.804    9    -4.067   \n",
      "47                                dhruv         0.656    8   -11.141   \n",
      "48                         Zack Tabudlo         0.738    8    -8.437   \n",
      "49                            BLACKPINK         0.813    0    -6.447   \n",
      "\n",
      "    speechiness  liveness  valence    tempo  duration_ms  ...  \\\n",
      "0        0.0351    0.1610    0.430   88.993       153947  ...   \n",
      "1        0.0391    0.1390    0.601   81.976       201951  ...   \n",
      "2        0.0519    0.1420    0.533   97.008       200690  ...   \n",
      "3        0.0254    0.1280    0.288  132.023       242485  ...   \n",
      "4        0.1110    0.0993    0.183  133.854       185507  ...   \n",
      "5        0.0665    0.0771    0.884  144.981       134256  ...   \n",
      "6        0.0429    0.1740    0.411  123.801       266307  ...   \n",
      "7        0.0864    0.2660    0.238  131.121       156943  ...   \n",
      "8        0.0427    0.1050    0.310  116.992       184613  ...   \n",
      "9        0.0930    0.3300    0.695  157.866       229712  ...   \n",
      "10       0.0286    0.2020    0.342  101.190       176440  ...   \n",
      "11       0.0767    0.1150    0.230  139.865       174783  ...   \n",
      "12       0.0232    0.3320    0.353   96.016       335625  ...   \n",
      "13       0.0406    0.1470    0.615   98.079       201807  ...   \n",
      "14       0.0627    0.1340    0.510  133.249       260253  ...   \n",
      "15       0.0557    0.3110    0.662  173.930       167303  ...   \n",
      "16       0.0336    0.0924    0.323  120.952       263500  ...   \n",
      "17       0.0314    0.0959    0.301  137.619       270594  ...   \n",
      "18       0.0510    0.2890    0.154  147.805       211667  ...   \n",
      "19       0.0711    0.1270    0.522  171.883       205428  ...   \n",
      "20       0.0324    0.0901    0.719  101.058       154487  ...   \n",
      "21       0.0819    0.1130    0.824  105.025       184444  ...   \n",
      "22       0.0620    0.0876    0.727  119.869       181507  ...   \n",
      "23       0.0719    0.0846    0.375  121.170       269256  ...   \n",
      "24       0.0283    0.1240    0.359  141.950       249382  ...   \n",
      "25       0.0401    0.1130    0.247  127.026       188976  ...   \n",
      "26       0.0861    0.0959    0.762  122.001       228689  ...   \n",
      "27       0.0396    0.0946    0.108   90.121       312320  ...   \n",
      "28       0.0285    0.1830    0.276   99.796       180853  ...   \n",
      "29       0.0315    0.1910    0.415  174.839       254400  ...   \n",
      "30       0.0351    0.1810    0.404  120.032       270250  ...   \n",
      "31       0.0484    0.0822    0.172   97.950       221520  ...   \n",
      "32       0.0358    0.1380    0.338   72.498       220780  ...   \n",
      "33       0.0310    0.3150    0.300  109.862       293727  ...   \n",
      "34       0.0531    0.1410    0.268  169.914       233456  ...   \n",
      "35       0.0322    0.2500    0.153   94.467       209260  ...   \n",
      "36       0.0452    0.1890    0.519  158.078       185573  ...   \n",
      "37       0.0339    0.0962    0.356   60.001       297002  ...   \n",
      "38       0.1000    0.1910    0.498   81.001       195373  ...   \n",
      "39       0.2250    0.2860    0.783   99.976       179027  ...   \n",
      "40       0.0288    0.1740    0.227  101.358       177720  ...   \n",
      "41       0.0300    0.0944    0.349  124.022       268124  ...   \n",
      "42       0.1020    0.0879    0.572  120.009       181840  ...   \n",
      "43       0.0533    0.1030    0.281  144.020       290004  ...   \n",
      "44       0.0256    0.0974    0.479   67.528       183956  ...   \n",
      "45       0.0487    0.0891    0.207  105.006       238286  ...   \n",
      "46       0.0433    0.1080    0.739  126.956       212253  ...   \n",
      "47       0.0744    0.2210    0.196  109.239       171743  ...   \n",
      "48       0.0334    0.1070    0.547  113.979       178947  ...   \n",
      "49       0.0372    0.1830    0.651  110.053       175889  ...   \n",
      "\n",
      "    tasteless_tasteful  unimaginative_creative  untalented_talented  \\\n",
      "0                 4.85                    5.15                 5.45   \n",
      "1                 5.65                    5.45                 5.70   \n",
      "2                 6.05                    5.90                 6.25   \n",
      "3                 5.50                    5.85                 6.10   \n",
      "4                 5.80                    6.05                 6.10   \n",
      "5                 5.20                    5.25                 6.15   \n",
      "6                 5.85                    6.45                 6.35   \n",
      "7                 5.75                    5.45                 6.05   \n",
      "8                 5.25                    5.30                 5.55   \n",
      "9                 5.65                    5.25                 6.15   \n",
      "10                5.35                    5.15                 5.70   \n",
      "11                5.35                    4.70                 5.35   \n",
      "12                6.10                    6.30                 5.95   \n",
      "13                5.65                    6.00                 6.00   \n",
      "14                4.30                    4.20                 4.75   \n",
      "15                5.15                    4.70                 5.25   \n",
      "16                5.95                    5.80                 6.20   \n",
      "17                5.20                    5.40                 5.50   \n",
      "18                5.20                    4.85                 5.70   \n",
      "19                4.90                    4.40                 5.55   \n",
      "20                5.60                    5.40                 6.00   \n",
      "21                5.80                    5.60                 6.05   \n",
      "22                5.70                    5.20                 5.80   \n",
      "23                4.70                    5.15                 5.05   \n",
      "24                4.65                    4.80                 5.20   \n",
      "25                5.40                    5.35                 5.40   \n",
      "26                5.30                    5.15                 5.45   \n",
      "27                3.75                    3.50                 4.25   \n",
      "28                5.40                    5.00                 5.60   \n",
      "29                5.50                    5.15                 5.75   \n",
      "30                3.90                    4.10                 4.55   \n",
      "31                5.90                    5.25                 5.85   \n",
      "32                5.75                    5.60                 5.85   \n",
      "33                4.40                    4.95                 5.40   \n",
      "34                5.85                    5.45                 6.00   \n",
      "35                4.00                    4.40                 4.75   \n",
      "36                5.60                    5.25                 5.35   \n",
      "37                5.65                    5.50                 5.45   \n",
      "38                4.95                    5.30                 5.20   \n",
      "39                4.55                    4.90                 5.00   \n",
      "40                4.55                    4.80                 5.20   \n",
      "41                5.40                    5.50                 5.70   \n",
      "42                5.60                    5.45                 6.05   \n",
      "43                5.50                    5.65                 5.80   \n",
      "44                5.75                    6.00                 6.20   \n",
      "45                5.50                    5.35                 5.95   \n",
      "46                5.60                    5.60                 5.95   \n",
      "47                5.70                    5.10                 5.75   \n",
      "48                5.65                    5.55                 6.00   \n",
      "49                5.55                    5.45                 5.95   \n",
      "\n",
      "    unpleasant_pleasant  forgettable_memorable  boring_interesting  \\\n",
      "0                  5.35                   5.10                5.25   \n",
      "1                  6.15                   5.95                5.55   \n",
      "2                  6.25                   5.60                5.70   \n",
      "3                  6.05                   5.85                5.75   \n",
      "4                  5.95                   5.55                6.00   \n",
      "5                  6.10                   5.10                5.20   \n",
      "6                  6.05                   6.10                5.85   \n",
      "7                  6.00                   4.80                4.90   \n",
      "8                  5.60                   4.95                5.15   \n",
      "9                  6.05                   5.25                5.30   \n",
      "10                 5.75                   4.95                5.10   \n",
      "11                 5.60                   4.50                4.70   \n",
      "12                 6.15                   6.30                6.05   \n",
      "13                 5.95                   5.30                5.70   \n",
      "14                 4.25                   4.15                4.15   \n",
      "15                 5.90                   5.55                4.90   \n",
      "16                 6.15                   5.75                5.70   \n",
      "17                 5.10                   5.65                5.25   \n",
      "18                 5.85                   5.70                5.05   \n",
      "19                 4.95                   4.35                4.50   \n",
      "20                 6.05                   4.90                5.20   \n",
      "21                 6.00                   5.70                5.45   \n",
      "22                 5.90                   4.35                5.50   \n",
      "23                 4.85                   4.30                4.50   \n",
      "24                 5.10                   4.75                4.45   \n",
      "25                 5.85                   5.75                5.30   \n",
      "26                 5.70                   5.25                5.20   \n",
      "27                 3.70                   2.75                3.50   \n",
      "28                 5.85                   5.15                5.10   \n",
      "29                 6.00                   5.15                5.15   \n",
      "30                 4.25                   4.55                4.70   \n",
      "31                 6.30                   5.60                5.65   \n",
      "32                 6.00                   5.35                5.35   \n",
      "33                 4.85                   4.20                4.20   \n",
      "34                 5.95                   5.20                5.50   \n",
      "35                 4.30                   4.90                4.60   \n",
      "36                 5.90                   5.60                5.60   \n",
      "37                 5.95                   4.95                5.50   \n",
      "38                 5.20                   4.80                5.20   \n",
      "39                 4.80                   5.20                4.85   \n",
      "40                 4.85                   4.45                4.45   \n",
      "41                 6.00                   5.40                5.45   \n",
      "42                 5.80                   5.05                5.20   \n",
      "43                 5.75                   5.55                5.80   \n",
      "44                 6.10                   6.20                5.85   \n",
      "45                 6.00                   5.30                5.45   \n",
      "46                 6.05                   5.65                5.65   \n",
      "47                 5.90                   5.35                5.10   \n",
      "48                 6.05                   5.30                5.60   \n",
      "49                 6.15                   5.20                5.10   \n",
      "\n",
      "    listen_similar  share_friends  add_playlist  stream_category  \n",
      "0             5.25           4.60          4.85               10  \n",
      "1             5.90           5.15          5.50               10  \n",
      "2             6.00           5.35          5.45               10  \n",
      "3             5.45           5.00          5.00               10  \n",
      "4             5.55           4.95          4.90                9  \n",
      "5             4.80           4.65          4.55                5  \n",
      "6             5.60           5.15          5.40                7  \n",
      "7             4.95           4.35          4.30                9  \n",
      "8             4.90           4.60          4.90                9  \n",
      "9             5.10           4.70          4.90                9  \n",
      "10            4.60           4.45          4.50                9  \n",
      "11            4.80           4.45          4.20                9  \n",
      "12            5.25           5.20          4.80               10  \n",
      "13            5.45           4.55          4.75                9  \n",
      "14            3.45           3.00          2.90               10  \n",
      "15            5.05           4.45          4.85                9  \n",
      "16            5.90           5.35          5.80                9  \n",
      "17            4.20           3.75          3.50                7  \n",
      "18            4.95           4.60          4.60                7  \n",
      "19            4.50           3.90          4.05                9  \n",
      "20            4.85           4.80          4.75                7  \n",
      "21            5.10           4.80          4.95                5  \n",
      "22            5.60           4.90          5.00                9  \n",
      "23            3.70           3.80          3.65                9  \n",
      "24            4.15           3.75          3.55                9  \n",
      "25            4.95           4.30          4.30                9  \n",
      "26            5.05           4.60          4.60                9  \n",
      "27            3.15           2.70          2.75                9  \n",
      "28            5.25           4.80          5.20                9  \n",
      "29            5.60           4.75          5.20                9  \n",
      "30            4.10           3.50          3.65               10  \n",
      "31            5.70           5.55          5.65                9  \n",
      "32            5.35           5.00          5.20                7  \n",
      "33            4.50           3.70          3.65                9  \n",
      "34            5.55           4.60          4.60                6  \n",
      "35            3.90           3.20          3.35                9  \n",
      "36            5.55           5.15          5.05                5  \n",
      "37            5.25           4.90          4.95                9  \n",
      "38            4.75           4.35          4.40                9  \n",
      "39            4.55           4.35          4.10                9  \n",
      "40            4.30           3.80          3.80                7  \n",
      "41            5.30           5.05          5.20                6  \n",
      "42            5.30           5.20          4.90                4  \n",
      "43            5.20           4.90          5.15                7  \n",
      "44            5.80           5.40          5.55                8  \n",
      "45            5.65           4.65          5.10                5  \n",
      "46            5.70           4.80          5.20               10  \n",
      "47            5.50           4.90          5.25                9  \n",
      "48            5.40           5.10          5.30                9  \n",
      "49            5.40           4.95          5.15                4  \n",
      "\n",
      "[50 rows x 38 columns]\n"
     ]
    }
   ],
   "source": [
    "week10 = pd.read_csv('week10 - streamcategory.csv')\n",
    "\n",
    "week10.rename(columns={\"track_name\": \"title\"}, inplace=True)\n",
    "week10.rename(columns={\"artist_names\": \"artist/s\"}, inplace=True)\n",
    "\n",
    "data = pd.merge(data, week10[['title', 'artist/s', 'stream_category']], how='left', on=['title', 'artist/s'])\n",
    "\n",
    "print(data)"
   ]
  },
  {
   "cell_type": "code",
   "execution_count": 60,
   "id": "8983c384-b0fb-4f2f-ae27-876cd7795f4a",
   "metadata": {},
   "outputs": [
    {
     "ename": "ValueError",
     "evalue": "columns overlap but no suffix specified: Index([1.0, 5.0, 10.0], dtype='object')",
     "output_type": "error",
     "traceback": [
      "\u001b[1;31m---------------------------------------------------------------------------\u001b[0m",
      "\u001b[1;31mValueError\u001b[0m                                Traceback (most recent call last)",
      "\u001b[1;32m<ipython-input-60-342989500a7d>\u001b[0m in \u001b[0;36m<module>\u001b[1;34m\u001b[0m\n\u001b[0;32m     73\u001b[0m \u001b[0mone_hot_key\u001b[0m \u001b[1;33m=\u001b[0m \u001b[0mpd\u001b[0m\u001b[1;33m.\u001b[0m\u001b[0mget_dummies\u001b[0m\u001b[1;33m(\u001b[0m\u001b[0mdata\u001b[0m\u001b[1;33m[\u001b[0m\u001b[1;34m'key'\u001b[0m\u001b[1;33m]\u001b[0m\u001b[1;33m)\u001b[0m\u001b[1;33m\u001b[0m\u001b[1;33m\u001b[0m\u001b[0m\n\u001b[0;32m     74\u001b[0m \u001b[0mdata\u001b[0m \u001b[1;33m=\u001b[0m \u001b[0mdata\u001b[0m\u001b[1;33m.\u001b[0m\u001b[0mdrop\u001b[0m\u001b[1;33m(\u001b[0m\u001b[1;34m'key'\u001b[0m\u001b[1;33m,\u001b[0m\u001b[0maxis\u001b[0m \u001b[1;33m=\u001b[0m \u001b[1;36m1\u001b[0m\u001b[1;33m)\u001b[0m\u001b[1;33m\u001b[0m\u001b[1;33m\u001b[0m\u001b[0m\n\u001b[1;32m---> 75\u001b[1;33m \u001b[0mdata\u001b[0m \u001b[1;33m=\u001b[0m \u001b[0mdata\u001b[0m\u001b[1;33m.\u001b[0m\u001b[0mjoin\u001b[0m\u001b[1;33m(\u001b[0m\u001b[0mone_hot_key\u001b[0m\u001b[1;33m)\u001b[0m\u001b[1;33m\u001b[0m\u001b[1;33m\u001b[0m\u001b[0m\n\u001b[0m\u001b[0;32m     76\u001b[0m \u001b[1;31m# data.rename(columns={\"1\": \"indie\"}, inplace=True)\u001b[0m\u001b[1;33m\u001b[0m\u001b[1;33m\u001b[0m\u001b[1;33m\u001b[0m\u001b[0m\n\u001b[0;32m     77\u001b[0m \u001b[1;31m# data.rename(columns={\"5\": \"indie_major\"}, inplace=True)\u001b[0m\u001b[1;33m\u001b[0m\u001b[1;33m\u001b[0m\u001b[1;33m\u001b[0m\u001b[0m\n",
      "\u001b[1;32mD:\\anaconda3\\lib\\site-packages\\pandas\\core\\frame.py\u001b[0m in \u001b[0;36mjoin\u001b[1;34m(self, other, on, how, lsuffix, rsuffix, sort)\u001b[0m\n\u001b[0;32m   8108\u001b[0m         \u001b[1;36m5\u001b[0m  \u001b[0mK5\u001b[0m  \u001b[0mA5\u001b[0m  \u001b[0mNaN\u001b[0m\u001b[1;33m\u001b[0m\u001b[1;33m\u001b[0m\u001b[0m\n\u001b[0;32m   8109\u001b[0m         \"\"\"\n\u001b[1;32m-> 8110\u001b[1;33m         return self._join_compat(\n\u001b[0m\u001b[0;32m   8111\u001b[0m             \u001b[0mother\u001b[0m\u001b[1;33m,\u001b[0m \u001b[0mon\u001b[0m\u001b[1;33m=\u001b[0m\u001b[0mon\u001b[0m\u001b[1;33m,\u001b[0m \u001b[0mhow\u001b[0m\u001b[1;33m=\u001b[0m\u001b[0mhow\u001b[0m\u001b[1;33m,\u001b[0m \u001b[0mlsuffix\u001b[0m\u001b[1;33m=\u001b[0m\u001b[0mlsuffix\u001b[0m\u001b[1;33m,\u001b[0m \u001b[0mrsuffix\u001b[0m\u001b[1;33m=\u001b[0m\u001b[0mrsuffix\u001b[0m\u001b[1;33m,\u001b[0m \u001b[0msort\u001b[0m\u001b[1;33m=\u001b[0m\u001b[0msort\u001b[0m\u001b[1;33m\u001b[0m\u001b[1;33m\u001b[0m\u001b[0m\n\u001b[0;32m   8112\u001b[0m         )\n",
      "\u001b[1;32mD:\\anaconda3\\lib\\site-packages\\pandas\\core\\frame.py\u001b[0m in \u001b[0;36m_join_compat\u001b[1;34m(self, other, on, how, lsuffix, rsuffix, sort)\u001b[0m\n\u001b[0;32m   8133\u001b[0m                     \u001b[0msort\u001b[0m\u001b[1;33m=\u001b[0m\u001b[0msort\u001b[0m\u001b[1;33m,\u001b[0m\u001b[1;33m\u001b[0m\u001b[1;33m\u001b[0m\u001b[0m\n\u001b[0;32m   8134\u001b[0m                 )\n\u001b[1;32m-> 8135\u001b[1;33m             return merge(\n\u001b[0m\u001b[0;32m   8136\u001b[0m                 \u001b[0mself\u001b[0m\u001b[1;33m,\u001b[0m\u001b[1;33m\u001b[0m\u001b[1;33m\u001b[0m\u001b[0m\n\u001b[0;32m   8137\u001b[0m                 \u001b[0mother\u001b[0m\u001b[1;33m,\u001b[0m\u001b[1;33m\u001b[0m\u001b[1;33m\u001b[0m\u001b[0m\n",
      "\u001b[1;32mD:\\anaconda3\\lib\\site-packages\\pandas\\core\\reshape\\merge.py\u001b[0m in \u001b[0;36mmerge\u001b[1;34m(left, right, how, on, left_on, right_on, left_index, right_index, sort, suffixes, copy, indicator, validate)\u001b[0m\n\u001b[0;32m     87\u001b[0m         \u001b[0mvalidate\u001b[0m\u001b[1;33m=\u001b[0m\u001b[0mvalidate\u001b[0m\u001b[1;33m,\u001b[0m\u001b[1;33m\u001b[0m\u001b[1;33m\u001b[0m\u001b[0m\n\u001b[0;32m     88\u001b[0m     )\n\u001b[1;32m---> 89\u001b[1;33m     \u001b[1;32mreturn\u001b[0m \u001b[0mop\u001b[0m\u001b[1;33m.\u001b[0m\u001b[0mget_result\u001b[0m\u001b[1;33m(\u001b[0m\u001b[1;33m)\u001b[0m\u001b[1;33m\u001b[0m\u001b[1;33m\u001b[0m\u001b[0m\n\u001b[0m\u001b[0;32m     90\u001b[0m \u001b[1;33m\u001b[0m\u001b[0m\n\u001b[0;32m     91\u001b[0m \u001b[1;33m\u001b[0m\u001b[0m\n",
      "\u001b[1;32mD:\\anaconda3\\lib\\site-packages\\pandas\\core\\reshape\\merge.py\u001b[0m in \u001b[0;36mget_result\u001b[1;34m(self)\u001b[0m\n\u001b[0;32m    684\u001b[0m         \u001b[0mjoin_index\u001b[0m\u001b[1;33m,\u001b[0m \u001b[0mleft_indexer\u001b[0m\u001b[1;33m,\u001b[0m \u001b[0mright_indexer\u001b[0m \u001b[1;33m=\u001b[0m \u001b[0mself\u001b[0m\u001b[1;33m.\u001b[0m\u001b[0m_get_join_info\u001b[0m\u001b[1;33m(\u001b[0m\u001b[1;33m)\u001b[0m\u001b[1;33m\u001b[0m\u001b[1;33m\u001b[0m\u001b[0m\n\u001b[0;32m    685\u001b[0m \u001b[1;33m\u001b[0m\u001b[0m\n\u001b[1;32m--> 686\u001b[1;33m         llabels, rlabels = _items_overlap_with_suffix(\n\u001b[0m\u001b[0;32m    687\u001b[0m             \u001b[0mself\u001b[0m\u001b[1;33m.\u001b[0m\u001b[0mleft\u001b[0m\u001b[1;33m.\u001b[0m\u001b[0m_info_axis\u001b[0m\u001b[1;33m,\u001b[0m \u001b[0mself\u001b[0m\u001b[1;33m.\u001b[0m\u001b[0mright\u001b[0m\u001b[1;33m.\u001b[0m\u001b[0m_info_axis\u001b[0m\u001b[1;33m,\u001b[0m \u001b[0mself\u001b[0m\u001b[1;33m.\u001b[0m\u001b[0msuffixes\u001b[0m\u001b[1;33m\u001b[0m\u001b[1;33m\u001b[0m\u001b[0m\n\u001b[0;32m    688\u001b[0m         )\n",
      "\u001b[1;32mD:\\anaconda3\\lib\\site-packages\\pandas\\core\\reshape\\merge.py\u001b[0m in \u001b[0;36m_items_overlap_with_suffix\u001b[1;34m(left, right, suffixes)\u001b[0m\n\u001b[0;32m   2176\u001b[0m \u001b[1;33m\u001b[0m\u001b[0m\n\u001b[0;32m   2177\u001b[0m     \u001b[1;32mif\u001b[0m \u001b[1;32mnot\u001b[0m \u001b[0mlsuffix\u001b[0m \u001b[1;32mand\u001b[0m \u001b[1;32mnot\u001b[0m \u001b[0mrsuffix\u001b[0m\u001b[1;33m:\u001b[0m\u001b[1;33m\u001b[0m\u001b[1;33m\u001b[0m\u001b[0m\n\u001b[1;32m-> 2178\u001b[1;33m         \u001b[1;32mraise\u001b[0m \u001b[0mValueError\u001b[0m\u001b[1;33m(\u001b[0m\u001b[1;34mf\"columns overlap but no suffix specified: {to_rename}\"\u001b[0m\u001b[1;33m)\u001b[0m\u001b[1;33m\u001b[0m\u001b[1;33m\u001b[0m\u001b[0m\n\u001b[0m\u001b[0;32m   2179\u001b[0m \u001b[1;33m\u001b[0m\u001b[0m\n\u001b[0;32m   2180\u001b[0m     \u001b[1;32mdef\u001b[0m \u001b[0mrenamer\u001b[0m\u001b[1;33m(\u001b[0m\u001b[0mx\u001b[0m\u001b[1;33m,\u001b[0m \u001b[0msuffix\u001b[0m\u001b[1;33m)\u001b[0m\u001b[1;33m:\u001b[0m\u001b[1;33m\u001b[0m\u001b[1;33m\u001b[0m\u001b[0m\n",
      "\u001b[1;31mValueError\u001b[0m: columns overlap but no suffix specified: Index([1.0, 5.0, 10.0], dtype='object')"
     ]
    }
   ],
   "source": [
    "# loudness\n",
    "# 0 - not loud\n",
    "# 1 - loud\n",
    "data['loudness'].mean()\n",
    "data['loudness'] = np.where(data['loudness'] < -11, 0, data['loudness'])\n",
    "data['loudness'] = np.where(data['loudness'] >= -11, 1, data['loudness'])\n",
    "data['loudness']\n",
    "\n",
    "# # speechiness\n",
    "# # 0 - > 0.66 (very speechy)\n",
    "# # 1 - 0.33 - 0.66 (sakto lang)\n",
    "# # 2 - < 0.33 (non-speechlike tracks)\n",
    "# data['speechiness'].mean()\n",
    "# data['speechiness'] = np.where(data['speechiness'] > 0.66, 0, data['speechiness'])\n",
    "# data['speechiness'] = np.where((data['speechiness'] <= 0.66) & (data['speechiness'] >= 0.33), 1, data['speechiness'])\n",
    "# data['speechiness'] = np.where(data['speechiness'] < 0.33, 2, data['speechiness'])\n",
    "# data['speechiness']\n",
    "\n",
    "# # liveness\n",
    "# # 0 - >= 0.8 (live)\n",
    "# # 1 - < 0.8 (not live)\n",
    "# data['liveness'].mean()\n",
    "# data['liveness'] = np.where(data['liveness'] >= 0.8, 0, data['liveness'])\n",
    "# data['liveness'] = np.where(data['liveness'] < 0.8, 1, data['liveness'])\n",
    "# data['liveness']\n",
    "\n",
    "# valence \n",
    "# 0 - < 0.5 (low valence)\n",
    "# 1 - >= 0.5 (high valence)\n",
    "data['valence'].mean()\n",
    "data['valence'] = np.where(data['valence'] < 0.5, 0, data['valence'])\n",
    "data['valence'] = np.where(data['valence'] >= 0.5, 1, data['valence'])\n",
    "data['valence'] \n",
    "\n",
    "# tempo \n",
    "# 0 - 40-66\n",
    "# 1 - 67 - 76\n",
    "# 2 - 77 - 108\n",
    "# 3 - 109 - 120\n",
    "# 4 - 121 - 168\n",
    "# 5 - 169 - 208\n",
    "data['tempo'] = np.where((data['tempo'] <= 66) & (data['tempo'] >= 40), 0, data['tempo'])\n",
    "data['tempo'] = np.where((data['tempo'] <= 67) & (data['tempo'] >= 76), 1, data['tempo'])\n",
    "data['tempo'] = np.where((data['tempo'] <= 77) & (data['tempo'] >= 120), 2, data['tempo'])\n",
    "data['tempo'] = np.where((data['tempo'] <= 109) & (data['tempo'] >= 120), 3, data['tempo'])\n",
    "data['tempo'] = np.where((data['tempo'] <= 121) & (data['tempo'] >= 168), 4, data['tempo'])\n",
    "data['tempo'] = np.where((data['tempo'] <= 169) & (data['tempo'] >= 208), 5, data['tempo'])\n",
    "\n",
    "# # duration_ms \n",
    "# # 0 - >= 0.8 (live)\n",
    "# # 1 - < 0.8 (not live)\n",
    "# data['duration_ms'].mean()\n",
    "# data['duration_ms'] = np.where(data['duration_ms'] >= 0.8, 0, data['duration_ms'])\n",
    "# data['duration_ms'] = np.where(data['duration_ms'] < 0.8, 1, data['duration_ms'])\n",
    "# data['duration_ms'] \n",
    "\n",
    "# chart_history\n",
    "# 0 - != 72\n",
    "# 1 - == 72\n",
    "data['chart_history'] = np.where(data['chart_history'] != 72, 0, data['chart_history'])\n",
    "data['chart_history'] = np.where(data['chart_history'] == 72, 1, data['chart_history'])\n",
    "data['chart_history'] \n",
    "\n",
    "# music_label\n",
    "# one_hot = pd.get_dummies(data['music_label'])\n",
    "# data = data.drop('music_label',axis = 1)\n",
    "# data = data.join(one_hot) \n",
    "# data.rename(columns={\"1\": \"indie\"}, inplace=True)\n",
    "# data.rename(columns={\"5\": \"indie_major\"}, inplace=True)\n",
    "# data.rename(columns={\"10\": \"major\"}, inplace=True)\n",
    "\n",
    "# key\n",
    "# one_hot_key = pd.get_dummies(data['key'])\n",
    "# data = data.drop('key',axis = 1)\n",
    "# data = data.join(one_hot_key) \n",
    "# data.rename(columns={\"1\": \"indie\"}, inplace=True)\n",
    "# data.rename(columns={\"5\": \"indie_major\"}, inplace=True)\n",
    "# data.rename(columns={\"10\": \"major\"}, inplace=True)\n",
    "\n",
    "# mean_trends\n",
    "# 0 - < 50\n",
    "# 1 - >= 50\n",
    "data['mean_trends'] = np.where(data['mean_trends'] > 50, 1, data['mean_trends'])\n",
    "data['mean_trends'] = np.where(data['mean_trends'] < 50, 0, data['mean_trends'])\n",
    "data['mean_trends'] \n",
    "\n",
    "data['mean_trends'] = np.where(data['mean_trends'] > 50, 1, data['mean_trends'])\n",
    "data['mean_trends'] = np.where(data['mean_trends'] < 50, 0, data['mean_trends'])\n",
    "data['mean_trends'] "
   ]
  },
  {
   "cell_type": "code",
   "execution_count": 31,
   "id": "b4cdece2",
   "metadata": {},
   "outputs": [
    {
     "name": "stdout",
     "output_type": "stream",
     "text": [
      "title                     0\n",
      "artist/s                  0\n",
      "danceability              0\n",
      "key                       0\n",
      "loudness                  0\n",
      "speechiness               0\n",
      "liveness                  0\n",
      "valence                   0\n",
      "tempo                     0\n",
      "duration_ms               0\n",
      "music_label               0\n",
      "artist_collab             0\n",
      "chart_history             0\n",
      "mean_trends               0\n",
      "stream1                   0\n",
      "stream2                   0\n",
      "stream3                   0\n",
      "stream4                   0\n",
      "stream5                   0\n",
      "stream6                   0\n",
      "stream7                   0\n",
      "stream8                   0\n",
      "stream9                   0\n",
      "song_familiarity          0\n",
      "artist_familiarity        0\n",
      "bad_good                  0\n",
      "distasteful_tasty         0\n",
      "dull_exciting             0\n",
      "tasteless_tasteful        0\n",
      "unimaginative_creative    0\n",
      "untalented_talented       0\n",
      "unpleasant_pleasant       0\n",
      "forgettable_memorable     0\n",
      "boring_interesting        0\n",
      "listen_similar            0\n",
      "share_friends             0\n",
      "add_playlist              0\n",
      "stream_category           0\n",
      "dtype: int64\n"
     ]
    }
   ],
   "source": [
    "print(data.isnull().sum())"
   ]
  },
  {
   "cell_type": "code",
   "execution_count": 32,
   "id": "1acf00ed",
   "metadata": {},
   "outputs": [
    {
     "name": "stdout",
     "output_type": "stream",
     "text": [
      "title                      object\n",
      "artist/s                   object\n",
      "danceability              float64\n",
      "key                         int64\n",
      "loudness                  float64\n",
      "speechiness               float64\n",
      "liveness                  float64\n",
      "valence                   float64\n",
      "tempo                     float64\n",
      "duration_ms                 int64\n",
      "music_label                 int64\n",
      "artist_collab               int64\n",
      "chart_history             float64\n",
      "mean_trends               float64\n",
      "stream1                     int64\n",
      "stream2                     int64\n",
      "stream3                     int64\n",
      "stream4                     int64\n",
      "stream5                     int64\n",
      "stream6                     int64\n",
      "stream7                     int64\n",
      "stream8                     int64\n",
      "stream9                     int64\n",
      "song_familiarity          float64\n",
      "artist_familiarity        float64\n",
      "bad_good                  float64\n",
      "distasteful_tasty         float64\n",
      "dull_exciting             float64\n",
      "tasteless_tasteful        float64\n",
      "unimaginative_creative    float64\n",
      "untalented_talented       float64\n",
      "unpleasant_pleasant       float64\n",
      "forgettable_memorable     float64\n",
      "boring_interesting        float64\n",
      "listen_similar            float64\n",
      "share_friends             float64\n",
      "add_playlist              float64\n",
      "stream_category             int64\n",
      "dtype: object\n"
     ]
    }
   ],
   "source": [
    "print(data.dtypes)"
   ]
  },
  {
   "cell_type": "code",
   "execution_count": 33,
   "id": "ef5e6142",
   "metadata": {
    "scrolled": true
   },
   "outputs": [
    {
     "name": "stdout",
     "output_type": "stream",
     "text": [
      "title                      object\n",
      "artist/s                   object\n",
      "danceability              float64\n",
      "key                       float64\n",
      "loudness                  float64\n",
      "speechiness               float64\n",
      "liveness                  float64\n",
      "valence                   float64\n",
      "tempo                     float64\n",
      "duration_ms               float64\n",
      "music_label                 int64\n",
      "artist_collab               int64\n",
      "chart_history             float64\n",
      "mean_trends               float64\n",
      "stream1                     int64\n",
      "stream2                     int64\n",
      "stream3                     int64\n",
      "stream4                     int64\n",
      "stream5                     int64\n",
      "stream6                     int64\n",
      "stream7                     int64\n",
      "stream8                     int64\n",
      "stream9                     int64\n",
      "song_familiarity          float64\n",
      "artist_familiarity        float64\n",
      "bad_good                  float64\n",
      "distasteful_tasty         float64\n",
      "dull_exciting             float64\n",
      "tasteless_tasteful        float64\n",
      "unimaginative_creative    float64\n",
      "untalented_talented       float64\n",
      "unpleasant_pleasant       float64\n",
      "forgettable_memorable     float64\n",
      "boring_interesting        float64\n",
      "listen_similar            float64\n",
      "share_friends             float64\n",
      "add_playlist              float64\n",
      "stream_category             int64\n",
      "dtype: object\n"
     ]
    }
   ],
   "source": [
    "data = data.astype({'key':'float'})\n",
    "data = data.astype({'duration_ms':'float'})\n",
    "print(data.dtypes)"
   ]
  },
  {
   "cell_type": "code",
   "execution_count": 34,
   "id": "dc29de3b",
   "metadata": {},
   "outputs": [
    {
     "ename": "PermissionError",
     "evalue": "[Errno 13] Permission denied: 'complete_data_term2run.csv'",
     "output_type": "error",
     "traceback": [
      "\u001b[1;31m---------------------------------------------------------------------------\u001b[0m",
      "\u001b[1;31mPermissionError\u001b[0m                           Traceback (most recent call last)",
      "\u001b[1;32m<ipython-input-34-c413a5d534ab>\u001b[0m in \u001b[0;36m<module>\u001b[1;34m\u001b[0m\n\u001b[1;32m----> 1\u001b[1;33m \u001b[0mdata\u001b[0m\u001b[1;33m.\u001b[0m\u001b[0mto_csv\u001b[0m\u001b[1;33m(\u001b[0m\u001b[1;34m'complete_data_term2run.csv'\u001b[0m\u001b[1;33m,\u001b[0m \u001b[0mencoding\u001b[0m\u001b[1;33m=\u001b[0m\u001b[1;34m'utf-8'\u001b[0m\u001b[1;33m)\u001b[0m\u001b[1;33m\u001b[0m\u001b[1;33m\u001b[0m\u001b[0m\n\u001b[0m",
      "\u001b[1;32mD:\\anaconda3\\lib\\site-packages\\pandas\\core\\generic.py\u001b[0m in \u001b[0;36mto_csv\u001b[1;34m(self, path_or_buf, sep, na_rep, float_format, columns, header, index, index_label, mode, encoding, compression, quoting, quotechar, line_terminator, chunksize, date_format, doublequote, escapechar, decimal, errors, storage_options)\u001b[0m\n\u001b[0;32m   3385\u001b[0m         )\n\u001b[0;32m   3386\u001b[0m \u001b[1;33m\u001b[0m\u001b[0m\n\u001b[1;32m-> 3387\u001b[1;33m         return DataFrameRenderer(formatter).to_csv(\n\u001b[0m\u001b[0;32m   3388\u001b[0m             \u001b[0mpath_or_buf\u001b[0m\u001b[1;33m,\u001b[0m\u001b[1;33m\u001b[0m\u001b[1;33m\u001b[0m\u001b[0m\n\u001b[0;32m   3389\u001b[0m             \u001b[0mline_terminator\u001b[0m\u001b[1;33m=\u001b[0m\u001b[0mline_terminator\u001b[0m\u001b[1;33m,\u001b[0m\u001b[1;33m\u001b[0m\u001b[1;33m\u001b[0m\u001b[0m\n",
      "\u001b[1;32mD:\\anaconda3\\lib\\site-packages\\pandas\\io\\formats\\format.py\u001b[0m in \u001b[0;36mto_csv\u001b[1;34m(self, path_or_buf, encoding, sep, columns, index_label, mode, compression, quoting, quotechar, line_terminator, chunksize, date_format, doublequote, escapechar, errors, storage_options)\u001b[0m\n\u001b[0;32m   1081\u001b[0m             \u001b[0mformatter\u001b[0m\u001b[1;33m=\u001b[0m\u001b[0mself\u001b[0m\u001b[1;33m.\u001b[0m\u001b[0mfmt\u001b[0m\u001b[1;33m,\u001b[0m\u001b[1;33m\u001b[0m\u001b[1;33m\u001b[0m\u001b[0m\n\u001b[0;32m   1082\u001b[0m         )\n\u001b[1;32m-> 1083\u001b[1;33m         \u001b[0mcsv_formatter\u001b[0m\u001b[1;33m.\u001b[0m\u001b[0msave\u001b[0m\u001b[1;33m(\u001b[0m\u001b[1;33m)\u001b[0m\u001b[1;33m\u001b[0m\u001b[1;33m\u001b[0m\u001b[0m\n\u001b[0m\u001b[0;32m   1084\u001b[0m \u001b[1;33m\u001b[0m\u001b[0m\n\u001b[0;32m   1085\u001b[0m         \u001b[1;32mif\u001b[0m \u001b[0mcreated_buffer\u001b[0m\u001b[1;33m:\u001b[0m\u001b[1;33m\u001b[0m\u001b[1;33m\u001b[0m\u001b[0m\n",
      "\u001b[1;32mD:\\anaconda3\\lib\\site-packages\\pandas\\io\\formats\\csvs.py\u001b[0m in \u001b[0;36msave\u001b[1;34m(self)\u001b[0m\n\u001b[0;32m    226\u001b[0m         \"\"\"\n\u001b[0;32m    227\u001b[0m         \u001b[1;31m# apply compression and byte/text conversion\u001b[0m\u001b[1;33m\u001b[0m\u001b[1;33m\u001b[0m\u001b[1;33m\u001b[0m\u001b[0m\n\u001b[1;32m--> 228\u001b[1;33m         with get_handle(\n\u001b[0m\u001b[0;32m    229\u001b[0m             \u001b[0mself\u001b[0m\u001b[1;33m.\u001b[0m\u001b[0mfilepath_or_buffer\u001b[0m\u001b[1;33m,\u001b[0m\u001b[1;33m\u001b[0m\u001b[1;33m\u001b[0m\u001b[0m\n\u001b[0;32m    230\u001b[0m             \u001b[0mself\u001b[0m\u001b[1;33m.\u001b[0m\u001b[0mmode\u001b[0m\u001b[1;33m,\u001b[0m\u001b[1;33m\u001b[0m\u001b[1;33m\u001b[0m\u001b[0m\n",
      "\u001b[1;32mD:\\anaconda3\\lib\\site-packages\\pandas\\io\\common.py\u001b[0m in \u001b[0;36mget_handle\u001b[1;34m(path_or_buf, mode, encoding, compression, memory_map, is_text, errors, storage_options)\u001b[0m\n\u001b[0;32m    640\u001b[0m                 \u001b[0merrors\u001b[0m \u001b[1;33m=\u001b[0m \u001b[1;34m\"replace\"\u001b[0m\u001b[1;33m\u001b[0m\u001b[1;33m\u001b[0m\u001b[0m\n\u001b[0;32m    641\u001b[0m             \u001b[1;31m# Encoding\u001b[0m\u001b[1;33m\u001b[0m\u001b[1;33m\u001b[0m\u001b[1;33m\u001b[0m\u001b[0m\n\u001b[1;32m--> 642\u001b[1;33m             handle = open(\n\u001b[0m\u001b[0;32m    643\u001b[0m                 \u001b[0mhandle\u001b[0m\u001b[1;33m,\u001b[0m\u001b[1;33m\u001b[0m\u001b[1;33m\u001b[0m\u001b[0m\n\u001b[0;32m    644\u001b[0m                 \u001b[0mioargs\u001b[0m\u001b[1;33m.\u001b[0m\u001b[0mmode\u001b[0m\u001b[1;33m,\u001b[0m\u001b[1;33m\u001b[0m\u001b[1;33m\u001b[0m\u001b[0m\n",
      "\u001b[1;31mPermissionError\u001b[0m: [Errno 13] Permission denied: 'complete_data_term2run.csv'"
     ]
    }
   ],
   "source": [
    "data.to_csv('complete_data_term2run.csv', encoding='utf-8')"
   ]
  },
  {
   "cell_type": "code",
   "execution_count": null,
   "id": "12d202cf-252c-4b5b-b3d5-ece50fbfb219",
   "metadata": {},
   "outputs": [],
   "source": [
    "# dataaaaa hereeee"
   ]
  },
  {
   "cell_type": "code",
   "execution_count": null,
   "id": "0f917f06",
   "metadata": {},
   "outputs": [],
   "source": [
    "# split data\n",
    "data = data.drop(columns=['title', 'artist/s'])\n",
    "data2 = data\n",
    "X_data =  data.values[:,:-1]\n",
    "y_data = data.values[:,-1]\n",
    "\n",
    "print(X_data.shape)\n",
    "print(y_data.shape)"
   ]
  },
  {
   "cell_type": "code",
   "execution_count": null,
   "id": "13da3d4a-cdfd-487d-970a-49f598389bb8",
   "metadata": {},
   "outputs": [],
   "source": [
    "# y_data"
   ]
  },
  {
   "cell_type": "markdown",
   "id": "90d4b9dc-5a0d-4ace-98cf-ded123050142",
   "metadata": {},
   "source": [
    "SEM HERE:"
   ]
  },
  {
   "cell_type": "code",
   "execution_count": null,
   "id": "8a1af9c3-91ec-419b-92ef-c2ef658c63ab",
   "metadata": {},
   "outputs": [],
   "source": [
    "# try normalizing non-ordinal variables\n",
    "from sklearn.preprocessing import StandardScaler\n",
    "cols_to_norm = ['danceability', 'loudness', 'speechiness', 'liveness', 'valence', 'tempo', 'duration_ms', 'chart_history', 'mean_trends', 'song_familiarity', \n",
    "                'artist_familiarity', 'bad_good', 'distasteful_tasty', 'dull_exciting', 'tasteless_tasteful', 'unimaginative_creative', 'untalented_talented', \n",
    "                'unpleasant_pleasant', 'forgettable_memorable', 'boring_interesting', 'listen_similar', 'share_friends', 'add_playlist']\n",
    "data[cols_to_norm] = StandardScaler().fit_transform(data[cols_to_norm])\n",
    "# print(data)\n",
    "\n"
   ]
  },
  {
   "cell_type": "code",
   "execution_count": null,
   "id": "7c93ad87-0839-40f2-bc59-e34ffb54ead4",
   "metadata": {},
   "outputs": [],
   "source": [
    "# cols_to_norm = ['danceability', 'loudness', 'speechiness', 'liveness', 'valence', 'tempo', 'duration_ms', 'chart_history', 'mean_trends', 'song_familiarity', \n",
    "#                 'artist_familiarity', 'bad_good', 'distasteful_tasty', 'dull_exciting', 'tasteless_tasteful', 'unimaginative_creative', 'untalented_talented', \n",
    "#                 'unpleasant_pleasant', 'forgettable_memorable', 'boring_interesting', 'listen_similar', 'share_friends', 'add_playlist']\n",
    "\n",
    "# # copy the data\n",
    "# data_min_max_scaled = data.copy()\n",
    "\n",
    "# # apply normalization techniques\n",
    "# for column in cols_to_norm:\n",
    "# \tdata_min_max_scaled[column] = (data_min_max_scaled[column] - data_min_max_scaled[column].min()) / (data_min_max_scaled[column].max() - data_min_max_scaled[column].min())\t\n",
    "\n",
    "# # view normalized data\n",
    "# # print(data_min_max_scaled)"
   ]
  },
  {
   "cell_type": "code",
   "execution_count": null,
   "id": "bf03a583-cf92-49e9-832e-82cad137b362",
   "metadata": {},
   "outputs": [],
   "source": [
    "# cols_to_norm = ['danceability', 'loudness', 'speechiness', 'liveness', 'valence', 'tempo', 'duration_ms', 'chart_history', 'mean_trends', 'song_familiarity', \n",
    "#                 'artist_familiarity', 'bad_good', 'distasteful_tasty', 'dull_exciting', 'tasteless_tasteful', 'unimaginative_creative', 'untalented_talented', \n",
    "#                 'unpleasant_pleasant', 'forgettable_memorable', 'boring_interesting', 'listen_similar', 'share_friends', 'add_playlist']\n",
    "\n",
    "# # copy the data\n",
    "# data_max_scaled = data.copy()\n",
    "  \n",
    "# # apply normalization techniques\n",
    "# for column in cols_to_norm:\n",
    "#     data_max_scaled[column] = data_max_scaled[column]  / data_max_scaled[column].abs().max()"
   ]
  },
  {
   "cell_type": "code",
   "execution_count": null,
   "id": "b047d0da-706b-489f-a557-4f99f9a1dc4d",
   "metadata": {},
   "outputs": [],
   "source": [
    "print(sem.efa.explore_cfa_model(data))"
   ]
  },
  {
   "cell_type": "code",
   "execution_count": null,
   "id": "70437cf6-ae67-4ad8-b6c4-ef52c42d1e77",
   "metadata": {},
   "outputs": [],
   "source": [
    "# # model intrinsic extrinsic crowdsource\n",
    "# mod = \"\"\"\n",
    "# eta3 =~ stream8 + stream9 + stream7 + stream6 + stream_category + stream5 + artist_familiarity\n",
    "# eta4 =~ bad_good + share_friends + unpleasant_pleasant + tasteless_tasteful + distasteful_tasty + boring_interesting + listen_similar + add_playlist + unimaginative_creative + untalented_talented + forgettable_memorable + dull_exciting + song_familiarity\n",
    "# eta5 =~ valence + duration_ms + danceability + loudness\n",
    "# eta6 =~ song_familiarity + forgettable_memorable + artist_familiarity\n",
    "# eta7 =~ boring_interesting + dull_exciting + chart_history + loudness\n",
    "# eta8 =~ stream5 + stream6 + stream3 + stream4 + stream2 + stream1\n",
    "\n",
    "# DEFINE(ordinal) stream1 stream2 stream3 stream4 stream5 stream6 stream7 stream8 stream9 stream_category\n",
    "#       \"\"\""
   ]
  },
  {
   "cell_type": "code",
   "execution_count": null,
   "id": "45bd0baa-7e4b-4f23-852d-391892a8460c",
   "metadata": {},
   "outputs": [],
   "source": [
    "# model intrinsic extrinsic crowdsource\n",
    "mod = \"\"\"\n",
    "chart_success =~ stream1 + stream2 + stream3 + stream4 + stream5 + stream6 + stream6 + stream7 + stream8 + stream9 + stream_category\n",
    "intrinsic =~ danceability + key + loudness + speechiness + liveness + valence + tempo + duration_ms\n",
    "extrinsic =~ music_label + artist_collab + chart_history + mean_trends\n",
    "crowdsource =~ song_familiarity + artist_familiarity + bad_good + distasteful_tasty + dull_exciting + tasteless_tasteful + unimaginative_creative + untalented_talented + unpleasant_pleasant + forgettable_memorable + boring_interesting + listen_similar + share_friends + add_playlist\n",
    "\n",
    "chart_success ~ intrinsic + extrinsic + crowdsource\n",
    "\n",
    "DEFINE(ordinal) key music_label artist_collab stream1 stream2 stream3 stream4 stream5 stream6 stream7 stream8 stream9 stream_category\n",
    "      \"\"\""
   ]
  },
  {
   "cell_type": "code",
   "execution_count": null,
   "id": "82d6a4dd-00f0-448c-9632-22f2fb21709f",
   "metadata": {},
   "outputs": [],
   "source": [
    "model = sem.Model(mod)\n",
    "result = model.fit(data, obj=\"FIML\", solver=\"SLSQP\") #can change obj and solver\n",
    "print(result)"
   ]
  },
  {
   "cell_type": "code",
   "execution_count": null,
   "id": "43fe842d-10ca-4286-b691-ba78c282102c",
   "metadata": {},
   "outputs": [],
   "source": [
    "sem_all_pd = model.inspect()\n",
    "sem_all_pd"
   ]
  },
  {
   "cell_type": "code",
   "execution_count": null,
   "id": "f73d77f4-6cac-4c2a-bef0-ca96526c902c",
   "metadata": {},
   "outputs": [],
   "source": [
    "sem_all_pd.to_csv(r'SEM_intrinsicxextrinsicxcrowdsourced_results.csv')"
   ]
  },
  {
   "cell_type": "code",
   "execution_count": null,
   "id": "bf026df5-d698-489a-9f06-895ee93cf240",
   "metadata": {},
   "outputs": [],
   "source": [
    "stats = sem.calc_stats(model)\n",
    "print(stats.T)"
   ]
  },
  {
   "cell_type": "code",
   "execution_count": null,
   "id": "b3036b85-7777-4c1c-87a4-b0fb749c688d",
   "metadata": {},
   "outputs": [],
   "source": [
    "# g = sem.semplot(model, \"pd1.png\")\n",
    "# g"
   ]
  },
  {
   "cell_type": "code",
   "execution_count": null,
   "id": "8feed244-b303-436b-bd20-59c993080279",
   "metadata": {},
   "outputs": [],
   "source": []
  },
  {
   "cell_type": "code",
   "execution_count": null,
   "id": "b7d24e76-335d-403d-be2e-97f2b30f6d6d",
   "metadata": {},
   "outputs": [],
   "source": [
    "# model intrinsic extrinsic \n",
    "mod2 = \"\"\"\n",
    "chart_success =~ stream1 + stream2 + stream3 + stream4 + stream5 + stream6 + stream6 + stream7 + stream8 + stream9 + stream_category\n",
    "intrinsic =~ danceability + key + loudness + speechiness + liveness + valence + tempo + duration_ms\n",
    "extrinsic =~ music_label + artist_collab + chart_history + mean_trends\n",
    "\n",
    "chart_success ~ intrinsic + extrinsic\n",
    "\n",
    "DEFINE(ordinal) key music_label artist_collab stream1 stream2 stream3 stream4 stream5 stream6 stream7 stream8 stream9 stream_category\n",
    "      \"\"\""
   ]
  },
  {
   "cell_type": "code",
   "execution_count": null,
   "id": "f23f7c1a-29ee-4303-a98d-88705dd6470b",
   "metadata": {},
   "outputs": [],
   "source": [
    "model2 = sem.Model(mod2)\n",
    "result2 = model2.fit(data, obj=\"FIML\", solver=\"SLSQP\") #can change obj and solver\n",
    "print(result2)"
   ]
  },
  {
   "cell_type": "code",
   "execution_count": null,
   "id": "354ef829-b4ad-4996-b07d-841036db6e32",
   "metadata": {},
   "outputs": [],
   "source": [
    "sem_ixe_pd = model2.inspect()\n",
    "sem_ixe_pd"
   ]
  },
  {
   "cell_type": "code",
   "execution_count": null,
   "id": "6d56cf44-dde8-499f-a120-f18abfdf2d83",
   "metadata": {},
   "outputs": [],
   "source": [
    "sem_ixe_pd.to_csv(r'SEM_intrinsicxextrinsic_results.csv')"
   ]
  },
  {
   "cell_type": "code",
   "execution_count": null,
   "id": "7a7da4c8-aee7-4202-8daf-0de235313906",
   "metadata": {},
   "outputs": [],
   "source": [
    "stats2 = sem.calc_stats(model2)\n",
    "print(stats2.T)"
   ]
  },
  {
   "cell_type": "code",
   "execution_count": null,
   "id": "d717fc9e-ef5e-4f3c-93ee-8802b942fc8c",
   "metadata": {},
   "outputs": [],
   "source": [
    "# g2 = sem.semplot(model2, \"pd2.png\")\n",
    "# g2"
   ]
  },
  {
   "cell_type": "code",
   "execution_count": null,
   "id": "3a8e75bf-6f6b-419f-bed1-bbcf2581d602",
   "metadata": {},
   "outputs": [],
   "source": []
  },
  {
   "cell_type": "code",
   "execution_count": null,
   "id": "936053f3-ceb4-49dc-9356-65593d3aff29",
   "metadata": {},
   "outputs": [],
   "source": [
    "# model danceability\n",
    "mod3 = \"\"\"\n",
    "danceability =~ valence + duration_ms + loudness + speechiness + tempo + key + liveness\n",
    "\n",
    "DEFINE(ordinal) key\n",
    "      \"\"\""
   ]
  },
  {
   "cell_type": "code",
   "execution_count": null,
   "id": "e9bdebd6-104f-425c-b065-fe5c86bf8763",
   "metadata": {},
   "outputs": [],
   "source": [
    "model3 = sem.Model(mod3)\n",
    "result3 = model3.fit(data) #can change obj and solver\n",
    "print(result3)"
   ]
  },
  {
   "cell_type": "code",
   "execution_count": null,
   "id": "30f2603a-6686-42ce-b704-8965bcdcacb7",
   "metadata": {},
   "outputs": [],
   "source": [
    "model3.inspect()"
   ]
  },
  {
   "cell_type": "code",
   "execution_count": null,
   "id": "f857e02d-d569-48eb-b540-0e126f724d29",
   "metadata": {},
   "outputs": [],
   "source": [
    "stats3 = sem.calc_stats(model3)\n",
    "print(stats3.T)"
   ]
  },
  {
   "cell_type": "code",
   "execution_count": null,
   "id": "9402e18f-b37c-486b-97f1-704952d1e57b",
   "metadata": {},
   "outputs": [],
   "source": [
    "# g3 = sem.semplot(model3, \"pd3.png\")\n",
    "# g3"
   ]
  },
  {
   "cell_type": "code",
   "execution_count": null,
   "id": "210f946e-b4b3-4ecf-8910-435c2dce13cf",
   "metadata": {},
   "outputs": [],
   "source": []
  },
  {
   "cell_type": "code",
   "execution_count": null,
   "id": "7a16518b-e152-4b61-a7c8-d22c3364900f",
   "metadata": {},
   "outputs": [],
   "source": []
  },
  {
   "cell_type": "code",
   "execution_count": null,
   "id": "f0284514-a174-411b-982c-5256da347ed7",
   "metadata": {},
   "outputs": [],
   "source": [
    "# model valence\n",
    "mod4 = \"\"\"\n",
    "valence =~ danceability + key + loudness + speechiness + liveness + tempo + duration_ms\n",
    "\n",
    "DEFINE(ordinal) key\n",
    "      \"\"\""
   ]
  },
  {
   "cell_type": "code",
   "execution_count": null,
   "id": "92466ecd-fc2e-45c0-8b91-5a4a3b367c01",
   "metadata": {},
   "outputs": [],
   "source": [
    "model4 = sem.Model(mod4)\n",
    "result4 = model4.fit(data) #can change obj and solver\n",
    "print(result4)"
   ]
  },
  {
   "cell_type": "code",
   "execution_count": null,
   "id": "4ed82155-0c2e-4d49-97bd-221a14a9b242",
   "metadata": {},
   "outputs": [],
   "source": [
    "model4.inspect()"
   ]
  },
  {
   "cell_type": "code",
   "execution_count": null,
   "id": "766f736f-9f33-45da-970a-752f231727ff",
   "metadata": {},
   "outputs": [],
   "source": [
    "stats4 = sem.calc_stats(model4)\n",
    "print(stats4.T)"
   ]
  },
  {
   "cell_type": "code",
   "execution_count": null,
   "id": "4a5d1c6b-8918-4526-976c-59dcba47a23b",
   "metadata": {},
   "outputs": [],
   "source": [
    "# g4 = sem.semplot(model4, \"pd4.png\")\n",
    "# g4"
   ]
  },
  {
   "cell_type": "code",
   "execution_count": null,
   "id": "050d79be-c837-4198-9dc1-1d438908ff96",
   "metadata": {},
   "outputs": [],
   "source": []
  },
  {
   "cell_type": "markdown",
   "id": "886b2816-72f3-4d47-ba2e-14d5a07c4346",
   "metadata": {},
   "source": [
    "# try recommended path diagram"
   ]
  },
  {
   "cell_type": "code",
   "execution_count": null,
   "id": "5e80508d-1c55-4798-b9a2-1d5b4bc9cd39",
   "metadata": {},
   "outputs": [],
   "source": []
  },
  {
   "cell_type": "code",
   "execution_count": null,
   "id": "f8017e86-1059-4ba8-b0ed-a718398b42b3",
   "metadata": {},
   "outputs": [],
   "source": []
  },
  {
   "cell_type": "code",
   "execution_count": null,
   "id": "52b1e528-ca11-45f0-9c84-494d39f4ee9b",
   "metadata": {},
   "outputs": [],
   "source": []
  },
  {
   "cell_type": "code",
   "execution_count": null,
   "id": "b9d88c93-b606-4917-8eae-591e4ab783e2",
   "metadata": {},
   "outputs": [],
   "source": []
  },
  {
   "cell_type": "code",
   "execution_count": null,
   "id": "6ba71b68-da59-4898-84c0-cb9026d99c36",
   "metadata": {},
   "outputs": [],
   "source": []
  },
  {
   "cell_type": "code",
   "execution_count": null,
   "id": "7055d70e-fefb-4819-a8cf-b83c66456e8a",
   "metadata": {},
   "outputs": [],
   "source": []
  },
  {
   "cell_type": "code",
   "execution_count": null,
   "id": "416c2acc-0be5-4948-9aa9-7112b894f5dd",
   "metadata": {},
   "outputs": [],
   "source": []
  },
  {
   "cell_type": "code",
   "execution_count": null,
   "id": "d94c3b0c-56ea-4a96-a81d-e7677dad482f",
   "metadata": {},
   "outputs": [],
   "source": []
  },
  {
   "cell_type": "markdown",
   "id": "726b1b8d-ad2d-4132-9444-c61373cf1ff2",
   "metadata": {},
   "source": [
    "SEM STOP HERE"
   ]
  },
  {
   "cell_type": "code",
   "execution_count": null,
   "id": "567be111",
   "metadata": {
    "scrolled": true
   },
   "outputs": [],
   "source": [
    "from sklearn.model_selection import train_test_split\n",
    "X_train, X_test, y_train, y_test = train_test_split(X_data, y_data, random_state=1)\n",
    "\n",
    "print(\"X_train: \", X_train.shape)\n",
    "print(\"y_train: \", y_train.shape)\n",
    "print(\"X_test: \", X_test.shape)\n",
    "print(\"y_test: \", y_test.shape)"
   ]
  },
  {
   "cell_type": "code",
   "execution_count": null,
   "id": "b57444e4",
   "metadata": {},
   "outputs": [],
   "source": [
    "# print(X_train)"
   ]
  },
  {
   "cell_type": "code",
   "execution_count": null,
   "id": "d910cb07-d645-4502-84a9-6d149087e680",
   "metadata": {},
   "outputs": [],
   "source": [
    "# y_train"
   ]
  },
  {
   "cell_type": "code",
   "execution_count": null,
   "id": "2ef1b02c",
   "metadata": {},
   "outputs": [],
   "source": [
    "# normalizing (read that z-scaling is standardscaler)\n",
    "from sklearn.preprocessing import StandardScaler\n",
    "scaler = StandardScaler()\n",
    "X_train = scaler.fit_transform(X_train)\n",
    "X_test = scaler.transform(X_test) #why only transform? saw this sa intsy mp"
   ]
  },
  {
   "cell_type": "code",
   "execution_count": null,
   "id": "e4aef6e9-5e97-4d2d-ba2b-455c3b153e8c",
   "metadata": {},
   "outputs": [],
   "source": [
    "# #convert y values to categorical values\n",
    "# lab = preprocessing.LabelEncoder()\n",
    "# y_transformed = lab.fit_transform(y)"
   ]
  },
  {
   "cell_type": "code",
   "execution_count": null,
   "id": "1fb6d019",
   "metadata": {},
   "outputs": [],
   "source": [
    "def compute_RMSE(predictions, actual):\n",
    "    return np.sqrt(np.square(np.subtract(actual, predictions)).mean())\n",
    "def compute_mae(predictions, actual):\n",
    "    mae = np.absolute(np.subtract(actual, predictions)).mean()\n",
    "    return mae\n",
    "def compute_accuracy(predictions, actual):\n",
    "    # write code here\n",
    "    num_correct = np.sum(predictions == actual)\n",
    "    accuracy = num_correct/len(actual)\n",
    "    return accuracy*100"
   ]
  },
  {
   "cell_type": "code",
   "execution_count": null,
   "id": "6e17e7fd",
   "metadata": {},
   "outputs": [],
   "source": []
  },
  {
   "cell_type": "code",
   "execution_count": null,
   "id": "6de190a5",
   "metadata": {},
   "outputs": [],
   "source": [
    "# OLD DATA TRIAL W/ EXTRINSIC"
   ]
  },
  {
   "cell_type": "code",
   "execution_count": null,
   "id": "af030803",
   "metadata": {},
   "outputs": [],
   "source": [
    "# import numpy as np\n",
    "# import pandas as pd\n",
    "# import matplotlib.pyplot as plt\n",
    "\n",
    "# np.random.seed(1)"
   ]
  },
  {
   "cell_type": "code",
   "execution_count": null,
   "id": "cbaa63bf",
   "metadata": {},
   "outputs": [],
   "source": [
    "# songs = pd.read_csv('Hits2022.csv')\n",
    "# labels = pd.read_csv('labels.csv')\n",
    "# history = pd.read_csv('history.csv')\n",
    "# week1 = pd.read_csv('week1.csv')\n",
    "# week2 = pd.read_csv('week2.csv')\n",
    "# week3 = pd.read_csv('week3.csv')\n",
    "# week4 = pd.read_csv('week4.csv')\n",
    "# week5 = pd.read_csv('week5.csv')\n",
    "# week6 = pd.read_csv('week6.csv')\n",
    "# week7 = pd.read_csv('week7.csv')\n",
    "# week8 = pd.read_csv('week8.csv')\n",
    "# week9 = pd.read_csv('week9.csv')\n",
    "# week10 = pd.read_csv('week10.csv')"
   ]
  },
  {
   "cell_type": "code",
   "execution_count": null,
   "id": "b7e446b3",
   "metadata": {},
   "outputs": [],
   "source": [
    "# # get only first 50 songs\n",
    "# data = songs.head(50)\n",
    "# print(data)"
   ]
  },
  {
   "cell_type": "code",
   "execution_count": null,
   "id": "1bcdabde",
   "metadata": {},
   "outputs": [],
   "source": [
    "# # merge and clean-ish\n",
    "\n",
    "# data = pd.merge(data, labels[['title', 'label_category']], how='left', on=['title'])\n",
    "# data = data.drop(data.columns[[0]], axis = 1) #unnamed column\n",
    "\n",
    "# history.rename(columns={\"history\": \"history1\"}, inplace=True) #rename to avoid suffix\n",
    "# data = pd.merge(data, history, how='left', left_on=['artist1'], right_on=['artist'])\n",
    "# data.drop(columns=['artist'], inplace=True)\n",
    "\n",
    "# history.rename(columns={\"history1\": \"history2\"}, inplace=True)\n",
    "# data = pd.merge(data, history, how='left', left_on=['artist2'], right_on=['artist'])\n",
    "# data.drop(columns=['artist'], inplace=True)\n",
    "\n",
    "# history.rename(columns={\"history2\": \"history3\"}, inplace=True)\n",
    "# data = pd.merge(data, history, how='left', left_on=['artist3'], right_on=['artist'])\n",
    "# data.drop(columns=['artist'], inplace=True)\n",
    "\n",
    "# data.loc[data.label_category == 'major', 'label_category'] = 10 #check if better 1 and 10 or other values (make sure to understand semopy)\n",
    "# data.loc[data.label_category == 'indie', 'label_category'] = 5\n",
    "# data.loc[data.label_category == 'major-indie', 'label_category'] = 1\n",
    "\n",
    "# data.loc[data.history1 == 'mainstream', 'history1'] = 10\n",
    "# data.loc[data.history1 == 'newcomer', 'history1'] = 5\n",
    "# data['history1'] = data['history1'].fillna(1)\n",
    "\n",
    "# data.loc[data.history2 == 'mainstream', 'history2'] = 10\n",
    "# data.loc[data.history2 == 'newcomer', 'history2'] = 5\n",
    "# data['history2'] = data['history2'].fillna(1)\n",
    "\n",
    "# data.loc[data.history3 == 'mainstream', 'history3'] = 10\n",
    "# data.loc[data.history3 == 'newcomer', 'history3'] = 5\n",
    "# data['history3'] = data['history3'].fillna(1)\n",
    "\n",
    "# print(data)"
   ]
  },
  {
   "cell_type": "code",
   "execution_count": null,
   "id": "8f0a7b84",
   "metadata": {},
   "outputs": [],
   "source": [
    "# week1.rename(columns={\"stream_category\": \"stream1\"}, inplace=True)\n",
    "# week2.rename(columns={\"stream_category\": \"stream2\"}, inplace=True)\n",
    "# week3.rename(columns={\"stream_category\": \"stream3\"}, inplace=True)\n",
    "# week4.rename(columns={\"stream_category\": \"stream4\"}, inplace=True)\n",
    "# week5.rename(columns={\"stream_category\": \"stream5\"}, inplace=True)\n",
    "# week6.rename(columns={\"stream_category\": \"stream6\"}, inplace=True)\n",
    "# week7.rename(columns={\"stream_category\": \"stream7\"}, inplace=True)\n",
    "# week8.rename(columns={\"stream_category\": \"stream8\"}, inplace=True)\n",
    "# week9.rename(columns={\"stream_category\": \"stream9\"}, inplace=True)\n",
    "# week10.rename(columns={\"stream_category\": \"stream10\"}, inplace=True)\n",
    "\n",
    "# data = pd.merge(data, week1[['title', 'stream1']], how='left', on=['title'])\n",
    "# data = pd.merge(data, week2[['title', 'stream2']], how='left', on=['title'])\n",
    "# data = pd.merge(data, week3[['title', 'stream3']], how='left', on=['title'])\n",
    "# data = pd.merge(data, week4[['title', 'stream4']], how='left', on=['title'])\n",
    "# data = pd.merge(data, week5[['title', 'stream5']], how='left', on=['title'])\n",
    "# data = pd.merge(data, week6[['title', 'stream6']], how='left', on=['title'])\n",
    "# data = pd.merge(data, week7[['title', 'stream7']], how='left', on=['title'])\n",
    "# data = pd.merge(data, week8[['title', 'stream8']], how='left', on=['title'])\n",
    "# data = pd.merge(data, week9[['title', 'stream9']], how='left', on=['title'])\n",
    "# data = pd.merge(data, week10[['title', 'stream10']], how='left', on=['title'])\n",
    "\n",
    "# print(data)"
   ]
  },
  {
   "cell_type": "code",
   "execution_count": null,
   "id": "87d522e6",
   "metadata": {},
   "outputs": [],
   "source": [
    "# data = data.drop(columns=['artist1', 'artist2', 'artist3', 'popularity']) # 'title', 'artist/s', \n",
    "# data = data.drop(columns=['mode', 'time_signature'])\n",
    "# print(data)"
   ]
  },
  {
   "cell_type": "code",
   "execution_count": null,
   "id": "0bd58820",
   "metadata": {},
   "outputs": [],
   "source": [
    "# print(data.dtypes)"
   ]
  },
  {
   "cell_type": "code",
   "execution_count": null,
   "id": "93c22a4b",
   "metadata": {},
   "outputs": [],
   "source": [
    "# # make label_category int (should be no issue because no null)\n",
    "# data = data.astype({'label_category':'int'})\n",
    "# # make key and duration float bc not ordinal\n",
    "# data = data.astype({'key':'float'})\n",
    "# data = data.astype({'duration_ms':'float'})"
   ]
  },
  {
   "cell_type": "code",
   "execution_count": null,
   "id": "beada93f",
   "metadata": {},
   "outputs": [],
   "source": [
    "# print(data.dtypes)"
   ]
  },
  {
   "cell_type": "code",
   "execution_count": null,
   "id": "5a26ee42",
   "metadata": {},
   "outputs": [],
   "source": [
    "# # split data\n",
    "# data = data.drop(columns=['title', 'artist/s'])\n",
    "# X_data =  data.values[:,:-1]\n",
    "# y_data = data.values[:,-1]\n",
    "\n",
    "# print(X_data.shape)\n",
    "# print(y_data.shape)"
   ]
  },
  {
   "cell_type": "code",
   "execution_count": null,
   "id": "105a4239",
   "metadata": {},
   "outputs": [],
   "source": [
    "# from sklearn.model_selection import train_test_split\n",
    "# X_train, X_test, y_train, y_test = train_test_split(X_data, y_data, random_state=1)\n",
    "\n",
    "# print(\"X_train: \", X_train.shape)\n",
    "# print(\"y_train: \", y_train.shape)\n",
    "# print(\"X_test: \", X_test.shape)\n",
    "# print(\"y_test: \", y_test.shape)"
   ]
  },
  {
   "cell_type": "code",
   "execution_count": null,
   "id": "d6990ae7",
   "metadata": {},
   "outputs": [],
   "source": [
    "# # normalizing (read that z-scaling is standardscaler)\n",
    "# from sklearn.preprocessing import StandardScaler\n",
    "# scaler = StandardScaler()\n",
    "# X_train = scaler.fit_transform(X_train)\n",
    "# X_test = scaler.transform(X_test) #why only transform? saw this sa intsy mp"
   ]
  },
  {
   "cell_type": "code",
   "execution_count": null,
   "id": "05e3701d",
   "metadata": {},
   "outputs": [],
   "source": [
    "# def compute_RMSE(predictions, actual):\n",
    "#     return np.sqrt(np.square(np.subtract(actual, predictions)).mean())\n",
    "# def compute_mae(predictions, actual):\n",
    "#     mae = np.absolute(np.subtract(actual, predictions)).mean()\n",
    "#     return mae"
   ]
  },
  {
   "cell_type": "code",
   "execution_count": null,
   "id": "f26f260a-7385-40e7-b037-d3c7f8ab6cd8",
   "metadata": {},
   "outputs": [],
   "source": [
    "# X_train"
   ]
  },
  {
   "cell_type": "code",
   "execution_count": null,
   "id": "ce7ca0eb-a392-4550-b2eb-2966604f6e7a",
   "metadata": {},
   "outputs": [],
   "source": [
    "# y_train"
   ]
  },
  {
   "cell_type": "code",
   "execution_count": null,
   "id": "02a2018e",
   "metadata": {},
   "outputs": [],
   "source": []
  },
  {
   "cell_type": "code",
   "execution_count": null,
   "id": "1aa11397",
   "metadata": {},
   "outputs": [],
   "source": [
    "# RANDOM FOREST"
   ]
  },
  {
   "cell_type": "code",
   "execution_count": null,
   "id": "b23ffecf",
   "metadata": {},
   "outputs": [],
   "source": [
    "from sklearn.ensemble import RandomForestClassifier"
   ]
  },
  {
   "cell_type": "code",
   "execution_count": null,
   "id": "8e0833d0",
   "metadata": {},
   "outputs": [],
   "source": [
    "#  RandomForestClassifier?"
   ]
  },
  {
   "cell_type": "code",
   "execution_count": null,
   "id": "97f6ce37",
   "metadata": {},
   "outputs": [],
   "source": [
    "rfc = RandomForestClassifier()\n",
    "rfc.get_params()"
   ]
  },
  {
   "cell_type": "code",
   "execution_count": null,
   "id": "f5ae347e",
   "metadata": {},
   "outputs": [],
   "source": [
    "hyperparameters = [\n",
    "        {\n",
    "        'n_estimators' : [50, 100, 200, 400, 600, 800, 1000, 1200, 1600, 1800],\n",
    "        'max_depth' : [10, 30, 50, 100, 150, 200, 250, 300, 350, None],\n",
    "        'min_samples_split' : [2, 4, 6, 10, 15, 20],\n",
    "        'max_leaf_nodes' : [100, 300, 500, 700, 900, 1100, 1300, None]\n",
    "    }\n",
    "]"
   ]
  },
  {
   "cell_type": "code",
   "execution_count": null,
   "id": "09e42307",
   "metadata": {},
   "outputs": [],
   "source": [
    "from sklearn.model_selection import RandomizedSearchCV\n",
    "rsrfc = RandomizedSearchCV(rfc, hyperparameters, random_state=42)\n",
    "rsrfc.fit(X_train, y_train)"
   ]
  },
  {
   "cell_type": "code",
   "execution_count": null,
   "id": "232a0f05",
   "metadata": {
    "scrolled": true
   },
   "outputs": [],
   "source": [
    "best_params_rfc = rsrfc.best_params_\n",
    "best_params_rfc"
   ]
  },
  {
   "cell_type": "code",
   "execution_count": null,
   "id": "4c6b7720",
   "metadata": {},
   "outputs": [],
   "source": [
    "best_model_rfc = rsrfc.best_estimator_\n",
    "\n",
    "predictions_train_rfc = best_model_rfc.predict(X_train)\n",
    "\n",
    "train_rmse_rfc = compute_RMSE(predictions_train_rfc, y_train)\n",
    "print('Training RMSE: {}'.format(train_rmse_rfc))\n",
    "\n",
    "train_mae_rfc = compute_mae(predictions_train_rfc, y_train)\n",
    "print('Training MAE: {}'.format(train_mae_rfc))\n",
    "\n",
    "train_acc = compute_accuracy(predictions_train_rfc, y_train)\n",
    "print('Training Accuracy: {}'.format(train_acc))\n",
    "\n",
    "predictions_test_rfc = best_model_rfc.predict(X_test)\n",
    "\n",
    "test_rmse_rfc = compute_RMSE(predictions_test_rfc, y_test)\n",
    "print('Test RMSE: {}'.format(test_rmse_rfc))\n",
    "\n",
    "test_mae_rfc = compute_mae(predictions_test_rfc, y_test)\n",
    "print('Test MAE: {}'.format(test_mae_rfc))\n",
    "\n",
    "test_acc = compute_accuracy(predictions_test_rfc, y_test)\n",
    "print('Test Accuracy: {}'.format(test_acc))"
   ]
  },
  {
   "cell_type": "code",
   "execution_count": null,
   "id": "81fe9529",
   "metadata": {},
   "outputs": [],
   "source": []
  },
  {
   "cell_type": "code",
   "execution_count": null,
   "id": "c850d248",
   "metadata": {},
   "outputs": [],
   "source": []
  },
  {
   "cell_type": "code",
   "execution_count": null,
   "id": "82ed75c0-76df-4b89-8702-cc08f6ac201e",
   "metadata": {},
   "outputs": [],
   "source": []
  },
  {
   "cell_type": "code",
   "execution_count": null,
   "id": "2751cdd9-2030-4dc7-a0a0-33d8e2f75f82",
   "metadata": {},
   "outputs": [],
   "source": []
  },
  {
   "cell_type": "code",
   "execution_count": null,
   "id": "2c4ae6b6-e4d8-4c0a-a4b3-6d0ca1e0f71f",
   "metadata": {},
   "outputs": [],
   "source": []
  },
  {
   "cell_type": "code",
   "execution_count": null,
   "id": "9b86ec61-d246-4fb6-a3fb-bd44bfbe42f2",
   "metadata": {},
   "outputs": [],
   "source": []
  },
  {
   "cell_type": "code",
   "execution_count": null,
   "id": "7a62c566-c72d-446a-bee1-2ab27235c7b3",
   "metadata": {},
   "outputs": [],
   "source": []
  },
  {
   "cell_type": "code",
   "execution_count": null,
   "id": "be94dd22-6abe-480c-852a-5d7b7931ba64",
   "metadata": {},
   "outputs": [],
   "source": []
  },
  {
   "cell_type": "code",
   "execution_count": null,
   "id": "b986bf2d",
   "metadata": {},
   "outputs": [],
   "source": []
  },
  {
   "cell_type": "code",
   "execution_count": null,
   "id": "7152eccb",
   "metadata": {},
   "outputs": [],
   "source": [
    "# SVM"
   ]
  },
  {
   "cell_type": "code",
   "execution_count": null,
   "id": "347c139a",
   "metadata": {},
   "outputs": [],
   "source": [
    "from sklearn.svm import SVC"
   ]
  },
  {
   "cell_type": "code",
   "execution_count": null,
   "id": "5d44be8d",
   "metadata": {},
   "outputs": [],
   "source": [
    "SVC?"
   ]
  },
  {
   "cell_type": "code",
   "execution_count": null,
   "id": "15d0eed3",
   "metadata": {},
   "outputs": [],
   "source": [
    "svm = SVC()\n",
    "svm.get_params()"
   ]
  },
  {
   "cell_type": "code",
   "execution_count": null,
   "id": "3e0cfb02",
   "metadata": {},
   "outputs": [],
   "source": [
    "hyperparameters = [\n",
    "        {\n",
    "        'C' : [0.1, 1, 100, 1000],\n",
    "        'kernel' : ['rbf', 'poly', 'sigmoid', 'linear'],\n",
    "        'degree' : [1, 2, 3, 4, 5, 6]\n",
    "    }\n",
    "]"
   ]
  },
  {
   "cell_type": "code",
   "execution_count": null,
   "id": "d51ca322",
   "metadata": {},
   "outputs": [],
   "source": [
    "# from sklearn.model_selection import RandomizedSearchCV\n",
    "rssvm = RandomizedSearchCV(svm, hyperparameters, random_state=42)\n",
    "rssvm.fit(X_train, y_train)"
   ]
  },
  {
   "cell_type": "code",
   "execution_count": null,
   "id": "21afa23f",
   "metadata": {},
   "outputs": [],
   "source": [
    "best_params_svm = rssvm.best_params_\n",
    "best_params_svm"
   ]
  },
  {
   "cell_type": "code",
   "execution_count": null,
   "id": "aea77571",
   "metadata": {},
   "outputs": [],
   "source": [
    "best_model_svm = rssvm.best_estimator_\n",
    "\n",
    "predictions_train_svm = best_model_svm.predict(X_train)\n",
    "\n",
    "train_rmse_svm = compute_RMSE(predictions_train_svm, y_train)\n",
    "print('Training RMSE: {}'.format(train_rmse_svm))\n",
    "\n",
    "train_mae_svm = compute_mae(predictions_train_svm, y_train)\n",
    "print('Training MAE: {}'.format(train_mae_svm))\n",
    "\n",
    "train_acc = compute_accuracy(predictions_train_svm, y_train)\n",
    "print('Training Accuracy: {}'.format(train_acc))\n",
    "\n",
    "predictions_test_svm = best_model_svm.predict(X_test)\n",
    "\n",
    "test_rmse_svm = compute_RMSE(predictions_test_svm, y_test)\n",
    "print('Test RMSE: {}'.format(test_rmse_svm))\n",
    "\n",
    "test_mae_svm = compute_mae(predictions_test_svm, y_test)\n",
    "print('Test MAE: {}'.format(test_mae_svm))\n",
    "\n",
    "test_acc = compute_accuracy(predictions_test_svm, y_test)\n",
    "print('Test Accuracy: {}'.format(test_acc))"
   ]
  },
  {
   "cell_type": "code",
   "execution_count": null,
   "id": "e35b1092",
   "metadata": {},
   "outputs": [],
   "source": []
  },
  {
   "cell_type": "code",
   "execution_count": null,
   "id": "74e455fd",
   "metadata": {},
   "outputs": [],
   "source": []
  },
  {
   "cell_type": "code",
   "execution_count": null,
   "id": "0b8d075d",
   "metadata": {},
   "outputs": [],
   "source": []
  },
  {
   "cell_type": "code",
   "execution_count": null,
   "id": "ac649a47",
   "metadata": {},
   "outputs": [],
   "source": []
  },
  {
   "cell_type": "code",
   "execution_count": null,
   "id": "1ccf36f3",
   "metadata": {},
   "outputs": [],
   "source": []
  },
  {
   "cell_type": "code",
   "execution_count": null,
   "id": "dda5299e",
   "metadata": {},
   "outputs": [],
   "source": []
  },
  {
   "cell_type": "code",
   "execution_count": null,
   "id": "07009907",
   "metadata": {},
   "outputs": [],
   "source": [
    "# BINARY TREES"
   ]
  },
  {
   "cell_type": "code",
   "execution_count": null,
   "id": "65e44f87",
   "metadata": {},
   "outputs": [],
   "source": [
    "from sklearn.tree import DecisionTreeClassifier"
   ]
  },
  {
   "cell_type": "code",
   "execution_count": null,
   "id": "83ea26d3",
   "metadata": {},
   "outputs": [],
   "source": [
    "DecisionTreeClassifier?"
   ]
  },
  {
   "cell_type": "code",
   "execution_count": null,
   "id": "9405e7a3",
   "metadata": {},
   "outputs": [],
   "source": [
    "dt = DecisionTreeClassifier()\n",
    "dt.get_params()"
   ]
  },
  {
   "cell_type": "code",
   "execution_count": null,
   "id": "c54576ac",
   "metadata": {},
   "outputs": [],
   "source": [
    "hyperparameters = [\n",
    "    {\n",
    "        'min_impurity_decrease': [0.001, 0.01, 0.05, 0.1, 0.3, 0.5],\n",
    "        'max_depth': [5, 10, 20, 30],\n",
    "        'min_samples_split': [2, 4, 6, 10, 15, 20],\n",
    "        'max_leaf_nodes': [3, 5, 10, 20, 50, 100]\n",
    "    }\n",
    "]"
   ]
  },
  {
   "cell_type": "code",
   "execution_count": null,
   "id": "740466dc",
   "metadata": {},
   "outputs": [],
   "source": [
    "from sklearn.model_selection import RandomizedSearchCV\n",
    "rsdt = RandomizedSearchCV(dt, hyperparameters, cv=5, random_state=42, n_iter=50)\n",
    "rsdt.fit(X_train, y_train)"
   ]
  },
  {
   "cell_type": "code",
   "execution_count": null,
   "id": "99055009",
   "metadata": {},
   "outputs": [],
   "source": [
    "best_params_dt = rsdt.best_params_\n",
    "best_params_dt"
   ]
  },
  {
   "cell_type": "code",
   "execution_count": null,
   "id": "8d08eb00",
   "metadata": {},
   "outputs": [],
   "source": [
    "best_model_dt = rsdt.best_estimator_\n",
    "\n",
    "predictions_train_dt = best_model_dt.predict(X_train)\n",
    "\n",
    "train_rmse_dt = compute_RMSE(predictions_train_dt, y_train)\n",
    "print('Training RMSE: {}'.format(train_rmse_dt))\n",
    "\n",
    "train_mae_dt = compute_mae(predictions_train_dt, y_train)\n",
    "print('Training MAE: {}'.format(train_mae_dt))\n",
    "\n",
    "train_acc_dt = compute_accuracy(predictions_train_dt, y_train)\n",
    "print('Training Accuracy: {}'.format(train_acc_dt))\n",
    "\n",
    "predictions_test_dt = best_model_dt.predict(X_test)\n",
    "\n",
    "test_rmse_dt = compute_RMSE(predictions_test_dt, y_test)\n",
    "print('Test RMSE: {}'.format(test_rmse_dt))\n",
    "\n",
    "test_mae_dt = compute_mae(predictions_test_dt, y_test)\n",
    "print('Test MAE: {}'.format(test_mae_dt))\n",
    "\n",
    "test_acc_dt = compute_accuracy(predictions_test_dt, y_test)\n",
    "print('Test Accuracy: {}'.format(test_acc_dt))"
   ]
  },
  {
   "cell_type": "code",
   "execution_count": null,
   "id": "f31af56f",
   "metadata": {},
   "outputs": [],
   "source": []
  },
  {
   "cell_type": "code",
   "execution_count": null,
   "id": "2275e1bd",
   "metadata": {},
   "outputs": [],
   "source": []
  },
  {
   "cell_type": "code",
   "execution_count": null,
   "id": "09cdcf66-eefb-416d-8b85-1df4cc29fa85",
   "metadata": {},
   "outputs": [],
   "source": []
  },
  {
   "cell_type": "code",
   "execution_count": null,
   "id": "ebf05944-f6b0-41fd-bf6c-2803d02ef083",
   "metadata": {},
   "outputs": [],
   "source": []
  },
  {
   "cell_type": "code",
   "execution_count": null,
   "id": "53e89092-db04-4ace-addd-3402a953ea03",
   "metadata": {},
   "outputs": [],
   "source": []
  },
  {
   "cell_type": "code",
   "execution_count": null,
   "id": "2e0f9580-592d-4d54-b670-2a2b1c28c1ea",
   "metadata": {},
   "outputs": [],
   "source": []
  },
  {
   "cell_type": "code",
   "execution_count": null,
   "id": "58b7c1c7-f7d7-408f-9d9d-d1709ff40a2b",
   "metadata": {},
   "outputs": [],
   "source": []
  },
  {
   "cell_type": "code",
   "execution_count": null,
   "id": "1d5c29e4-b0dd-4c54-9f66-9ac093d6070b",
   "metadata": {},
   "outputs": [],
   "source": []
  },
  {
   "cell_type": "code",
   "execution_count": null,
   "id": "874cbb87-392a-42ab-babb-2d76033e1c23",
   "metadata": {},
   "outputs": [],
   "source": []
  },
  {
   "cell_type": "code",
   "execution_count": null,
   "id": "f3194318-393f-4c2c-b08b-63cbfb19e0c9",
   "metadata": {},
   "outputs": [],
   "source": []
  },
  {
   "cell_type": "code",
   "execution_count": null,
   "id": "ece5c2f8-e84a-4f81-8d0f-04cd4d930a0e",
   "metadata": {},
   "outputs": [],
   "source": []
  },
  {
   "cell_type": "code",
   "execution_count": null,
   "id": "63578c9a-95ef-4ecb-9990-68b11bb473f1",
   "metadata": {},
   "outputs": [],
   "source": []
  },
  {
   "cell_type": "code",
   "execution_count": null,
   "id": "64e98366-361c-45e1-b928-b2cee7050092",
   "metadata": {},
   "outputs": [],
   "source": []
  },
  {
   "cell_type": "code",
   "execution_count": null,
   "id": "93c62012-6656-478c-8be8-0e46b90e0419",
   "metadata": {},
   "outputs": [],
   "source": []
  },
  {
   "cell_type": "code",
   "execution_count": null,
   "id": "52409270-cbd4-4ab5-887c-1b32d84a8176",
   "metadata": {},
   "outputs": [],
   "source": []
  },
  {
   "cell_type": "code",
   "execution_count": null,
   "id": "dfaa3482-22bf-4eda-b426-358f2c5c0d55",
   "metadata": {},
   "outputs": [],
   "source": []
  },
  {
   "cell_type": "code",
   "execution_count": null,
   "id": "c89be770-c386-4575-9cb0-ffda222c1170",
   "metadata": {},
   "outputs": [],
   "source": []
  },
  {
   "cell_type": "code",
   "execution_count": null,
   "id": "d2121b20-9ec6-4a23-89ef-17ff0d43ac5c",
   "metadata": {},
   "outputs": [],
   "source": []
  },
  {
   "cell_type": "code",
   "execution_count": null,
   "id": "d2f6b7e4-ec07-401c-afd5-e333a807273f",
   "metadata": {},
   "outputs": [],
   "source": []
  },
  {
   "cell_type": "code",
   "execution_count": null,
   "id": "ecc0e0e4-22ac-4916-b615-bbfe23489154",
   "metadata": {},
   "outputs": [],
   "source": []
  },
  {
   "cell_type": "code",
   "execution_count": null,
   "id": "99a8ee7f-d959-41e1-80d6-cdc5e238c8e3",
   "metadata": {},
   "outputs": [],
   "source": []
  },
  {
   "cell_type": "markdown",
   "id": "ca31281f-6153-4fd7-a8af-8966dd8e4d2d",
   "metadata": {},
   "source": [
    "INTRINSIC AND EXTRINSIC ONLY 3 MODELS"
   ]
  },
  {
   "cell_type": "code",
   "execution_count": null,
   "id": "33df15f5",
   "metadata": {},
   "outputs": [],
   "source": [
    "# split data\n",
    "data = data2\n",
    "data = data.drop(columns=['song_familiarity', 'artist_familiarity', 'bad_good', 'distasteful_tasty', 'dull_exciting', 'tasteless_tasteful', 'unimaginative_creative', 'untalented_talented', 'unpleasant_pleasant', 'forgettable_memorable', 'boring_interesting', 'listen_similar', 'share_friends', 'add_playlist'])\n",
    "X_data =  data.values[:,:-1]\n",
    "y_data = data.values[:,-1]\n",
    "\n",
    "print(X_data.shape)\n",
    "print(y_data.shape)\n",
    "\n",
    "# # try normalizing non-ordinal variables\n",
    "# from sklearn.preprocessing import StandardScaler\n",
    "# cols_to_norm = ['danceability', 'loudness', 'speechiness', 'liveness', 'valence', 'tempo', 'duration_ms', 'chart_history', 'mean_trends', 'song_familiarity', 'artist_familiarity', 'bad_good', 'distasteful_tasty', \n",
    "#                 'dull_exciting', 'tasteless_tasteful', 'unimaginative_creative', 'untalented_talented', 'unpleasant_pleasant', 'forgettable_memorable', 'boring_interesting', 'listen_similar', 'share_friends', 'add_playlist']\n",
    "# data[cols_to_norm] = StandardScaler().fit_transform(data[cols_to_norm])\n",
    "# # print(data)"
   ]
  },
  {
   "cell_type": "code",
   "execution_count": null,
   "id": "952d23a5",
   "metadata": {
    "tags": []
   },
   "outputs": [],
   "source": []
  },
  {
   "cell_type": "code",
   "execution_count": null,
   "id": "fdef1cb1-628f-43a9-81e2-935619c63380",
   "metadata": {
    "scrolled": true
   },
   "outputs": [],
   "source": [
    "from sklearn.model_selection import train_test_split\n",
    "X_train, X_test, y_train, y_test = train_test_split(X_data, y_data, random_state=1)\n",
    "\n",
    "print(\"X_train: \", X_train.shape)\n",
    "print(\"y_train: \", y_train.shape)\n",
    "print(\"X_test: \", X_test.shape)\n",
    "print(\"y_test: \", y_test.shape)"
   ]
  },
  {
   "cell_type": "code",
   "execution_count": null,
   "id": "d334f7d8-6768-4b26-ab6b-1681de432795",
   "metadata": {},
   "outputs": [],
   "source": [
    "# print(X_train)"
   ]
  },
  {
   "cell_type": "code",
   "execution_count": null,
   "id": "43f6ebfe-54dc-409c-9502-a1e769c2b2da",
   "metadata": {},
   "outputs": [],
   "source": [
    "# y_train"
   ]
  },
  {
   "cell_type": "code",
   "execution_count": null,
   "id": "90beef50-6036-4649-b5ef-be6a65801404",
   "metadata": {},
   "outputs": [],
   "source": [
    "# normalizing (read that z-scaling is standardscaler)\n",
    "from sklearn.preprocessing import StandardScaler\n",
    "scaler = StandardScaler()\n",
    "X_train = scaler.fit_transform(X_train)\n",
    "X_test = scaler.transform(X_test) #why only transform? saw this sa intsy mp"
   ]
  },
  {
   "cell_type": "code",
   "execution_count": null,
   "id": "e5a65819-2230-4481-ba46-145cb1e67ac1",
   "metadata": {},
   "outputs": [],
   "source": [
    "# #convert y values to categorical values\n",
    "# lab = preprocessing.LabelEncoder()\n",
    "# y_transformed = lab.fit_transform(y)"
   ]
  },
  {
   "cell_type": "code",
   "execution_count": null,
   "id": "f554aa86-4572-45e1-979f-93beeea24761",
   "metadata": {},
   "outputs": [],
   "source": [
    "def compute_RMSE(predictions, actual):\n",
    "    return np.sqrt(np.square(np.subtract(actual, predictions)).mean())\n",
    "def compute_mae(predictions, actual):\n",
    "    mae = np.absolute(np.subtract(actual, predictions)).mean()\n",
    "    return mae\n",
    "def compute_accuracy(predictions, actual):\n",
    "    # write code here\n",
    "    num_correct = np.sum(predictions == actual)\n",
    "    accuracy = num_correct/len(actual)\n",
    "    return accuracy*100"
   ]
  },
  {
   "cell_type": "code",
   "execution_count": null,
   "id": "a5a9746b-030e-40f6-a8cc-dd1170b244ec",
   "metadata": {},
   "outputs": [],
   "source": []
  },
  {
   "cell_type": "code",
   "execution_count": null,
   "id": "1a5940de-c05a-4ed4-96aa-013515b968dd",
   "metadata": {},
   "outputs": [],
   "source": [
    "# OLD DATA TRIAL W/ EXTRINSIC"
   ]
  },
  {
   "cell_type": "code",
   "execution_count": null,
   "id": "a3da0077-7844-4f97-a0da-ac0722a15ac7",
   "metadata": {},
   "outputs": [],
   "source": [
    "# import numpy as np\n",
    "# import pandas as pd\n",
    "# import matplotlib.pyplot as plt\n",
    "\n",
    "# np.random.seed(1)"
   ]
  },
  {
   "cell_type": "code",
   "execution_count": null,
   "id": "1169363c-11c9-4199-b993-2483a5cb8548",
   "metadata": {},
   "outputs": [],
   "source": [
    "# songs = pd.read_csv('Hits2022.csv')\n",
    "# labels = pd.read_csv('labels.csv')\n",
    "# history = pd.read_csv('history.csv')\n",
    "# week1 = pd.read_csv('week1.csv')\n",
    "# week2 = pd.read_csv('week2.csv')\n",
    "# week3 = pd.read_csv('week3.csv')\n",
    "# week4 = pd.read_csv('week4.csv')\n",
    "# week5 = pd.read_csv('week5.csv')\n",
    "# week6 = pd.read_csv('week6.csv')\n",
    "# week7 = pd.read_csv('week7.csv')\n",
    "# week8 = pd.read_csv('week8.csv')\n",
    "# week9 = pd.read_csv('week9.csv')\n",
    "# week10 = pd.read_csv('week10.csv')"
   ]
  },
  {
   "cell_type": "code",
   "execution_count": null,
   "id": "a7d22b33-fd08-4a7f-bb45-c50f2e2acf1f",
   "metadata": {},
   "outputs": [],
   "source": [
    "# # get only first 50 songs\n",
    "# data = songs.head(50)\n",
    "# print(data)"
   ]
  },
  {
   "cell_type": "code",
   "execution_count": null,
   "id": "1b8cc6b9-3102-4ee7-b741-b85aa811705d",
   "metadata": {},
   "outputs": [],
   "source": [
    "# # merge and clean-ish\n",
    "\n",
    "# data = pd.merge(data, labels[['title', 'label_category']], how='left', on=['title'])\n",
    "# data = data.drop(data.columns[[0]], axis = 1) #unnamed column\n",
    "\n",
    "# history.rename(columns={\"history\": \"history1\"}, inplace=True) #rename to avoid suffix\n",
    "# data = pd.merge(data, history, how='left', left_on=['artist1'], right_on=['artist'])\n",
    "# data.drop(columns=['artist'], inplace=True)\n",
    "\n",
    "# history.rename(columns={\"history1\": \"history2\"}, inplace=True)\n",
    "# data = pd.merge(data, history, how='left', left_on=['artist2'], right_on=['artist'])\n",
    "# data.drop(columns=['artist'], inplace=True)\n",
    "\n",
    "# history.rename(columns={\"history2\": \"history3\"}, inplace=True)\n",
    "# data = pd.merge(data, history, how='left', left_on=['artist3'], right_on=['artist'])\n",
    "# data.drop(columns=['artist'], inplace=True)\n",
    "\n",
    "# data.loc[data.label_category == 'major', 'label_category'] = 10 #check if better 1 and 10 or other values (make sure to understand semopy)\n",
    "# data.loc[data.label_category == 'indie', 'label_category'] = 5\n",
    "# data.loc[data.label_category == 'major-indie', 'label_category'] = 1\n",
    "\n",
    "# data.loc[data.history1 == 'mainstream', 'history1'] = 10\n",
    "# data.loc[data.history1 == 'newcomer', 'history1'] = 5\n",
    "# data['history1'] = data['history1'].fillna(1)\n",
    "\n",
    "# data.loc[data.history2 == 'mainstream', 'history2'] = 10\n",
    "# data.loc[data.history2 == 'newcomer', 'history2'] = 5\n",
    "# data['history2'] = data['history2'].fillna(1)\n",
    "\n",
    "# data.loc[data.history3 == 'mainstream', 'history3'] = 10\n",
    "# data.loc[data.history3 == 'newcomer', 'history3'] = 5\n",
    "# data['history3'] = data['history3'].fillna(1)\n",
    "\n",
    "# print(data)"
   ]
  },
  {
   "cell_type": "code",
   "execution_count": null,
   "id": "853566e5-31f9-415c-a449-6836aac5abbc",
   "metadata": {},
   "outputs": [],
   "source": [
    "# week1.rename(columns={\"stream_category\": \"stream1\"}, inplace=True)\n",
    "# week2.rename(columns={\"stream_category\": \"stream2\"}, inplace=True)\n",
    "# week3.rename(columns={\"stream_category\": \"stream3\"}, inplace=True)\n",
    "# week4.rename(columns={\"stream_category\": \"stream4\"}, inplace=True)\n",
    "# week5.rename(columns={\"stream_category\": \"stream5\"}, inplace=True)\n",
    "# week6.rename(columns={\"stream_category\": \"stream6\"}, inplace=True)\n",
    "# week7.rename(columns={\"stream_category\": \"stream7\"}, inplace=True)\n",
    "# week8.rename(columns={\"stream_category\": \"stream8\"}, inplace=True)\n",
    "# week9.rename(columns={\"stream_category\": \"stream9\"}, inplace=True)\n",
    "# week10.rename(columns={\"stream_category\": \"stream10\"}, inplace=True)\n",
    "\n",
    "# data = pd.merge(data, week1[['title', 'stream1']], how='left', on=['title'])\n",
    "# data = pd.merge(data, week2[['title', 'stream2']], how='left', on=['title'])\n",
    "# data = pd.merge(data, week3[['title', 'stream3']], how='left', on=['title'])\n",
    "# data = pd.merge(data, week4[['title', 'stream4']], how='left', on=['title'])\n",
    "# data = pd.merge(data, week5[['title', 'stream5']], how='left', on=['title'])\n",
    "# data = pd.merge(data, week6[['title', 'stream6']], how='left', on=['title'])\n",
    "# data = pd.merge(data, week7[['title', 'stream7']], how='left', on=['title'])\n",
    "# data = pd.merge(data, week8[['title', 'stream8']], how='left', on=['title'])\n",
    "# data = pd.merge(data, week9[['title', 'stream9']], how='left', on=['title'])\n",
    "# data = pd.merge(data, week10[['title', 'stream10']], how='left', on=['title'])\n",
    "\n",
    "# print(data)"
   ]
  },
  {
   "cell_type": "code",
   "execution_count": null,
   "id": "5234ee02-b4c4-4219-9199-bcec6112d76e",
   "metadata": {},
   "outputs": [],
   "source": [
    "# data = data.drop(columns=['artist1', 'artist2', 'artist3', 'popularity']) # 'title', 'artist/s', \n",
    "# data = data.drop(columns=['mode', 'time_signature'])\n",
    "# print(data)"
   ]
  },
  {
   "cell_type": "code",
   "execution_count": null,
   "id": "6ab25123-181e-48b3-a191-c5d1b62a4455",
   "metadata": {},
   "outputs": [],
   "source": [
    "# print(data.dtypes)"
   ]
  },
  {
   "cell_type": "code",
   "execution_count": null,
   "id": "7541e0a2-0142-4994-8e16-7ec4863478ed",
   "metadata": {},
   "outputs": [],
   "source": [
    "# # make label_category int (should be no issue because no null)\n",
    "# data = data.astype({'label_category':'int'})\n",
    "# # make key and duration float bc not ordinal\n",
    "# data = data.astype({'key':'float'})\n",
    "# data = data.astype({'duration_ms':'float'})"
   ]
  },
  {
   "cell_type": "code",
   "execution_count": null,
   "id": "172df390-7bc0-4241-bb18-9b1d4644f0c9",
   "metadata": {},
   "outputs": [],
   "source": [
    "# print(data.dtypes)"
   ]
  },
  {
   "cell_type": "code",
   "execution_count": null,
   "id": "2dde5155-6d7f-407f-9b52-88a786f96f13",
   "metadata": {},
   "outputs": [],
   "source": [
    "# # split data\n",
    "# data = data.drop(columns=['title', 'artist/s'])\n",
    "# X_data =  data.values[:,:-1]\n",
    "# y_data = data.values[:,-1]\n",
    "\n",
    "# print(X_data.shape)\n",
    "# print(y_data.shape)"
   ]
  },
  {
   "cell_type": "code",
   "execution_count": null,
   "id": "d7e83f96-fe0d-45b6-98b8-53828fdcc5ee",
   "metadata": {},
   "outputs": [],
   "source": [
    "# from sklearn.model_selection import train_test_split\n",
    "# X_train, X_test, y_train, y_test = train_test_split(X_data, y_data, random_state=1)\n",
    "\n",
    "# print(\"X_train: \", X_train.shape)\n",
    "# print(\"y_train: \", y_train.shape)\n",
    "# print(\"X_test: \", X_test.shape)\n",
    "# print(\"y_test: \", y_test.shape)"
   ]
  },
  {
   "cell_type": "code",
   "execution_count": null,
   "id": "5054c333-4e06-4eb1-b63e-71375e5b910e",
   "metadata": {},
   "outputs": [],
   "source": [
    "# # normalizing (read that z-scaling is standardscaler)\n",
    "# from sklearn.preprocessing import StandardScaler\n",
    "# scaler = StandardScaler()\n",
    "# X_train = scaler.fit_transform(X_train)\n",
    "# X_test = scaler.transform(X_test) #why only transform? saw this sa intsy mp"
   ]
  },
  {
   "cell_type": "code",
   "execution_count": null,
   "id": "f45fcf30-605b-4ad7-8438-c428fe33ddf5",
   "metadata": {},
   "outputs": [],
   "source": [
    "# def compute_RMSE(predictions, actual):\n",
    "#     return np.sqrt(np.square(np.subtract(actual, predictions)).mean())\n",
    "# def compute_mae(predictions, actual):\n",
    "#     mae = np.absolute(np.subtract(actual, predictions)).mean()\n",
    "#     return mae"
   ]
  },
  {
   "cell_type": "code",
   "execution_count": null,
   "id": "685d2093-8b68-4b8a-ad7e-6683561e9ba9",
   "metadata": {},
   "outputs": [],
   "source": [
    "# X_train"
   ]
  },
  {
   "cell_type": "code",
   "execution_count": null,
   "id": "d52eca2c-aae1-46e7-be8f-13e0650033c7",
   "metadata": {},
   "outputs": [],
   "source": [
    "# y_train"
   ]
  },
  {
   "cell_type": "code",
   "execution_count": null,
   "id": "1fdd37af-17ba-41b3-9da5-705e20c724ba",
   "metadata": {},
   "outputs": [],
   "source": []
  },
  {
   "cell_type": "code",
   "execution_count": null,
   "id": "1c877836-fca3-49da-a8c7-055d8e96a876",
   "metadata": {},
   "outputs": [],
   "source": [
    "# RANDOM FOREST"
   ]
  },
  {
   "cell_type": "code",
   "execution_count": null,
   "id": "b5992d44-fcbb-4055-b0cf-3fbf3bbffb64",
   "metadata": {},
   "outputs": [],
   "source": [
    "from sklearn.ensemble import RandomForestClassifier"
   ]
  },
  {
   "cell_type": "code",
   "execution_count": null,
   "id": "f1ace010-27ed-4ff6-a0d8-f1921d13ed1c",
   "metadata": {},
   "outputs": [],
   "source": [
    "#  RandomForestClassifier?"
   ]
  },
  {
   "cell_type": "code",
   "execution_count": null,
   "id": "bd527583-aa89-4bc3-9c0a-c652591f443c",
   "metadata": {},
   "outputs": [],
   "source": [
    "rfc = RandomForestClassifier()\n",
    "rfc.get_params()"
   ]
  },
  {
   "cell_type": "code",
   "execution_count": null,
   "id": "e8a82874-71fd-4cbc-81de-e413ae4b0a10",
   "metadata": {},
   "outputs": [],
   "source": [
    "hyperparameters = [\n",
    "        {\n",
    "        'n_estimators' : [50, 100, 200, 400, 600, 800, 1000, 1200, 1600, 1800],\n",
    "        'max_depth' : [10, 30, 50, 100, 150, 200, 250, 300, 350, None],\n",
    "        'min_samples_split' : [2, 4, 6, 10, 15, 20],\n",
    "        'max_leaf_nodes' : [100, 300, 500, 700, 900, 1100, 1300, None]\n",
    "    }\n",
    "]"
   ]
  },
  {
   "cell_type": "code",
   "execution_count": null,
   "id": "c50977a6-656c-45df-824f-9e69a6bb9d16",
   "metadata": {},
   "outputs": [],
   "source": [
    "from sklearn.model_selection import RandomizedSearchCV\n",
    "rsrfc = RandomizedSearchCV(rfc, hyperparameters, random_state=42)\n",
    "rsrfc.fit(X_train, y_train)"
   ]
  },
  {
   "cell_type": "code",
   "execution_count": null,
   "id": "b5f86c49-d05f-4005-ac10-903e5615f717",
   "metadata": {
    "scrolled": true
   },
   "outputs": [],
   "source": [
    "best_params_rfc = rsrfc.best_params_\n",
    "best_params_rfc"
   ]
  },
  {
   "cell_type": "code",
   "execution_count": null,
   "id": "4dd61e2f-94a0-46e6-afca-e6919409ff37",
   "metadata": {},
   "outputs": [],
   "source": [
    "best_model_rfc = rsrfc.best_estimator_\n",
    "\n",
    "predictions_train_rfc = best_model_rfc.predict(X_train)\n",
    "\n",
    "train_rmse_rfc = compute_RMSE(predictions_train_rfc, y_train)\n",
    "print('Training RMSE: {}'.format(train_rmse_rfc))\n",
    "\n",
    "train_mae_rfc = compute_mae(predictions_train_rfc, y_train)\n",
    "print('Training MAE: {}'.format(train_mae_rfc))\n",
    "\n",
    "train_acc = compute_accuracy(predictions_train_rfc, y_train)\n",
    "print('Training Accuracy: {}'.format(train_acc))\n",
    "\n",
    "predictions_test_rfc = best_model_rfc.predict(X_test)\n",
    "\n",
    "test_rmse_rfc = compute_RMSE(predictions_test_rfc, y_test)\n",
    "print('Test RMSE: {}'.format(test_rmse_rfc))\n",
    "\n",
    "test_mae_rfc = compute_mae(predictions_test_rfc, y_test)\n",
    "print('Test MAE: {}'.format(test_mae_rfc))\n",
    "\n",
    "test_acc = compute_accuracy(predictions_test_rfc, y_test)\n",
    "print('Test Accuracy: {}'.format(test_acc))"
   ]
  },
  {
   "cell_type": "code",
   "execution_count": null,
   "id": "793d8373-86fd-4a8d-b9ac-8f61e2984d54",
   "metadata": {},
   "outputs": [],
   "source": []
  },
  {
   "cell_type": "code",
   "execution_count": null,
   "id": "af9c917a-642a-4587-b350-4c4bf9d2398d",
   "metadata": {},
   "outputs": [],
   "source": []
  },
  {
   "cell_type": "code",
   "execution_count": null,
   "id": "dacb0c88-3210-4c3c-a9da-42777e2c295e",
   "metadata": {},
   "outputs": [],
   "source": []
  },
  {
   "cell_type": "code",
   "execution_count": null,
   "id": "72ec0884-4480-48c3-9750-9d0c8b6ee4bc",
   "metadata": {},
   "outputs": [],
   "source": []
  },
  {
   "cell_type": "code",
   "execution_count": null,
   "id": "8abe6d02-9bc7-4bf4-a642-8e7dff279adc",
   "metadata": {},
   "outputs": [],
   "source": []
  },
  {
   "cell_type": "code",
   "execution_count": null,
   "id": "95950a6e-5769-48c2-a2e3-07bafa76083b",
   "metadata": {},
   "outputs": [],
   "source": []
  },
  {
   "cell_type": "code",
   "execution_count": null,
   "id": "d6768fcc-da7b-4758-a713-79d89b1703b5",
   "metadata": {},
   "outputs": [],
   "source": []
  },
  {
   "cell_type": "code",
   "execution_count": null,
   "id": "a5ae07f9-e26d-4242-b7e3-38e0b50f75e3",
   "metadata": {},
   "outputs": [],
   "source": []
  },
  {
   "cell_type": "code",
   "execution_count": null,
   "id": "0160afcf-4df8-45e8-96b2-d751545caa46",
   "metadata": {},
   "outputs": [],
   "source": []
  },
  {
   "cell_type": "code",
   "execution_count": null,
   "id": "552817f7-03ca-4c9c-869a-e651b1af4b83",
   "metadata": {},
   "outputs": [],
   "source": [
    "# SVM"
   ]
  },
  {
   "cell_type": "code",
   "execution_count": null,
   "id": "ece0002b-9b0d-4aa0-b049-ec231781a5b6",
   "metadata": {},
   "outputs": [],
   "source": [
    "from sklearn.svm import SVC"
   ]
  },
  {
   "cell_type": "code",
   "execution_count": null,
   "id": "2a0b69f0-7c98-45bb-941b-156bbeb3f648",
   "metadata": {},
   "outputs": [],
   "source": [
    "SVC?"
   ]
  },
  {
   "cell_type": "code",
   "execution_count": null,
   "id": "0ee68138-0249-4348-be24-bd0eb1122ca8",
   "metadata": {},
   "outputs": [],
   "source": [
    "svm = SVC()\n",
    "svm.get_params()"
   ]
  },
  {
   "cell_type": "code",
   "execution_count": null,
   "id": "31b25c2e-0100-4979-968b-05d611a5db4a",
   "metadata": {},
   "outputs": [],
   "source": [
    "hyperparameters = [\n",
    "        {\n",
    "        'C' : [0.1, 1, 100, 1000],\n",
    "        'kernel' : ['rbf', 'poly', 'sigmoid', 'linear'],\n",
    "        'degree' : [1, 2, 3, 4, 5, 6]\n",
    "    }\n",
    "]"
   ]
  },
  {
   "cell_type": "code",
   "execution_count": null,
   "id": "ce07d217-d452-48fe-b690-759d5b57fa29",
   "metadata": {},
   "outputs": [],
   "source": [
    "# from sklearn.model_selection import RandomizedSearchCV\n",
    "rssvm = RandomizedSearchCV(svm, hyperparameters, random_state=42)\n",
    "rssvm.fit(X_train, y_train)"
   ]
  },
  {
   "cell_type": "code",
   "execution_count": null,
   "id": "e3167589-934d-4e1e-9dfc-f791371f5dfd",
   "metadata": {},
   "outputs": [],
   "source": [
    "best_params_svm = rssvm.best_params_\n",
    "best_params_svm"
   ]
  },
  {
   "cell_type": "code",
   "execution_count": null,
   "id": "86047161-e8dc-4a2b-9be2-5581b0893a7e",
   "metadata": {},
   "outputs": [],
   "source": [
    "best_model_svm = rssvm.best_estimator_\n",
    "\n",
    "predictions_train_svm = best_model_svm.predict(X_train)\n",
    "\n",
    "train_rmse_svm = compute_RMSE(predictions_train_svm, y_train)\n",
    "print('Training RMSE: {}'.format(train_rmse_svm))\n",
    "\n",
    "train_mae_svm = compute_mae(predictions_train_svm, y_train)\n",
    "print('Training MAE: {}'.format(train_mae_svm))\n",
    "\n",
    "train_acc = compute_accuracy(predictions_train_svm, y_train)\n",
    "print('Training Accuracy: {}'.format(train_acc))\n",
    "\n",
    "predictions_test_svm = best_model_svm.predict(X_test)\n",
    "\n",
    "test_rmse_svm = compute_RMSE(predictions_test_svm, y_test)\n",
    "print('Test RMSE: {}'.format(test_rmse_svm))\n",
    "\n",
    "test_mae_svm = compute_mae(predictions_test_svm, y_test)\n",
    "print('Test MAE: {}'.format(test_mae_svm))\n",
    "\n",
    "test_acc = compute_accuracy(predictions_test_svm, y_test)\n",
    "print('Test Accuracy: {}'.format(test_acc))"
   ]
  },
  {
   "cell_type": "code",
   "execution_count": null,
   "id": "92fa80fe-a130-4539-82bf-eb2f0a537f66",
   "metadata": {},
   "outputs": [],
   "source": []
  },
  {
   "cell_type": "code",
   "execution_count": null,
   "id": "764395b5-4bd5-448d-a222-c0c071c11048",
   "metadata": {},
   "outputs": [],
   "source": []
  },
  {
   "cell_type": "code",
   "execution_count": null,
   "id": "8ebe1923-1f21-404f-a81d-2ea93e11d930",
   "metadata": {},
   "outputs": [],
   "source": []
  },
  {
   "cell_type": "code",
   "execution_count": null,
   "id": "72f1e5f0-5421-4c52-940e-3777e85add62",
   "metadata": {},
   "outputs": [],
   "source": []
  },
  {
   "cell_type": "code",
   "execution_count": null,
   "id": "46563bd9-b66f-49c2-8931-7404551326c6",
   "metadata": {},
   "outputs": [],
   "source": []
  },
  {
   "cell_type": "code",
   "execution_count": null,
   "id": "0c79bcd4-4117-461c-8aba-3a4391523ce0",
   "metadata": {},
   "outputs": [],
   "source": []
  },
  {
   "cell_type": "code",
   "execution_count": null,
   "id": "9dafff2b-9913-4168-844c-37924395ac8b",
   "metadata": {},
   "outputs": [],
   "source": [
    "# BINARY TREES"
   ]
  },
  {
   "cell_type": "code",
   "execution_count": null,
   "id": "3e153bdb-e85e-4805-8fdd-4eceea14eb15",
   "metadata": {},
   "outputs": [],
   "source": [
    "from sklearn.tree import DecisionTreeClassifier"
   ]
  },
  {
   "cell_type": "code",
   "execution_count": null,
   "id": "29a714f4-f1c6-43c3-9ba6-0b5b89275bc1",
   "metadata": {},
   "outputs": [],
   "source": [
    "DecisionTreeClassifier?"
   ]
  },
  {
   "cell_type": "code",
   "execution_count": null,
   "id": "386dd729-42bd-4070-98d0-3bd1e9cd3f7a",
   "metadata": {},
   "outputs": [],
   "source": [
    "dt = DecisionTreeClassifier()\n",
    "dt.get_params()"
   ]
  },
  {
   "cell_type": "code",
   "execution_count": null,
   "id": "643dc1c1-700f-43ad-bd38-f2d232a5df0b",
   "metadata": {},
   "outputs": [],
   "source": [
    "hyperparameters = [\n",
    "    {\n",
    "        'min_impurity_decrease': [0.001, 0.01, 0.05, 0.1, 0.3, 0.5],\n",
    "        'max_depth': [5, 10, 20, 30],\n",
    "        'min_samples_split': [2, 4, 6, 10, 15, 20],\n",
    "        'max_leaf_nodes': [3, 5, 10, 20, 50, 100]\n",
    "    }\n",
    "]"
   ]
  },
  {
   "cell_type": "code",
   "execution_count": null,
   "id": "05d379bb-22fd-4b91-a17d-84ae4b5d4930",
   "metadata": {},
   "outputs": [],
   "source": [
    "from sklearn.model_selection import RandomizedSearchCV\n",
    "rsdt = RandomizedSearchCV(dt, hyperparameters, cv=5, random_state=42, n_iter=50)\n",
    "rsdt.fit(X_train, y_train)"
   ]
  },
  {
   "cell_type": "code",
   "execution_count": null,
   "id": "6a15d505-0a2d-4497-8029-b11cd6cf9908",
   "metadata": {},
   "outputs": [],
   "source": [
    "best_params_dt = rsdt.best_params_\n",
    "best_params_dt"
   ]
  },
  {
   "cell_type": "code",
   "execution_count": null,
   "id": "98ebf099-0c60-45c5-abc5-021c6fa6539a",
   "metadata": {},
   "outputs": [],
   "source": [
    "best_model_dt = rsdt.best_estimator_\n",
    "\n",
    "predictions_train_dt = best_model_dt.predict(X_train)\n",
    "\n",
    "train_rmse_dt = compute_RMSE(predictions_train_dt, y_train)\n",
    "print('Training RMSE: {}'.format(train_rmse_dt))\n",
    "\n",
    "train_mae_dt = compute_mae(predictions_train_dt, y_train)\n",
    "print('Training MAE: {}'.format(train_mae_dt))\n",
    "\n",
    "train_acc_dt = compute_accuracy(predictions_train_dt, y_train)\n",
    "print('Training Accuracy: {}'.format(train_acc_dt))\n",
    "\n",
    "predictions_test_dt = best_model_dt.predict(X_test)\n",
    "\n",
    "test_rmse_dt = compute_RMSE(predictions_test_dt, y_test)\n",
    "print('Test RMSE: {}'.format(test_rmse_dt))\n",
    "\n",
    "test_mae_dt = compute_mae(predictions_test_dt, y_test)\n",
    "print('Test MAE: {}'.format(test_mae_dt))\n",
    "\n",
    "test_acc_dt = compute_accuracy(predictions_test_dt, y_test)\n",
    "print('Test Accuracy: {}'.format(test_acc_dt))"
   ]
  },
  {
   "cell_type": "code",
   "execution_count": null,
   "id": "138c1b12",
   "metadata": {
    "tags": []
   },
   "outputs": [],
   "source": []
  },
  {
   "cell_type": "code",
   "execution_count": null,
   "id": "ff1af5f7-6038-4a05-b58a-e07ed12d6bc7",
   "metadata": {},
   "outputs": [],
   "source": []
  },
  {
   "cell_type": "markdown",
   "id": "897b0855",
   "metadata": {},
   "source": [
    "EXTRINSIC ONLY 3 MODELS"
   ]
  },
  {
   "cell_type": "code",
   "execution_count": null,
   "id": "fae7550c",
   "metadata": {},
   "outputs": [],
   "source": [
    "# split data\n",
    "data = data2\n",
    "data = data.drop(columns=['song_familiarity', 'artist_familiarity', 'bad_good', 'distasteful_tasty', 'dull_exciting', 'tasteless_tasteful', 'unimaginative_creative', 'untalented_talented', 'unpleasant_pleasant', 'forgettable_memorable', 'boring_interesting', 'listen_similar', 'share_friends', 'add_playlist'])\n",
    "data = data.drop(columns=['danceability', 'key', 'loudness', 'speechiness', 'liveness', 'valence', 'tempo', 'duration_ms'])\n",
    "# data = data.drop(columns=['music_label', 'artist_collab', 'chart_history', 'mean_trends'])\n",
    "X_data =  data.values[:,:-1]\n",
    "y_data = data.values[:,-1]\n",
    "\n",
    "print(X_data.shape)\n",
    "print(y_data.shape)\n",
    "\n",
    "\n",
    "# mod = \"\"\"\n",
    "# chart_success =~ stream1 + stream2 + stream3 + stream4 + stream5 + stream6 + stream6 + stream7 + stream8 + stream9 + stream_category\n",
    "# intrinsic =~ danceability + key + loudness + speechiness + liveness + valence + tempo + duration_ms\n",
    "# extrinsic =~ music_label + artist_collab + chart_history + mean_trends\n",
    "# crowdsource =~ song_familiarity + artist_familiarity + bad_good + distasteful_tasty + dull_exciting + tasteless_tasteful + unimaginative_creative + untalented_talented + unpleasant_pleasant + forgettable_memorable + boring_interesting + listen_similar + share_friends + add_playlist\n",
    "\n",
    "# chart_success ~ intrinsic + extrinsic + crowdsource\n",
    "\n",
    "# DEFINE(ordinal) key music_label artist_collab stream1 stream2 stream3 stream4 stream5 stream6 stream7 stream8 stream9 stream_category\n",
    "#       \"\"\"\n",
    "# # try normalizing non-ordinal variables\n",
    "# from sklearn.preprocessing import StandardScaler\n",
    "# cols_to_norm = ['danceability', 'loudness', 'speechiness', 'liveness', 'valence', 'tempo', 'duration_ms', 'chart_history', 'mean_trends', 'song_familiarity', 'artist_familiarity', 'bad_good', 'distasteful_tasty', \n",
    "#                 'dull_exciting', 'tasteless_tasteful', 'unimaginative_creative', 'untalented_talented', 'unpleasant_pleasant', 'forgettable_memorable', 'boring_interesting', 'listen_similar', 'share_friends', 'add_playlist']\n",
    "# data[cols_to_norm] = StandardScaler().fit_transform(data[cols_to_norm])\n",
    "# # print(data)"
   ]
  },
  {
   "cell_type": "code",
   "execution_count": null,
   "id": "3d86a750",
   "metadata": {
    "tags": []
   },
   "outputs": [],
   "source": []
  },
  {
   "cell_type": "code",
   "execution_count": null,
   "id": "63f3bfd7",
   "metadata": {
    "scrolled": true
   },
   "outputs": [],
   "source": [
    "from sklearn.model_selection import train_test_split\n",
    "X_train, X_test, y_train, y_test = train_test_split(X_data, y_data, random_state=1)\n",
    "\n",
    "print(\"X_train: \", X_train.shape)\n",
    "print(\"y_train: \", y_train.shape)\n",
    "print(\"X_test: \", X_test.shape)\n",
    "print(\"y_test: \", y_test.shape)"
   ]
  },
  {
   "cell_type": "code",
   "execution_count": null,
   "id": "51765ee5",
   "metadata": {},
   "outputs": [],
   "source": [
    "# print(X_train)"
   ]
  },
  {
   "cell_type": "code",
   "execution_count": null,
   "id": "eaa6ceec",
   "metadata": {},
   "outputs": [],
   "source": [
    "# y_train"
   ]
  },
  {
   "cell_type": "code",
   "execution_count": null,
   "id": "0b306fb8",
   "metadata": {},
   "outputs": [],
   "source": [
    "# normalizing (read that z-scaling is standardscaler)\n",
    "from sklearn.preprocessing import StandardScaler\n",
    "scaler = StandardScaler()\n",
    "X_train = scaler.fit_transform(X_train)\n",
    "X_test = scaler.transform(X_test) #why only transform? saw this sa intsy mp"
   ]
  },
  {
   "cell_type": "code",
   "execution_count": null,
   "id": "993ddaa5",
   "metadata": {},
   "outputs": [],
   "source": [
    "# #convert y values to categorical values\n",
    "# lab = preprocessing.LabelEncoder()\n",
    "# y_transformed = lab.fit_transform(y)"
   ]
  },
  {
   "cell_type": "code",
   "execution_count": null,
   "id": "3435aedc",
   "metadata": {},
   "outputs": [],
   "source": [
    "def compute_RMSE(predictions, actual):\n",
    "    return np.sqrt(np.square(np.subtract(actual, predictions)).mean())\n",
    "def compute_mae(predictions, actual):\n",
    "    mae = np.absolute(np.subtract(actual, predictions)).mean()\n",
    "    return mae\n",
    "def compute_accuracy(predictions, actual):\n",
    "    # write code here\n",
    "    num_correct = np.sum(predictions == actual)\n",
    "    accuracy = num_correct/len(actual)\n",
    "    return accuracy*100"
   ]
  },
  {
   "cell_type": "code",
   "execution_count": null,
   "id": "b5bdf366",
   "metadata": {},
   "outputs": [],
   "source": []
  },
  {
   "cell_type": "code",
   "execution_count": null,
   "id": "4d75b669",
   "metadata": {},
   "outputs": [],
   "source": []
  },
  {
   "cell_type": "code",
   "execution_count": null,
   "id": "51e2fa85",
   "metadata": {},
   "outputs": [],
   "source": [
    "# RANDOM FOREST"
   ]
  },
  {
   "cell_type": "code",
   "execution_count": null,
   "id": "7ab193ef",
   "metadata": {},
   "outputs": [],
   "source": [
    "from sklearn.ensemble import RandomForestClassifier"
   ]
  },
  {
   "cell_type": "code",
   "execution_count": null,
   "id": "e92f646f",
   "metadata": {},
   "outputs": [],
   "source": [
    "#  RandomForestClassifier?"
   ]
  },
  {
   "cell_type": "code",
   "execution_count": null,
   "id": "ae3ebc7b",
   "metadata": {},
   "outputs": [],
   "source": [
    "rfc = RandomForestClassifier()\n",
    "rfc.get_params()"
   ]
  },
  {
   "cell_type": "code",
   "execution_count": null,
   "id": "35f415f8",
   "metadata": {},
   "outputs": [],
   "source": [
    "hyperparameters = [\n",
    "        {\n",
    "        'n_estimators' : [50, 100, 200, 400, 600, 800, 1000, 1200, 1600, 1800],\n",
    "        'max_depth' : [10, 30, 50, 100, 150, 200, 250, 300, 350, None],\n",
    "        'min_samples_split' : [2, 4, 6, 10, 15, 20],\n",
    "        'max_leaf_nodes' : [100, 300, 500, 700, 900, 1100, 1300, None]\n",
    "    }\n",
    "]"
   ]
  },
  {
   "cell_type": "code",
   "execution_count": null,
   "id": "0571523c",
   "metadata": {},
   "outputs": [],
   "source": [
    "from sklearn.model_selection import RandomizedSearchCV\n",
    "rsrfc = RandomizedSearchCV(rfc, hyperparameters, random_state=42)\n",
    "rsrfc.fit(X_train, y_train)"
   ]
  },
  {
   "cell_type": "code",
   "execution_count": null,
   "id": "0af271cc",
   "metadata": {
    "scrolled": true
   },
   "outputs": [],
   "source": [
    "best_params_rfc = rsrfc.best_params_\n",
    "best_params_rfc"
   ]
  },
  {
   "cell_type": "code",
   "execution_count": null,
   "id": "1ee8fe5e",
   "metadata": {},
   "outputs": [],
   "source": [
    "best_model_rfc = rsrfc.best_estimator_\n",
    "\n",
    "predictions_train_rfc = best_model_rfc.predict(X_train)\n",
    "\n",
    "train_rmse_rfc = compute_RMSE(predictions_train_rfc, y_train)\n",
    "print('Training RMSE: {}'.format(train_rmse_rfc))\n",
    "\n",
    "train_mae_rfc = compute_mae(predictions_train_rfc, y_train)\n",
    "print('Training MAE: {}'.format(train_mae_rfc))\n",
    "\n",
    "train_acc = compute_accuracy(predictions_train_rfc, y_train)\n",
    "print('Training Accuracy: {}'.format(train_acc))\n",
    "\n",
    "predictions_test_rfc = best_model_rfc.predict(X_test)\n",
    "\n",
    "test_rmse_rfc = compute_RMSE(predictions_test_rfc, y_test)\n",
    "print('Test RMSE: {}'.format(test_rmse_rfc))\n",
    "\n",
    "test_mae_rfc = compute_mae(predictions_test_rfc, y_test)\n",
    "print('Test MAE: {}'.format(test_mae_rfc))\n",
    "\n",
    "test_acc = compute_accuracy(predictions_test_rfc, y_test)\n",
    "print('Test Accuracy: {}'.format(test_acc))"
   ]
  },
  {
   "cell_type": "code",
   "execution_count": null,
   "id": "da4a18c0",
   "metadata": {},
   "outputs": [],
   "source": []
  },
  {
   "cell_type": "code",
   "execution_count": null,
   "id": "fb26dbe2",
   "metadata": {},
   "outputs": [],
   "source": []
  },
  {
   "cell_type": "code",
   "execution_count": null,
   "id": "b1060657",
   "metadata": {},
   "outputs": [],
   "source": []
  },
  {
   "cell_type": "code",
   "execution_count": null,
   "id": "c167da53",
   "metadata": {},
   "outputs": [],
   "source": []
  },
  {
   "cell_type": "code",
   "execution_count": null,
   "id": "31c225a2",
   "metadata": {},
   "outputs": [],
   "source": []
  },
  {
   "cell_type": "code",
   "execution_count": null,
   "id": "d36379c1",
   "metadata": {},
   "outputs": [],
   "source": []
  },
  {
   "cell_type": "code",
   "execution_count": null,
   "id": "8ff23f71",
   "metadata": {},
   "outputs": [],
   "source": []
  },
  {
   "cell_type": "code",
   "execution_count": null,
   "id": "300ce857",
   "metadata": {},
   "outputs": [],
   "source": []
  },
  {
   "cell_type": "code",
   "execution_count": null,
   "id": "1161fd90",
   "metadata": {},
   "outputs": [],
   "source": []
  },
  {
   "cell_type": "code",
   "execution_count": null,
   "id": "9d6da530",
   "metadata": {},
   "outputs": [],
   "source": [
    "# SVM"
   ]
  },
  {
   "cell_type": "code",
   "execution_count": null,
   "id": "74d5214e",
   "metadata": {},
   "outputs": [],
   "source": [
    "from sklearn.svm import SVC"
   ]
  },
  {
   "cell_type": "code",
   "execution_count": null,
   "id": "cf826d5f",
   "metadata": {},
   "outputs": [],
   "source": [
    "SVC?"
   ]
  },
  {
   "cell_type": "code",
   "execution_count": null,
   "id": "f7ac6ffd",
   "metadata": {},
   "outputs": [],
   "source": [
    "svm = SVC()\n",
    "svm.get_params()"
   ]
  },
  {
   "cell_type": "code",
   "execution_count": null,
   "id": "951a98c5",
   "metadata": {},
   "outputs": [],
   "source": [
    "hyperparameters = [\n",
    "        {\n",
    "        'C' : [0.1, 1, 100, 1000],\n",
    "        'kernel' : ['rbf', 'poly', 'sigmoid', 'linear'],\n",
    "        'degree' : [1, 2, 3, 4, 5, 6]\n",
    "    }\n",
    "]"
   ]
  },
  {
   "cell_type": "code",
   "execution_count": null,
   "id": "79b4d297",
   "metadata": {},
   "outputs": [],
   "source": [
    "# from sklearn.model_selection import RandomizedSearchCV\n",
    "rssvm = RandomizedSearchCV(svm, hyperparameters, random_state=42)\n",
    "rssvm.fit(X_train, y_train)"
   ]
  },
  {
   "cell_type": "code",
   "execution_count": null,
   "id": "c822e57b",
   "metadata": {},
   "outputs": [],
   "source": [
    "best_params_svm = rssvm.best_params_\n",
    "best_params_svm"
   ]
  },
  {
   "cell_type": "code",
   "execution_count": null,
   "id": "1728a06e",
   "metadata": {},
   "outputs": [],
   "source": [
    "best_model_svm = rssvm.best_estimator_\n",
    "\n",
    "predictions_train_svm = best_model_svm.predict(X_train)\n",
    "\n",
    "train_rmse_svm = compute_RMSE(predictions_train_svm, y_train)\n",
    "print('Training RMSE: {}'.format(train_rmse_svm))\n",
    "\n",
    "train_mae_svm = compute_mae(predictions_train_svm, y_train)\n",
    "print('Training MAE: {}'.format(train_mae_svm))\n",
    "\n",
    "train_acc = compute_accuracy(predictions_train_svm, y_train)\n",
    "print('Training Accuracy: {}'.format(train_acc))\n",
    "\n",
    "predictions_test_svm = best_model_svm.predict(X_test)\n",
    "\n",
    "test_rmse_svm = compute_RMSE(predictions_test_svm, y_test)\n",
    "print('Test RMSE: {}'.format(test_rmse_svm))\n",
    "\n",
    "test_mae_svm = compute_mae(predictions_test_svm, y_test)\n",
    "print('Test MAE: {}'.format(test_mae_svm))\n",
    "\n",
    "test_acc = compute_accuracy(predictions_test_svm, y_test)\n",
    "print('Test Accuracy: {}'.format(test_acc))"
   ]
  },
  {
   "cell_type": "code",
   "execution_count": null,
   "id": "02920bee",
   "metadata": {},
   "outputs": [],
   "source": []
  },
  {
   "cell_type": "code",
   "execution_count": null,
   "id": "c9ff1a60",
   "metadata": {},
   "outputs": [],
   "source": []
  },
  {
   "cell_type": "code",
   "execution_count": null,
   "id": "991b817e",
   "metadata": {},
   "outputs": [],
   "source": []
  },
  {
   "cell_type": "code",
   "execution_count": null,
   "id": "9d28f4d5",
   "metadata": {},
   "outputs": [],
   "source": []
  },
  {
   "cell_type": "code",
   "execution_count": null,
   "id": "88b73a9f",
   "metadata": {},
   "outputs": [],
   "source": []
  },
  {
   "cell_type": "code",
   "execution_count": null,
   "id": "d19e1378",
   "metadata": {},
   "outputs": [],
   "source": []
  },
  {
   "cell_type": "code",
   "execution_count": null,
   "id": "97b8243b",
   "metadata": {},
   "outputs": [],
   "source": [
    "# BINARY TREES"
   ]
  },
  {
   "cell_type": "code",
   "execution_count": null,
   "id": "a89f9279",
   "metadata": {},
   "outputs": [],
   "source": [
    "from sklearn.tree import DecisionTreeClassifier"
   ]
  },
  {
   "cell_type": "code",
   "execution_count": null,
   "id": "8ed24a5b",
   "metadata": {},
   "outputs": [],
   "source": [
    "DecisionTreeClassifier?"
   ]
  },
  {
   "cell_type": "code",
   "execution_count": null,
   "id": "1422a8f5",
   "metadata": {},
   "outputs": [],
   "source": [
    "dt = DecisionTreeClassifier()\n",
    "dt.get_params()"
   ]
  },
  {
   "cell_type": "code",
   "execution_count": null,
   "id": "23cd8d3c",
   "metadata": {},
   "outputs": [],
   "source": [
    "hyperparameters = [\n",
    "    {\n",
    "        'min_impurity_decrease': [0.001, 0.01, 0.05, 0.1, 0.3, 0.5],\n",
    "        'max_depth': [5, 10, 20, 30],\n",
    "        'min_samples_split': [2, 4, 6, 10, 15, 20],\n",
    "        'max_leaf_nodes': [3, 5, 10, 20, 50, 100]\n",
    "    }\n",
    "]"
   ]
  },
  {
   "cell_type": "code",
   "execution_count": null,
   "id": "5a67cf7e",
   "metadata": {},
   "outputs": [],
   "source": [
    "from sklearn.model_selection import RandomizedSearchCV\n",
    "rsdt = RandomizedSearchCV(dt, hyperparameters, cv=5, random_state=42, n_iter=50)\n",
    "rsdt.fit(X_train, y_train)"
   ]
  },
  {
   "cell_type": "code",
   "execution_count": null,
   "id": "41990e1d",
   "metadata": {},
   "outputs": [],
   "source": [
    "best_params_dt = rsdt.best_params_\n",
    "best_params_dt"
   ]
  },
  {
   "cell_type": "code",
   "execution_count": null,
   "id": "64588a5a",
   "metadata": {},
   "outputs": [],
   "source": [
    "best_model_dt = rsdt.best_estimator_\n",
    "\n",
    "predictions_train_dt = best_model_dt.predict(X_train)\n",
    "\n",
    "train_rmse_dt = compute_RMSE(predictions_train_dt, y_train)\n",
    "print('Training RMSE: {}'.format(train_rmse_dt))\n",
    "\n",
    "train_mae_dt = compute_mae(predictions_train_dt, y_train)\n",
    "print('Training MAE: {}'.format(train_mae_dt))\n",
    "\n",
    "train_acc_dt = compute_accuracy(predictions_train_dt, y_train)\n",
    "print('Training Accuracy: {}'.format(train_acc_dt))\n",
    "\n",
    "predictions_test_dt = best_model_dt.predict(X_test)\n",
    "\n",
    "test_rmse_dt = compute_RMSE(predictions_test_dt, y_test)\n",
    "print('Test RMSE: {}'.format(test_rmse_dt))\n",
    "\n",
    "test_mae_dt = compute_mae(predictions_test_dt, y_test)\n",
    "print('Test MAE: {}'.format(test_mae_dt))\n",
    "\n",
    "test_acc_dt = compute_accuracy(predictions_test_dt, y_test)\n",
    "print('Test Accuracy: {}'.format(test_acc_dt))"
   ]
  },
  {
   "cell_type": "code",
   "execution_count": null,
   "id": "5e48e48e",
   "metadata": {
    "tags": []
   },
   "outputs": [],
   "source": []
  },
  {
   "cell_type": "code",
   "execution_count": null,
   "id": "59028c29-35d1-4036-aa69-23f182138ec6",
   "metadata": {},
   "outputs": [],
   "source": []
  },
  {
   "cell_type": "code",
   "execution_count": null,
   "id": "fae44fab-5100-49cf-82e2-a5f821844a80",
   "metadata": {},
   "outputs": [],
   "source": []
  },
  {
   "cell_type": "markdown",
   "id": "1c46a57f",
   "metadata": {},
   "source": [
    "INTRINSIC ONLY 3 MODELS"
   ]
  },
  {
   "cell_type": "code",
   "execution_count": null,
   "id": "868b7588",
   "metadata": {},
   "outputs": [],
   "source": [
    "# split data\n",
    "data = data2\n",
    "data = data.drop(columns=['song_familiarity', 'artist_familiarity', 'bad_good', 'distasteful_tasty', 'dull_exciting', 'tasteless_tasteful', 'unimaginative_creative', 'untalented_talented', 'unpleasant_pleasant', 'forgettable_memorable', 'boring_interesting', 'listen_similar', 'share_friends', 'add_playlist'])\n",
    "# data = data.drop(columns=['danceability', 'key', 'loudness', 'speechiness', 'liveness', 'valence', 'tempo', 'duration_ms'])\n",
    "data = data.drop(columns=['music_label', 'artist_collab', 'chart_history', 'mean_trends'])\n",
    "X_data =  data.values[:,:-1]\n",
    "y_data = data.values[:,-1]\n",
    "\n",
    "print(X_data.shape)\n",
    "print(y_data.shape)\n",
    "\n",
    "\n",
    "# mod = \"\"\"\n",
    "# chart_success =~ stream1 + stream2 + stream3 + stream4 + stream5 + stream6 + stream6 + stream7 + stream8 + stream9 + stream_category\n",
    "# intrinsic =~ danceability + key + loudness + speechiness + liveness + valence + tempo + duration_ms\n",
    "# extrinsic =~ music_label + artist_collab + chart_history + mean_trends\n",
    "# crowdsource =~ song_familiarity + artist_familiarity + bad_good + distasteful_tasty + dull_exciting + tasteless_tasteful + unimaginative_creative + untalented_talented + unpleasant_pleasant + forgettable_memorable + boring_interesting + listen_similar + share_friends + add_playlist\n",
    "\n",
    "# chart_success ~ intrinsic + extrinsic + crowdsource\n",
    "\n",
    "# DEFINE(ordinal) key music_label artist_collab stream1 stream2 stream3 stream4 stream5 stream6 stream7 stream8 stream9 stream_category\n",
    "#       \"\"\"\n",
    "# # try normalizing non-ordinal variables\n",
    "# from sklearn.preprocessing import StandardScaler\n",
    "# cols_to_norm = ['danceability', 'loudness', 'speechiness', 'liveness', 'valence', 'tempo', 'duration_ms', 'chart_history', 'mean_trends', 'song_familiarity', 'artist_familiarity', 'bad_good', 'distasteful_tasty', \n",
    "#                 'dull_exciting', 'tasteless_tasteful', 'unimaginative_creative', 'untalented_talented', 'unpleasant_pleasant', 'forgettable_memorable', 'boring_interesting', 'listen_similar', 'share_friends', 'add_playlist']\n",
    "# data[cols_to_norm] = StandardScaler().fit_transform(data[cols_to_norm])\n",
    "# # print(data)"
   ]
  },
  {
   "cell_type": "code",
   "execution_count": null,
   "id": "ff14a5d4",
   "metadata": {
    "tags": []
   },
   "outputs": [],
   "source": []
  },
  {
   "cell_type": "code",
   "execution_count": null,
   "id": "429e84f4",
   "metadata": {
    "scrolled": true
   },
   "outputs": [],
   "source": [
    "from sklearn.model_selection import train_test_split\n",
    "X_train, X_test, y_train, y_test = train_test_split(X_data, y_data, random_state=1)\n",
    "\n",
    "print(\"X_train: \", X_train.shape)\n",
    "print(\"y_train: \", y_train.shape)\n",
    "print(\"X_test: \", X_test.shape)\n",
    "print(\"y_test: \", y_test.shape)"
   ]
  },
  {
   "cell_type": "code",
   "execution_count": null,
   "id": "b2ddc205",
   "metadata": {},
   "outputs": [],
   "source": [
    "# print(X_train)"
   ]
  },
  {
   "cell_type": "code",
   "execution_count": null,
   "id": "137c7826",
   "metadata": {},
   "outputs": [],
   "source": [
    "# y_train"
   ]
  },
  {
   "cell_type": "code",
   "execution_count": null,
   "id": "10c76e5c",
   "metadata": {},
   "outputs": [],
   "source": [
    "# normalizing (read that z-scaling is standardscaler)\n",
    "from sklearn.preprocessing import StandardScaler\n",
    "scaler = StandardScaler()\n",
    "X_train = scaler.fit_transform(X_train)\n",
    "X_test = scaler.transform(X_test) #why only transform? saw this sa intsy mp"
   ]
  },
  {
   "cell_type": "code",
   "execution_count": null,
   "id": "7dabb1f0",
   "metadata": {},
   "outputs": [],
   "source": [
    "# #convert y values to categorical values\n",
    "# lab = preprocessing.LabelEncoder()\n",
    "# y_transformed = lab.fit_transform(y)"
   ]
  },
  {
   "cell_type": "code",
   "execution_count": null,
   "id": "451b6568",
   "metadata": {},
   "outputs": [],
   "source": [
    "def compute_RMSE(predictions, actual):\n",
    "    return np.sqrt(np.square(np.subtract(actual, predictions)).mean())\n",
    "def compute_mae(predictions, actual):\n",
    "    mae = np.absolute(np.subtract(actual, predictions)).mean()\n",
    "    return mae\n",
    "def compute_accuracy(predictions, actual):\n",
    "    # write code here\n",
    "    num_correct = np.sum(predictions == actual)\n",
    "    accuracy = num_correct/len(actual)\n",
    "    return accuracy*100"
   ]
  },
  {
   "cell_type": "code",
   "execution_count": null,
   "id": "8e70ef1d",
   "metadata": {},
   "outputs": [],
   "source": []
  },
  {
   "cell_type": "code",
   "execution_count": null,
   "id": "0dd1ef88",
   "metadata": {},
   "outputs": [],
   "source": []
  },
  {
   "cell_type": "code",
   "execution_count": null,
   "id": "03eb3402",
   "metadata": {},
   "outputs": [],
   "source": [
    "# RANDOM FOREST"
   ]
  },
  {
   "cell_type": "code",
   "execution_count": null,
   "id": "356d00b8",
   "metadata": {},
   "outputs": [],
   "source": [
    "from sklearn.ensemble import RandomForestClassifier"
   ]
  },
  {
   "cell_type": "code",
   "execution_count": null,
   "id": "a6f61e88",
   "metadata": {},
   "outputs": [],
   "source": [
    "#  RandomForestClassifier?"
   ]
  },
  {
   "cell_type": "code",
   "execution_count": null,
   "id": "f2589504",
   "metadata": {},
   "outputs": [],
   "source": [
    "rfc = RandomForestClassifier()\n",
    "rfc.get_params()"
   ]
  },
  {
   "cell_type": "code",
   "execution_count": null,
   "id": "5449c248",
   "metadata": {},
   "outputs": [],
   "source": [
    "hyperparameters = [\n",
    "        {\n",
    "        'n_estimators' : [50, 100, 200, 400, 600, 800, 1000, 1200, 1600, 1800],\n",
    "        'max_depth' : [10, 30, 50, 100, 150, 200, 250, 300, 350, None],\n",
    "        'min_samples_split' : [2, 4, 6, 10, 15, 20],\n",
    "        'max_leaf_nodes' : [100, 300, 500, 700, 900, 1100, 1300, None]\n",
    "    }\n",
    "]"
   ]
  },
  {
   "cell_type": "code",
   "execution_count": null,
   "id": "16680e51",
   "metadata": {},
   "outputs": [],
   "source": [
    "from sklearn.model_selection import RandomizedSearchCV\n",
    "rsrfc = RandomizedSearchCV(rfc, hyperparameters, random_state=42)\n",
    "rsrfc.fit(X_train, y_train)"
   ]
  },
  {
   "cell_type": "code",
   "execution_count": null,
   "id": "22f8ef14",
   "metadata": {
    "scrolled": true
   },
   "outputs": [],
   "source": [
    "best_params_rfc = rsrfc.best_params_\n",
    "best_params_rfc"
   ]
  },
  {
   "cell_type": "code",
   "execution_count": null,
   "id": "fc306685",
   "metadata": {},
   "outputs": [],
   "source": [
    "best_model_rfc = rsrfc.best_estimator_\n",
    "\n",
    "predictions_train_rfc = best_model_rfc.predict(X_train)\n",
    "\n",
    "train_rmse_rfc = compute_RMSE(predictions_train_rfc, y_train)\n",
    "print('Training RMSE: {}'.format(train_rmse_rfc))\n",
    "\n",
    "train_mae_rfc = compute_mae(predictions_train_rfc, y_train)\n",
    "print('Training MAE: {}'.format(train_mae_rfc))\n",
    "\n",
    "train_acc = compute_accuracy(predictions_train_rfc, y_train)\n",
    "print('Training Accuracy: {}'.format(train_acc))\n",
    "\n",
    "predictions_test_rfc = best_model_rfc.predict(X_test)\n",
    "\n",
    "test_rmse_rfc = compute_RMSE(predictions_test_rfc, y_test)\n",
    "print('Test RMSE: {}'.format(test_rmse_rfc))\n",
    "\n",
    "test_mae_rfc = compute_mae(predictions_test_rfc, y_test)\n",
    "print('Test MAE: {}'.format(test_mae_rfc))\n",
    "\n",
    "test_acc = compute_accuracy(predictions_test_rfc, y_test)\n",
    "print('Test Accuracy: {}'.format(test_acc))"
   ]
  },
  {
   "cell_type": "code",
   "execution_count": null,
   "id": "84e8d189",
   "metadata": {},
   "outputs": [],
   "source": []
  },
  {
   "cell_type": "code",
   "execution_count": null,
   "id": "605cf9f4",
   "metadata": {},
   "outputs": [],
   "source": []
  },
  {
   "cell_type": "code",
   "execution_count": null,
   "id": "fa673841",
   "metadata": {},
   "outputs": [],
   "source": []
  },
  {
   "cell_type": "code",
   "execution_count": null,
   "id": "60d60a57",
   "metadata": {},
   "outputs": [],
   "source": []
  },
  {
   "cell_type": "code",
   "execution_count": null,
   "id": "95706583",
   "metadata": {},
   "outputs": [],
   "source": []
  },
  {
   "cell_type": "code",
   "execution_count": null,
   "id": "7b3b51c7",
   "metadata": {},
   "outputs": [],
   "source": []
  },
  {
   "cell_type": "code",
   "execution_count": null,
   "id": "a5850265",
   "metadata": {},
   "outputs": [],
   "source": []
  },
  {
   "cell_type": "code",
   "execution_count": null,
   "id": "5e092e25",
   "metadata": {},
   "outputs": [],
   "source": []
  },
  {
   "cell_type": "code",
   "execution_count": null,
   "id": "c8391877",
   "metadata": {},
   "outputs": [],
   "source": []
  },
  {
   "cell_type": "code",
   "execution_count": null,
   "id": "8bdcd4e1",
   "metadata": {},
   "outputs": [],
   "source": [
    "# SVM"
   ]
  },
  {
   "cell_type": "code",
   "execution_count": null,
   "id": "b35885de",
   "metadata": {},
   "outputs": [],
   "source": [
    "from sklearn.svm import SVC"
   ]
  },
  {
   "cell_type": "code",
   "execution_count": null,
   "id": "8817d34b",
   "metadata": {},
   "outputs": [],
   "source": [
    "SVC?"
   ]
  },
  {
   "cell_type": "code",
   "execution_count": null,
   "id": "15ea7145",
   "metadata": {},
   "outputs": [],
   "source": [
    "svm = SVC()\n",
    "svm.get_params()"
   ]
  },
  {
   "cell_type": "code",
   "execution_count": null,
   "id": "08b77b30",
   "metadata": {},
   "outputs": [],
   "source": [
    "hyperparameters = [\n",
    "        {\n",
    "        'C' : [0.1, 1, 100, 1000],\n",
    "        'kernel' : ['rbf', 'poly', 'sigmoid', 'linear'],\n",
    "        'degree' : [1, 2, 3, 4, 5, 6]\n",
    "    }\n",
    "]"
   ]
  },
  {
   "cell_type": "code",
   "execution_count": null,
   "id": "163d0123",
   "metadata": {},
   "outputs": [],
   "source": [
    "# from sklearn.model_selection import RandomizedSearchCV\n",
    "rssvm = RandomizedSearchCV(svm, hyperparameters, random_state=42)\n",
    "rssvm.fit(X_train, y_train)"
   ]
  },
  {
   "cell_type": "code",
   "execution_count": null,
   "id": "7025cbce",
   "metadata": {},
   "outputs": [],
   "source": [
    "best_params_svm = rssvm.best_params_\n",
    "best_params_svm"
   ]
  },
  {
   "cell_type": "code",
   "execution_count": null,
   "id": "5d3944fa",
   "metadata": {},
   "outputs": [],
   "source": [
    "best_model_svm = rssvm.best_estimator_\n",
    "\n",
    "predictions_train_svm = best_model_svm.predict(X_train)\n",
    "\n",
    "train_rmse_svm = compute_RMSE(predictions_train_svm, y_train)\n",
    "print('Training RMSE: {}'.format(train_rmse_svm))\n",
    "\n",
    "train_mae_svm = compute_mae(predictions_train_svm, y_train)\n",
    "print('Training MAE: {}'.format(train_mae_svm))\n",
    "\n",
    "train_acc = compute_accuracy(predictions_train_svm, y_train)\n",
    "print('Training Accuracy: {}'.format(train_acc))\n",
    "\n",
    "predictions_test_svm = best_model_svm.predict(X_test)\n",
    "\n",
    "test_rmse_svm = compute_RMSE(predictions_test_svm, y_test)\n",
    "print('Test RMSE: {}'.format(test_rmse_svm))\n",
    "\n",
    "test_mae_svm = compute_mae(predictions_test_svm, y_test)\n",
    "print('Test MAE: {}'.format(test_mae_svm))\n",
    "\n",
    "test_acc = compute_accuracy(predictions_test_svm, y_test)\n",
    "print('Test Accuracy: {}'.format(test_acc))"
   ]
  },
  {
   "cell_type": "code",
   "execution_count": null,
   "id": "e31c0340",
   "metadata": {},
   "outputs": [],
   "source": []
  },
  {
   "cell_type": "code",
   "execution_count": null,
   "id": "5d501f54",
   "metadata": {},
   "outputs": [],
   "source": []
  },
  {
   "cell_type": "code",
   "execution_count": null,
   "id": "b19e40d1",
   "metadata": {},
   "outputs": [],
   "source": []
  },
  {
   "cell_type": "code",
   "execution_count": null,
   "id": "b0489f2a",
   "metadata": {},
   "outputs": [],
   "source": []
  },
  {
   "cell_type": "code",
   "execution_count": null,
   "id": "defa88de",
   "metadata": {},
   "outputs": [],
   "source": []
  },
  {
   "cell_type": "code",
   "execution_count": null,
   "id": "b02cd99c",
   "metadata": {},
   "outputs": [],
   "source": []
  },
  {
   "cell_type": "code",
   "execution_count": null,
   "id": "87b76127",
   "metadata": {},
   "outputs": [],
   "source": [
    "# BINARY TREES"
   ]
  },
  {
   "cell_type": "code",
   "execution_count": null,
   "id": "1d288c7b",
   "metadata": {},
   "outputs": [],
   "source": [
    "from sklearn.tree import DecisionTreeClassifier"
   ]
  },
  {
   "cell_type": "code",
   "execution_count": null,
   "id": "335bbb71",
   "metadata": {},
   "outputs": [],
   "source": [
    "DecisionTreeClassifier?"
   ]
  },
  {
   "cell_type": "code",
   "execution_count": null,
   "id": "7ad7332d",
   "metadata": {},
   "outputs": [],
   "source": [
    "dt = DecisionTreeClassifier()\n",
    "dt.get_params()"
   ]
  },
  {
   "cell_type": "code",
   "execution_count": null,
   "id": "b34f9f79",
   "metadata": {},
   "outputs": [],
   "source": [
    "hyperparameters = [\n",
    "    {\n",
    "        'min_impurity_decrease': [0.001, 0.01, 0.05, 0.1, 0.3, 0.5],\n",
    "        'max_depth': [5, 10, 20, 30],\n",
    "        'min_samples_split': [2, 4, 6, 10, 15, 20],\n",
    "        'max_leaf_nodes': [3, 5, 10, 20, 50, 100]\n",
    "    }\n",
    "]"
   ]
  },
  {
   "cell_type": "code",
   "execution_count": null,
   "id": "85081f0f",
   "metadata": {},
   "outputs": [],
   "source": [
    "from sklearn.model_selection import RandomizedSearchCV\n",
    "rsdt = RandomizedSearchCV(dt, hyperparameters, cv=5, random_state=42, n_iter=50)\n",
    "rsdt.fit(X_train, y_train)"
   ]
  },
  {
   "cell_type": "code",
   "execution_count": null,
   "id": "969979a8",
   "metadata": {},
   "outputs": [],
   "source": [
    "best_params_dt = rsdt.best_params_\n",
    "best_params_dt"
   ]
  },
  {
   "cell_type": "code",
   "execution_count": null,
   "id": "5d687b8c",
   "metadata": {},
   "outputs": [],
   "source": [
    "best_model_dt = rsdt.best_estimator_\n",
    "\n",
    "predictions_train_dt = best_model_dt.predict(X_train)\n",
    "\n",
    "train_rmse_dt = compute_RMSE(predictions_train_dt, y_train)\n",
    "print('Training RMSE: {}'.format(train_rmse_dt))\n",
    "\n",
    "train_mae_dt = compute_mae(predictions_train_dt, y_train)\n",
    "print('Training MAE: {}'.format(train_mae_dt))\n",
    "\n",
    "train_acc_dt = compute_accuracy(predictions_train_dt, y_train)\n",
    "print('Training Accuracy: {}'.format(train_acc_dt))\n",
    "\n",
    "predictions_test_dt = best_model_dt.predict(X_test)\n",
    "\n",
    "test_rmse_dt = compute_RMSE(predictions_test_dt, y_test)\n",
    "print('Test RMSE: {}'.format(test_rmse_dt))\n",
    "\n",
    "test_mae_dt = compute_mae(predictions_test_dt, y_test)\n",
    "print('Test MAE: {}'.format(test_mae_dt))\n",
    "\n",
    "test_acc_dt = compute_accuracy(predictions_test_dt, y_test)\n",
    "print('Test Accuracy: {}'.format(test_acc_dt))"
   ]
  },
  {
   "cell_type": "code",
   "execution_count": null,
   "id": "f9c6bf9b",
   "metadata": {
    "tags": []
   },
   "outputs": [],
   "source": []
  },
  {
   "cell_type": "code",
   "execution_count": null,
   "id": "f5a4455a-d89e-4821-844f-d0b6711f5b88",
   "metadata": {},
   "outputs": [],
   "source": []
  },
  {
   "cell_type": "markdown",
   "id": "726d59c9",
   "metadata": {},
   "source": [
    "CROWDSOURCE ONLY 3 MODELS"
   ]
  },
  {
   "cell_type": "code",
   "execution_count": null,
   "id": "50f57cb1",
   "metadata": {},
   "outputs": [],
   "source": [
    "# split data\n",
    "data = data2\n",
    "# data = data.drop(columns=['song_familiarity', 'artist_familiarity', 'bad_good', 'distasteful_tasty', 'dull_exciting', 'tasteless_tasteful', 'unimaginative_creative', 'untalented_talented', 'unpleasant_pleasant', 'forgettable_memorable', 'boring_interesting', 'listen_similar', 'share_friends', 'add_playlist'])\n",
    "data = data.drop(columns=['danceability', 'key', 'loudness', 'speechiness', 'liveness', 'valence', 'tempo', 'duration_ms'])\n",
    "data = data.drop(columns=['music_label', 'artist_collab', 'chart_history', 'mean_trends'])\n",
    "X_data =  data.values[:,:-1]\n",
    "y_data = data.values[:,-1]\n",
    "\n",
    "print(X_data.shape)\n",
    "print(y_data.shape)\n",
    "\n",
    "\n",
    "# mod = \"\"\"\n",
    "# chart_success =~ stream1 + stream2 + stream3 + stream4 + stream5 + stream6 + stream6 + stream7 + stream8 + stream9 + stream_category\n",
    "# intrinsic =~ danceability + key + loudness + speechiness + liveness + valence + tempo + duration_ms\n",
    "# extrinsic =~ music_label + artist_collab + chart_history + mean_trends\n",
    "# crowdsource =~ song_familiarity + artist_familiarity + bad_good + distasteful_tasty + dull_exciting + tasteless_tasteful + unimaginative_creative + untalented_talented + unpleasant_pleasant + forgettable_memorable + boring_interesting + listen_similar + share_friends + add_playlist\n",
    "\n",
    "# chart_success ~ intrinsic + extrinsic + crowdsource\n",
    "\n",
    "# DEFINE(ordinal) key music_label artist_collab stream1 stream2 stream3 stream4 stream5 stream6 stream7 stream8 stream9 stream_category\n",
    "#       \"\"\"\n",
    "# # try normalizing non-ordinal variables\n",
    "# from sklearn.preprocessing import StandardScaler\n",
    "# cols_to_norm = ['danceability', 'loudness', 'speechiness', 'liveness', 'valence', 'tempo', 'duration_ms', 'chart_history', 'mean_trends', 'song_familiarity', 'artist_familiarity', 'bad_good', 'distasteful_tasty', \n",
    "#                 'dull_exciting', 'tasteless_tasteful', 'unimaginative_creative', 'untalented_talented', 'unpleasant_pleasant', 'forgettable_memorable', 'boring_interesting', 'listen_similar', 'share_friends', 'add_playlist']\n",
    "# data[cols_to_norm] = StandardScaler().fit_transform(data[cols_to_norm])\n",
    "# # print(data)"
   ]
  },
  {
   "cell_type": "code",
   "execution_count": null,
   "id": "7338164f",
   "metadata": {
    "tags": []
   },
   "outputs": [],
   "source": []
  },
  {
   "cell_type": "code",
   "execution_count": null,
   "id": "b53e9b9e",
   "metadata": {
    "scrolled": true
   },
   "outputs": [],
   "source": [
    "from sklearn.model_selection import train_test_split\n",
    "X_train, X_test, y_train, y_test = train_test_split(X_data, y_data, random_state=1)\n",
    "\n",
    "print(\"X_train: \", X_train.shape)\n",
    "print(\"y_train: \", y_train.shape)\n",
    "print(\"X_test: \", X_test.shape)\n",
    "print(\"y_test: \", y_test.shape)"
   ]
  },
  {
   "cell_type": "code",
   "execution_count": null,
   "id": "8b4f8743",
   "metadata": {},
   "outputs": [],
   "source": [
    "# print(X_train)"
   ]
  },
  {
   "cell_type": "code",
   "execution_count": null,
   "id": "d4941173",
   "metadata": {},
   "outputs": [],
   "source": [
    "# y_train"
   ]
  },
  {
   "cell_type": "code",
   "execution_count": null,
   "id": "89c62960",
   "metadata": {},
   "outputs": [],
   "source": [
    "# normalizing (read that z-scaling is standardscaler)\n",
    "from sklearn.preprocessing import StandardScaler\n",
    "scaler = StandardScaler()\n",
    "X_train = scaler.fit_transform(X_train)\n",
    "X_test = scaler.transform(X_test) #why only transform? saw this sa intsy mp"
   ]
  },
  {
   "cell_type": "code",
   "execution_count": null,
   "id": "dce04c39",
   "metadata": {},
   "outputs": [],
   "source": [
    "# #convert y values to categorical values\n",
    "# lab = preprocessing.LabelEncoder()\n",
    "# y_transformed = lab.fit_transform(y)"
   ]
  },
  {
   "cell_type": "code",
   "execution_count": null,
   "id": "c3752674",
   "metadata": {},
   "outputs": [],
   "source": [
    "def compute_RMSE(predictions, actual):\n",
    "    return np.sqrt(np.square(np.subtract(actual, predictions)).mean())\n",
    "def compute_mae(predictions, actual):\n",
    "    mae = np.absolute(np.subtract(actual, predictions)).mean()\n",
    "    return mae\n",
    "def compute_accuracy(predictions, actual):\n",
    "    # write code here\n",
    "    num_correct = np.sum(predictions == actual)\n",
    "    accuracy = num_correct/len(actual)\n",
    "    return accuracy*100"
   ]
  },
  {
   "cell_type": "code",
   "execution_count": null,
   "id": "87c82900",
   "metadata": {},
   "outputs": [],
   "source": []
  },
  {
   "cell_type": "code",
   "execution_count": null,
   "id": "02e65ba2",
   "metadata": {},
   "outputs": [],
   "source": []
  },
  {
   "cell_type": "code",
   "execution_count": null,
   "id": "83734878",
   "metadata": {},
   "outputs": [],
   "source": [
    "# RANDOM FOREST"
   ]
  },
  {
   "cell_type": "code",
   "execution_count": null,
   "id": "4b33f81c",
   "metadata": {},
   "outputs": [],
   "source": [
    "from sklearn.ensemble import RandomForestClassifier"
   ]
  },
  {
   "cell_type": "code",
   "execution_count": null,
   "id": "6e94064e",
   "metadata": {},
   "outputs": [],
   "source": [
    "#  RandomForestClassifier?"
   ]
  },
  {
   "cell_type": "code",
   "execution_count": null,
   "id": "ce26f7be",
   "metadata": {},
   "outputs": [],
   "source": [
    "rfc = RandomForestClassifier()\n",
    "rfc.get_params()"
   ]
  },
  {
   "cell_type": "code",
   "execution_count": null,
   "id": "88f95d84",
   "metadata": {},
   "outputs": [],
   "source": [
    "hyperparameters = [\n",
    "        {\n",
    "        'n_estimators' : [50, 100, 200, 400, 600, 800, 1000, 1200, 1600, 1800],\n",
    "        'max_depth' : [10, 30, 50, 100, 150, 200, 250, 300, 350, None],\n",
    "        'min_samples_split' : [2, 4, 6, 10, 15, 20],\n",
    "        'max_leaf_nodes' : [100, 300, 500, 700, 900, 1100, 1300, None]\n",
    "    }\n",
    "]"
   ]
  },
  {
   "cell_type": "code",
   "execution_count": null,
   "id": "189d6ecf",
   "metadata": {},
   "outputs": [],
   "source": [
    "from sklearn.model_selection import RandomizedSearchCV\n",
    "rsrfc = RandomizedSearchCV(rfc, hyperparameters, random_state=42)\n",
    "rsrfc.fit(X_train, y_train)"
   ]
  },
  {
   "cell_type": "code",
   "execution_count": null,
   "id": "40892219",
   "metadata": {
    "scrolled": true
   },
   "outputs": [],
   "source": [
    "best_params_rfc = rsrfc.best_params_\n",
    "best_params_rfc"
   ]
  },
  {
   "cell_type": "code",
   "execution_count": null,
   "id": "dbb6550d",
   "metadata": {},
   "outputs": [],
   "source": [
    "best_model_rfc = rsrfc.best_estimator_\n",
    "\n",
    "predictions_train_rfc = best_model_rfc.predict(X_train)\n",
    "\n",
    "train_rmse_rfc = compute_RMSE(predictions_train_rfc, y_train)\n",
    "print('Training RMSE: {}'.format(train_rmse_rfc))\n",
    "\n",
    "train_mae_rfc = compute_mae(predictions_train_rfc, y_train)\n",
    "print('Training MAE: {}'.format(train_mae_rfc))\n",
    "\n",
    "train_acc = compute_accuracy(predictions_train_rfc, y_train)\n",
    "print('Training Accuracy: {}'.format(train_acc))\n",
    "\n",
    "predictions_test_rfc = best_model_rfc.predict(X_test)\n",
    "\n",
    "test_rmse_rfc = compute_RMSE(predictions_test_rfc, y_test)\n",
    "print('Test RMSE: {}'.format(test_rmse_rfc))\n",
    "\n",
    "test_mae_rfc = compute_mae(predictions_test_rfc, y_test)\n",
    "print('Test MAE: {}'.format(test_mae_rfc))\n",
    "\n",
    "test_acc = compute_accuracy(predictions_test_rfc, y_test)\n",
    "print('Test Accuracy: {}'.format(test_acc))"
   ]
  },
  {
   "cell_type": "code",
   "execution_count": null,
   "id": "a85d5939",
   "metadata": {},
   "outputs": [],
   "source": []
  },
  {
   "cell_type": "code",
   "execution_count": null,
   "id": "fc0fc22f",
   "metadata": {},
   "outputs": [],
   "source": []
  },
  {
   "cell_type": "code",
   "execution_count": null,
   "id": "41066454",
   "metadata": {},
   "outputs": [],
   "source": []
  },
  {
   "cell_type": "code",
   "execution_count": null,
   "id": "3962a91f",
   "metadata": {},
   "outputs": [],
   "source": []
  },
  {
   "cell_type": "code",
   "execution_count": null,
   "id": "8cee0b34",
   "metadata": {},
   "outputs": [],
   "source": []
  },
  {
   "cell_type": "code",
   "execution_count": null,
   "id": "665128f1",
   "metadata": {},
   "outputs": [],
   "source": []
  },
  {
   "cell_type": "code",
   "execution_count": null,
   "id": "b038afd1",
   "metadata": {},
   "outputs": [],
   "source": []
  },
  {
   "cell_type": "code",
   "execution_count": null,
   "id": "fdb12c06",
   "metadata": {},
   "outputs": [],
   "source": []
  },
  {
   "cell_type": "code",
   "execution_count": null,
   "id": "45ba0389",
   "metadata": {},
   "outputs": [],
   "source": []
  },
  {
   "cell_type": "code",
   "execution_count": null,
   "id": "4add6764",
   "metadata": {},
   "outputs": [],
   "source": [
    "# SVM"
   ]
  },
  {
   "cell_type": "code",
   "execution_count": null,
   "id": "44e900ca",
   "metadata": {},
   "outputs": [],
   "source": [
    "from sklearn.svm import SVC"
   ]
  },
  {
   "cell_type": "code",
   "execution_count": null,
   "id": "567ebb6f",
   "metadata": {},
   "outputs": [],
   "source": [
    "SVC?"
   ]
  },
  {
   "cell_type": "code",
   "execution_count": null,
   "id": "3e31a1a4",
   "metadata": {},
   "outputs": [],
   "source": [
    "svm = SVC()\n",
    "svm.get_params()"
   ]
  },
  {
   "cell_type": "code",
   "execution_count": null,
   "id": "2b08fc7e",
   "metadata": {},
   "outputs": [],
   "source": [
    "hyperparameters = [\n",
    "        {\n",
    "        'C' : [0.1, 1, 100, 1000],\n",
    "        'kernel' : ['rbf', 'poly', 'sigmoid', 'linear'],\n",
    "        'degree' : [1, 2, 3, 4, 5, 6]\n",
    "    }\n",
    "]"
   ]
  },
  {
   "cell_type": "code",
   "execution_count": null,
   "id": "3d8f5ee3",
   "metadata": {},
   "outputs": [],
   "source": [
    "# from sklearn.model_selection import RandomizedSearchCV\n",
    "rssvm = RandomizedSearchCV(svm, hyperparameters, random_state=42)\n",
    "rssvm.fit(X_train, y_train)"
   ]
  },
  {
   "cell_type": "code",
   "execution_count": null,
   "id": "5d8d262b",
   "metadata": {},
   "outputs": [],
   "source": [
    "best_params_svm = rssvm.best_params_\n",
    "best_params_svm"
   ]
  },
  {
   "cell_type": "code",
   "execution_count": null,
   "id": "fb9b73f4",
   "metadata": {
    "scrolled": true
   },
   "outputs": [],
   "source": [
    "best_model_svm = rssvm.best_estimator_\n",
    "\n",
    "predictions_train_svm = best_model_svm.predict(X_train)\n",
    "\n",
    "train_rmse_svm = compute_RMSE(predictions_train_svm, y_train)\n",
    "print('Training RMSE: {}'.format(train_rmse_svm))\n",
    "\n",
    "train_mae_svm = compute_mae(predictions_train_svm, y_train)\n",
    "print('Training MAE: {}'.format(train_mae_svm))\n",
    "\n",
    "train_acc = compute_accuracy(predictions_train_svm, y_train)\n",
    "print('Training Accuracy: {}'.format(train_acc))\n",
    "\n",
    "predictions_test_svm = best_model_svm.predict(X_test)\n",
    "\n",
    "test_rmse_svm = compute_RMSE(predictions_test_svm, y_test)\n",
    "print('Test RMSE: {}'.format(test_rmse_svm))\n",
    "\n",
    "test_mae_svm = compute_mae(predictions_test_svm, y_test)\n",
    "print('Test MAE: {}'.format(test_mae_svm))\n",
    "\n",
    "test_acc = compute_accuracy(predictions_test_svm, y_test)\n",
    "print('Test Accuracy: {}'.format(test_acc))"
   ]
  },
  {
   "cell_type": "code",
   "execution_count": null,
   "id": "48185ddc",
   "metadata": {},
   "outputs": [],
   "source": []
  },
  {
   "cell_type": "code",
   "execution_count": null,
   "id": "c4d6eb56",
   "metadata": {},
   "outputs": [],
   "source": []
  },
  {
   "cell_type": "code",
   "execution_count": null,
   "id": "86b55739",
   "metadata": {},
   "outputs": [],
   "source": []
  },
  {
   "cell_type": "code",
   "execution_count": null,
   "id": "5cec9421",
   "metadata": {},
   "outputs": [],
   "source": []
  },
  {
   "cell_type": "code",
   "execution_count": null,
   "id": "01b810f0",
   "metadata": {},
   "outputs": [],
   "source": []
  },
  {
   "cell_type": "code",
   "execution_count": null,
   "id": "d05ffdbc",
   "metadata": {},
   "outputs": [],
   "source": []
  },
  {
   "cell_type": "code",
   "execution_count": null,
   "id": "2b5337c7",
   "metadata": {},
   "outputs": [],
   "source": [
    "# BINARY TREES"
   ]
  },
  {
   "cell_type": "code",
   "execution_count": null,
   "id": "1fec678f",
   "metadata": {},
   "outputs": [],
   "source": [
    "from sklearn.tree import DecisionTreeClassifier"
   ]
  },
  {
   "cell_type": "code",
   "execution_count": null,
   "id": "85a99011",
   "metadata": {},
   "outputs": [],
   "source": [
    "DecisionTreeClassifier?"
   ]
  },
  {
   "cell_type": "code",
   "execution_count": null,
   "id": "7a626ab0",
   "metadata": {},
   "outputs": [],
   "source": [
    "dt = DecisionTreeClassifier()\n",
    "dt.get_params()"
   ]
  },
  {
   "cell_type": "code",
   "execution_count": null,
   "id": "45afbf3b",
   "metadata": {},
   "outputs": [],
   "source": [
    "hyperparameters = [\n",
    "    {\n",
    "        'min_impurity_decrease': [0.001, 0.01, 0.05, 0.1, 0.3, 0.5],\n",
    "        'max_depth': [5, 10, 20, 30],\n",
    "        'min_samples_split': [2, 4, 6, 10, 15, 20],\n",
    "        'max_leaf_nodes': [3, 5, 10, 20, 50, 100]\n",
    "    }\n",
    "]"
   ]
  },
  {
   "cell_type": "code",
   "execution_count": null,
   "id": "61a4c860",
   "metadata": {},
   "outputs": [],
   "source": [
    "from sklearn.model_selection import RandomizedSearchCV\n",
    "rsdt = RandomizedSearchCV(dt, hyperparameters, cv=5, random_state=42, n_iter=50)\n",
    "rsdt.fit(X_train, y_train)"
   ]
  },
  {
   "cell_type": "code",
   "execution_count": null,
   "id": "71aa74bc",
   "metadata": {},
   "outputs": [],
   "source": [
    "best_params_dt = rsdt.best_params_\n",
    "best_params_dt"
   ]
  },
  {
   "cell_type": "code",
   "execution_count": null,
   "id": "24485a6c",
   "metadata": {},
   "outputs": [],
   "source": [
    "best_model_dt = rsdt.best_estimator_\n",
    "\n",
    "predictions_train_dt = best_model_dt.predict(X_train)\n",
    "\n",
    "train_rmse_dt = compute_RMSE(predictions_train_dt, y_train)\n",
    "print('Training RMSE: {}'.format(train_rmse_dt))\n",
    "\n",
    "train_mae_dt = compute_mae(predictions_train_dt, y_train)\n",
    "print('Training MAE: {}'.format(train_mae_dt))\n",
    "\n",
    "train_acc_dt = compute_accuracy(predictions_train_dt, y_train)\n",
    "print('Training Accuracy: {}'.format(train_acc_dt))\n",
    "\n",
    "predictions_test_dt = best_model_dt.predict(X_test)\n",
    "\n",
    "test_rmse_dt = compute_RMSE(predictions_test_dt, y_test)\n",
    "print('Test RMSE: {}'.format(test_rmse_dt))\n",
    "\n",
    "test_mae_dt = compute_mae(predictions_test_dt, y_test)\n",
    "print('Test MAE: {}'.format(test_mae_dt))\n",
    "\n",
    "test_acc_dt = compute_accuracy(predictions_test_dt, y_test)\n",
    "print('Test Accuracy: {}'.format(test_acc_dt))"
   ]
  },
  {
   "cell_type": "code",
   "execution_count": null,
   "id": "3718a4df",
   "metadata": {
    "tags": []
   },
   "outputs": [],
   "source": []
  },
  {
   "cell_type": "code",
   "execution_count": null,
   "id": "1f40841a-ead0-435e-baa1-f71af71ec85a",
   "metadata": {},
   "outputs": [],
   "source": []
  },
  {
   "cell_type": "code",
   "execution_count": null,
   "id": "2405afdd-ab4c-411b-aa12-94d2ae4c5561",
   "metadata": {},
   "outputs": [],
   "source": []
  },
  {
   "cell_type": "code",
   "execution_count": null,
   "id": "2fb27b44-1e4a-4a5e-923b-0fe2e4a00867",
   "metadata": {},
   "outputs": [],
   "source": []
  },
  {
   "cell_type": "markdown",
   "id": "43bb3a73-3b54-4ecb-872f-846611d01db1",
   "metadata": {},
   "source": [
    "BEST FEATURES FROM SEM 3 MODELS"
   ]
  },
  {
   "cell_type": "code",
   "execution_count": null,
   "id": "7b1f9177-eab6-43c2-986d-9133016a1def",
   "metadata": {},
   "outputs": [],
   "source": [
    "# split data\n",
    "data = data2\n",
    "data = data.drop(columns=['song_familiarity', 'bad_good', 'distasteful_tasty', 'dull_exciting', 'tasteless_tasteful', 'unimaginative_creative', 'untalented_talented', 'unpleasant_pleasant', 'forgettable_memorable', 'boring_interesting', 'listen_similar', 'share_friends', 'add_playlist'])\n",
    "data = data.drop(columns=['danceability', 'loudness', 'speechiness', 'valence', 'duration_ms'])\n",
    "data = data.drop(columns=['music_label', 'artist_collab'])\n",
    "X_data =  data.values[:,:-1]\n",
    "y_data = data.values[:,-1]\n",
    "\n",
    "print(X_data.shape)\n",
    "print(y_data.shape)\n",
    "\n",
    "\n",
    "# mod = \"\"\"\n",
    "# chart_success =~ stream1 + stream2 + stream3 + stream4 + stream5 + stream6 + stream6 + stream7 + stream8 + stream9 + stream_category\n",
    "# intrinsic =~ danceability + key + loudness + speechiness + liveness + valence + tempo + duration_ms\n",
    "# extrinsic =~ music_label + artist_collab + chart_history + mean_trends\n",
    "# crowdsource =~ song_familiarity + artist_familiarity + bad_good + distasteful_tasty + dull_exciting + tasteless_tasteful + unimaginative_creative + untalented_talented + unpleasant_pleasant + forgettable_memorable + boring_interesting + listen_similar + share_friends + add_playlist\n",
    "\n",
    "# chart_success ~ intrinsic + extrinsic + crowdsource\n",
    "\n",
    "# DEFINE(ordinal) key music_label artist_collab stream1 stream2 stream3 stream4 stream5 stream6 stream7 stream8 stream9 stream_category\n",
    "#       \"\"\"\n",
    "# # try normalizing non-ordinal variables\n",
    "# from sklearn.preprocessing import StandardScaler\n",
    "# cols_to_norm = ['danceability', 'loudness', 'speechiness', 'liveness', 'valence', 'tempo', 'duration_ms', 'chart_history', 'mean_trends', 'song_familiarity', 'artist_familiarity', 'bad_good', 'distasteful_tasty', \n",
    "#                 'dull_exciting', 'tasteless_tasteful', 'unimaginative_creative', 'untalented_talented', 'unpleasant_pleasant', 'forgettable_memorable', 'boring_interesting', 'listen_similar', 'share_friends', 'add_playlist']\n",
    "# data[cols_to_norm] = StandardScaler().fit_transform(data[cols_to_norm])\n",
    "# # print(data)"
   ]
  },
  {
   "cell_type": "code",
   "execution_count": null,
   "id": "91dc4315-46bc-4e1f-b964-960a224a0cc3",
   "metadata": {
    "tags": []
   },
   "outputs": [],
   "source": []
  },
  {
   "cell_type": "code",
   "execution_count": null,
   "id": "18cfc09a-605a-419a-8f28-da867e1d279b",
   "metadata": {
    "scrolled": true
   },
   "outputs": [],
   "source": [
    "from sklearn.model_selection import train_test_split\n",
    "X_train, X_test, y_train, y_test = train_test_split(X_data, y_data, random_state=1)\n",
    "\n",
    "print(\"X_train: \", X_train.shape)\n",
    "print(\"y_train: \", y_train.shape)\n",
    "print(\"X_test: \", X_test.shape)\n",
    "print(\"y_test: \", y_test.shape)"
   ]
  },
  {
   "cell_type": "code",
   "execution_count": null,
   "id": "f71cbf8d-e8b1-4403-b0a4-64abdb445731",
   "metadata": {},
   "outputs": [],
   "source": [
    "# print(X_train)"
   ]
  },
  {
   "cell_type": "code",
   "execution_count": null,
   "id": "1ca30639-bc6c-4416-82bb-cd98ef0c2ec9",
   "metadata": {},
   "outputs": [],
   "source": [
    "# y_train"
   ]
  },
  {
   "cell_type": "code",
   "execution_count": null,
   "id": "c68c1524-1df8-4daa-b68a-11c3878f9059",
   "metadata": {},
   "outputs": [],
   "source": [
    "# normalizing (read that z-scaling is standardscaler)\n",
    "from sklearn.preprocessing import StandardScaler\n",
    "scaler = StandardScaler()\n",
    "X_train = scaler.fit_transform(X_train)\n",
    "X_test = scaler.transform(X_test) #why only transform? saw this sa intsy mp"
   ]
  },
  {
   "cell_type": "code",
   "execution_count": null,
   "id": "019e2072-d52d-4b76-b507-6d903ff3fa5f",
   "metadata": {},
   "outputs": [],
   "source": [
    "# #convert y values to categorical values\n",
    "# lab = preprocessing.LabelEncoder()\n",
    "# y_transformed = lab.fit_transform(y)"
   ]
  },
  {
   "cell_type": "code",
   "execution_count": null,
   "id": "b93de7fe-7e24-417a-ab9b-7bb71f7d27c7",
   "metadata": {},
   "outputs": [],
   "source": [
    "def compute_RMSE(predictions, actual):\n",
    "    return np.sqrt(np.square(np.subtract(actual, predictions)).mean())\n",
    "def compute_mae(predictions, actual):\n",
    "    mae = np.absolute(np.subtract(actual, predictions)).mean()\n",
    "    return mae\n",
    "def compute_accuracy(predictions, actual):\n",
    "    # write code here\n",
    "    num_correct = np.sum(predictions == actual)\n",
    "    accuracy = num_correct/len(actual)\n",
    "    return accuracy*100"
   ]
  },
  {
   "cell_type": "code",
   "execution_count": null,
   "id": "e5c03f0e-e729-43e7-86e1-18d57a2bb73e",
   "metadata": {},
   "outputs": [],
   "source": []
  },
  {
   "cell_type": "code",
   "execution_count": null,
   "id": "33c28a17-246b-46e9-97be-38f96e3d214f",
   "metadata": {},
   "outputs": [],
   "source": []
  },
  {
   "cell_type": "code",
   "execution_count": null,
   "id": "65897e21-5daf-4784-8da2-a47c223c96a6",
   "metadata": {},
   "outputs": [],
   "source": [
    "# RANDOM FOREST"
   ]
  },
  {
   "cell_type": "code",
   "execution_count": null,
   "id": "3f8e213f-a40e-4d10-99a4-4893c1b715e9",
   "metadata": {},
   "outputs": [],
   "source": [
    "from sklearn.ensemble import RandomForestClassifier"
   ]
  },
  {
   "cell_type": "code",
   "execution_count": null,
   "id": "4b2da9a7-9667-4f49-8d10-f7449ca1eff6",
   "metadata": {},
   "outputs": [],
   "source": [
    "#  RandomForestClassifier?"
   ]
  },
  {
   "cell_type": "code",
   "execution_count": null,
   "id": "04135868-90f5-471a-8baa-608181ff071f",
   "metadata": {},
   "outputs": [],
   "source": [
    "rfc = RandomForestClassifier()\n",
    "rfc.get_params()"
   ]
  },
  {
   "cell_type": "code",
   "execution_count": null,
   "id": "2ce72ec2-891a-49c2-921f-5badd30175d9",
   "metadata": {},
   "outputs": [],
   "source": [
    "hyperparameters = [\n",
    "        {\n",
    "        'n_estimators' : [50, 100, 200, 400, 600, 800, 1000, 1200, 1600, 1800],\n",
    "        'max_depth' : [10, 30, 50, 100, 150, 200, 250, 300, 350, None],\n",
    "        'min_samples_split' : [2, 4, 6, 10, 15, 20],\n",
    "        'max_leaf_nodes' : [100, 300, 500, 700, 900, 1100, 1300, None]\n",
    "    }\n",
    "]"
   ]
  },
  {
   "cell_type": "code",
   "execution_count": null,
   "id": "eda6d905-52e8-416c-8f22-9a7ff1aaf7c0",
   "metadata": {},
   "outputs": [],
   "source": [
    "from sklearn.model_selection import RandomizedSearchCV\n",
    "rsrfc = RandomizedSearchCV(rfc, hyperparameters, random_state=42)\n",
    "rsrfc.fit(X_train, y_train)"
   ]
  },
  {
   "cell_type": "code",
   "execution_count": null,
   "id": "197e933c-ab5b-4af8-808f-8c4fc7617b8b",
   "metadata": {
    "scrolled": true
   },
   "outputs": [],
   "source": [
    "best_params_rfc = rsrfc.best_params_\n",
    "best_params_rfc"
   ]
  },
  {
   "cell_type": "code",
   "execution_count": null,
   "id": "903130a8-826c-4b2a-9ccb-c3041c72955f",
   "metadata": {},
   "outputs": [],
   "source": [
    "best_model_rfc = rsrfc.best_estimator_\n",
    "\n",
    "predictions_train_rfc = best_model_rfc.predict(X_train)\n",
    "\n",
    "train_rmse_rfc = compute_RMSE(predictions_train_rfc, y_train)\n",
    "print('Training RMSE: {}'.format(train_rmse_rfc))\n",
    "\n",
    "train_mae_rfc = compute_mae(predictions_train_rfc, y_train)\n",
    "print('Training MAE: {}'.format(train_mae_rfc))\n",
    "\n",
    "train_acc = compute_accuracy(predictions_train_rfc, y_train)\n",
    "print('Training Accuracy: {}'.format(train_acc))\n",
    "\n",
    "predictions_test_rfc = best_model_rfc.predict(X_test)\n",
    "\n",
    "test_rmse_rfc = compute_RMSE(predictions_test_rfc, y_test)\n",
    "print('Test RMSE: {}'.format(test_rmse_rfc))\n",
    "\n",
    "test_mae_rfc = compute_mae(predictions_test_rfc, y_test)\n",
    "print('Test MAE: {}'.format(test_mae_rfc))\n",
    "\n",
    "test_acc = compute_accuracy(predictions_test_rfc, y_test)\n",
    "print('Test Accuracy: {}'.format(test_acc))"
   ]
  },
  {
   "cell_type": "code",
   "execution_count": null,
   "id": "7bc3ff3c-2b8c-4a96-88b0-3e03b435726b",
   "metadata": {},
   "outputs": [],
   "source": []
  },
  {
   "cell_type": "code",
   "execution_count": null,
   "id": "79a032a8-458c-466e-82f7-b0f1454cd08f",
   "metadata": {},
   "outputs": [],
   "source": []
  },
  {
   "cell_type": "code",
   "execution_count": null,
   "id": "ab546226-e1db-4bce-aac2-a53fcd6ecb84",
   "metadata": {},
   "outputs": [],
   "source": []
  },
  {
   "cell_type": "code",
   "execution_count": null,
   "id": "cad4a21d-03bb-4c2d-a884-3b2ad4b6347f",
   "metadata": {},
   "outputs": [],
   "source": []
  },
  {
   "cell_type": "code",
   "execution_count": null,
   "id": "72c9ee23-86c7-419d-a185-423e6ca5d532",
   "metadata": {},
   "outputs": [],
   "source": []
  },
  {
   "cell_type": "code",
   "execution_count": null,
   "id": "8f639bb3-b702-4486-9e7a-43a7a8fee62c",
   "metadata": {},
   "outputs": [],
   "source": []
  },
  {
   "cell_type": "code",
   "execution_count": null,
   "id": "b17b0c36-0fc0-4562-9aab-e0aa30b2bb72",
   "metadata": {},
   "outputs": [],
   "source": []
  },
  {
   "cell_type": "code",
   "execution_count": null,
   "id": "e2ab82b2-29cd-47a7-bf75-c53fd88e4106",
   "metadata": {},
   "outputs": [],
   "source": []
  },
  {
   "cell_type": "code",
   "execution_count": null,
   "id": "720c2cb1-3185-459a-ae7d-db42d203950d",
   "metadata": {},
   "outputs": [],
   "source": []
  },
  {
   "cell_type": "code",
   "execution_count": null,
   "id": "f514ff58-a4e4-4795-8b18-3c7883f9b1b2",
   "metadata": {},
   "outputs": [],
   "source": [
    "# SVM"
   ]
  },
  {
   "cell_type": "code",
   "execution_count": null,
   "id": "f5f51f5d-7cd8-42c2-ac33-de631e0689c3",
   "metadata": {},
   "outputs": [],
   "source": [
    "from sklearn.svm import SVC"
   ]
  },
  {
   "cell_type": "code",
   "execution_count": null,
   "id": "60c903dc-642a-483d-925d-d3cc40d6d603",
   "metadata": {},
   "outputs": [],
   "source": [
    "SVC?"
   ]
  },
  {
   "cell_type": "code",
   "execution_count": null,
   "id": "7d3626d3-a1ce-402d-8b4c-1f9ef7f6ee7c",
   "metadata": {},
   "outputs": [],
   "source": [
    "svm = SVC()\n",
    "svm.get_params()"
   ]
  },
  {
   "cell_type": "code",
   "execution_count": null,
   "id": "6f35d9bf-fb84-4d1e-9ead-7c9cb8a24629",
   "metadata": {},
   "outputs": [],
   "source": [
    "hyperparameters = [\n",
    "        {\n",
    "        'C' : [0.1, 1, 100, 1000],\n",
    "        'kernel' : ['rbf', 'poly', 'sigmoid', 'linear'],\n",
    "        'degree' : [1, 2, 3, 4, 5, 6]\n",
    "    }\n",
    "]"
   ]
  },
  {
   "cell_type": "code",
   "execution_count": null,
   "id": "0fe92525-fc53-429c-8c5d-768bbe36c722",
   "metadata": {},
   "outputs": [],
   "source": [
    "# from sklearn.model_selection import RandomizedSearchCV\n",
    "rssvm = RandomizedSearchCV(svm, hyperparameters, random_state=42)\n",
    "rssvm.fit(X_train, y_train)"
   ]
  },
  {
   "cell_type": "code",
   "execution_count": null,
   "id": "7c96a3ab-b30c-496a-a163-ac8ff7ac0def",
   "metadata": {},
   "outputs": [],
   "source": [
    "best_params_svm = rssvm.best_params_\n",
    "best_params_svm"
   ]
  },
  {
   "cell_type": "code",
   "execution_count": null,
   "id": "eddb9992-fb2c-49c7-a9fb-3379c0e13275",
   "metadata": {},
   "outputs": [],
   "source": [
    "best_model_svm = rssvm.best_estimator_\n",
    "\n",
    "predictions_train_svm = best_model_svm.predict(X_train)\n",
    "\n",
    "train_rmse_svm = compute_RMSE(predictions_train_svm, y_train)\n",
    "print('Training RMSE: {}'.format(train_rmse_svm))\n",
    "\n",
    "train_mae_svm = compute_mae(predictions_train_svm, y_train)\n",
    "print('Training MAE: {}'.format(train_mae_svm))\n",
    "\n",
    "train_acc = compute_accuracy(predictions_train_svm, y_train)\n",
    "print('Training Accuracy: {}'.format(train_acc))\n",
    "\n",
    "predictions_test_svm = best_model_svm.predict(X_test)\n",
    "\n",
    "test_rmse_svm = compute_RMSE(predictions_test_svm, y_test)\n",
    "print('Test RMSE: {}'.format(test_rmse_svm))\n",
    "\n",
    "test_mae_svm = compute_mae(predictions_test_svm, y_test)\n",
    "print('Test MAE: {}'.format(test_mae_svm))\n",
    "\n",
    "test_acc = compute_accuracy(predictions_test_svm, y_test)\n",
    "print('Test Accuracy: {}'.format(test_acc))"
   ]
  },
  {
   "cell_type": "code",
   "execution_count": null,
   "id": "52a97ab7-f53e-4256-9d95-16d143b80b4f",
   "metadata": {},
   "outputs": [],
   "source": []
  },
  {
   "cell_type": "code",
   "execution_count": null,
   "id": "880aa058-96b5-480f-82ae-e62a85a4621d",
   "metadata": {},
   "outputs": [],
   "source": []
  },
  {
   "cell_type": "code",
   "execution_count": null,
   "id": "a98ccb8f-ccca-4895-96be-5e35e1269d2f",
   "metadata": {},
   "outputs": [],
   "source": []
  },
  {
   "cell_type": "code",
   "execution_count": null,
   "id": "ea856bdc-731e-4517-b837-950f51139570",
   "metadata": {},
   "outputs": [],
   "source": []
  },
  {
   "cell_type": "code",
   "execution_count": null,
   "id": "30f51435-4506-4ee3-8ce0-f2bd685228c1",
   "metadata": {},
   "outputs": [],
   "source": []
  },
  {
   "cell_type": "code",
   "execution_count": null,
   "id": "67b98644-2164-4792-85a8-4e11ce352a03",
   "metadata": {},
   "outputs": [],
   "source": []
  },
  {
   "cell_type": "code",
   "execution_count": null,
   "id": "e8b2c905-97bc-4afa-a756-71a6a6abdf7a",
   "metadata": {},
   "outputs": [],
   "source": [
    "# BINARY TREES"
   ]
  },
  {
   "cell_type": "code",
   "execution_count": null,
   "id": "649fdb65-2f0d-4032-952c-4fc63585be03",
   "metadata": {},
   "outputs": [],
   "source": [
    "from sklearn.tree import DecisionTreeClassifier"
   ]
  },
  {
   "cell_type": "code",
   "execution_count": null,
   "id": "9fd5db94-8a98-4149-b94a-9f0f9e878f1d",
   "metadata": {},
   "outputs": [],
   "source": [
    "DecisionTreeClassifier?"
   ]
  },
  {
   "cell_type": "code",
   "execution_count": null,
   "id": "9d61b897-53c1-4832-876d-bca6a4cd4382",
   "metadata": {},
   "outputs": [],
   "source": [
    "dt = DecisionTreeClassifier()\n",
    "dt.get_params()"
   ]
  },
  {
   "cell_type": "code",
   "execution_count": null,
   "id": "ee9e4ade-212b-465c-b7ac-576ca332deb4",
   "metadata": {},
   "outputs": [],
   "source": [
    "hyperparameters = [\n",
    "    {\n",
    "        'min_impurity_decrease': [0.001, 0.01, 0.05, 0.1, 0.3, 0.5],\n",
    "        'max_depth': [5, 10, 20, 30],\n",
    "        'min_samples_split': [2, 4, 6, 10, 15, 20],\n",
    "        'max_leaf_nodes': [3, 5, 10, 20, 50, 100]\n",
    "    }\n",
    "]"
   ]
  },
  {
   "cell_type": "code",
   "execution_count": null,
   "id": "68b5bc6b-47ec-4fba-8fbd-509e7633a626",
   "metadata": {},
   "outputs": [],
   "source": [
    "from sklearn.model_selection import RandomizedSearchCV\n",
    "rsdt = RandomizedSearchCV(dt, hyperparameters, cv=5, random_state=42, n_iter=50)\n",
    "rsdt.fit(X_train, y_train)"
   ]
  },
  {
   "cell_type": "code",
   "execution_count": null,
   "id": "a6ed3ca7-bdcb-433c-909a-42856bb1e149",
   "metadata": {},
   "outputs": [],
   "source": [
    "best_params_dt = rsdt.best_params_\n",
    "best_params_dt"
   ]
  },
  {
   "cell_type": "code",
   "execution_count": null,
   "id": "4ddb48b2-7532-4695-8f7f-cc358c4ad329",
   "metadata": {},
   "outputs": [],
   "source": [
    "best_model_dt = rsdt.best_estimator_\n",
    "\n",
    "predictions_train_dt = best_model_dt.predict(X_train)\n",
    "\n",
    "train_rmse_dt = compute_RMSE(predictions_train_dt, y_train)\n",
    "print('Training RMSE: {}'.format(train_rmse_dt))\n",
    "\n",
    "train_mae_dt = compute_mae(predictions_train_dt, y_train)\n",
    "print('Training MAE: {}'.format(train_mae_dt))\n",
    "\n",
    "train_acc_dt = compute_accuracy(predictions_train_dt, y_train)\n",
    "print('Training Accuracy: {}'.format(train_acc_dt))\n",
    "\n",
    "predictions_test_dt = best_model_dt.predict(X_test)\n",
    "\n",
    "test_rmse_dt = compute_RMSE(predictions_test_dt, y_test)\n",
    "print('Test RMSE: {}'.format(test_rmse_dt))\n",
    "\n",
    "test_mae_dt = compute_mae(predictions_test_dt, y_test)\n",
    "print('Test MAE: {}'.format(test_mae_dt))\n",
    "\n",
    "test_acc_dt = compute_accuracy(predictions_test_dt, y_test)\n",
    "print('Test Accuracy: {}'.format(test_acc_dt))"
   ]
  },
  {
   "cell_type": "code",
   "execution_count": null,
   "id": "e61c5967-23c2-46b2-9d6d-829647521283",
   "metadata": {
    "tags": []
   },
   "outputs": [],
   "source": []
  },
  {
   "cell_type": "code",
   "execution_count": null,
   "id": "c78581df-90b1-4100-a3ab-758f9372253b",
   "metadata": {},
   "outputs": [],
   "source": []
  },
  {
   "cell_type": "code",
   "execution_count": null,
   "id": "b417b145-932c-4449-ad91-47065d57c426",
   "metadata": {},
   "outputs": [],
   "source": []
  },
  {
   "cell_type": "code",
   "execution_count": null,
   "id": "49aff853-b661-43f5-aac0-7a33be0ec6bb",
   "metadata": {},
   "outputs": [],
   "source": []
  },
  {
   "cell_type": "code",
   "execution_count": null,
   "id": "73bb68d0-cfc1-43dd-90d0-869504f4da13",
   "metadata": {},
   "outputs": [],
   "source": []
  },
  {
   "cell_type": "code",
   "execution_count": null,
   "id": "ee7e067c-3bc7-44bb-b578-fd6d6ba6fb63",
   "metadata": {},
   "outputs": [],
   "source": []
  },
  {
   "cell_type": "code",
   "execution_count": null,
   "id": "1c2fa30b-63e8-4f72-bcbc-3ea2766a77d2",
   "metadata": {},
   "outputs": [],
   "source": []
  },
  {
   "cell_type": "code",
   "execution_count": null,
   "id": "26ff950d-6208-403f-943b-61a28c50f721",
   "metadata": {},
   "outputs": [],
   "source": []
  },
  {
   "cell_type": "code",
   "execution_count": null,
   "id": "27cae550-d13c-4506-b452-9ae59fb68533",
   "metadata": {},
   "outputs": [],
   "source": []
  },
  {
   "cell_type": "code",
   "execution_count": null,
   "id": "1aaede16-f718-459d-b96f-e1435c4dc4b4",
   "metadata": {},
   "outputs": [],
   "source": []
  },
  {
   "cell_type": "code",
   "execution_count": null,
   "id": "27a71554-392d-4676-b809-0d8b97a50d19",
   "metadata": {},
   "outputs": [],
   "source": []
  },
  {
   "cell_type": "code",
   "execution_count": null,
   "id": "c20efe82-b5c6-4c2e-a8b9-9844f51fdf9e",
   "metadata": {},
   "outputs": [],
   "source": []
  },
  {
   "cell_type": "code",
   "execution_count": null,
   "id": "75479a51-0ea3-4b0f-b1bb-d2a799d2d8d9",
   "metadata": {},
   "outputs": [],
   "source": []
  },
  {
   "cell_type": "code",
   "execution_count": null,
   "id": "10b2d0c7-9f76-4fc4-aed6-debc540a5c50",
   "metadata": {},
   "outputs": [],
   "source": []
  },
  {
   "cell_type": "code",
   "execution_count": null,
   "id": "04be2522-338d-4c56-bd21-37d82b98324f",
   "metadata": {},
   "outputs": [],
   "source": []
  },
  {
   "cell_type": "code",
   "execution_count": null,
   "id": "e871b601-e419-4448-b9eb-36a8a630c247",
   "metadata": {},
   "outputs": [],
   "source": []
  },
  {
   "cell_type": "code",
   "execution_count": null,
   "id": "6dfbb43d",
   "metadata": {},
   "outputs": [],
   "source": []
  },
  {
   "cell_type": "code",
   "execution_count": null,
   "id": "abdde55a",
   "metadata": {},
   "outputs": [],
   "source": [
    "# TEST SVM USING KAGGLE DATA"
   ]
  },
  {
   "cell_type": "code",
   "execution_count": null,
   "id": "093e6f01",
   "metadata": {},
   "outputs": [],
   "source": [
    "from sklearn.datasets import load_wine\n",
    "wine = load_wine()"
   ]
  },
  {
   "cell_type": "code",
   "execution_count": null,
   "id": "5cdf9326",
   "metadata": {},
   "outputs": [],
   "source": [
    "import pandas as pd\n",
    "features = pd.DataFrame(data=wine['data'],columns=wine['feature_names'])\n",
    "features.head()"
   ]
  },
  {
   "cell_type": "code",
   "execution_count": null,
   "id": "2aa352a0",
   "metadata": {},
   "outputs": [],
   "source": [
    "print(wine)"
   ]
  },
  {
   "cell_type": "code",
   "execution_count": null,
   "id": "0279f450",
   "metadata": {},
   "outputs": [],
   "source": [
    "print(wine.DESCR)"
   ]
  },
  {
   "cell_type": "code",
   "execution_count": null,
   "id": "d8e9de5c",
   "metadata": {},
   "outputs": [],
   "source": [
    "X = wine.data\n",
    "y = wine.target\n",
    "features = wine.feature_names\n",
    "print(len(features))"
   ]
  },
  {
   "cell_type": "code",
   "execution_count": null,
   "id": "71d9148b",
   "metadata": {},
   "outputs": [],
   "source": [
    "import seaborn as sns\n",
    "import matplotlib.pyplot as plt\n",
    "for i in range(13):\n",
    "  sns.boxplot(x=y,y=X[:,i])\n",
    "  plt.ylabel(features[i])\n",
    "  plt.show()"
   ]
  },
  {
   "cell_type": "code",
   "execution_count": null,
   "id": "0ced2746",
   "metadata": {},
   "outputs": [],
   "source": [
    "for i in range(13):\n",
    "  plt.hist(X[:,i],edgecolor='black')\n",
    "  plt.title(features[i])\n",
    "  plt.show()"
   ]
  },
  {
   "cell_type": "code",
   "execution_count": null,
   "id": "f810ecd1",
   "metadata": {},
   "outputs": [],
   "source": [
    "target_name = wine.target_names\n",
    "print(target_name)"
   ]
  },
  {
   "cell_type": "code",
   "execution_count": null,
   "id": "f3866445",
   "metadata": {},
   "outputs": [],
   "source": [
    "from sklearn.svm import SVC\n",
    "from sklearn.model_selection import train_test_split\n",
    "X_train,X_test,y_train,y_test = train_test_split(X,y,test_size=0.3,random_state=32)"
   ]
  },
  {
   "cell_type": "code",
   "execution_count": null,
   "id": "504680aa",
   "metadata": {},
   "outputs": [],
   "source": [
    "svm = SVC()\n",
    "svm.fit(X_train,y_train)\n",
    "svm.score(X_test,y_test)"
   ]
  },
  {
   "cell_type": "code",
   "execution_count": null,
   "id": "807ecf1c",
   "metadata": {},
   "outputs": [],
   "source": [
    "# GRID SEARCH (FROM KAGGLE https://www.kaggle.com/code/aniketyadav1/svm-and-hyper-parameter-tuning)\n",
    "\n",
    "from sklearn.model_selection import GridSearchCV\n",
    "\n",
    "param_grid = { 'C':[0.1,1,100,1000],'kernel':['rbf','poly','sigmoid','linear'],'degree':[1,2,3,4,5,6]}\n",
    "grid = GridSearchCV(SVC(),param_grid)\n",
    "grid.fit(X_train,y_train)"
   ]
  },
  {
   "cell_type": "code",
   "execution_count": null,
   "id": "68403ee1",
   "metadata": {},
   "outputs": [],
   "source": [
    "print(grid.best_params_)\n",
    "print(grid.score(X_test,y_test))"
   ]
  },
  {
   "cell_type": "code",
   "execution_count": null,
   "id": "127ee41c",
   "metadata": {},
   "outputs": [],
   "source": []
  },
  {
   "cell_type": "code",
   "execution_count": null,
   "id": "7bf37f2e",
   "metadata": {},
   "outputs": [],
   "source": [
    "svm = SVC()\n",
    "svm.get_params()"
   ]
  },
  {
   "cell_type": "code",
   "execution_count": null,
   "id": "2dabe0f7",
   "metadata": {},
   "outputs": [],
   "source": [
    "hyperparameters = [\n",
    "        {\n",
    "        'C' : [0.1, 1, 100, 1000],\n",
    "        'kernel' : ['rbf', 'poly', 'sigmoid', 'linear'],\n",
    "        'degree' : [1, 2, 3, 4, 5, 6]\n",
    "    }\n",
    "]"
   ]
  },
  {
   "cell_type": "code",
   "execution_count": null,
   "id": "93008c0a",
   "metadata": {},
   "outputs": [],
   "source": [
    "rssvm = RandomizedSearchCV(svm, hyperparameters, random_state=42)\n",
    "rssvm.fit(X_train, y_train)"
   ]
  },
  {
   "cell_type": "code",
   "execution_count": null,
   "id": "3256fa8c",
   "metadata": {},
   "outputs": [],
   "source": [
    "best_params_svm = rssvm.best_params_\n",
    "best_params_svm"
   ]
  },
  {
   "cell_type": "code",
   "execution_count": null,
   "id": "0dab206b",
   "metadata": {},
   "outputs": [],
   "source": [
    "best_model_svm = rssvm.best_estimator_\n",
    "\n",
    "predictions_train_svm = best_model_svm.predict(X_train)\n",
    "\n",
    "train_rmse_svm = compute_RMSE(predictions_train_svm, y_train)\n",
    "print('Training RMSE: {}'.format(train_rmse_svm))\n",
    "\n",
    "train_mae_svm = compute_mae(predictions_train_svm, y_train)\n",
    "print('Training MAE: {}'.format(train_mae_svm))\n",
    "\n",
    "predictions_test_svm = best_model_svm.predict(X_test)\n",
    "\n",
    "test_rmse_svm = compute_RMSE(predictions_test_svm, y_test)\n",
    "print('Test RMSE: {}'.format(test_rmse_svm))\n",
    "\n",
    "test_mae_svm = compute_mae(predictions_test_svm, y_test)\n",
    "print('Test MAE: {}'.format(test_mae_svm))"
   ]
  },
  {
   "cell_type": "code",
   "execution_count": null,
   "id": "49b32e8f",
   "metadata": {},
   "outputs": [],
   "source": [
    "print(rssvm.score(X_test,y_test))\n",
    "print(rssvm.score(X_test,y_test))"
   ]
  },
  {
   "cell_type": "code",
   "execution_count": null,
   "id": "a9971097",
   "metadata": {},
   "outputs": [],
   "source": []
  },
  {
   "cell_type": "code",
   "execution_count": null,
   "id": "6f584acb",
   "metadata": {},
   "outputs": [],
   "source": [
    "#split data"
   ]
  },
  {
   "cell_type": "code",
   "execution_count": null,
   "id": "96ced9b6",
   "metadata": {},
   "outputs": [],
   "source": [
    "split = pd.read_csv('complete_data_term2run.csv', index_col=0)\n",
    "split"
   ]
  },
  {
   "cell_type": "raw",
   "id": "1766803e",
   "metadata": {},
   "source": []
  },
  {
   "cell_type": "code",
   "execution_count": null,
   "id": "7e6ba876",
   "metadata": {},
   "outputs": [],
   "source": [
    "# good song trend (week1 streamC < week10 streamC)\n",
    "# bad song trend (week1 streamC >= week10 streamC)"
   ]
  },
  {
   "cell_type": "code",
   "execution_count": null,
   "id": "c0c96b31",
   "metadata": {},
   "outputs": [],
   "source": [
    "goodTrend = split[split['stream1'] <= split['stream_category']]\n",
    "goodTrend"
   ]
  },
  {
   "cell_type": "code",
   "execution_count": null,
   "id": "c8792598",
   "metadata": {
    "scrolled": true
   },
   "outputs": [],
   "source": [
    "badTrend = split[split['stream1'] > split['stream_category']]\n",
    "badTrend"
   ]
  },
  {
   "cell_type": "code",
   "execution_count": null,
   "id": "8cd4fb87",
   "metadata": {},
   "outputs": [],
   "source": [
    "# 1, 5, 10 music label"
   ]
  },
  {
   "cell_type": "code",
   "execution_count": null,
   "id": "1a7ed175",
   "metadata": {},
   "outputs": [],
   "source": [
    "musicLabel1 = split[split['music_label'] == 1]\n",
    "musicLabel1"
   ]
  },
  {
   "cell_type": "code",
   "execution_count": null,
   "id": "71f9ba4e",
   "metadata": {},
   "outputs": [],
   "source": [
    "musicLabel5 = split[split['music_label'] == 5]\n",
    "musicLabel5"
   ]
  },
  {
   "cell_type": "code",
   "execution_count": null,
   "id": "49cffca3",
   "metadata": {},
   "outputs": [],
   "source": [
    "musicLabel10 = split[split['music_label'] == 10]\n",
    "musicLabel10"
   ]
  },
  {
   "cell_type": "code",
   "execution_count": null,
   "id": "68b0a498",
   "metadata": {},
   "outputs": [],
   "source": [
    "# with collab\n",
    "# with no collab"
   ]
  },
  {
   "cell_type": "code",
   "execution_count": null,
   "id": "ff34cd89",
   "metadata": {},
   "outputs": [],
   "source": [
    "withCollab = split[split['artist_collab'] == 1]\n",
    "withCollab"
   ]
  },
  {
   "cell_type": "code",
   "execution_count": null,
   "id": "df001236",
   "metadata": {},
   "outputs": [],
   "source": [
    "noCollab = split[split['artist_collab'] == 0]\n",
    "noCollab"
   ]
  },
  {
   "cell_type": "code",
   "execution_count": null,
   "id": "9af27f54",
   "metadata": {},
   "outputs": [],
   "source": [
    "# chart history = 72\n",
    "# chart history != 72"
   ]
  },
  {
   "cell_type": "code",
   "execution_count": null,
   "id": "decc50da",
   "metadata": {},
   "outputs": [],
   "source": [
    "chart72 = split[split['chart_history'] == 72]\n",
    "chart72"
   ]
  },
  {
   "cell_type": "code",
   "execution_count": null,
   "id": "6643c9e2",
   "metadata": {
    "scrolled": true
   },
   "outputs": [],
   "source": [
    "chartNo72 = split[split['chart_history'] != 72]\n",
    "chartNo72"
   ]
  },
  {
   "cell_type": "code",
   "execution_count": null,
   "id": "0c2b66aa",
   "metadata": {},
   "outputs": [],
   "source": [
    "# cancelledt\n",
    "rateMean = (split[['bad_good', 'distasteful_tasty', 'dull_exciting', 'tasteless_tasteful', 'unimaginative_creative', 'untalented_talented', 'unpleasant_pleasant', 'forgettable_memorable', 'boring_interesting']].mean(axis=1)).mean()\n",
    "rateMean"
   ]
  },
  {
   "cell_type": "code",
   "execution_count": null,
   "id": "a07f6b0b",
   "metadata": {},
   "outputs": [],
   "source": [
    "# low song familiarity < 4\n",
    "# familiar song >= 4"
   ]
  },
  {
   "cell_type": "code",
   "execution_count": null,
   "id": "fc4160f3",
   "metadata": {},
   "outputs": [],
   "source": [
    "lowerSongFam = split[split['song_familiarity'] < 4]\n",
    "lowerSongFam"
   ]
  },
  {
   "cell_type": "code",
   "execution_count": null,
   "id": "2116f974",
   "metadata": {},
   "outputs": [],
   "source": [
    "okaySongFam = split[split['song_familiarity'] >= 4]\n",
    "okaySongFam"
   ]
  },
  {
   "cell_type": "code",
   "execution_count": null,
   "id": "e709e9e2",
   "metadata": {},
   "outputs": [],
   "source": [
    "# low artist familiarity < 4\n",
    "# familiar artist >= 4"
   ]
  },
  {
   "cell_type": "code",
   "execution_count": null,
   "id": "7ea8f6d8",
   "metadata": {},
   "outputs": [],
   "source": [
    "lowerArtFam = split[split['artist_familiarity'] < 4]\n",
    "lowerArtFam"
   ]
  },
  {
   "cell_type": "code",
   "execution_count": null,
   "id": "9166b852",
   "metadata": {},
   "outputs": [],
   "source": [
    "okayArtFam = split[split['artist_familiarity'] >= 4]\n",
    "okayArtFam"
   ]
  },
  {
   "cell_type": "code",
   "execution_count": null,
   "id": "f3baaf33",
   "metadata": {},
   "outputs": [],
   "source": [
    "goodTrend.to_csv('goodTrend.csv', encoding='utf-8')\n",
    "badTrend.to_csv('badTrend.csv', encoding='utf-8')\n",
    "musicLabel1.to_csv('musicLabel1.csv', encoding='utf-8')\n",
    "musicLabel5.to_csv('musicLabel5.csv', encoding='utf-8')\n",
    "musicLabel10.to_csv('musicLabel10.csv', encoding='utf-8')\n",
    "withCollab.to_csv('withCollab.csv', encoding='utf-8')\n",
    "noCollab.to_csv('noCollab.csv', encoding='utf-8')\n",
    "chart72.to_csv('chart72.csv', encoding='utf-8')\n",
    "chartNo72.to_csv('chartNo72.csv', encoding='utf-8')\n",
    "lowerSongFam.to_csv('lowerSongFam.csv', encoding='utf-8')\n",
    "okaySongFam.to_csv('okaySongFam.csv', encoding='utf-8')\n",
    "lowerArtFam.to_csv('lowerArtFam.csv', encoding='utf-8')\n",
    "okayArtFam.to_csv('okayArtFam.csv', encoding='utf-8')\n"
   ]
  },
  {
   "cell_type": "code",
   "execution_count": null,
   "id": "ffee0f48",
   "metadata": {},
   "outputs": [],
   "source": []
  }
 ],
 "metadata": {
  "kernelspec": {
   "display_name": "Python 3",
   "language": "python",
   "name": "python3"
  },
  "language_info": {
   "codemirror_mode": {
    "name": "ipython",
    "version": 3
   },
   "file_extension": ".py",
   "mimetype": "text/x-python",
   "name": "python",
   "nbconvert_exporter": "python",
   "pygments_lexer": "ipython3",
   "version": "3.8.8"
  }
 },
 "nbformat": 4,
 "nbformat_minor": 5
}
