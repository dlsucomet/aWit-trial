{
 "cells": [
  {
   "cell_type": "markdown",
   "id": "bc836b4d",
   "metadata": {},
   "source": [
    "## NEW"
   ]
  },
  {
   "cell_type": "code",
   "execution_count": 1,
   "id": "2dfdfec4",
   "metadata": {},
   "outputs": [
    {
     "name": "stdout",
     "output_type": "stream",
     "text": [
      "Requirement already satisfied: semopy in c:\\users\\angel\\anaconda3\\lib\\site-packages (2.3.9)\n",
      "Requirement already satisfied: pandas in c:\\users\\angel\\anaconda3\\lib\\site-packages (from semopy) (1.3.4)\n",
      "Requirement already satisfied: statsmodels in c:\\users\\angel\\anaconda3\\lib\\site-packages (from semopy) (0.12.2)\n",
      "Requirement already satisfied: numpy in c:\\users\\angel\\anaconda3\\lib\\site-packages (from semopy) (1.20.3)\n",
      "Requirement already satisfied: sklearn in c:\\users\\angel\\anaconda3\\lib\\site-packages (from semopy) (0.0.post1)\n",
      "Requirement already satisfied: sympy in c:\\users\\angel\\anaconda3\\lib\\site-packages (from semopy) (1.9)\n",
      "Requirement already satisfied: scipy in c:\\users\\angel\\anaconda3\\lib\\site-packages (from semopy) (1.7.1)\n",
      "Requirement already satisfied: pytz>=2017.3 in c:\\users\\angel\\anaconda3\\lib\\site-packages (from pandas->semopy) (2021.3)\n",
      "Requirement already satisfied: python-dateutil>=2.7.3 in c:\\users\\angel\\anaconda3\\lib\\site-packages (from pandas->semopy) (2.8.2)\n",
      "Requirement already satisfied: six>=1.5 in c:\\users\\angel\\anaconda3\\lib\\site-packages (from python-dateutil>=2.7.3->pandas->semopy) (1.16.0)\n",
      "Requirement already satisfied: patsy>=0.5 in c:\\users\\angel\\anaconda3\\lib\\site-packages (from statsmodels->semopy) (0.5.2)\n",
      "Requirement already satisfied: mpmath>=0.19 in c:\\users\\angel\\anaconda3\\lib\\site-packages (from sympy->semopy) (1.2.1)\n"
     ]
    }
   ],
   "source": [
    "!pip install semopy"
   ]
  },
  {
   "cell_type": "code",
   "execution_count": 2,
   "id": "621e17de",
   "metadata": {},
   "outputs": [
    {
     "ename": "KeyboardInterrupt",
     "evalue": "",
     "output_type": "error",
     "traceback": [
      "\u001b[1;31m---------------------------------------------------------------------------\u001b[0m",
      "\u001b[1;31mKeyboardInterrupt\u001b[0m                         Traceback (most recent call last)",
      "\u001b[1;32m~\\AppData\\Local\\Temp/ipykernel_19256/658935056.py\u001b[0m in \u001b[0;36m<module>\u001b[1;34m\u001b[0m\n\u001b[0;32m      1\u001b[0m \u001b[1;32mimport\u001b[0m \u001b[0mnumpy\u001b[0m \u001b[1;32mas\u001b[0m \u001b[0mnp\u001b[0m\u001b[1;33m\u001b[0m\u001b[1;33m\u001b[0m\u001b[0m\n\u001b[1;32m----> 2\u001b[1;33m \u001b[1;32mimport\u001b[0m \u001b[0mpandas\u001b[0m \u001b[1;32mas\u001b[0m \u001b[0mpd\u001b[0m\u001b[1;33m\u001b[0m\u001b[1;33m\u001b[0m\u001b[0m\n\u001b[0m\u001b[0;32m      3\u001b[0m \u001b[1;32mimport\u001b[0m \u001b[0mmatplotlib\u001b[0m\u001b[1;33m.\u001b[0m\u001b[0mpyplot\u001b[0m \u001b[1;32mas\u001b[0m \u001b[0mplt\u001b[0m\u001b[1;33m\u001b[0m\u001b[1;33m\u001b[0m\u001b[0m\n\u001b[0;32m      4\u001b[0m \u001b[1;32mimport\u001b[0m \u001b[0mstatistics\u001b[0m \u001b[1;32mas\u001b[0m \u001b[0mstatistics\u001b[0m\u001b[1;33m\u001b[0m\u001b[1;33m\u001b[0m\u001b[0m\n\u001b[0;32m      5\u001b[0m \u001b[1;32mimport\u001b[0m \u001b[0msemopy\u001b[0m \u001b[1;32mas\u001b[0m \u001b[0msem\u001b[0m\u001b[1;33m\u001b[0m\u001b[1;33m\u001b[0m\u001b[0m\n",
      "\u001b[1;32m~\\anaconda3\\lib\\site-packages\\pandas\\__init__.py\u001b[0m in \u001b[0;36m<module>\u001b[1;34m\u001b[0m\n\u001b[0;32m     48\u001b[0m \u001b[1;32mimport\u001b[0m \u001b[0mpandas\u001b[0m\u001b[1;33m.\u001b[0m\u001b[0mcore\u001b[0m\u001b[1;33m.\u001b[0m\u001b[0mconfig_init\u001b[0m\u001b[1;33m\u001b[0m\u001b[1;33m\u001b[0m\u001b[0m\n\u001b[0;32m     49\u001b[0m \u001b[1;33m\u001b[0m\u001b[0m\n\u001b[1;32m---> 50\u001b[1;33m from pandas.core.api import (\n\u001b[0m\u001b[0;32m     51\u001b[0m     \u001b[1;31m# dtype\u001b[0m\u001b[1;33m\u001b[0m\u001b[1;33m\u001b[0m\u001b[0m\n\u001b[0;32m     52\u001b[0m     \u001b[0mInt8Dtype\u001b[0m\u001b[1;33m,\u001b[0m\u001b[1;33m\u001b[0m\u001b[1;33m\u001b[0m\u001b[0m\n",
      "\u001b[1;32m~\\anaconda3\\lib\\site-packages\\pandas\\core\\api.py\u001b[0m in \u001b[0;36m<module>\u001b[1;34m\u001b[0m\n\u001b[0;32m     46\u001b[0m \u001b[1;32mfrom\u001b[0m \u001b[0mpandas\u001b[0m\u001b[1;33m.\u001b[0m\u001b[0mcore\u001b[0m\u001b[1;33m.\u001b[0m\u001b[0mconstruction\u001b[0m \u001b[1;32mimport\u001b[0m \u001b[0marray\u001b[0m\u001b[1;33m\u001b[0m\u001b[1;33m\u001b[0m\u001b[0m\n\u001b[0;32m     47\u001b[0m \u001b[1;32mfrom\u001b[0m \u001b[0mpandas\u001b[0m\u001b[1;33m.\u001b[0m\u001b[0mcore\u001b[0m\u001b[1;33m.\u001b[0m\u001b[0mflags\u001b[0m \u001b[1;32mimport\u001b[0m \u001b[0mFlags\u001b[0m\u001b[1;33m\u001b[0m\u001b[1;33m\u001b[0m\u001b[0m\n\u001b[1;32m---> 48\u001b[1;33m from pandas.core.groupby import (\n\u001b[0m\u001b[0;32m     49\u001b[0m     \u001b[0mGrouper\u001b[0m\u001b[1;33m,\u001b[0m\u001b[1;33m\u001b[0m\u001b[1;33m\u001b[0m\u001b[0m\n\u001b[0;32m     50\u001b[0m     \u001b[0mNamedAgg\u001b[0m\u001b[1;33m,\u001b[0m\u001b[1;33m\u001b[0m\u001b[1;33m\u001b[0m\u001b[0m\n",
      "\u001b[1;32m~\\anaconda3\\lib\\site-packages\\pandas\\core\\groupby\\__init__.py\u001b[0m in \u001b[0;36m<module>\u001b[1;34m\u001b[0m\n\u001b[1;32m----> 1\u001b[1;33m from pandas.core.groupby.generic import (\n\u001b[0m\u001b[0;32m      2\u001b[0m     \u001b[0mDataFrameGroupBy\u001b[0m\u001b[1;33m,\u001b[0m\u001b[1;33m\u001b[0m\u001b[1;33m\u001b[0m\u001b[0m\n\u001b[0;32m      3\u001b[0m     \u001b[0mNamedAgg\u001b[0m\u001b[1;33m,\u001b[0m\u001b[1;33m\u001b[0m\u001b[1;33m\u001b[0m\u001b[0m\n\u001b[0;32m      4\u001b[0m     \u001b[0mSeriesGroupBy\u001b[0m\u001b[1;33m,\u001b[0m\u001b[1;33m\u001b[0m\u001b[1;33m\u001b[0m\u001b[0m\n\u001b[0;32m      5\u001b[0m )\n",
      "\u001b[1;32m~\\anaconda3\\lib\\site-packages\\pandas\\core\\groupby\\generic.py\u001b[0m in \u001b[0;36m<module>\u001b[1;34m\u001b[0m\n\u001b[0;32m     62\u001b[0m     \u001b[0mnanops\u001b[0m\u001b[1;33m,\u001b[0m\u001b[1;33m\u001b[0m\u001b[1;33m\u001b[0m\u001b[0m\n\u001b[0;32m     63\u001b[0m )\n\u001b[1;32m---> 64\u001b[1;33m from pandas.core.aggregation import (\n\u001b[0m\u001b[0;32m     65\u001b[0m     \u001b[0mmaybe_mangle_lambdas\u001b[0m\u001b[1;33m,\u001b[0m\u001b[1;33m\u001b[0m\u001b[1;33m\u001b[0m\u001b[0m\n\u001b[0;32m     66\u001b[0m     \u001b[0mreconstruct_func\u001b[0m\u001b[1;33m,\u001b[0m\u001b[1;33m\u001b[0m\u001b[1;33m\u001b[0m\u001b[0m\n",
      "\u001b[1;32m~\\anaconda3\\lib\\site-packages\\pandas\\core\\aggregation.py\u001b[0m in \u001b[0;36m<module>\u001b[1;34m\u001b[0m\n\u001b[0;32m     31\u001b[0m \u001b[1;32mfrom\u001b[0m \u001b[0mpandas\u001b[0m\u001b[1;33m.\u001b[0m\u001b[0mcore\u001b[0m\u001b[1;33m.\u001b[0m\u001b[0mbase\u001b[0m \u001b[1;32mimport\u001b[0m \u001b[0mSpecificationError\u001b[0m\u001b[1;33m\u001b[0m\u001b[1;33m\u001b[0m\u001b[0m\n\u001b[0;32m     32\u001b[0m \u001b[1;32mimport\u001b[0m \u001b[0mpandas\u001b[0m\u001b[1;33m.\u001b[0m\u001b[0mcore\u001b[0m\u001b[1;33m.\u001b[0m\u001b[0mcommon\u001b[0m \u001b[1;32mas\u001b[0m \u001b[0mcom\u001b[0m\u001b[1;33m\u001b[0m\u001b[1;33m\u001b[0m\u001b[0m\n\u001b[1;32m---> 33\u001b[1;33m \u001b[1;32mfrom\u001b[0m \u001b[0mpandas\u001b[0m\u001b[1;33m.\u001b[0m\u001b[0mcore\u001b[0m\u001b[1;33m.\u001b[0m\u001b[0mindexes\u001b[0m\u001b[1;33m.\u001b[0m\u001b[0mapi\u001b[0m \u001b[1;32mimport\u001b[0m \u001b[0mIndex\u001b[0m\u001b[1;33m\u001b[0m\u001b[1;33m\u001b[0m\u001b[0m\n\u001b[0m\u001b[0;32m     34\u001b[0m \u001b[1;33m\u001b[0m\u001b[0m\n\u001b[0;32m     35\u001b[0m \u001b[1;32mif\u001b[0m \u001b[0mTYPE_CHECKING\u001b[0m\u001b[1;33m:\u001b[0m\u001b[1;33m\u001b[0m\u001b[1;33m\u001b[0m\u001b[0m\n",
      "\u001b[1;32m~\\anaconda3\\lib\\site-packages\\pandas\\core\\indexes\\api.py\u001b[0m in \u001b[0;36m<module>\u001b[1;34m\u001b[0m\n\u001b[0;32m     16\u001b[0m     \u001b[0mget_unanimous_names\u001b[0m\u001b[1;33m,\u001b[0m\u001b[1;33m\u001b[0m\u001b[1;33m\u001b[0m\u001b[0m\n\u001b[0;32m     17\u001b[0m )\n\u001b[1;32m---> 18\u001b[1;33m \u001b[1;32mfrom\u001b[0m \u001b[0mpandas\u001b[0m\u001b[1;33m.\u001b[0m\u001b[0mcore\u001b[0m\u001b[1;33m.\u001b[0m\u001b[0mindexes\u001b[0m\u001b[1;33m.\u001b[0m\u001b[0mcategory\u001b[0m \u001b[1;32mimport\u001b[0m \u001b[0mCategoricalIndex\u001b[0m\u001b[1;33m\u001b[0m\u001b[1;33m\u001b[0m\u001b[0m\n\u001b[0m\u001b[0;32m     19\u001b[0m \u001b[1;32mfrom\u001b[0m \u001b[0mpandas\u001b[0m\u001b[1;33m.\u001b[0m\u001b[0mcore\u001b[0m\u001b[1;33m.\u001b[0m\u001b[0mindexes\u001b[0m\u001b[1;33m.\u001b[0m\u001b[0mdatetimes\u001b[0m \u001b[1;32mimport\u001b[0m \u001b[0mDatetimeIndex\u001b[0m\u001b[1;33m\u001b[0m\u001b[1;33m\u001b[0m\u001b[0m\n\u001b[0;32m     20\u001b[0m \u001b[1;32mfrom\u001b[0m \u001b[0mpandas\u001b[0m\u001b[1;33m.\u001b[0m\u001b[0mcore\u001b[0m\u001b[1;33m.\u001b[0m\u001b[0mindexes\u001b[0m\u001b[1;33m.\u001b[0m\u001b[0minterval\u001b[0m \u001b[1;32mimport\u001b[0m \u001b[0mIntervalIndex\u001b[0m\u001b[1;33m\u001b[0m\u001b[1;33m\u001b[0m\u001b[0m\n",
      "\u001b[1;32m~\\anaconda3\\lib\\importlib\\_bootstrap.py\u001b[0m in \u001b[0;36m_find_and_load\u001b[1;34m(name, import_)\u001b[0m\n",
      "\u001b[1;32m~\\anaconda3\\lib\\importlib\\_bootstrap.py\u001b[0m in \u001b[0;36m_find_and_load_unlocked\u001b[1;34m(name, import_)\u001b[0m\n",
      "\u001b[1;32m~\\anaconda3\\lib\\importlib\\_bootstrap.py\u001b[0m in \u001b[0;36m_find_spec\u001b[1;34m(name, path, target)\u001b[0m\n",
      "\u001b[1;32m~\\anaconda3\\lib\\importlib\\_bootstrap_external.py\u001b[0m in \u001b[0;36mfind_spec\u001b[1;34m(cls, fullname, path, target)\u001b[0m\n",
      "\u001b[1;32m~\\anaconda3\\lib\\importlib\\_bootstrap_external.py\u001b[0m in \u001b[0;36m_get_spec\u001b[1;34m(cls, fullname, path, target)\u001b[0m\n",
      "\u001b[1;32m~\\anaconda3\\lib\\importlib\\_bootstrap_external.py\u001b[0m in \u001b[0;36mfind_spec\u001b[1;34m(self, fullname, target)\u001b[0m\n",
      "\u001b[1;32m~\\anaconda3\\lib\\importlib\\_bootstrap_external.py\u001b[0m in \u001b[0;36m_path_stat\u001b[1;34m(path)\u001b[0m\n",
      "\u001b[1;31mKeyboardInterrupt\u001b[0m: "
     ]
    }
   ],
   "source": [
    "import numpy as np\n",
    "import pandas as pd\n",
    "import matplotlib.pyplot as plt\n",
    "import statistics as statistics\n",
    "import semopy as sem\n",
    "\n",
    "np.random.seed(1)"
   ]
  },
  {
   "cell_type": "code",
   "execution_count": null,
   "id": "229a5895",
   "metadata": {},
   "outputs": [],
   "source": [
    "data = pd.read_csv('complete_data_term2run.csv', index_col=0)\n",
    "print(data)"
   ]
  },
  {
   "cell_type": "code",
   "execution_count": null,
   "id": "9555305f",
   "metadata": {
    "scrolled": true
   },
   "outputs": [],
   "source": [
    "# split data\n",
    "data = data.drop(columns=['title', 'artist/s'])\n",
    "X_data =  data.values[:,:-1]\n",
    "y_data = data.values[:,-1]\n",
    "\n",
    "print(X_data.shape)\n",
    "print(y_data.shape)"
   ]
  },
  {
   "cell_type": "code",
   "execution_count": null,
   "id": "0b0a32ea",
   "metadata": {},
   "outputs": [],
   "source": [
    "data2 = data\n",
    "data_copy = data"
   ]
  },
  {
   "cell_type": "markdown",
   "id": "bc86f869",
   "metadata": {},
   "source": [
    "# SEM part"
   ]
  },
  {
   "cell_type": "markdown",
   "id": "88f50b54",
   "metadata": {},
   "source": [
    "### intrinsic, extrinsic, crowdsourced"
   ]
  },
  {
   "cell_type": "code",
   "execution_count": null,
   "id": "b83bd4f6",
   "metadata": {},
   "outputs": [],
   "source": [
    "# standardize non-categorical features\n",
    "from sklearn.preprocessing import StandardScaler\n",
    "cols_to_norm = ['danceability', 'loudness', 'speechiness', 'liveness', 'valence', 'tempo', 'duration_ms', 'chart_history', 'mean_trends', 'song_familiarity', \n",
    "                'artist_familiarity', 'bad_good', 'distasteful_tasty', 'dull_exciting', 'tasteless_tasteful', 'unimaginative_creative', 'untalented_talented', \n",
    "                'unpleasant_pleasant', 'forgettable_memorable', 'boring_interesting', 'listen_similar', 'share_friends', 'add_playlist']\n",
    "data[cols_to_norm] = StandardScaler().fit_transform(data[cols_to_norm])\n",
    "print(data)"
   ]
  },
  {
   "cell_type": "code",
   "execution_count": null,
   "id": "77c159c7",
   "metadata": {},
   "outputs": [],
   "source": [
    "print(sem.efa.explore_cfa_model(data))"
   ]
  },
  {
   "cell_type": "code",
   "execution_count": null,
   "id": "09b75f92",
   "metadata": {},
   "outputs": [],
   "source": [
    "mod = \"\"\"\n",
    "chart_success =~ stream1 + stream2 + stream3 + stream4 + stream5 + stream6 + stream6 + stream7 + stream8 + stream9 + stream_category\n",
    "intrinsic =~ danceability + key + loudness + speechiness + liveness + valence + tempo + duration_ms\n",
    "extrinsic =~ music_label + artist_collab + chart_history + mean_trends\n",
    "crowdsource =~ song_familiarity + artist_familiarity + bad_good + distasteful_tasty + dull_exciting + tasteless_tasteful + unimaginative_creative + untalented_talented + unpleasant_pleasant + forgettable_memorable + boring_interesting + listen_similar + share_friends + add_playlist\n",
    "\n",
    "chart_success ~ intrinsic + extrinsic + crowdsource\n",
    "\n",
    "DEFINE(ordinal) key music_label artist_collab stream1 stream2 stream3 stream4 stream5 stream6 stream7 stream8 stream9 stream_category\n",
    "      \"\"\""
   ]
  },
  {
   "cell_type": "code",
   "execution_count": null,
   "id": "85e5be6f",
   "metadata": {},
   "outputs": [],
   "source": [
    "model = sem.Model(mod)\n",
    "result = model.fit(data, obj=\"FIML\", solver=\"SLSQP\") #can change obj and solver\n",
    "print(result)"
   ]
  },
  {
   "cell_type": "code",
   "execution_count": null,
   "id": "97864b99",
   "metadata": {},
   "outputs": [],
   "source": [
    "sem_all_pd = model.inspect()\n",
    "sem_all_pd"
   ]
  },
  {
   "cell_type": "code",
   "execution_count": null,
   "id": "87fe699a",
   "metadata": {},
   "outputs": [],
   "source": [
    "sem_all_pd.to_csv(r'SEM_three_results_term3.csv')"
   ]
  },
  {
   "cell_type": "code",
   "execution_count": null,
   "id": "a557474b",
   "metadata": {},
   "outputs": [],
   "source": [
    "stats = sem.calc_stats(model)\n",
    "print(stats.T)"
   ]
  },
  {
   "cell_type": "code",
   "execution_count": null,
   "id": "940b36fd",
   "metadata": {},
   "outputs": [],
   "source": [
    "g = sem.semplot(model, \"pd1_term3.png\")\n",
    "g"
   ]
  },
  {
   "cell_type": "markdown",
   "id": "ea68e1d7",
   "metadata": {},
   "source": [
    "### intrinsic, extrinsic"
   ]
  },
  {
   "cell_type": "code",
   "execution_count": null,
   "id": "8c8bf9a0",
   "metadata": {},
   "outputs": [],
   "source": [
    "mod2 = \"\"\"\n",
    "chart_success =~ stream1 + stream2 + stream3 + stream4 + stream5 + stream6 + stream6 + stream7 + stream8 + stream9 + stream_category\n",
    "intrinsic =~ danceability + key + loudness + speechiness + liveness + valence + tempo + duration_ms\n",
    "extrinsic =~ music_label + artist_collab + chart_history + mean_trends\n",
    "\n",
    "chart_success ~ intrinsic + extrinsic\n",
    "\n",
    "DEFINE(ordinal) key music_label artist_collab stream1 stream2 stream3 stream4 stream5 stream6 stream7 stream8 stream9 stream_category\n",
    "      \"\"\""
   ]
  },
  {
   "cell_type": "code",
   "execution_count": null,
   "id": "90bc1576",
   "metadata": {},
   "outputs": [],
   "source": [
    "model2 = sem.Model(mod2)\n",
    "result2 = model2.fit(data, obj=\"FIML\", solver=\"SLSQP\") #can change obj and solver\n",
    "print(result2)"
   ]
  },
  {
   "cell_type": "code",
   "execution_count": null,
   "id": "ccf4bd7c",
   "metadata": {},
   "outputs": [],
   "source": [
    "sem_ixe_pd = model2.inspect()\n",
    "sem_ixe_pd"
   ]
  },
  {
   "cell_type": "code",
   "execution_count": null,
   "id": "80ec0e38",
   "metadata": {},
   "outputs": [],
   "source": [
    "sem_ixe_pd.to_csv(r'SEM_two_term3_results.csv')"
   ]
  },
  {
   "cell_type": "code",
   "execution_count": null,
   "id": "92397503",
   "metadata": {},
   "outputs": [],
   "source": [
    "stats2 = sem.calc_stats(model2)\n",
    "print(stats2.T)"
   ]
  },
  {
   "cell_type": "code",
   "execution_count": null,
   "id": "4e0be7a6",
   "metadata": {},
   "outputs": [],
   "source": [
    "g2 = sem.semplot(model2, \"pd2_term3.png\")\n",
    "g2"
   ]
  },
  {
   "cell_type": "markdown",
   "id": "b5099406",
   "metadata": {},
   "source": [
    "### relationship of features to danceability"
   ]
  },
  {
   "cell_type": "code",
   "execution_count": null,
   "id": "60e8bab0",
   "metadata": {},
   "outputs": [],
   "source": [
    "mod3 = \"\"\"\n",
    "danceability =~ valence + duration_ms + loudness + speechiness + tempo + key + liveness\n",
    "\n",
    "DEFINE(ordinal) key\n",
    "      \"\"\""
   ]
  },
  {
   "cell_type": "code",
   "execution_count": null,
   "id": "607bd56e",
   "metadata": {},
   "outputs": [],
   "source": [
    "model3 = sem.Model(mod3)\n",
    "result3 = model3.fit(data) #can change obj and solver\n",
    "print(result3)"
   ]
  },
  {
   "cell_type": "code",
   "execution_count": null,
   "id": "6112483e",
   "metadata": {},
   "outputs": [],
   "source": [
    "model3.inspect()"
   ]
  },
  {
   "cell_type": "code",
   "execution_count": null,
   "id": "a8c1c839",
   "metadata": {},
   "outputs": [],
   "source": [
    "stats3 = sem.calc_stats(model3)\n",
    "print(stats3.T)"
   ]
  },
  {
   "cell_type": "code",
   "execution_count": null,
   "id": "84902d54",
   "metadata": {},
   "outputs": [],
   "source": [
    "g3 = sem.semplot(model3, \"pd3_term3.png\")\n",
    "g3"
   ]
  },
  {
   "cell_type": "markdown",
   "id": "5f93cc5d",
   "metadata": {},
   "source": [
    "### relationship of faetures to valence"
   ]
  },
  {
   "cell_type": "code",
   "execution_count": null,
   "id": "05883c14",
   "metadata": {},
   "outputs": [],
   "source": [
    "mod4 = \"\"\"\n",
    "valence =~ danceability + key + loudness + speechiness + liveness + tempo + duration_ms\n",
    "\n",
    "DEFINE(ordinal) key\n",
    "      \"\"\""
   ]
  },
  {
   "cell_type": "code",
   "execution_count": null,
   "id": "5417dd01",
   "metadata": {},
   "outputs": [],
   "source": [
    "model4 = sem.Model(mod4)\n",
    "result4 = model4.fit(data) #can change obj and solver\n",
    "print(result4)"
   ]
  },
  {
   "cell_type": "code",
   "execution_count": null,
   "id": "856aaa5d",
   "metadata": {},
   "outputs": [],
   "source": [
    "model4.inspect()"
   ]
  },
  {
   "cell_type": "code",
   "execution_count": null,
   "id": "340d9784",
   "metadata": {},
   "outputs": [],
   "source": [
    "stats4 = sem.calc_stats(model4)\n",
    "print(stats4.T)"
   ]
  },
  {
   "cell_type": "code",
   "execution_count": null,
   "id": "36c7bf1d",
   "metadata": {},
   "outputs": [],
   "source": [
    "g4 = sem.semplot(model4, \"pd4_term3.png\")\n",
    "g4"
   ]
  },
  {
   "cell_type": "markdown",
   "id": "88a46cae",
   "metadata": {},
   "source": [
    "## SEM predict"
   ]
  },
  {
   "cell_type": "markdown",
   "id": "e15461ef",
   "metadata": {},
   "source": [
    "### intrinsic, extrinsic, and crowdsourced"
   ]
  },
  {
   "cell_type": "code",
   "execution_count": null,
   "id": "4fa7a610",
   "metadata": {},
   "outputs": [],
   "source": [
    "from sklearn.model_selection import train_test_split\n",
    "import random\n",
    "\n",
    "num = random.randint(0,100)\n",
    "X_train, X_test, y_train, y_test = train_test_split(data, data, random_state=num, test_size=0.20)\n",
    "\n",
    "print(\"X_train: \", X_train.shape)\n",
    "print(\"y_train: \", y_train.shape)\n",
    "print(\"X_test: \", X_test.shape)\n",
    "print(\"y_test: \", y_test.shape)"
   ]
  },
  {
   "cell_type": "code",
   "execution_count": null,
   "id": "266fe10e",
   "metadata": {
    "scrolled": true
   },
   "outputs": [],
   "source": [
    "from semopy import Model\n",
    "model5 = Model(mod)\n",
    "model5.fit(X_train)\n",
    "predictions_test_sem = model5.predict(X_test)"
   ]
  },
  {
   "cell_type": "code",
   "execution_count": null,
   "id": "82f18700",
   "metadata": {},
   "outputs": [],
   "source": [
    "def compute_RMSE(predictions, actual):\n",
    "    return np.sqrt(np.square(np.subtract(actual, predictions)).mean())\n",
    "def compute_mae(predictions, actual):\n",
    "    mae = np.absolute(np.subtract(actual, predictions)).mean()\n",
    "    return mae\n",
    "def compute_accuracy(predictions, actual):\n",
    "    # write code here\n",
    "    num_correct = np.sum(predictions == actual)\n",
    "    accuracy = num_correct/len(actual)\n",
    "    return accuracy*100"
   ]
  },
  {
   "cell_type": "code",
   "execution_count": null,
   "id": "2ebfe160",
   "metadata": {},
   "outputs": [],
   "source": [
    "y_data_sem = X_test['stream_category']\n",
    "test_rmse_sem = compute_RMSE(predictions_test_sem['stream_category'], y_data_sem)\n",
    "print('RMSE: {}'.format(test_rmse_sem))\n",
    "\n",
    "test_mae_sem = compute_mae(predictions_test_sem['stream_category'], y_data_sem)\n",
    "print('MAE: {}'.format(test_mae_sem))\n",
    "\n",
    "test_acc_sem = compute_accuracy(predictions_test_sem['stream_category'], y_data_sem)\n",
    "print('Accuracy: {}'.format(test_acc_sem))"
   ]
  },
  {
   "cell_type": "code",
   "execution_count": null,
   "id": "5699d6a7",
   "metadata": {},
   "outputs": [],
   "source": [
    "from sklearn.model_selection import train_test_split\n",
    "X_train, X_test, y_train, y_test = train_test_split(data, data, random_state=0, test_size=0.20)\n",
    "\n",
    "print(\"X_train: \", X_train.shape)\n",
    "print(\"y_train: \", y_train.shape)\n",
    "print(\"X_test: \", X_test.shape)\n",
    "print(\"y_test: \", y_test.shape)"
   ]
  },
  {
   "cell_type": "code",
   "execution_count": null,
   "id": "7cf909ab",
   "metadata": {
    "scrolled": true
   },
   "outputs": [],
   "source": [
    "from semopy import Model\n",
    "model5 = Model(mod)\n",
    "model5.fit(X_train)\n",
    "predictions_test_sem = model5.predict(X_test)"
   ]
  },
  {
   "cell_type": "code",
   "execution_count": null,
   "id": "6243279c",
   "metadata": {},
   "outputs": [],
   "source": [
    "def compute_RMSE(predictions, actual):\n",
    "    return np.sqrt(np.square(np.subtract(actual, predictions)).mean())\n",
    "def compute_mae(predictions, actual):\n",
    "    mae = np.absolute(np.subtract(actual, predictions)).mean()\n",
    "    return mae\n",
    "def compute_accuracy(predictions, actual):\n",
    "    # write code here\n",
    "    num_correct = np.sum(predictions == actual)\n",
    "    accuracy = num_correct/len(actual)\n",
    "    return accuracy*100"
   ]
  },
  {
   "cell_type": "code",
   "execution_count": null,
   "id": "d085ecff",
   "metadata": {},
   "outputs": [],
   "source": [
    "y_data_sem = X_test['stream_category']\n",
    "test_rmse_sem = compute_RMSE(predictions_test_sem['stream_category'], y_data_sem)\n",
    "print('RMSE: {}'.format(test_rmse_sem))\n",
    "\n",
    "test_mae_sem = compute_mae(predictions_test_sem['stream_category'], y_data_sem)\n",
    "print('MAE: {}'.format(test_mae_sem))\n",
    "\n",
    "test_acc_sem = compute_accuracy(predictions_test_sem['stream_category'], y_data_sem)\n",
    "print('Accuracy: {}'.format(test_acc_sem))"
   ]
  },
  {
   "cell_type": "code",
   "execution_count": null,
   "id": "f9b0591f",
   "metadata": {},
   "outputs": [],
   "source": [
    "from sklearn.model_selection import train_test_split\n",
    "X_train, X_test, y_train, y_test = train_test_split(data, data, random_state=1, test_size=0.20)\n",
    "\n",
    "print(\"X_train: \", X_train.shape)\n",
    "print(\"y_train: \", y_train.shape)\n",
    "print(\"X_test: \", X_test.shape)\n",
    "print(\"y_test: \", y_test.shape)"
   ]
  },
  {
   "cell_type": "code",
   "execution_count": null,
   "id": "e2e43607",
   "metadata": {
    "scrolled": true
   },
   "outputs": [],
   "source": [
    "from semopy import Model\n",
    "model5 = Model(mod)\n",
    "model5.fit(X_train)\n",
    "predictions_test_sem = model5.predict(X_test)"
   ]
  },
  {
   "cell_type": "code",
   "execution_count": null,
   "id": "601be747",
   "metadata": {},
   "outputs": [],
   "source": [
    "def compute_RMSE(predictions, actual):\n",
    "    return np.sqrt(np.square(np.subtract(actual, predictions)).mean())\n",
    "def compute_mae(predictions, actual):\n",
    "    mae = np.absolute(np.subtract(actual, predictions)).mean()\n",
    "    return mae\n",
    "def compute_accuracy(predictions, actual):\n",
    "    # write code here\n",
    "    num_correct = np.sum(predictions == actual)\n",
    "    accuracy = num_correct/len(actual)\n",
    "    return accuracy*100"
   ]
  },
  {
   "cell_type": "code",
   "execution_count": null,
   "id": "1175d969",
   "metadata": {},
   "outputs": [],
   "source": [
    "y_data_sem = X_test['stream_category']\n",
    "test_rmse_sem = compute_RMSE(predictions_test_sem['stream_category'], y_data_sem)\n",
    "print('RMSE: {}'.format(test_rmse_sem))\n",
    "\n",
    "test_mae_sem = compute_mae(predictions_test_sem['stream_category'], y_data_sem)\n",
    "print('MAE: {}'.format(test_mae_sem))\n",
    "\n",
    "test_acc_sem = compute_accuracy(predictions_test_sem['stream_category'], y_data_sem)\n",
    "print('Accuracy: {}'.format(test_acc_sem))"
   ]
  },
  {
   "cell_type": "code",
   "execution_count": null,
   "id": "5c2729bb",
   "metadata": {},
   "outputs": [],
   "source": [
    "from sklearn.model_selection import train_test_split\n",
    "\n",
    "X_train, X_test, y_train, y_test = train_test_split(data, data, random_state=42, test_size=0.20)\n",
    "\n",
    "print(\"X_train: \", X_train.shape)\n",
    "print(\"y_train: \", y_train.shape)\n",
    "print(\"X_test: \", X_test.shape)\n",
    "print(\"y_test: \", y_test.shape)"
   ]
  },
  {
   "cell_type": "code",
   "execution_count": null,
   "id": "3d372f76",
   "metadata": {
    "scrolled": true
   },
   "outputs": [],
   "source": [
    "from semopy import Model\n",
    "model5 = Model(mod)\n",
    "model5.fit(X_train)\n",
    "predictions_test_sem = model5.predict(X_test)"
   ]
  },
  {
   "cell_type": "code",
   "execution_count": null,
   "id": "00b07cc5",
   "metadata": {},
   "outputs": [],
   "source": [
    "def compute_RMSE(predictions, actual):\n",
    "    return np.sqrt(np.square(np.subtract(actual, predictions)).mean())\n",
    "def compute_mae(predictions, actual):\n",
    "    mae = np.absolute(np.subtract(actual, predictions)).mean()\n",
    "    return mae\n",
    "def compute_accuracy(predictions, actual):\n",
    "    # write code here\n",
    "    num_correct = np.sum(predictions == actual)\n",
    "    accuracy = num_correct/len(actual)\n",
    "    return accuracy*100"
   ]
  },
  {
   "cell_type": "code",
   "execution_count": null,
   "id": "305d8ae5",
   "metadata": {},
   "outputs": [],
   "source": [
    "y_data_sem = X_test['stream_category']\n",
    "test_rmse_sem = compute_RMSE(predictions_test_sem['stream_category'], y_data_sem)\n",
    "print('RMSE: {}'.format(test_rmse_sem))\n",
    "\n",
    "test_mae_sem = compute_mae(predictions_test_sem['stream_category'], y_data_sem)\n",
    "print('MAE: {}'.format(test_mae_sem))\n",
    "\n",
    "test_acc_sem = compute_accuracy(predictions_test_sem['stream_category'], y_data_sem)\n",
    "print('Accuracy: {}'.format(test_acc_sem))"
   ]
  },
  {
   "cell_type": "code",
   "execution_count": null,
   "id": "8b40181e",
   "metadata": {
    "scrolled": true
   },
   "outputs": [],
   "source": [
    "predictions_test_sem"
   ]
  },
  {
   "cell_type": "code",
   "execution_count": null,
   "id": "88355124",
   "metadata": {
    "scrolled": false
   },
   "outputs": [],
   "source": [
    "y_data_sem"
   ]
  },
  {
   "cell_type": "code",
   "execution_count": null,
   "id": "b973b340",
   "metadata": {},
   "outputs": [],
   "source": [
    "# from semopy.examples import political_democracy\n",
    "# from semopy import ModelMeans\n",
    "# import numpy as np\n",
    "\n",
    "# desc = political_democracy.get_model()\n",
    "# data = political_democracy.get_data()\n",
    "\n",
    "# i, v = 0, 'x1'\n",
    "# x = data[v].values[i]\n",
    "\n",
    "# data[v].values[i] = float('nan')\n",
    "# model = ModelMeans(desc)\n",
    "# model.fit(data, )\n",
    "# preds = model.predict(data)\n",
    "# diff = np.abs((x - preds[v].values[i])/x)\n",
    "# print('{:.2f}%'.format(diff * 100))"
   ]
  },
  {
   "cell_type": "markdown",
   "id": "db64d55a",
   "metadata": {},
   "source": [
    "### intrinsic and extrinsic"
   ]
  },
  {
   "cell_type": "code",
   "execution_count": null,
   "id": "5d0fa2be",
   "metadata": {},
   "outputs": [],
   "source": [
    "data_temp = data_copy\n",
    "data2 = data_temp.drop(columns=['song_familiarity', 'artist_familiarity', 'bad_good', 'distasteful_tasty', 'dull_exciting', 'tasteless_tasteful', 'unimaginative_creative', 'untalented_talented', 'unpleasant_pleasant', 'forgettable_memorable', 'boring_interesting', 'listen_similar', 'share_friends', 'add_playlist'])\n",
    "\n",
    "data2"
   ]
  },
  {
   "cell_type": "code",
   "execution_count": null,
   "id": "02b5dd34",
   "metadata": {},
   "outputs": [],
   "source": [
    "from sklearn.model_selection import train_test_split\n",
    "\n",
    "X_train, X_test, y_train, y_test = train_test_split(data2, data2, random_state=42, test_size=0.20)\n",
    "\n",
    "print(\"X_train: \", X_train.shape)\n",
    "print(\"y_train: \", y_train.shape)\n",
    "print(\"X_test: \", X_test.shape)\n",
    "print(\"y_test: \", y_test.shape)"
   ]
  },
  {
   "cell_type": "code",
   "execution_count": null,
   "id": "254fc6b7",
   "metadata": {
    "scrolled": true
   },
   "outputs": [],
   "source": [
    "from semopy import Model\n",
    "model6 = Model(mod2)\n",
    "model6.fit(X_train)\n",
    "predictions_test_sem = model6.predict(X_test)"
   ]
  },
  {
   "cell_type": "code",
   "execution_count": null,
   "id": "fd50392f",
   "metadata": {},
   "outputs": [],
   "source": [
    "def compute_RMSE(predictions, actual):\n",
    "    return np.sqrt(np.square(np.subtract(actual, predictions)).mean())\n",
    "def compute_mae(predictions, actual):\n",
    "    mae = np.absolute(np.subtract(actual, predictions)).mean()\n",
    "    return mae\n",
    "def compute_accuracy(predictions, actual):\n",
    "    # write code here\n",
    "    num_correct = np.sum(predictions == actual)\n",
    "    accuracy = num_correct/len(actual)\n",
    "    return accuracy*100"
   ]
  },
  {
   "cell_type": "code",
   "execution_count": null,
   "id": "46413ad6",
   "metadata": {},
   "outputs": [],
   "source": [
    "y_data_sem = X_test['stream_category']\n",
    "test_rmse_sem = compute_RMSE(predictions_test_sem['stream_category'], y_data_sem)\n",
    "print('RMSE: {}'.format(test_rmse_sem))\n",
    "\n",
    "test_mae_sem = compute_mae(predictions_test_sem['stream_category'], y_data_sem)\n",
    "print('MAE: {}'.format(test_mae_sem))\n",
    "\n",
    "test_acc_sem = compute_accuracy(predictions_test_sem['stream_category'], y_data_sem)\n",
    "print('Accuracy: {}'.format(test_acc_sem))"
   ]
  },
  {
   "cell_type": "code",
   "execution_count": null,
   "id": "1b3bb6d6",
   "metadata": {
    "scrolled": true
   },
   "outputs": [],
   "source": [
    "predictions_test_sem"
   ]
  },
  {
   "cell_type": "code",
   "execution_count": null,
   "id": "7c45326a",
   "metadata": {
    "scrolled": true
   },
   "outputs": [],
   "source": [
    "y_data_sem"
   ]
  },
  {
   "cell_type": "code",
   "execution_count": null,
   "id": "4dff6bf1",
   "metadata": {},
   "outputs": [],
   "source": []
  },
  {
   "cell_type": "code",
   "execution_count": null,
   "id": "edcd081c",
   "metadata": {},
   "outputs": [],
   "source": []
  },
  {
   "cell_type": "code",
   "execution_count": null,
   "id": "1590ee0e",
   "metadata": {},
   "outputs": [],
   "source": []
  },
  {
   "cell_type": "markdown",
   "id": "4430a68f",
   "metadata": {},
   "source": [
    "## Prediction models (intrinsic, extrinsic, crowdsourced)"
   ]
  },
  {
   "cell_type": "code",
   "execution_count": null,
   "id": "c25426fc",
   "metadata": {},
   "outputs": [],
   "source": [
    "from sklearn.model_selection import train_test_split\n",
    "X_train, X_test, y_train, y_test = train_test_split(X_data, y_data, random_state=42, test_size=0.20, stratify=y_data)\n",
    "\n",
    "print(\"X_train: \", X_train.shape)\n",
    "print(\"y_train: \", y_train.shape)\n",
    "print(\"X_test: \", X_test.shape)\n",
    "print(\"y_test: \", y_test.shape)"
   ]
  },
  {
   "cell_type": "markdown",
   "id": "4ac39e3a",
   "metadata": {},
   "source": [
    "### Random Forest"
   ]
  },
  {
   "cell_type": "code",
   "execution_count": null,
   "id": "310abdd0",
   "metadata": {},
   "outputs": [],
   "source": [
    "from sklearn.ensemble import RandomForestClassifier"
   ]
  },
  {
   "cell_type": "code",
   "execution_count": null,
   "id": "3ac5b1f4",
   "metadata": {},
   "outputs": [],
   "source": [
    "rfc = RandomForestClassifier()\n",
    "rfc.get_params()"
   ]
  },
  {
   "cell_type": "code",
   "execution_count": null,
   "id": "17b621cb",
   "metadata": {},
   "outputs": [],
   "source": [
    "hyperparameters = [\n",
    "        {\n",
    "        'n_estimators' : [50, 100, 200, 400, 600, 800, 1000, 1200, 1600, 1800],\n",
    "        'max_depth' : [10, 30, 50, 100, 150, 200, 250, 300, 350, None],\n",
    "        'min_samples_split' : [2, 4, 6, 10, 15, 20],\n",
    "        'max_leaf_nodes' : [100, 300, 500, 700, 900, 1100, 1300, None]\n",
    "    }\n",
    "]"
   ]
  },
  {
   "cell_type": "code",
   "execution_count": null,
   "id": "c8ffb6a7",
   "metadata": {},
   "outputs": [],
   "source": [
    "from sklearn.model_selection import RandomizedSearchCV\n",
    "rsrfc = RandomizedSearchCV(rfc, hyperparameters, random_state=42, cv=10, n_iter=50)\n",
    "rsrfc.fit(X_train, y_train)"
   ]
  },
  {
   "cell_type": "code",
   "execution_count": null,
   "id": "f2d6bcf4",
   "metadata": {},
   "outputs": [],
   "source": [
    "best_params_rfc = rsrfc.best_params_\n",
    "best_params_rfc"
   ]
  },
  {
   "cell_type": "code",
   "execution_count": null,
   "id": "9e96a4ac",
   "metadata": {},
   "outputs": [],
   "source": [
    "best_model_rfc = rsrfc.best_estimator_\n",
    "\n",
    "predictions_train_rfc = best_model_rfc.predict(X_train)\n",
    "\n",
    "train_rmse_rfc = compute_RMSE(predictions_train_rfc, y_train)\n",
    "print('Training RMSE: {}'.format(train_rmse_rfc))\n",
    "\n",
    "train_mae_rfc = compute_mae(predictions_train_rfc, y_train)\n",
    "print('Training MAE: {}'.format(train_mae_rfc))\n",
    "\n",
    "train_acc = compute_accuracy(predictions_train_rfc, y_train)\n",
    "print('Training Accuracy: {}'.format(train_acc))\n",
    "\n",
    "predictions_test_rfc = best_model_rfc.predict(X_test)\n",
    "\n",
    "test_rmse_rfc = compute_RMSE(predictions_test_rfc, y_test)\n",
    "print('Test RMSE: {}'.format(test_rmse_rfc))\n",
    "\n",
    "test_mae_rfc = compute_mae(predictions_test_rfc, y_test)\n",
    "print('Test MAE: {}'.format(test_mae_rfc))\n",
    "\n",
    "test_acc = compute_accuracy(predictions_test_rfc, y_test)\n",
    "print('Test Accuracy: {}'.format(test_acc))"
   ]
  },
  {
   "cell_type": "code",
   "execution_count": null,
   "id": "32a32b03",
   "metadata": {},
   "outputs": [],
   "source": [
    "best_model_rfc_3 = best_model_rfc"
   ]
  },
  {
   "cell_type": "markdown",
   "id": "9a5ce27c",
   "metadata": {},
   "source": [
    "### SVM"
   ]
  },
  {
   "cell_type": "code",
   "execution_count": null,
   "id": "56bf4d3e",
   "metadata": {},
   "outputs": [],
   "source": [
    "from sklearn.svm import SVC"
   ]
  },
  {
   "cell_type": "code",
   "execution_count": null,
   "id": "c070e15f",
   "metadata": {},
   "outputs": [],
   "source": [
    "svm = SVC()\n",
    "svm.get_params()"
   ]
  },
  {
   "cell_type": "code",
   "execution_count": null,
   "id": "7d89a33a",
   "metadata": {},
   "outputs": [],
   "source": [
    "hyperparameters = [\n",
    "        {\n",
    "        'C' : [0.1, 1, 100, 1000],\n",
    "        'kernel' : ['rbf', 'poly', 'sigmoid', 'linear'],\n",
    "        'degree' : [1, 2, 3, 4, 5, 6]\n",
    "    }\n",
    "]"
   ]
  },
  {
   "cell_type": "code",
   "execution_count": null,
   "id": "7638723d",
   "metadata": {
    "scrolled": false
   },
   "outputs": [],
   "source": [
    "rssvm = RandomizedSearchCV(svm, hyperparameters, random_state=42, cv=10, n_iter=50)\n",
    "rssvm.fit(X_train, y_train)"
   ]
  },
  {
   "cell_type": "code",
   "execution_count": null,
   "id": "a0656fed",
   "metadata": {},
   "outputs": [],
   "source": [
    "best_params_svm = rssvm.best_params_\n",
    "best_params_svm"
   ]
  },
  {
   "cell_type": "code",
   "execution_count": null,
   "id": "ac8c2aa4",
   "metadata": {},
   "outputs": [],
   "source": [
    "best_model_svm = rssvm.best_estimator_\n",
    "\n",
    "predictions_train_svm = best_model_svm.predict(X_train)\n",
    "\n",
    "train_rmse_svm = compute_RMSE(predictions_train_svm, y_train)\n",
    "print('Training RMSE: {}'.format(train_rmse_svm))\n",
    "\n",
    "train_mae_svm = compute_mae(predictions_train_svm, y_train)\n",
    "print('Training MAE: {}'.format(train_mae_svm))\n",
    "\n",
    "train_acc = compute_accuracy(predictions_train_svm, y_train)\n",
    "print('Training Accuracy: {}'.format(train_acc))\n",
    "\n",
    "predictions_test_svm = best_model_svm.predict(X_test)\n",
    "\n",
    "test_rmse_svm = compute_RMSE(predictions_test_svm, y_test)\n",
    "print('Test RMSE: {}'.format(test_rmse_svm))\n",
    "\n",
    "test_mae_svm = compute_mae(predictions_test_svm, y_test)\n",
    "print('Test MAE: {}'.format(test_mae_svm))\n",
    "\n",
    "test_acc = compute_accuracy(predictions_test_svm, y_test)\n",
    "print('Test Accuracy: {}'.format(test_acc))"
   ]
  },
  {
   "cell_type": "code",
   "execution_count": null,
   "id": "c6957763",
   "metadata": {},
   "outputs": [],
   "source": [
    "best_model_svm_3 = best_model_svm"
   ]
  },
  {
   "cell_type": "markdown",
   "id": "8f245247",
   "metadata": {},
   "source": [
    "### Decision Tree"
   ]
  },
  {
   "cell_type": "code",
   "execution_count": null,
   "id": "11a67f21",
   "metadata": {},
   "outputs": [],
   "source": [
    "from sklearn.tree import DecisionTreeClassifier"
   ]
  },
  {
   "cell_type": "code",
   "execution_count": null,
   "id": "e0208140",
   "metadata": {},
   "outputs": [],
   "source": [
    "dt = DecisionTreeClassifier()\n",
    "dt.get_params()"
   ]
  },
  {
   "cell_type": "code",
   "execution_count": null,
   "id": "9d83e17d",
   "metadata": {},
   "outputs": [],
   "source": [
    "hyperparameters = [\n",
    "    {\n",
    "        'min_impurity_decrease': [0.001, 0.01, 0.05, 0.1, 0.3, 0.5],\n",
    "        'max_depth': [5, 10, 20, 30],\n",
    "        'min_samples_split': [2, 4, 6, 10, 15, 20],\n",
    "        'max_leaf_nodes': [3, 5, 10, 20, 50, 100]\n",
    "    }\n",
    "]"
   ]
  },
  {
   "cell_type": "code",
   "execution_count": null,
   "id": "315728a1",
   "metadata": {},
   "outputs": [],
   "source": [
    "rsdt = RandomizedSearchCV(dt, hyperparameters, random_state=42, cv=10, n_iter=50)\n",
    "rsdt.fit(X_train, y_train)"
   ]
  },
  {
   "cell_type": "code",
   "execution_count": null,
   "id": "8062a2b8",
   "metadata": {},
   "outputs": [],
   "source": [
    "best_params_dt = rsdt.best_params_\n",
    "best_params_dt"
   ]
  },
  {
   "cell_type": "code",
   "execution_count": null,
   "id": "0115d9aa",
   "metadata": {},
   "outputs": [],
   "source": [
    "best_model_dt = rsdt.best_estimator_\n",
    "\n",
    "predictions_train_dt = best_model_dt.predict(X_train)\n",
    "\n",
    "train_rmse_dt = compute_RMSE(predictions_train_dt, y_train)\n",
    "print('Training RMSE: {}'.format(train_rmse_dt))\n",
    "\n",
    "train_mae_dt = compute_mae(predictions_train_dt, y_train)\n",
    "print('Training MAE: {}'.format(train_mae_dt))\n",
    "\n",
    "train_acc_dt = compute_accuracy(predictions_train_dt, y_train)\n",
    "print('Training Accuracy: {}'.format(train_acc_dt))\n",
    "\n",
    "predictions_test_dt = best_model_dt.predict(X_test)\n",
    "\n",
    "test_rmse_dt = compute_RMSE(predictions_test_dt, y_test)\n",
    "print('Test RMSE: {}'.format(test_rmse_dt))\n",
    "\n",
    "test_mae_dt = compute_mae(predictions_test_dt, y_test)\n",
    "print('Test MAE: {}'.format(test_mae_dt))\n",
    "\n",
    "test_acc_dt = compute_accuracy(predictions_test_dt, y_test)\n",
    "print('Test Accuracy: {}'.format(test_acc_dt))"
   ]
  },
  {
   "cell_type": "code",
   "execution_count": null,
   "id": "6da524c1",
   "metadata": {},
   "outputs": [],
   "source": [
    "best_model_dt_3 = best_model_dt"
   ]
  },
  {
   "cell_type": "markdown",
   "id": "f80efdae",
   "metadata": {},
   "source": [
    "## Prediction models (intrinsic and extrinsic)"
   ]
  },
  {
   "cell_type": "code",
   "execution_count": null,
   "id": "f9e4b682",
   "metadata": {},
   "outputs": [],
   "source": [
    "data_temp = data_copy\n",
    "data2 = data_temp.drop(columns=['song_familiarity', 'artist_familiarity', 'bad_good', 'distasteful_tasty', 'dull_exciting', 'tasteless_tasteful', 'unimaginative_creative', 'untalented_talented', 'unpleasant_pleasant', 'forgettable_memorable', 'boring_interesting', 'listen_similar', 'share_friends', 'add_playlist'])\n",
    "X_data =  data2.values[:,:-1]\n",
    "y_data = data2.values[:,-1]\n",
    "\n",
    "print(X_data.shape)\n",
    "print(y_data.shape)"
   ]
  },
  {
   "cell_type": "code",
   "execution_count": null,
   "id": "013e5bee",
   "metadata": {},
   "outputs": [],
   "source": [
    "X_train, X_test, y_train, y_test = train_test_split(X_data, y_data, random_state=42, test_size=0.20, stratify=y_data)\n",
    "\n",
    "print(\"X_train: \", X_train.shape)\n",
    "print(\"y_train: \", y_train.shape)\n",
    "print(\"X_test: \", X_test.shape)\n",
    "print(\"y_test: \", y_test.shape)"
   ]
  },
  {
   "cell_type": "code",
   "execution_count": null,
   "id": "5949b9f4",
   "metadata": {},
   "outputs": [],
   "source": [
    "scaler = StandardScaler()\n",
    "X_train = scaler.fit_transform(X_train)\n",
    "X_test = scaler.transform(X_test)"
   ]
  },
  {
   "cell_type": "markdown",
   "id": "1cb9c048",
   "metadata": {},
   "source": [
    "### Random Forest "
   ]
  },
  {
   "cell_type": "code",
   "execution_count": null,
   "id": "205f666a",
   "metadata": {},
   "outputs": [],
   "source": [
    "rfc = RandomForestClassifier()\n",
    "rfc.get_params()"
   ]
  },
  {
   "cell_type": "code",
   "execution_count": null,
   "id": "3a3f98c9",
   "metadata": {},
   "outputs": [],
   "source": [
    "hyperparameters = [\n",
    "        {\n",
    "        'n_estimators' : [50, 100, 200, 400, 600, 800, 1000, 1200, 1600, 1800],\n",
    "        'max_depth' : [10, 30, 50, 100, 150, 200, 250, 300, 350, None],\n",
    "        'min_samples_split' : [2, 4, 6, 10, 15, 20],\n",
    "        'max_leaf_nodes' : [100, 300, 500, 700, 900, 1100, 1300, None]\n",
    "    }\n",
    "]"
   ]
  },
  {
   "cell_type": "code",
   "execution_count": null,
   "id": "4d9f47f0",
   "metadata": {},
   "outputs": [],
   "source": [
    "rsrfc = RandomizedSearchCV(rfc, hyperparameters, random_state=42, cv=10, n_iter=50)\n",
    "rsrfc.fit(X_train, y_train)"
   ]
  },
  {
   "cell_type": "code",
   "execution_count": null,
   "id": "7fb78bb5",
   "metadata": {},
   "outputs": [],
   "source": [
    "best_params_rfc = rsrfc.best_params_\n",
    "best_params_rfc"
   ]
  },
  {
   "cell_type": "code",
   "execution_count": null,
   "id": "205d1873",
   "metadata": {},
   "outputs": [],
   "source": [
    "best_model_rfc = rsrfc.best_estimator_\n",
    "\n",
    "predictions_train_rfc = best_model_rfc.predict(X_train)\n",
    "\n",
    "train_rmse_rfc = compute_RMSE(predictions_train_rfc, y_train)\n",
    "print('Training RMSE: {}'.format(train_rmse_rfc))\n",
    "\n",
    "train_mae_rfc = compute_mae(predictions_train_rfc, y_train)\n",
    "print('Training MAE: {}'.format(train_mae_rfc))\n",
    "\n",
    "train_acc = compute_accuracy(predictions_train_rfc, y_train)\n",
    "print('Training Accuracy: {}'.format(train_acc))\n",
    "\n",
    "predictions_test_rfc = best_model_rfc.predict(X_test)\n",
    "\n",
    "test_rmse_rfc = compute_RMSE(predictions_test_rfc, y_test)\n",
    "print('Test RMSE: {}'.format(test_rmse_rfc))\n",
    "\n",
    "test_mae_rfc = compute_mae(predictions_test_rfc, y_test)\n",
    "print('Test MAE: {}'.format(test_mae_rfc))\n",
    "\n",
    "test_acc = compute_accuracy(predictions_test_rfc, y_test)\n",
    "print('Test Accuracy: {}'.format(test_acc))"
   ]
  },
  {
   "cell_type": "code",
   "execution_count": null,
   "id": "320997b6",
   "metadata": {},
   "outputs": [],
   "source": [
    "best_model_rfc_2 = best_model_rfc"
   ]
  },
  {
   "cell_type": "markdown",
   "id": "1d3aefcf",
   "metadata": {},
   "source": [
    "### SVM"
   ]
  },
  {
   "cell_type": "code",
   "execution_count": null,
   "id": "9b026709",
   "metadata": {},
   "outputs": [],
   "source": [
    "svm = SVC()\n",
    "svm.get_params()"
   ]
  },
  {
   "cell_type": "code",
   "execution_count": null,
   "id": "0a79fccf",
   "metadata": {},
   "outputs": [],
   "source": [
    "hyperparameters = [\n",
    "        {\n",
    "        'C' : [0.1, 1, 100, 1000],\n",
    "        'kernel' : ['rbf', 'poly', 'sigmoid', 'linear'],\n",
    "        'degree' : [1, 2, 3, 4, 5, 6]\n",
    "    }\n",
    "]"
   ]
  },
  {
   "cell_type": "code",
   "execution_count": null,
   "id": "ab002182",
   "metadata": {},
   "outputs": [],
   "source": [
    "rssvm = RandomizedSearchCV(svm, hyperparameters, random_state=42, cv=10, n_iter=50)\n",
    "rssvm.fit(X_train, y_train)"
   ]
  },
  {
   "cell_type": "code",
   "execution_count": null,
   "id": "2b91b0b0",
   "metadata": {},
   "outputs": [],
   "source": [
    "best_params_svm = rssvm.best_params_\n",
    "best_params_svm"
   ]
  },
  {
   "cell_type": "code",
   "execution_count": null,
   "id": "78e4ff69",
   "metadata": {},
   "outputs": [],
   "source": [
    "best_model_svm = rssvm.best_estimator_\n",
    "\n",
    "predictions_train_svm = best_model_svm.predict(X_train)\n",
    "\n",
    "train_rmse_svm = compute_RMSE(predictions_train_svm, y_train)\n",
    "print('Training RMSE: {}'.format(train_rmse_svm))\n",
    "\n",
    "train_mae_svm = compute_mae(predictions_train_svm, y_train)\n",
    "print('Training MAE: {}'.format(train_mae_svm))\n",
    "\n",
    "train_acc = compute_accuracy(predictions_train_svm, y_train)\n",
    "print('Training Accuracy: {}'.format(train_acc))\n",
    "\n",
    "predictions_test_svm = best_model_svm.predict(X_test)\n",
    "\n",
    "test_rmse_svm = compute_RMSE(predictions_test_svm, y_test)\n",
    "print('Test RMSE: {}'.format(test_rmse_svm))\n",
    "\n",
    "test_mae_svm = compute_mae(predictions_test_svm, y_test)\n",
    "print('Test MAE: {}'.format(test_mae_svm))\n",
    "\n",
    "test_acc = compute_accuracy(predictions_test_svm, y_test)\n",
    "print('Test Accuracy: {}'.format(test_acc))"
   ]
  },
  {
   "cell_type": "code",
   "execution_count": null,
   "id": "8f772352",
   "metadata": {},
   "outputs": [],
   "source": [
    "best_model_svm_2 = best_model_svm"
   ]
  },
  {
   "cell_type": "markdown",
   "id": "6787786c",
   "metadata": {},
   "source": [
    "### Decision Tree"
   ]
  },
  {
   "cell_type": "code",
   "execution_count": null,
   "id": "c364f0bd",
   "metadata": {},
   "outputs": [],
   "source": [
    "dt = DecisionTreeClassifier()\n",
    "dt.get_params()"
   ]
  },
  {
   "cell_type": "code",
   "execution_count": null,
   "id": "92b5a420",
   "metadata": {},
   "outputs": [],
   "source": [
    "hyperparameters = [\n",
    "    {\n",
    "        'min_impurity_decrease': [0.001, 0.01, 0.05, 0.1, 0.3, 0.5],\n",
    "        'max_depth': [5, 10, 20, 30],\n",
    "        'min_samples_split': [2, 4, 6, 10, 15, 20],\n",
    "        'max_leaf_nodes': [3, 5, 10, 20, 50, 100]\n",
    "    }\n",
    "]"
   ]
  },
  {
   "cell_type": "code",
   "execution_count": null,
   "id": "8d9dc697",
   "metadata": {},
   "outputs": [],
   "source": [
    "rsdt = RandomizedSearchCV(dt, hyperparameters, random_state=42, cv=10, n_iter=50)\n",
    "rsdt.fit(X_train, y_train)"
   ]
  },
  {
   "cell_type": "code",
   "execution_count": null,
   "id": "eaef19f5",
   "metadata": {},
   "outputs": [],
   "source": [
    "best_params_dt = rsdt.best_params_\n",
    "best_params_dt"
   ]
  },
  {
   "cell_type": "code",
   "execution_count": null,
   "id": "861aafed",
   "metadata": {},
   "outputs": [],
   "source": [
    "best_model_dt = rsdt.best_estimator_\n",
    "\n",
    "predictions_train_dt = best_model_dt.predict(X_train)\n",
    "\n",
    "train_rmse_dt = compute_RMSE(predictions_train_dt, y_train)\n",
    "print('Training RMSE: {}'.format(train_rmse_dt))\n",
    "\n",
    "train_mae_dt = compute_mae(predictions_train_dt, y_train)\n",
    "print('Training MAE: {}'.format(train_mae_dt))\n",
    "\n",
    "train_acc_dt = compute_accuracy(predictions_train_dt, y_train)\n",
    "print('Training Accuracy: {}'.format(train_acc_dt))\n",
    "\n",
    "predictions_test_dt = best_model_dt.predict(X_test)\n",
    "\n",
    "test_rmse_dt = compute_RMSE(predictions_test_dt, y_test)\n",
    "print('Test RMSE: {}'.format(test_rmse_dt))\n",
    "\n",
    "test_mae_dt = compute_mae(predictions_test_dt, y_test)\n",
    "print('Test MAE: {}'.format(test_mae_dt))\n",
    "\n",
    "test_acc_dt = compute_accuracy(predictions_test_dt, y_test)\n",
    "print('Test Accuracy: {}'.format(test_acc_dt))"
   ]
  },
  {
   "cell_type": "code",
   "execution_count": null,
   "id": "b794b0a4",
   "metadata": {},
   "outputs": [],
   "source": [
    "best_model_dt_2 = best_model_dt"
   ]
  },
  {
   "cell_type": "markdown",
   "id": "183541da",
   "metadata": {},
   "source": [
    "## Prediction models (extrinsic only)"
   ]
  },
  {
   "cell_type": "code",
   "execution_count": null,
   "id": "952504eb",
   "metadata": {},
   "outputs": [],
   "source": [
    "# data = data2\n",
    "# data = data.drop(columns=['song_familiarity', 'artist_familiarity', 'bad_good', 'distasteful_tasty', 'dull_exciting', 'tasteless_tasteful', 'unimaginative_creative', 'untalented_talented', 'unpleasant_pleasant', 'forgettable_memorable', 'boring_interesting', 'listen_similar', 'share_friends', 'add_playlist'])\n",
    "# data = data.drop(columns=['danceability', 'key', 'loudness', 'speechiness', 'liveness', 'valence', 'tempo', 'duration_ms'])\n",
    "# X_data =  data.values[:,:-1]\n",
    "# y_data = data.values[:,-1]\n",
    "\n",
    "# print(X_data.shape)\n",
    "# print(y_data.shape)"
   ]
  },
  {
   "cell_type": "code",
   "execution_count": null,
   "id": "b399e9da",
   "metadata": {},
   "outputs": [],
   "source": [
    "data_temp = data_copy\n",
    "data2 = data_temp.drop(columns=['danceability', 'key', 'loudness', 'speechiness', 'liveness', 'valence', 'tempo', 'duration_ms', 'song_familiarity', 'artist_familiarity', 'bad_good', 'distasteful_tasty', 'dull_exciting', 'tasteless_tasteful', 'unimaginative_creative', 'untalented_talented', 'unpleasant_pleasant', 'forgettable_memorable', 'boring_interesting', 'listen_similar', 'share_friends', 'add_playlist'])\n",
    "X_data =  data2.values[:,:-1]\n",
    "y_data = data2.values[:,-1]\n",
    "\n",
    "print(X_data.shape)\n",
    "print(y_data.shape)"
   ]
  },
  {
   "cell_type": "code",
   "execution_count": null,
   "id": "b85efffb",
   "metadata": {},
   "outputs": [],
   "source": [
    "X_train, X_test, y_train, y_test = train_test_split(X_data, y_data, random_state=42, test_size=0.20, stratify=y_data)\n",
    "\n",
    "print(\"X_train: \", X_train.shape)\n",
    "print(\"y_train: \", y_train.shape)\n",
    "print(\"X_test: \", X_test.shape)\n",
    "print(\"y_test: \", y_test.shape)"
   ]
  },
  {
   "cell_type": "code",
   "execution_count": null,
   "id": "e5c33802",
   "metadata": {},
   "outputs": [],
   "source": [
    "scaler = StandardScaler()\n",
    "X_train = scaler.fit_transform(X_train)\n",
    "X_test = scaler.transform(X_test)"
   ]
  },
  {
   "cell_type": "markdown",
   "id": "b8695860",
   "metadata": {},
   "source": [
    "### Random Forest "
   ]
  },
  {
   "cell_type": "code",
   "execution_count": null,
   "id": "b4dfb3d8",
   "metadata": {},
   "outputs": [],
   "source": [
    "rfc = RandomForestClassifier()\n",
    "rfc.get_params()"
   ]
  },
  {
   "cell_type": "code",
   "execution_count": null,
   "id": "7632dc8d",
   "metadata": {},
   "outputs": [],
   "source": [
    "hyperparameters = [\n",
    "        {\n",
    "        'n_estimators' : [50, 100, 200, 400, 600, 800, 1000, 1200, 1600, 1800],\n",
    "        'max_depth' : [10, 30, 50, 100, 150, 200, 250, 300, 350, None],\n",
    "        'min_samples_split' : [2, 4, 6, 10, 15, 20],\n",
    "        'max_leaf_nodes' : [100, 300, 500, 700, 900, 1100, 1300, None]\n",
    "    }\n",
    "]"
   ]
  },
  {
   "cell_type": "code",
   "execution_count": null,
   "id": "851c29d4",
   "metadata": {},
   "outputs": [],
   "source": [
    "rsrfc = RandomizedSearchCV(rfc, hyperparameters, random_state=42, cv=10, n_iter=50)\n",
    "rsrfc.fit(X_train, y_train)"
   ]
  },
  {
   "cell_type": "code",
   "execution_count": null,
   "id": "9122d116",
   "metadata": {},
   "outputs": [],
   "source": [
    "best_params_rfc = rsrfc.best_params_\n",
    "best_params_rfc"
   ]
  },
  {
   "cell_type": "code",
   "execution_count": null,
   "id": "e04d5912",
   "metadata": {},
   "outputs": [],
   "source": [
    "best_model_rfc = rsrfc.best_estimator_\n",
    "\n",
    "predictions_train_rfc = best_model_rfc.predict(X_train)\n",
    "\n",
    "train_rmse_rfc = compute_RMSE(predictions_train_rfc, y_train)\n",
    "print('Training RMSE: {}'.format(train_rmse_rfc))\n",
    "\n",
    "train_mae_rfc = compute_mae(predictions_train_rfc, y_train)\n",
    "print('Training MAE: {}'.format(train_mae_rfc))\n",
    "\n",
    "train_acc = compute_accuracy(predictions_train_rfc, y_train)\n",
    "print('Training Accuracy: {}'.format(train_acc))\n",
    "\n",
    "predictions_test_rfc = best_model_rfc.predict(X_test)\n",
    "\n",
    "test_rmse_rfc = compute_RMSE(predictions_test_rfc, y_test)\n",
    "print('Test RMSE: {}'.format(test_rmse_rfc))\n",
    "\n",
    "test_mae_rfc = compute_mae(predictions_test_rfc, y_test)\n",
    "print('Test MAE: {}'.format(test_mae_rfc))\n",
    "\n",
    "test_acc = compute_accuracy(predictions_test_rfc, y_test)\n",
    "print('Test Accuracy: {}'.format(test_acc))"
   ]
  },
  {
   "cell_type": "markdown",
   "id": "e2cd1e3c",
   "metadata": {},
   "source": [
    "### SVM"
   ]
  },
  {
   "cell_type": "code",
   "execution_count": null,
   "id": "e2811e8b",
   "metadata": {},
   "outputs": [],
   "source": [
    "svm = SVC()\n",
    "svm.get_params()"
   ]
  },
  {
   "cell_type": "code",
   "execution_count": null,
   "id": "83e35ff1",
   "metadata": {},
   "outputs": [],
   "source": [
    "hyperparameters = [\n",
    "        {\n",
    "        'C' : [0.1, 1, 100, 1000],\n",
    "        'kernel' : ['rbf', 'poly', 'sigmoid', 'linear'],\n",
    "        'degree' : [1, 2, 3, 4, 5, 6]\n",
    "    }\n",
    "]"
   ]
  },
  {
   "cell_type": "code",
   "execution_count": null,
   "id": "2f210073",
   "metadata": {},
   "outputs": [],
   "source": [
    "rssvm = RandomizedSearchCV(svm, hyperparameters, random_state=42, cv=10, n_iter=50)\n",
    "rssvm.fit(X_train, y_train)"
   ]
  },
  {
   "cell_type": "code",
   "execution_count": null,
   "id": "b8250253",
   "metadata": {},
   "outputs": [],
   "source": [
    "best_params_svm = rssvm.best_params_\n",
    "best_params_svm"
   ]
  },
  {
   "cell_type": "code",
   "execution_count": null,
   "id": "43c69280",
   "metadata": {},
   "outputs": [],
   "source": [
    "best_model_svm = rssvm.best_estimator_\n",
    "\n",
    "predictions_train_svm = best_model_svm.predict(X_train)\n",
    "\n",
    "train_rmse_svm = compute_RMSE(predictions_train_svm, y_train)\n",
    "print('Training RMSE: {}'.format(train_rmse_svm))\n",
    "\n",
    "train_mae_svm = compute_mae(predictions_train_svm, y_train)\n",
    "print('Training MAE: {}'.format(train_mae_svm))\n",
    "\n",
    "train_acc = compute_accuracy(predictions_train_svm, y_train)\n",
    "print('Training Accuracy: {}'.format(train_acc))\n",
    "\n",
    "predictions_test_svm = best_model_svm.predict(X_test)\n",
    "\n",
    "test_rmse_svm = compute_RMSE(predictions_test_svm, y_test)\n",
    "print('Test RMSE: {}'.format(test_rmse_svm))\n",
    "\n",
    "test_mae_svm = compute_mae(predictions_test_svm, y_test)\n",
    "print('Test MAE: {}'.format(test_mae_svm))\n",
    "\n",
    "test_acc = compute_accuracy(predictions_test_svm, y_test)\n",
    "print('Test Accuracy: {}'.format(test_acc))"
   ]
  },
  {
   "cell_type": "markdown",
   "id": "da3dce53",
   "metadata": {},
   "source": [
    "### Decision Tree"
   ]
  },
  {
   "cell_type": "code",
   "execution_count": null,
   "id": "cef1cf25",
   "metadata": {},
   "outputs": [],
   "source": [
    "dt = DecisionTreeClassifier()\n",
    "dt.get_params()"
   ]
  },
  {
   "cell_type": "code",
   "execution_count": null,
   "id": "a66c82bd",
   "metadata": {},
   "outputs": [],
   "source": [
    "hyperparameters = [\n",
    "    {\n",
    "        'min_impurity_decrease': [0.001, 0.01, 0.05, 0.1, 0.3, 0.5],\n",
    "        'max_depth': [5, 10, 20, 30],\n",
    "        'min_samples_split': [2, 4, 6, 10, 15, 20],\n",
    "        'max_leaf_nodes': [3, 5, 10, 20, 50, 100]\n",
    "    }\n",
    "]"
   ]
  },
  {
   "cell_type": "code",
   "execution_count": null,
   "id": "39440a6c",
   "metadata": {},
   "outputs": [],
   "source": [
    "rsdt = RandomizedSearchCV(dt, hyperparameters, random_state=42, cv=10, n_iter=50)\n",
    "rsdt.fit(X_train, y_train)"
   ]
  },
  {
   "cell_type": "code",
   "execution_count": null,
   "id": "fc7c2152",
   "metadata": {},
   "outputs": [],
   "source": [
    "best_params_dt = rsdt.best_params_\n",
    "best_params_dt"
   ]
  },
  {
   "cell_type": "code",
   "execution_count": null,
   "id": "ec2fcb20",
   "metadata": {},
   "outputs": [],
   "source": [
    "best_model_dt = rsdt.best_estimator_\n",
    "\n",
    "predictions_train_dt = best_model_dt.predict(X_train)\n",
    "\n",
    "train_rmse_dt = compute_RMSE(predictions_train_dt, y_train)\n",
    "print('Training RMSE: {}'.format(train_rmse_dt))\n",
    "\n",
    "train_mae_dt = compute_mae(predictions_train_dt, y_train)\n",
    "print('Training MAE: {}'.format(train_mae_dt))\n",
    "\n",
    "train_acc_dt = compute_accuracy(predictions_train_dt, y_train)\n",
    "print('Training Accuracy: {}'.format(train_acc_dt))\n",
    "\n",
    "predictions_test_dt = best_model_dt.predict(X_test)\n",
    "\n",
    "test_rmse_dt = compute_RMSE(predictions_test_dt, y_test)\n",
    "print('Test RMSE: {}'.format(test_rmse_dt))\n",
    "\n",
    "test_mae_dt = compute_mae(predictions_test_dt, y_test)\n",
    "print('Test MAE: {}'.format(test_mae_dt))\n",
    "\n",
    "test_acc_dt = compute_accuracy(predictions_test_dt, y_test)\n",
    "print('Test Accuracy: {}'.format(test_acc_dt))"
   ]
  },
  {
   "cell_type": "markdown",
   "id": "d867a0a5",
   "metadata": {},
   "source": [
    "## Prediction models (intrinsic only)"
   ]
  },
  {
   "cell_type": "code",
   "execution_count": null,
   "id": "50f4dcc0",
   "metadata": {},
   "outputs": [],
   "source": [
    "# data = data2\n",
    "# data = data.drop(columns=['song_familiarity', 'artist_familiarity', 'bad_good', 'distasteful_tasty', 'dull_exciting', 'tasteless_tasteful', 'unimaginative_creative', 'untalented_talented', 'unpleasant_pleasant', 'forgettable_memorable', 'boring_interesting', 'listen_similar', 'share_friends', 'add_playlist'])\n",
    "# data = data.drop(columns=['music_label', 'artist_collab', 'chart_history', 'mean_trends'])\n",
    "# X_data =  data.values[:,:-1]\n",
    "# y_data = data.values[:,-1]\n",
    "\n",
    "# print(X_data.shape)\n",
    "# print(y_data.shape)"
   ]
  },
  {
   "cell_type": "code",
   "execution_count": null,
   "id": "8abbee5e",
   "metadata": {},
   "outputs": [],
   "source": [
    "data_temp = data_copy\n",
    "data2 = data_temp.drop(columns=['music_label', 'artist_collab', 'chart_history', 'mean_trends', 'song_familiarity', 'artist_familiarity', 'bad_good', 'distasteful_tasty', 'dull_exciting', 'tasteless_tasteful', 'unimaginative_creative', 'untalented_talented', 'unpleasant_pleasant', 'forgettable_memorable', 'boring_interesting', 'listen_similar', 'share_friends', 'add_playlist'])\n",
    "X_data =  data2.values[:,:-1]\n",
    "y_data = data2.values[:,-1]\n",
    "\n",
    "print(X_data.shape)\n",
    "print(y_data.shape)"
   ]
  },
  {
   "cell_type": "code",
   "execution_count": null,
   "id": "3093832d",
   "metadata": {},
   "outputs": [],
   "source": [
    "X_train, X_test, y_train, y_test = train_test_split(X_data, y_data, random_state=42, test_size=0.20, stratify=y_data)\n",
    "\n",
    "print(\"X_train: \", X_train.shape)\n",
    "print(\"y_train: \", y_train.shape)\n",
    "print(\"X_test: \", X_test.shape)\n",
    "print(\"y_test: \", y_test.shape)"
   ]
  },
  {
   "cell_type": "code",
   "execution_count": null,
   "id": "c6caec1c",
   "metadata": {},
   "outputs": [],
   "source": [
    "scaler = StandardScaler()\n",
    "X_train = scaler.fit_transform(X_train)\n",
    "X_test = scaler.transform(X_test)"
   ]
  },
  {
   "cell_type": "markdown",
   "id": "9cf4957c",
   "metadata": {},
   "source": [
    "### Random Forest "
   ]
  },
  {
   "cell_type": "code",
   "execution_count": null,
   "id": "eafd8bae",
   "metadata": {},
   "outputs": [],
   "source": [
    "rfc = RandomForestClassifier()\n",
    "rfc.get_params()"
   ]
  },
  {
   "cell_type": "code",
   "execution_count": null,
   "id": "46224d22",
   "metadata": {},
   "outputs": [],
   "source": [
    "hyperparameters = [\n",
    "        {\n",
    "        'n_estimators' : [50, 100, 200, 400, 600, 800, 1000, 1200, 1600, 1800],\n",
    "        'max_depth' : [10, 30, 50, 100, 150, 200, 250, 300, 350, None],\n",
    "        'min_samples_split' : [2, 4, 6, 10, 15, 20],\n",
    "        'max_leaf_nodes' : [100, 300, 500, 700, 900, 1100, 1300, None]\n",
    "    }\n",
    "]"
   ]
  },
  {
   "cell_type": "code",
   "execution_count": null,
   "id": "70d4aeb0",
   "metadata": {},
   "outputs": [],
   "source": [
    "rsrfc = RandomizedSearchCV(rfc, hyperparameters, random_state=42, cv=10, n_iter=50)\n",
    "rsrfc.fit(X_train, y_train)"
   ]
  },
  {
   "cell_type": "code",
   "execution_count": null,
   "id": "19a09ec4",
   "metadata": {},
   "outputs": [],
   "source": [
    "best_params_rfc = rsrfc.best_params_\n",
    "best_params_rfc"
   ]
  },
  {
   "cell_type": "code",
   "execution_count": null,
   "id": "87021e0e",
   "metadata": {},
   "outputs": [],
   "source": [
    "best_model_rfc = rsrfc.best_estimator_\n",
    "\n",
    "predictions_train_rfc = best_model_rfc.predict(X_train)\n",
    "\n",
    "train_rmse_rfc = compute_RMSE(predictions_train_rfc, y_train)\n",
    "print('Training RMSE: {}'.format(train_rmse_rfc))\n",
    "\n",
    "train_mae_rfc = compute_mae(predictions_train_rfc, y_train)\n",
    "print('Training MAE: {}'.format(train_mae_rfc))\n",
    "\n",
    "train_acc = compute_accuracy(predictions_train_rfc, y_train)\n",
    "print('Training Accuracy: {}'.format(train_acc))\n",
    "\n",
    "predictions_test_rfc = best_model_rfc.predict(X_test)\n",
    "\n",
    "test_rmse_rfc = compute_RMSE(predictions_test_rfc, y_test)\n",
    "print('Test RMSE: {}'.format(test_rmse_rfc))\n",
    "\n",
    "test_mae_rfc = compute_mae(predictions_test_rfc, y_test)\n",
    "print('Test MAE: {}'.format(test_mae_rfc))\n",
    "\n",
    "test_acc = compute_accuracy(predictions_test_rfc, y_test)\n",
    "print('Test Accuracy: {}'.format(test_acc))"
   ]
  },
  {
   "cell_type": "markdown",
   "id": "13d7fb03",
   "metadata": {},
   "source": [
    "### SVM"
   ]
  },
  {
   "cell_type": "code",
   "execution_count": null,
   "id": "5c73924f",
   "metadata": {},
   "outputs": [],
   "source": [
    "svm = SVC()\n",
    "svm.get_params()"
   ]
  },
  {
   "cell_type": "code",
   "execution_count": null,
   "id": "b57fd542",
   "metadata": {},
   "outputs": [],
   "source": [
    "hyperparameters = [\n",
    "        {\n",
    "        'C' : [0.1, 1, 100, 1000],\n",
    "        'kernel' : ['rbf', 'poly', 'sigmoid', 'linear'],\n",
    "        'degree' : [1, 2, 3, 4, 5, 6]\n",
    "    }\n",
    "]"
   ]
  },
  {
   "cell_type": "code",
   "execution_count": null,
   "id": "445274b1",
   "metadata": {},
   "outputs": [],
   "source": [
    "rssvm = RandomizedSearchCV(svm, hyperparameters, random_state=42, cv=10, n_iter=50)\n",
    "rssvm.fit(X_train, y_train)"
   ]
  },
  {
   "cell_type": "code",
   "execution_count": null,
   "id": "0677d77a",
   "metadata": {},
   "outputs": [],
   "source": [
    "best_params_svm = rssvm.best_params_\n",
    "best_params_svm"
   ]
  },
  {
   "cell_type": "code",
   "execution_count": null,
   "id": "302a77b4",
   "metadata": {},
   "outputs": [],
   "source": [
    "best_model_svm = rssvm.best_estimator_\n",
    "\n",
    "predictions_train_svm = best_model_svm.predict(X_train)\n",
    "\n",
    "train_rmse_svm = compute_RMSE(predictions_train_svm, y_train)\n",
    "print('Training RMSE: {}'.format(train_rmse_svm))\n",
    "\n",
    "train_mae_svm = compute_mae(predictions_train_svm, y_train)\n",
    "print('Training MAE: {}'.format(train_mae_svm))\n",
    "\n",
    "train_acc = compute_accuracy(predictions_train_svm, y_train)\n",
    "print('Training Accuracy: {}'.format(train_acc))\n",
    "\n",
    "predictions_test_svm = best_model_svm.predict(X_test)\n",
    "\n",
    "test_rmse_svm = compute_RMSE(predictions_test_svm, y_test)\n",
    "print('Test RMSE: {}'.format(test_rmse_svm))\n",
    "\n",
    "test_mae_svm = compute_mae(predictions_test_svm, y_test)\n",
    "print('Test MAE: {}'.format(test_mae_svm))\n",
    "\n",
    "test_acc = compute_accuracy(predictions_test_svm, y_test)\n",
    "print('Test Accuracy: {}'.format(test_acc))"
   ]
  },
  {
   "cell_type": "markdown",
   "id": "a014e79d",
   "metadata": {},
   "source": [
    "### Decision Tree"
   ]
  },
  {
   "cell_type": "code",
   "execution_count": null,
   "id": "333f339a",
   "metadata": {},
   "outputs": [],
   "source": [
    "dt = DecisionTreeClassifier()\n",
    "dt.get_params()"
   ]
  },
  {
   "cell_type": "code",
   "execution_count": null,
   "id": "1d328967",
   "metadata": {},
   "outputs": [],
   "source": [
    "hyperparameters = [\n",
    "    {\n",
    "        'min_impurity_decrease': [0.001, 0.01, 0.05, 0.1, 0.3, 0.5],\n",
    "        'max_depth': [5, 10, 20, 30],\n",
    "        'min_samples_split': [2, 4, 6, 10, 15, 20],\n",
    "        'max_leaf_nodes': [3, 5, 10, 20, 50, 100]\n",
    "    }\n",
    "]"
   ]
  },
  {
   "cell_type": "code",
   "execution_count": null,
   "id": "4c81b17d",
   "metadata": {},
   "outputs": [],
   "source": [
    "rsdt = RandomizedSearchCV(dt, hyperparameters, random_state=42, cv=10, n_iter=50)\n",
    "rsdt.fit(X_train, y_train)"
   ]
  },
  {
   "cell_type": "code",
   "execution_count": null,
   "id": "060467b2",
   "metadata": {},
   "outputs": [],
   "source": [
    "best_params_dt = rsdt.best_params_\n",
    "best_params_dt"
   ]
  },
  {
   "cell_type": "code",
   "execution_count": null,
   "id": "abdf7a0f",
   "metadata": {},
   "outputs": [],
   "source": [
    "best_model_dt = rsdt.best_estimator_\n",
    "\n",
    "predictions_train_dt = best_model_dt.predict(X_train)\n",
    "\n",
    "train_rmse_dt = compute_RMSE(predictions_train_dt, y_train)\n",
    "print('Training RMSE: {}'.format(train_rmse_dt))\n",
    "\n",
    "train_mae_dt = compute_mae(predictions_train_dt, y_train)\n",
    "print('Training MAE: {}'.format(train_mae_dt))\n",
    "\n",
    "train_acc_dt = compute_accuracy(predictions_train_dt, y_train)\n",
    "print('Training Accuracy: {}'.format(train_acc_dt))\n",
    "\n",
    "predictions_test_dt = best_model_dt.predict(X_test)\n",
    "\n",
    "test_rmse_dt = compute_RMSE(predictions_test_dt, y_test)\n",
    "print('Test RMSE: {}'.format(test_rmse_dt))\n",
    "\n",
    "test_mae_dt = compute_mae(predictions_test_dt, y_test)\n",
    "print('Test MAE: {}'.format(test_mae_dt))\n",
    "\n",
    "test_acc_dt = compute_accuracy(predictions_test_dt, y_test)\n",
    "print('Test Accuracy: {}'.format(test_acc_dt))"
   ]
  },
  {
   "cell_type": "markdown",
   "id": "5af5dc9f",
   "metadata": {},
   "source": [
    "## Prediction models (crowdsource only)"
   ]
  },
  {
   "cell_type": "code",
   "execution_count": null,
   "id": "9666b2c1",
   "metadata": {},
   "outputs": [],
   "source": [
    "# data = data2\n",
    "# data = data.drop(columns=['song_familiarity', 'artist_familiarity', 'bad_good', 'distasteful_tasty', 'dull_exciting', 'tasteless_tasteful', 'unimaginative_creative', 'untalented_talented', 'unpleasant_pleasant', 'forgettable_memorable', 'boring_interesting', 'listen_similar', 'share_friends', 'add_playlist'])\n",
    "# data = data.drop(columns=['music_label', 'artist_collab', 'chart_history', 'mean_trends'])\n",
    "# X_data =  data.values[:,:-1]\n",
    "# y_data = data.values[:,-1]\n",
    "\n",
    "# print(X_data.shape)\n",
    "# print(y_data.shape)"
   ]
  },
  {
   "cell_type": "code",
   "execution_count": null,
   "id": "4b4821b7",
   "metadata": {},
   "outputs": [],
   "source": [
    "data_temp = data_copy\n",
    "data2 = data_temp.drop(columns=['music_label', 'artist_collab', 'chart_history', 'mean_trends', 'danceability', 'key', 'loudness', 'speechiness', 'liveness', 'valence', 'tempo', 'duration_ms'])\n",
    "X_data =  data2.values[:,:-1]\n",
    "y_data = data2.values[:,-1]\n",
    "\n",
    "print(X_data.shape)\n",
    "print(y_data.shape)"
   ]
  },
  {
   "cell_type": "code",
   "execution_count": null,
   "id": "8a95623d",
   "metadata": {},
   "outputs": [],
   "source": [
    "X_train, X_test, y_train, y_test = train_test_split(X_data, y_data, random_state=42, test_size=0.20, stratify=y_data)\n",
    "\n",
    "print(\"X_train: \", X_train.shape)\n",
    "print(\"y_train: \", y_train.shape)\n",
    "print(\"X_test: \", X_test.shape)\n",
    "print(\"y_test: \", y_test.shape)"
   ]
  },
  {
   "cell_type": "code",
   "execution_count": null,
   "id": "839ccf48",
   "metadata": {},
   "outputs": [],
   "source": [
    "scaler = StandardScaler()\n",
    "X_train = scaler.fit_transform(X_train)\n",
    "X_test = scaler.transform(X_test)"
   ]
  },
  {
   "cell_type": "markdown",
   "id": "2f8cba64",
   "metadata": {},
   "source": [
    "### Random Forest "
   ]
  },
  {
   "cell_type": "code",
   "execution_count": null,
   "id": "a8d56eab",
   "metadata": {},
   "outputs": [],
   "source": [
    "rfc = RandomForestClassifier()\n",
    "rfc.get_params()"
   ]
  },
  {
   "cell_type": "code",
   "execution_count": null,
   "id": "248bacb5",
   "metadata": {},
   "outputs": [],
   "source": [
    "hyperparameters = [\n",
    "        {\n",
    "        'n_estimators' : [50, 100, 200, 400, 600, 800, 1000, 1200, 1600, 1800],\n",
    "        'max_depth' : [10, 30, 50, 100, 150, 200, 250, 300, 350, None],\n",
    "        'min_samples_split' : [2, 4, 6, 10, 15, 20],\n",
    "        'max_leaf_nodes' : [100, 300, 500, 700, 900, 1100, 1300, None]\n",
    "    }\n",
    "]"
   ]
  },
  {
   "cell_type": "code",
   "execution_count": null,
   "id": "6f254db9",
   "metadata": {},
   "outputs": [],
   "source": [
    "rsrfc = RandomizedSearchCV(rfc, hyperparameters, random_state=42, cv=10, n_iter=50)\n",
    "rsrfc.fit(X_train, y_train)"
   ]
  },
  {
   "cell_type": "code",
   "execution_count": null,
   "id": "7c2c2bbd",
   "metadata": {},
   "outputs": [],
   "source": [
    "best_params_rfc = rsrfc.best_params_\n",
    "best_params_rfc"
   ]
  },
  {
   "cell_type": "code",
   "execution_count": null,
   "id": "7bfbb94d",
   "metadata": {},
   "outputs": [],
   "source": [
    "best_model_rfc = rsrfc.best_estimator_\n",
    "\n",
    "predictions_train_rfc = best_model_rfc.predict(X_train)\n",
    "\n",
    "train_rmse_rfc = compute_RMSE(predictions_train_rfc, y_train)\n",
    "print('Training RMSE: {}'.format(train_rmse_rfc))\n",
    "\n",
    "train_mae_rfc = compute_mae(predictions_train_rfc, y_train)\n",
    "print('Training MAE: {}'.format(train_mae_rfc))\n",
    "\n",
    "train_acc = compute_accuracy(predictions_train_rfc, y_train)\n",
    "print('Training Accuracy: {}'.format(train_acc))\n",
    "\n",
    "predictions_test_rfc = best_model_rfc.predict(X_test)\n",
    "\n",
    "test_rmse_rfc = compute_RMSE(predictions_test_rfc, y_test)\n",
    "print('Test RMSE: {}'.format(test_rmse_rfc))\n",
    "\n",
    "test_mae_rfc = compute_mae(predictions_test_rfc, y_test)\n",
    "print('Test MAE: {}'.format(test_mae_rfc))\n",
    "\n",
    "test_acc = compute_accuracy(predictions_test_rfc, y_test)\n",
    "print('Test Accuracy: {}'.format(test_acc))"
   ]
  },
  {
   "cell_type": "markdown",
   "id": "a55b0427",
   "metadata": {},
   "source": [
    "### SVM"
   ]
  },
  {
   "cell_type": "code",
   "execution_count": null,
   "id": "3e5b0ac1",
   "metadata": {},
   "outputs": [],
   "source": [
    "svm = SVC()\n",
    "svm.get_params()"
   ]
  },
  {
   "cell_type": "code",
   "execution_count": null,
   "id": "21f584e2",
   "metadata": {},
   "outputs": [],
   "source": [
    "hyperparameters = [\n",
    "        {\n",
    "        'C' : [0.1, 1, 100, 1000],\n",
    "        'kernel' : ['rbf', 'poly', 'sigmoid', 'linear'],\n",
    "        'degree' : [1, 2, 3, 4, 5, 6]\n",
    "    }\n",
    "]"
   ]
  },
  {
   "cell_type": "code",
   "execution_count": null,
   "id": "5c32bf57",
   "metadata": {},
   "outputs": [],
   "source": [
    "rssvm = RandomizedSearchCV(svm, hyperparameters, random_state=42, cv=10, n_iter=50)\n",
    "rssvm.fit(X_train, y_train)"
   ]
  },
  {
   "cell_type": "code",
   "execution_count": null,
   "id": "6fa5fbb3",
   "metadata": {},
   "outputs": [],
   "source": [
    "best_params_svm = rssvm.best_params_\n",
    "best_params_svm"
   ]
  },
  {
   "cell_type": "code",
   "execution_count": null,
   "id": "954357c6",
   "metadata": {},
   "outputs": [],
   "source": [
    "best_model_svm = rssvm.best_estimator_\n",
    "\n",
    "predictions_train_svm = best_model_svm.predict(X_train)\n",
    "\n",
    "train_rmse_svm = compute_RMSE(predictions_train_svm, y_train)\n",
    "print('Training RMSE: {}'.format(train_rmse_svm))\n",
    "\n",
    "train_mae_svm = compute_mae(predictions_train_svm, y_train)\n",
    "print('Training MAE: {}'.format(train_mae_svm))\n",
    "\n",
    "train_acc = compute_accuracy(predictions_train_svm, y_train)\n",
    "print('Training Accuracy: {}'.format(train_acc))\n",
    "\n",
    "predictions_test_svm = best_model_svm.predict(X_test)\n",
    "\n",
    "test_rmse_svm = compute_RMSE(predictions_test_svm, y_test)\n",
    "print('Test RMSE: {}'.format(test_rmse_svm))\n",
    "\n",
    "test_mae_svm = compute_mae(predictions_test_svm, y_test)\n",
    "print('Test MAE: {}'.format(test_mae_svm))\n",
    "\n",
    "test_acc = compute_accuracy(predictions_test_svm, y_test)\n",
    "print('Test Accuracy: {}'.format(test_acc))"
   ]
  },
  {
   "cell_type": "markdown",
   "id": "d632d14d",
   "metadata": {},
   "source": [
    "### Decision Tree"
   ]
  },
  {
   "cell_type": "code",
   "execution_count": null,
   "id": "25664bbf",
   "metadata": {},
   "outputs": [],
   "source": [
    "dt = DecisionTreeClassifier()\n",
    "dt.get_params()"
   ]
  },
  {
   "cell_type": "code",
   "execution_count": null,
   "id": "9e7db5b8",
   "metadata": {},
   "outputs": [],
   "source": [
    "hyperparameters = [\n",
    "    {\n",
    "        'min_impurity_decrease': [0.001, 0.01, 0.05, 0.1, 0.3, 0.5],\n",
    "        'max_depth': [5, 10, 20, 30],\n",
    "        'min_samples_split': [2, 4, 6, 10, 15, 20],\n",
    "        'max_leaf_nodes': [3, 5, 10, 20, 50, 100]\n",
    "    }\n",
    "]"
   ]
  },
  {
   "cell_type": "code",
   "execution_count": null,
   "id": "e463b72b",
   "metadata": {},
   "outputs": [],
   "source": [
    "rsdt = RandomizedSearchCV(dt, hyperparameters, random_state=42, cv=10, n_iter=50)\n",
    "rsdt.fit(X_train, y_train)"
   ]
  },
  {
   "cell_type": "code",
   "execution_count": null,
   "id": "c17bb712",
   "metadata": {},
   "outputs": [],
   "source": [
    "best_params_dt = rsdt.best_params_\n",
    "best_params_dt"
   ]
  },
  {
   "cell_type": "code",
   "execution_count": null,
   "id": "6e04ead8",
   "metadata": {},
   "outputs": [],
   "source": [
    "best_model_dt = rsdt.best_estimator_\n",
    "\n",
    "predictions_train_dt = best_model_dt.predict(X_train)\n",
    "\n",
    "train_rmse_dt = compute_RMSE(predictions_train_dt, y_train)\n",
    "print('Training RMSE: {}'.format(train_rmse_dt))\n",
    "\n",
    "train_mae_dt = compute_mae(predictions_train_dt, y_train)\n",
    "print('Training MAE: {}'.format(train_mae_dt))\n",
    "\n",
    "train_acc_dt = compute_accuracy(predictions_train_dt, y_train)\n",
    "print('Training Accuracy: {}'.format(train_acc_dt))\n",
    "\n",
    "predictions_test_dt = best_model_dt.predict(X_test)\n",
    "\n",
    "test_rmse_dt = compute_RMSE(predictions_test_dt, y_test)\n",
    "print('Test RMSE: {}'.format(test_rmse_dt))\n",
    "\n",
    "test_mae_dt = compute_mae(predictions_test_dt, y_test)\n",
    "print('Test MAE: {}'.format(test_mae_dt))\n",
    "\n",
    "test_acc_dt = compute_accuracy(predictions_test_dt, y_test)\n",
    "print('Test Accuracy: {}'.format(test_acc_dt))"
   ]
  },
  {
   "cell_type": "code",
   "execution_count": null,
   "id": "e001932f",
   "metadata": {},
   "outputs": [],
   "source": []
  },
  {
   "cell_type": "markdown",
   "id": "b30fc878",
   "metadata": {},
   "source": [
    "# Out of Time testing"
   ]
  },
  {
   "cell_type": "markdown",
   "id": "3a844ee0",
   "metadata": {},
   "source": [
    "Test data using best model from **crowdsource+extrinsic+intrinsic** and **intrinsic+extrinsic**\n",
    "\n",
    "best_model_rfc_3, best_model_svm_3, best_model_dt_3\n",
    "\n",
    "best_model_rfc_2, best_model_svm_2, best_model_dt_2"
   ]
  },
  {
   "cell_type": "code",
   "execution_count": null,
   "id": "9370e9e6",
   "metadata": {},
   "outputs": [],
   "source": [
    "data = pd.read_csv('complete_data_term3run.csv', index_col=0)\n",
    "print(data)"
   ]
  },
  {
   "cell_type": "code",
   "execution_count": null,
   "id": "07ccb4c0",
   "metadata": {},
   "outputs": [],
   "source": [
    "data = data.drop(columns=['title', 'artist/s'])\n",
    "X_data =  data.values[:,:-1]\n",
    "y_data = data.values[:,-1]\n",
    "\n",
    "print(X_data.shape)\n",
    "print(y_data.shape)"
   ]
  },
  {
   "cell_type": "code",
   "execution_count": null,
   "id": "926bab79",
   "metadata": {},
   "outputs": [],
   "source": [
    "# predictions_rfc_3 = best_model_rfc_3.predict(X_data)\n",
    "\n",
    "# test_rmse_rfc_3 = compute_RMSE(predictions_rfc_3, y_data)\n",
    "# print('Test RMSE: {}'.format(test_rmse_rfc_3))\n",
    "\n",
    "# test_mae_rfc_3 = compute_mae(predictions_rfc_3, y_data)\n",
    "# print('Test MAE: {}'.format(test_mae_rfc_3))\n",
    "\n",
    "# test_acc_rfc_3 = compute_accuracy(predictions_rfc_3, y_data)\n",
    "# print('Test Accuracy: {}'.format(test_acc_rfc_3))"
   ]
  },
  {
   "cell_type": "code",
   "execution_count": null,
   "id": "c67463c6",
   "metadata": {},
   "outputs": [],
   "source": [
    "# predictions_svm_3 = best_model_svm_3.predict(X_data)\n",
    "\n",
    "# test_rmse_svm_3 = compute_RMSE(predictions_svm_3, y_data)\n",
    "# print('Test RMSE: {}'.format(test_rmse_svm_3))\n",
    "\n",
    "# test_mae_svm_3 = compute_mae(predictions_svm_3, y_data)\n",
    "# print('Test MAE: {}'.format(test_mae_svm_3))\n",
    "\n",
    "# test_acc_svm_3 = compute_accuracy(predictions_svm_3, y_data)\n",
    "# print('Test Accuracy: {}'.format(test_acc_svm_3))"
   ]
  },
  {
   "cell_type": "code",
   "execution_count": null,
   "id": "3e9b8216",
   "metadata": {},
   "outputs": [],
   "source": [
    "# predictions_dt_3 = best_model_dt_3.predict(X_data)\n",
    "\n",
    "# test_rmse_dt_3 = compute_RMSE(predictions_dt_3, y_data)\n",
    "# print('Test RMSE: {}'.format(test_rmse_dt_3))\n",
    "\n",
    "# test_mae_dt_3 = compute_mae(predictions_dt_3, y_data)\n",
    "# print('Test MAE: {}'.format(test_mae_dt_3))\n",
    "\n",
    "# test_acc_dt_3 = compute_accuracy(predictions_dt_3, y_data)\n",
    "# print('Test Accuracy: {}'.format(test_acc_dt_3))"
   ]
  },
  {
   "cell_type": "code",
   "execution_count": null,
   "id": "532692df",
   "metadata": {},
   "outputs": [],
   "source": [
    "predictions_rfc_2 = best_model_rfc_2.predict(X_data)\n",
    "\n",
    "test_rmse_rfc_2 = compute_RMSE(predictions_rfc_2, y_data)\n",
    "print('Test RMSE: {}'.format(test_rmse_rfc_2))\n",
    "\n",
    "test_mae_rfc_2 = compute_mae(predictions_rfc_2, y_data)\n",
    "print('Test MAE: {}'.format(test_mae_rfc_2))\n",
    "\n",
    "test_acc_rfc_2 = compute_accuracy(predictions_rfc_2, y_data)\n",
    "print('Test Accuracy: {}'.format(test_acc_rfc_2))"
   ]
  },
  {
   "cell_type": "code",
   "execution_count": null,
   "id": "05030120",
   "metadata": {},
   "outputs": [],
   "source": [
    "predictions_svm_2 = best_model_svm_2.predict(X_data)\n",
    "\n",
    "test_rmse_svm_2 = compute_RMSE(predictions_svm_2, y_data)\n",
    "print('Test RMSE: {}'.format(test_rmse_svm_2))\n",
    "\n",
    "test_mae_svm_2 = compute_mae(predictions_svm_2, y_data)\n",
    "print('Test MAE: {}'.format(test_mae_svm_2))\n",
    "\n",
    "test_acc_svm_2 = compute_accuracy(predictions_svm_2, y_data)\n",
    "print('Test Accuracy: {}'.format(test_acc_svm_2))"
   ]
  },
  {
   "cell_type": "code",
   "execution_count": null,
   "id": "5c0aa09d",
   "metadata": {},
   "outputs": [],
   "source": [
    "predictions_dt_2 = best_model_dt_2.predict(X_data)\n",
    "\n",
    "test_rmse_dt_2 = compute_RMSE(predictions_dt_2, y_data)\n",
    "print('Test RMSE: {}'.format(test_rmse_dt_2))\n",
    "\n",
    "test_mae_dt_2 = compute_mae(predictions_dt_2, y_data)\n",
    "print('Test MAE: {}'.format(test_mae_dt_2))\n",
    "\n",
    "test_acc_dt_2 = compute_accuracy(predictions_dt_2, y_data)\n",
    "print('Test Accuracy: {}'.format(test_acc_dt_2))"
   ]
  },
  {
   "cell_type": "code",
   "execution_count": null,
   "id": "571c6548",
   "metadata": {},
   "outputs": [],
   "source": [
    "feature_importance = best_model_rfc_2.feature_importances_\n",
    "df_rfc_importance = pd.DataFrame(data=feature_importance, index=X_data.columns, columns=[\"importance\"])\n",
    "df_rfc_importance"
   ]
  },
  {
   "cell_type": "code",
   "execution_count": null,
   "id": "2f6c9322",
   "metadata": {},
   "outputs": [],
   "source": [
    "feature_importance = best_model_svm_2.feature_importances_\n",
    "df_svm_importance = pd.DataFrame(data=feature_importance, index=X_data.columns, columns=[\"importance\"])\n",
    "df_svm_importance"
   ]
  },
  {
   "cell_type": "code",
   "execution_count": null,
   "id": "87aacf9a",
   "metadata": {},
   "outputs": [],
   "source": [
    "feature_importance = best_model_dt_2.feature_importances_\n",
    "df_dt_importance = pd.DataFrame(data=feature_importance, index=X_data.columns, columns=[\"importance\"])\n",
    "df_dt_importance"
   ]
  },
  {
   "cell_type": "markdown",
   "id": "be39a641",
   "metadata": {},
   "source": [
    "## SEM prediction"
   ]
  },
  {
   "cell_type": "code",
   "execution_count": null,
   "id": "42fea135",
   "metadata": {},
   "outputs": [],
   "source": [
    "predictions_test_sem = model6.predict(X_data)"
   ]
  },
  {
   "cell_type": "code",
   "execution_count": null,
   "id": "a4ea0f4a",
   "metadata": {},
   "outputs": [],
   "source": [
    "y_data_sem = y_data\n",
    "test_rmse_sem = compute_RMSE(predictions_test_sem['stream_category'], y_data_sem)\n",
    "print('RMSE: {}'.format(test_rmse_sem))\n",
    "\n",
    "test_mae_sem = compute_mae(predictions_test_sem['stream_category'], y_data_sem)\n",
    "print('MAE: {}'.format(test_mae_sem))\n",
    "\n",
    "test_acc_sem = compute_accuracy(predictions_test_sem['stream_category'], y_data_sem)\n",
    "print('Accuracy: {}'.format(test_acc_sem))"
   ]
  },
  {
   "cell_type": "code",
   "execution_count": null,
   "id": "aa87fc57",
   "metadata": {
    "scrolled": true
   },
   "outputs": [],
   "source": [
    "predictions_test_sem"
   ]
  },
  {
   "cell_type": "code",
   "execution_count": null,
   "id": "5ac28e87",
   "metadata": {
    "scrolled": false
   },
   "outputs": [],
   "source": [
    "y_data_sem"
   ]
  },
  {
   "cell_type": "code",
   "execution_count": null,
   "id": "9971f332",
   "metadata": {},
   "outputs": [],
   "source": []
  },
  {
   "cell_type": "code",
   "execution_count": null,
   "id": "d0a86460",
   "metadata": {},
   "outputs": [],
   "source": []
  }
 ],
 "metadata": {
  "kernelspec": {
   "display_name": "Python 3 (ipykernel)",
   "language": "python",
   "name": "python3"
  },
  "language_info": {
   "codemirror_mode": {
    "name": "ipython",
    "version": 3
   },
   "file_extension": ".py",
   "mimetype": "text/x-python",
   "name": "python",
   "nbconvert_exporter": "python",
   "pygments_lexer": "ipython3",
   "version": "3.9.7"
  }
 },
 "nbformat": 4,
 "nbformat_minor": 5
}
