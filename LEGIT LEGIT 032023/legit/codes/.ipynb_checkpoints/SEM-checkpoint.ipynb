{
 "cells": [
  {
   "cell_type": "code",
   "execution_count": null,
   "id": "e03cf07f",
   "metadata": {},
   "outputs": [],
   "source": [
    "!pip install semopy"
   ]
  },
  {
   "cell_type": "code",
   "execution_count": null,
   "id": "1f260900",
   "metadata": {},
   "outputs": [],
   "source": [
    "import numpy as np\n",
    "import pandas as pd\n",
    "import matplotlib.pyplot as plt"
   ]
  },
  {
   "cell_type": "code",
   "execution_count": null,
   "id": "57c71dce",
   "metadata": {},
   "outputs": [],
   "source": [
    "songs = pd.read_csv('ThesisHits.csv', index_col=0)\n",
    "data = songs\n",
    "print(data)"
   ]
  },
  {
   "cell_type": "code",
   "execution_count": null,
   "id": "d0a14f88",
   "metadata": {},
   "outputs": [],
   "source": [
    "print(data.isnull().sum())"
   ]
  },
  {
   "cell_type": "code",
   "execution_count": null,
   "id": "38cc203a",
   "metadata": {},
   "outputs": [],
   "source": [
    "print(data.dtypes)"
   ]
  },
  {
   "cell_type": "code",
   "execution_count": null,
   "id": "4cd2da55",
   "metadata": {},
   "outputs": [],
   "source": [
    "data = data.astype({'key':'float'})\n",
    "data = data.astype({'duration_ms':'float'})\n",
    "print(data.dtypes)"
   ]
  },
  {
   "cell_type": "code",
   "execution_count": null,
   "id": "c308e2f6",
   "metadata": {},
   "outputs": [],
   "source": [
    "data = data.drop(columns=['title', 'artist/s', 'stream_category'])"
   ]
  },
  {
   "cell_type": "code",
   "execution_count": null,
   "id": "22a27580",
   "metadata": {},
   "outputs": [],
   "source": [
    "# normalizing (read that z-scaling is standardscaler)\n",
    "from sklearn.preprocessing import StandardScaler\n",
    "scaler = StandardScaler()\n",
    "data_scaled = scaler.fit_transform(data)"
   ]
  },
  {
   "cell_type": "code",
   "execution_count": null,
   "id": "7d196573",
   "metadata": {},
   "outputs": [],
   "source": [
    "# model model\n",
    "mod = \"\"\"\n",
    "chart_success =~ stream1 + stream2 + stream3 + stream4 + stream5 + stream6 + stream6 + stream7 + stream8 + stream9\n",
    "intrinsic =~ danceability + liveness + key + loudness + speechiness + valence + tempo + duration_ms\n",
    "extrinsic =~ label_category + history1\n",
    "\n",
    "chart_success ~ intrinsic + extrinsic\n",
    "\n",
    "DEFINE(ordinal) label_category history1 stream1 stream2 stream3 stream4 stream5 stream6 stream7 stream8 stream9\n",
    "      \"\"\""
   ]
  },
  {
   "cell_type": "code",
   "execution_count": null,
   "id": "c6a1a2f6",
   "metadata": {},
   "outputs": [],
   "source": []
  },
  {
   "cell_type": "code",
   "execution_count": null,
   "id": "8de44140",
   "metadata": {},
   "outputs": [],
   "source": []
  },
  {
   "cell_type": "code",
   "execution_count": null,
   "id": "6d63e2e5",
   "metadata": {},
   "outputs": [],
   "source": []
  },
  {
   "cell_type": "code",
   "execution_count": null,
   "id": "e46c46b2",
   "metadata": {},
   "outputs": [],
   "source": []
  }
 ],
 "metadata": {
  "kernelspec": {
   "display_name": "Python 3 (ipykernel)",
   "language": "python",
   "name": "python3"
  },
  "language_info": {
   "codemirror_mode": {
    "name": "ipython",
    "version": 3
   },
   "file_extension": ".py",
   "mimetype": "text/x-python",
   "name": "python",
   "nbconvert_exporter": "python",
   "pygments_lexer": "ipython3",
   "version": "3.9.7"
  }
 },
 "nbformat": 4,
 "nbformat_minor": 5
}
