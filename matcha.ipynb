{
 "cells": [
  {
   "cell_type": "code",
   "execution_count": 38,
   "id": "9c24dcae",
   "metadata": {},
   "outputs": [],
   "source": [
    "#imports\n",
    "import numpy as np\n",
    "import pandas as pd\n",
    "import matplotlib.pyplot as plt"
   ]
  },
  {
   "cell_type": "code",
   "execution_count": 7,
   "id": "62e79a2f",
   "metadata": {},
   "outputs": [
    {
     "name": "stdout",
     "output_type": "stream",
     "text": [
      "   rank                                   uri  artist_names    track_name  \\\n",
      "0     1  spotify:track:2m6Ko3CY1qXNNja8AlugNc   Troye Sivan    Angel Baby   \n",
      "1     2  spotify:track:769Ld8demNhMgVLAQcjTDn         anees  sun and moon   \n",
      "2     3  spotify:track:1oYQtNQUxSODedcc5hPmp9  Ace Banzuelo          Muli   \n",
      "3     4  spotify:track:0HAG6nIiEKd75yGpovuSJQ   Arthur Nery      Isa lang   \n",
      "4     5  spotify:track:0WZqHCoOBXqgCCIsUZLC2a   Arthur Nery       Pagsamo   \n",
      "\n",
      "                                 source  peak_rank  previous_rank  \\\n",
      "0  EMI Recorded Music Australia Pty Ltd          1              2   \n",
      "1                             Anees LLC          1              1   \n",
      "2              Sony Music Entertainment          3              8   \n",
      "3                          Viva Records          2              3   \n",
      "4                          Viva Records          1              5   \n",
      "\n",
      "   weeks_on_chart  streams  stream_category  \n",
      "0              38  2181485               10  \n",
      "1               8  2092262               10  \n",
      "2               3  2008789               10  \n",
      "3              24  1969214               10  \n",
      "4              35  1610576               10  \n"
     ]
    }
   ],
   "source": [
    "#get csv\n",
    "week1 = pd.read_csv('weekly charts\\week1.csv')\n",
    "week2 = pd.read_csv('weekly charts\\week2.csv')\n",
    "week3 = pd.read_csv('weekly charts\\week3.csv')\n",
    "week4 = pd.read_csv('weekly charts\\week4.csv')\n",
    "week5 = pd.read_csv('weekly charts\\week5.csv')\n",
    "week6 = pd.read_csv('weekly charts\\week6.csv')\n",
    "week7 = pd.read_csv('weekly charts\\week7.csv')\n",
    "week8 = pd.read_csv('weekly charts\\week8.csv')\n",
    "week9 = pd.read_csv('weekly charts\\week9.csv')\n",
    "week10 = pd.read_csv('weekly charts\\week10.csv')\n",
    "\n",
    "print(week1.head())"
   ]
  },
  {
   "cell_type": "markdown",
   "id": "18ed8448",
   "metadata": {},
   "source": [
    "How many distinct artists are there per week?"
   ]
  },
  {
   "cell_type": "code",
   "execution_count": 28,
   "id": "f7f0328c",
   "metadata": {},
   "outputs": [
    {
     "name": "stdout",
     "output_type": "stream",
     "text": [
      "Taylor Swift                   11\n",
      "Ben&Ben                         8\n",
      "SEVENTEEN                       8\n",
      "Zack Tabudlo                    7\n",
      "Harry Styles                    6\n",
      "                               ..\n",
      "Kate Bush                       1\n",
      "Janine Teñoso, Arthur Nery      1\n",
      "Glass Animals                   1\n",
      "Doja Cat                        1\n",
      "Ariana Grande, Social House     1\n",
      "Name: artist_names, Length: 131, dtype: int64\n"
     ]
    }
   ],
   "source": [
    "print(week1['artist_names'].value_counts())\n",
    "counts = []\n",
    "counts.append(week1['artist_names'].nunique())"
   ]
  },
  {
   "cell_type": "code",
   "execution_count": 29,
   "id": "70e9fb2f",
   "metadata": {
    "scrolled": true
   },
   "outputs": [
    {
     "name": "stdout",
     "output_type": "stream",
     "text": [
      "Taylor Swift             13\n",
      "Ben&Ben                   8\n",
      "Zack Tabudlo              7\n",
      "Olivia Rodrigo            6\n",
      "Arthur Nery               5\n",
      "                         ..\n",
      "LE SSERAFIM               1\n",
      "Cliff, Yden               1\n",
      "Glass Animals             1\n",
      "Post Malone, Doja Cat     1\n",
      "Freestyle                 1\n",
      "Name: artist_names, Length: 135, dtype: int64\n"
     ]
    }
   ],
   "source": [
    "print(week2['artist_names'].value_counts())\n",
    "counts.append(week2['artist_names'].nunique())"
   ]
  },
  {
   "cell_type": "code",
   "execution_count": 30,
   "id": "db8df5cf",
   "metadata": {
    "scrolled": true
   },
   "outputs": [
    {
     "name": "stdout",
     "output_type": "stream",
     "text": [
      "BTS               19\n",
      "Taylor Swift      12\n",
      "Ben&Ben            8\n",
      "Zack Tabudlo       7\n",
      "Olivia Rodrigo     6\n",
      "                  ..\n",
      "South Border       1\n",
      "TREASURE           1\n",
      "SEVENTEEN          1\n",
      "TJ Monterde        1\n",
      "The Script         1\n",
      "Name: artist_names, Length: 122, dtype: int64\n"
     ]
    }
   ],
   "source": [
    "print(week3['artist_names'].value_counts())\n",
    "counts.append(week3['artist_names'].nunique())"
   ]
  },
  {
   "cell_type": "code",
   "execution_count": 31,
   "id": "fc1fe180",
   "metadata": {
    "scrolled": true
   },
   "outputs": [
    {
     "name": "stdout",
     "output_type": "stream",
     "text": [
      "Taylor Swift                  14\n",
      "Ben&Ben                        9\n",
      "Zack Tabudlo                   7\n",
      "BTS                            7\n",
      "Olivia Rodrigo                 6\n",
      "                              ..\n",
      "Glass Animals                  1\n",
      "Cliff, Yden                    1\n",
      "Marshmello, Jonas Brothers     1\n",
      "Parokya Ni Edgar               1\n",
      "Elley Duhé                     1\n",
      "Name: artist_names, Length: 129, dtype: int64\n"
     ]
    }
   ],
   "source": [
    "print(week4['artist_names'].value_counts())\n",
    "counts.append(week4['artist_names'].nunique())"
   ]
  },
  {
   "cell_type": "code",
   "execution_count": 32,
   "id": "64495f19",
   "metadata": {
    "scrolled": true
   },
   "outputs": [
    {
     "name": "stdout",
     "output_type": "stream",
     "text": [
      "Taylor Swift                   14\n",
      "Ben&Ben                         9\n",
      "Zack Tabudlo                    7\n",
      "Olivia Rodrigo                  6\n",
      "BTS                             6\n",
      "                               ..\n",
      "Nik Makino, Flow G              1\n",
      "South Border                    1\n",
      "NAYEON, Felix of Stray Kids     1\n",
      "Janine Teñoso, Arthur Nery      1\n",
      "Orange & Lemons                 1\n",
      "Name: artist_names, Length: 129, dtype: int64\n"
     ]
    }
   ],
   "source": [
    "print(week5['artist_names'].value_counts())\n",
    "counts.append(week5['artist_names'].nunique())"
   ]
  },
  {
   "cell_type": "code",
   "execution_count": 33,
   "id": "c96ac987",
   "metadata": {
    "scrolled": true
   },
   "outputs": [
    {
     "name": "stdout",
     "output_type": "stream",
     "text": [
      "Taylor Swift                   11\n",
      "Ben&Ben                         8\n",
      "Zack Tabudlo                    7\n",
      "ENHYPEN                         5\n",
      "Arthur Nery                     5\n",
      "                               ..\n",
      "Rex Orange County               1\n",
      "TJ Monterde                     1\n",
      "South Border                    1\n",
      "Gatton, Brooke Young            1\n",
      "Duke & Jones, Louis Theroux     1\n",
      "Name: artist_names, Length: 133, dtype: int64\n"
     ]
    }
   ],
   "source": [
    "print(week6['artist_names'].value_counts())\n",
    "counts.append(week6['artist_names'].nunique())"
   ]
  },
  {
   "cell_type": "code",
   "execution_count": 34,
   "id": "c52b4c92",
   "metadata": {
    "scrolled": true
   },
   "outputs": [
    {
     "name": "stdout",
     "output_type": "stream",
     "text": [
      "Taylor Swift                  12\n",
      "Ben&Ben                        8\n",
      "Zack Tabudlo                   7\n",
      "BTS                            5\n",
      "Arthur Nery                    5\n",
      "                              ..\n",
      "TJ Monterde                    1\n",
      "TREASURE                       1\n",
      "Janine Teñoso, Arthur Nery     1\n",
      "Unique Salonga                 1\n",
      "Calvin Harris, Dua Lipa        1\n",
      "Name: artist_names, Length: 130, dtype: int64\n"
     ]
    }
   ],
   "source": [
    "print(week7['artist_names'].value_counts())\n",
    "counts.append(week7['artist_names'].nunique())"
   ]
  },
  {
   "cell_type": "code",
   "execution_count": 35,
   "id": "1970c94d",
   "metadata": {
    "scrolled": true
   },
   "outputs": [
    {
     "name": "stdout",
     "output_type": "stream",
     "text": [
      "Taylor Swift                            12\n",
      "Ben&Ben                                  8\n",
      "Zack Tabudlo                             7\n",
      "Olivia Rodrigo                           5\n",
      "Arthur Nery                              5\n",
      "                                        ..\n",
      "Cliff, Yden                              1\n",
      "Unique Salonga                           1\n",
      "South Border                             1\n",
      "Janine Teñoso, Arthur Nery               1\n",
      "Justin Bieber, Daniel Caesar, Giveon     1\n",
      "Name: artist_names, Length: 131, dtype: int64\n"
     ]
    }
   ],
   "source": [
    "print(week8['artist_names'].value_counts())\n",
    "counts.append(week8['artist_names'].nunique())"
   ]
  },
  {
   "cell_type": "code",
   "execution_count": 36,
   "id": "7a280e14",
   "metadata": {
    "scrolled": true
   },
   "outputs": [
    {
     "name": "stdout",
     "output_type": "stream",
     "text": [
      "Taylor Swift                  15\n",
      "Ben&Ben                        8\n",
      "Zack Tabudlo                   7\n",
      "Olivia Rodrigo                 5\n",
      "The Weeknd                     5\n",
      "                              ..\n",
      "The Walters                    1\n",
      "TREASURE                       1\n",
      "South Border                   1\n",
      "Janine Teñoso, Arthur Nery     1\n",
      "AJR                            1\n",
      "Name: artist_names, Length: 130, dtype: int64\n"
     ]
    }
   ],
   "source": [
    "print(week9['artist_names'].value_counts())\n",
    "counts.append(week9['artist_names'].nunique())"
   ]
  },
  {
   "cell_type": "code",
   "execution_count": 37,
   "id": "245b3a62",
   "metadata": {},
   "outputs": [
    {
     "name": "stdout",
     "output_type": "stream",
     "text": [
      "Taylor Swift                  18\n",
      "Ben&Ben                        7\n",
      "Zack Tabudlo                   7\n",
      "Olivia Rodrigo                 6\n",
      "The Weeknd                     5\n",
      "                              ..\n",
      "TREASURE                       1\n",
      "The Walters                    1\n",
      "South Border                   1\n",
      "Janine Teñoso, Arthur Nery     1\n",
      "Kamikazee                      1\n",
      "Name: artist_names, Length: 130, dtype: int64\n"
     ]
    }
   ],
   "source": [
    "print(week10['artist_names'].value_counts())\n",
    "counts.append(week10['artist_names'].nunique())"
   ]
  },
  {
   "cell_type": "markdown",
   "id": "6ed2c526",
   "metadata": {},
   "source": [
    "Compare the number of distinct artists per week."
   ]
  },
  {
   "cell_type": "code",
   "execution_count": 50,
   "id": "564ca21c",
   "metadata": {
    "scrolled": true
   },
   "outputs": [
    {
     "data": {
      "image/png": "[encoded data removed]",
      "text/plain": [
       "<Figure size 1440x576 with 1 Axes>"
      ]
     },
     "metadata": {
      "needs_background": "light"
     },
     "output_type": "display_data"
    }
   ],
   "source": [
    "x = np.array([1, 2, 3, 4, 5, 6, 7, 8, 9, 10])\n",
    "plt.figure(figsize=(20,8))\n",
    "plt.plot(x, counts)\n",
    "plt.ylabel('Number of Distinct Artists')\n",
    "plt.xlabel('Week')\n",
    "plt.xticks(x)\n",
    "plt.show()"
   ]
  },
  {
   "cell_type": "code",
   "execution_count": 142,
   "id": "cda50f9f",
   "metadata": {
    "scrolled": true
   },
   "outputs": [
    {
     "data": {
      "text/html": [
       "<div>\n",
       "<style scoped>\n",
       "    .dataframe tbody tr th:only-of-type {\n",
       "        vertical-align: middle;\n",
       "    }\n",
       "\n",
       "    .dataframe tbody tr th {\n",
       "        vertical-align: top;\n",
       "    }\n",
       "\n",
       "    .dataframe thead th {\n",
       "        text-align: right;\n",
       "    }\n",
       "</style>\n",
       "<table border=\"1\" class=\"dataframe\">\n",
       "  <thead>\n",
       "    <tr style=\"text-align: right;\">\n",
       "      <th></th>\n",
       "      <th>artist_names</th>\n",
       "      <th>week1 count</th>\n",
       "    </tr>\n",
       "  </thead>\n",
       "  <tbody>\n",
       "    <tr>\n",
       "      <th>0</th>\n",
       "      <td>Taylor Swift</td>\n",
       "      <td>11</td>\n",
       "    </tr>\n",
       "    <tr>\n",
       "      <th>1</th>\n",
       "      <td>Ben&amp;Ben</td>\n",
       "      <td>8</td>\n",
       "    </tr>\n",
       "    <tr>\n",
       "      <th>2</th>\n",
       "      <td>SEVENTEEN</td>\n",
       "      <td>8</td>\n",
       "    </tr>\n",
       "    <tr>\n",
       "      <th>3</th>\n",
       "      <td>Zack Tabudlo</td>\n",
       "      <td>7</td>\n",
       "    </tr>\n",
       "    <tr>\n",
       "      <th>4</th>\n",
       "      <td>Harry Styles</td>\n",
       "      <td>6</td>\n",
       "    </tr>\n",
       "    <tr>\n",
       "      <th>5</th>\n",
       "      <td>Olivia Rodrigo</td>\n",
       "      <td>6</td>\n",
       "    </tr>\n",
       "    <tr>\n",
       "      <th>6</th>\n",
       "      <td>Arthur Nery</td>\n",
       "      <td>5</td>\n",
       "    </tr>\n",
       "    <tr>\n",
       "      <th>7</th>\n",
       "      <td>December Avenue</td>\n",
       "      <td>4</td>\n",
       "    </tr>\n",
       "    <tr>\n",
       "      <th>8</th>\n",
       "      <td>Moira Dela Torre</td>\n",
       "      <td>3</td>\n",
       "    </tr>\n",
       "    <tr>\n",
       "      <th>9</th>\n",
       "      <td>The Weeknd</td>\n",
       "      <td>3</td>\n",
       "    </tr>\n",
       "  </tbody>\n",
       "</table>\n",
       "</div>"
      ],
      "text/plain": [
       "       artist_names  week1 count\n",
       "0      Taylor Swift           11\n",
       "1           Ben&Ben            8\n",
       "2         SEVENTEEN            8\n",
       "3      Zack Tabudlo            7\n",
       "4      Harry Styles            6\n",
       "5    Olivia Rodrigo            6\n",
       "6       Arthur Nery            5\n",
       "7   December Avenue            4\n",
       "8  Moira Dela Torre            3\n",
       "9        The Weeknd            3"
      ]
     },
     "execution_count": 142,
     "metadata": {},
     "output_type": "execute_result"
    }
   ],
   "source": [
    "#get top 1 of week 1\n",
    "artist_week1 = week1['artist_names'].value_counts(ascending=False).nlargest(10).to_frame()\n",
    "artist_week1 = artist_week1.reset_index()\n",
    "artist_week1.columns = ['artist_names', 'week1 count']\n",
    "artist_week1"
   ]
  },
  {
   "cell_type": "code",
   "execution_count": 143,
   "id": "13a3fcd4",
   "metadata": {},
   "outputs": [
    {
     "data": {
      "text/html": [
       "<div>\n",
       "<style scoped>\n",
       "    .dataframe tbody tr th:only-of-type {\n",
       "        vertical-align: middle;\n",
       "    }\n",
       "\n",
       "    .dataframe tbody tr th {\n",
       "        vertical-align: top;\n",
       "    }\n",
       "\n",
       "    .dataframe thead th {\n",
       "        text-align: right;\n",
       "    }\n",
       "</style>\n",
       "<table border=\"1\" class=\"dataframe\">\n",
       "  <thead>\n",
       "    <tr style=\"text-align: right;\">\n",
       "      <th></th>\n",
       "      <th>artist_names</th>\n",
       "      <th>week1 count</th>\n",
       "      <th>week2 count</th>\n",
       "      <th>week3 count</th>\n",
       "      <th>week4 count</th>\n",
       "      <th>week5 count</th>\n",
       "      <th>week6 count</th>\n",
       "      <th>week7 count</th>\n",
       "      <th>week8 count</th>\n",
       "      <th>week9 count</th>\n",
       "      <th>week10 count</th>\n",
       "    </tr>\n",
       "  </thead>\n",
       "  <tbody>\n",
       "    <tr>\n",
       "      <th>0</th>\n",
       "      <td>Taylor Swift</td>\n",
       "      <td>11</td>\n",
       "      <td>13</td>\n",
       "      <td>12</td>\n",
       "      <td>14</td>\n",
       "      <td>14</td>\n",
       "      <td>11</td>\n",
       "      <td>12</td>\n",
       "      <td>12</td>\n",
       "      <td>15</td>\n",
       "      <td>18</td>\n",
       "    </tr>\n",
       "    <tr>\n",
       "      <th>1</th>\n",
       "      <td>Ben&amp;Ben</td>\n",
       "      <td>8</td>\n",
       "      <td>8</td>\n",
       "      <td>8</td>\n",
       "      <td>9</td>\n",
       "      <td>9</td>\n",
       "      <td>8</td>\n",
       "      <td>8</td>\n",
       "      <td>8</td>\n",
       "      <td>8</td>\n",
       "      <td>7</td>\n",
       "    </tr>\n",
       "    <tr>\n",
       "      <th>2</th>\n",
       "      <td>SEVENTEEN</td>\n",
       "      <td>8</td>\n",
       "      <td>2</td>\n",
       "      <td>1</td>\n",
       "      <td>1</td>\n",
       "      <td>1</td>\n",
       "      <td>1</td>\n",
       "      <td>1</td>\n",
       "      <td>3</td>\n",
       "      <td>2</td>\n",
       "      <td>2</td>\n",
       "    </tr>\n",
       "    <tr>\n",
       "      <th>3</th>\n",
       "      <td>Zack Tabudlo</td>\n",
       "      <td>7</td>\n",
       "      <td>7</td>\n",
       "      <td>7</td>\n",
       "      <td>7</td>\n",
       "      <td>7</td>\n",
       "      <td>7</td>\n",
       "      <td>7</td>\n",
       "      <td>7</td>\n",
       "      <td>7</td>\n",
       "      <td>7</td>\n",
       "    </tr>\n",
       "    <tr>\n",
       "      <th>4</th>\n",
       "      <td>Harry Styles</td>\n",
       "      <td>6</td>\n",
       "      <td>5</td>\n",
       "      <td>4</td>\n",
       "      <td>4</td>\n",
       "      <td>3</td>\n",
       "      <td>3</td>\n",
       "      <td>3</td>\n",
       "      <td>3</td>\n",
       "      <td>3</td>\n",
       "      <td>3</td>\n",
       "    </tr>\n",
       "    <tr>\n",
       "      <th>5</th>\n",
       "      <td>Olivia Rodrigo</td>\n",
       "      <td>6</td>\n",
       "      <td>6</td>\n",
       "      <td>6</td>\n",
       "      <td>6</td>\n",
       "      <td>6</td>\n",
       "      <td>5</td>\n",
       "      <td>5</td>\n",
       "      <td>5</td>\n",
       "      <td>5</td>\n",
       "      <td>6</td>\n",
       "    </tr>\n",
       "    <tr>\n",
       "      <th>6</th>\n",
       "      <td>Arthur Nery</td>\n",
       "      <td>5</td>\n",
       "      <td>5</td>\n",
       "      <td>5</td>\n",
       "      <td>5</td>\n",
       "      <td>5</td>\n",
       "      <td>5</td>\n",
       "      <td>5</td>\n",
       "      <td>5</td>\n",
       "      <td>5</td>\n",
       "      <td>5</td>\n",
       "    </tr>\n",
       "    <tr>\n",
       "      <th>7</th>\n",
       "      <td>December Avenue</td>\n",
       "      <td>4</td>\n",
       "      <td>4</td>\n",
       "      <td>4</td>\n",
       "      <td>4</td>\n",
       "      <td>4</td>\n",
       "      <td>4</td>\n",
       "      <td>4</td>\n",
       "      <td>4</td>\n",
       "      <td>4</td>\n",
       "      <td>4</td>\n",
       "    </tr>\n",
       "    <tr>\n",
       "      <th>8</th>\n",
       "      <td>Moira Dela Torre</td>\n",
       "      <td>3</td>\n",
       "      <td>4</td>\n",
       "      <td>3</td>\n",
       "      <td>3</td>\n",
       "      <td>3</td>\n",
       "      <td>3</td>\n",
       "      <td>3</td>\n",
       "      <td>3</td>\n",
       "      <td>3</td>\n",
       "      <td>3</td>\n",
       "    </tr>\n",
       "    <tr>\n",
       "      <th>9</th>\n",
       "      <td>The Weeknd</td>\n",
       "      <td>3</td>\n",
       "      <td>3</td>\n",
       "      <td>3</td>\n",
       "      <td>4</td>\n",
       "      <td>3</td>\n",
       "      <td>3</td>\n",
       "      <td>4</td>\n",
       "      <td>5</td>\n",
       "      <td>5</td>\n",
       "      <td>5</td>\n",
       "    </tr>\n",
       "  </tbody>\n",
       "</table>\n",
       "</div>"
      ],
      "text/plain": [
       "       artist_names  week1 count  week2 count  week3 count  week4 count  \\\n",
       "0      Taylor Swift           11           13           12           14   \n",
       "1           Ben&Ben            8            8            8            9   \n",
       "2         SEVENTEEN            8            2            1            1   \n",
       "3      Zack Tabudlo            7            7            7            7   \n",
       "4      Harry Styles            6            5            4            4   \n",
       "5    Olivia Rodrigo            6            6            6            6   \n",
       "6       Arthur Nery            5            5            5            5   \n",
       "7   December Avenue            4            4            4            4   \n",
       "8  Moira Dela Torre            3            4            3            3   \n",
       "9        The Weeknd            3            3            3            4   \n",
       "\n",
       "   week5 count  week6 count  week7 count  week8 count  week9 count  \\\n",
       "0           14           11           12           12           15   \n",
       "1            9            8            8            8            8   \n",
       "2            1            1            1            3            2   \n",
       "3            7            7            7            7            7   \n",
       "4            3            3            3            3            3   \n",
       "5            6            5            5            5            5   \n",
       "6            5            5            5            5            5   \n",
       "7            4            4            4            4            4   \n",
       "8            3            3            3            3            3   \n",
       "9            3            3            4            5            5   \n",
       "\n",
       "   week10 count  \n",
       "0            18  \n",
       "1             7  \n",
       "2             2  \n",
       "3             7  \n",
       "4             3  \n",
       "5             6  \n",
       "6             5  \n",
       "7             4  \n",
       "8             3  \n",
       "9             5  "
      ]
     },
     "execution_count": 143,
     "metadata": {},
     "output_type": "execute_result"
    }
   ],
   "source": [
    "week2count = []\n",
    "for artist in artist_week1['artist_names']:\n",
    "    week2count.append(week2['artist_names'].where(week2['artist_names'] == artist).count())\n",
    "artist_week1.insert(2, \"week2 count\", week2count, True)\n",
    "\n",
    "week3count = []\n",
    "for artist in artist_week1['artist_names']:\n",
    "    week3count.append(week3['artist_names'].where(week3['artist_names'] == artist).count())\n",
    "artist_week1.insert(3, \"week3 count\", week3count, True)\n",
    "\n",
    "week4count = []\n",
    "for artist in artist_week1['artist_names']:\n",
    "    week4count.append(week4['artist_names'].where(week4['artist_names'] == artist).count())\n",
    "artist_week1.insert(4, \"week4 count\", week4count, True)\n",
    "\n",
    "week5count = []\n",
    "for artist in artist_week1['artist_names']:\n",
    "    week5count.append(week5['artist_names'].where(week5['artist_names'] == artist).count())\n",
    "artist_week1.insert(5, \"week5 count\", week5count, True)\n",
    "\n",
    "week6count = []\n",
    "for artist in artist_week1['artist_names']:\n",
    "    week6count.append(week6['artist_names'].where(week6['artist_names'] == artist).count())\n",
    "artist_week1.insert(6, \"week6 count\", week6count, True)\n",
    "\n",
    "week7count = []\n",
    "for artist in artist_week1['artist_names']:\n",
    "    week7count.append(week7['artist_names'].where(week7['artist_names'] == artist).count())\n",
    "artist_week1.insert(7, \"week7 count\", week7count, True)\n",
    "\n",
    "week8count = []\n",
    "for artist in artist_week1['artist_names']:\n",
    "    week8count.append(week8['artist_names'].where(week8['artist_names'] == artist).count())\n",
    "artist_week1.insert(8, \"week8 count\", week8count, True)\n",
    "\n",
    "week9count = []\n",
    "for artist in artist_week1['artist_names']:\n",
    "    week9count.append(week9['artist_names'].where(week9['artist_names'] == artist).count())\n",
    "artist_week1.insert(9, \"week9 count\", week9count, True)\n",
    "\n",
    "week10count = []\n",
    "for artist in artist_week1['artist_names']:\n",
    "    week10count.append(week10['artist_names'].where(week10['artist_names'] == artist).count())\n",
    "artist_week1.insert(10, \"week10 count\", week10count, True)\n",
    "\n",
    "artist_week1"
   ]
  },
  {
   "cell_type": "code",
   "execution_count": 144,
   "id": "f5e4e413",
   "metadata": {},
   "outputs": [
    {
     "data": {
      "text/plain": [
       "<AxesSubplot:>"
      ]
     },
     "execution_count": 144,
     "metadata": {},
     "output_type": "execute_result"
    },
    {
     "data": {
      "image/png": "[encoded data removed]",
      "text/plain": [
       "<Figure size 1440x720 with 1 Axes>"
      ]
     },
     "metadata": {
      "needs_background": "light"
     },
     "output_type": "display_data"
    }
   ],
   "source": [
    "artist_week1 = artist_week1.T\n",
    "artist_week1.columns = artist_week1.iloc[0] \n",
    "artist_week1 = artist_week1[1:]\n",
    "artist_week1.plot(figsize=(20,10))"
   ]
  },
  {
   "cell_type": "code",
   "execution_count": 74,
   "id": "0a77dda0",
   "metadata": {},
   "outputs": [
    {
     "name": "stdout",
     "output_type": "stream",
     "text": [
      "<class 'pandas.core.series.Series'>\n"
     ]
    }
   ],
   "source": []
  },
  {
   "cell_type": "markdown",
   "id": "0ff0c3ae",
   "metadata": {},
   "source": [
    "Trend of each song throughout the period."
   ]
  },
  {
   "cell_type": "code",
   "execution_count": 165,
   "id": "943bd821",
   "metadata": {
    "scrolled": true
   },
   "outputs": [
    {
     "data": {
      "text/html": [
       "<div>\n",
       "<style scoped>\n",
       "    .dataframe tbody tr th:only-of-type {\n",
       "        vertical-align: middle;\n",
       "    }\n",
       "\n",
       "    .dataframe tbody tr th {\n",
       "        vertical-align: top;\n",
       "    }\n",
       "\n",
       "    .dataframe thead th {\n",
       "        text-align: right;\n",
       "    }\n",
       "</style>\n",
       "<table border=\"1\" class=\"dataframe\">\n",
       "  <thead>\n",
       "    <tr style=\"text-align: right;\">\n",
       "      <th></th>\n",
       "      <th>track_name</th>\n",
       "      <th>week1 rank</th>\n",
       "    </tr>\n",
       "  </thead>\n",
       "  <tbody>\n",
       "    <tr>\n",
       "      <th>0</th>\n",
       "      <td>Angel Baby</td>\n",
       "      <td>1</td>\n",
       "    </tr>\n",
       "    <tr>\n",
       "      <th>1</th>\n",
       "      <td>sun and moon</td>\n",
       "      <td>2</td>\n",
       "    </tr>\n",
       "    <tr>\n",
       "      <th>2</th>\n",
       "      <td>Muli</td>\n",
       "      <td>3</td>\n",
       "    </tr>\n",
       "    <tr>\n",
       "      <th>3</th>\n",
       "      <td>Isa lang</td>\n",
       "      <td>4</td>\n",
       "    </tr>\n",
       "    <tr>\n",
       "      <th>4</th>\n",
       "      <td>Pagsamo</td>\n",
       "      <td>5</td>\n",
       "    </tr>\n",
       "    <tr>\n",
       "      <th>5</th>\n",
       "      <td>As It Was</td>\n",
       "      <td>6</td>\n",
       "    </tr>\n",
       "    <tr>\n",
       "      <th>6</th>\n",
       "      <td>Paraluman</td>\n",
       "      <td>7</td>\n",
       "    </tr>\n",
       "    <tr>\n",
       "      <th>7</th>\n",
       "      <td>Until I Found You</td>\n",
       "      <td>8</td>\n",
       "    </tr>\n",
       "    <tr>\n",
       "      <th>8</th>\n",
       "      <td>Ikaw Lang</td>\n",
       "      <td>9</td>\n",
       "    </tr>\n",
       "    <tr>\n",
       "      <th>9</th>\n",
       "      <td>Kagome</td>\n",
       "      <td>10</td>\n",
       "    </tr>\n",
       "    <tr>\n",
       "      <th>10</th>\n",
       "      <td>Pano</td>\n",
       "      <td>11</td>\n",
       "    </tr>\n",
       "    <tr>\n",
       "      <th>11</th>\n",
       "      <td>Line Without a Hook</td>\n",
       "      <td>12</td>\n",
       "    </tr>\n",
       "    <tr>\n",
       "      <th>12</th>\n",
       "      <td>Ghost</td>\n",
       "      <td>13</td>\n",
       "    </tr>\n",
       "    <tr>\n",
       "      <th>13</th>\n",
       "      <td>Asan Ka Na Ba</td>\n",
       "      <td>14</td>\n",
       "    </tr>\n",
       "    <tr>\n",
       "      <th>14</th>\n",
       "      <td>Habang Buhay</td>\n",
       "      <td>15</td>\n",
       "    </tr>\n",
       "    <tr>\n",
       "      <th>15</th>\n",
       "      <td>Tahanan</td>\n",
       "      <td>16</td>\n",
       "    </tr>\n",
       "    <tr>\n",
       "      <th>16</th>\n",
       "      <td>NVMD</td>\n",
       "      <td>17</td>\n",
       "    </tr>\n",
       "    <tr>\n",
       "      <th>17</th>\n",
       "      <td>About Damn Time</td>\n",
       "      <td>18</td>\n",
       "    </tr>\n",
       "    <tr>\n",
       "      <th>18</th>\n",
       "      <td>ZOOM</td>\n",
       "      <td>19</td>\n",
       "    </tr>\n",
       "    <tr>\n",
       "      <th>19</th>\n",
       "      <td>Every Summertime</td>\n",
       "      <td>20</td>\n",
       "    </tr>\n",
       "  </tbody>\n",
       "</table>\n",
       "</div>"
      ],
      "text/plain": [
       "             track_name  week1 rank\n",
       "0            Angel Baby           1\n",
       "1          sun and moon           2\n",
       "2                  Muli           3\n",
       "3              Isa lang           4\n",
       "4               Pagsamo           5\n",
       "5             As It Was           6\n",
       "6             Paraluman           7\n",
       "7     Until I Found You           8\n",
       "8             Ikaw Lang           9\n",
       "9                Kagome          10\n",
       "10                 Pano          11\n",
       "11  Line Without a Hook          12\n",
       "12                Ghost          13\n",
       "13        Asan Ka Na Ba          14\n",
       "14         Habang Buhay          15\n",
       "15              Tahanan          16\n",
       "16                 NVMD          17\n",
       "17      About Damn Time          18\n",
       "18                 ZOOM          19\n",
       "19     Every Summertime          20"
      ]
     },
     "execution_count": 165,
     "metadata": {},
     "output_type": "execute_result"
    }
   ],
   "source": [
    "#get top 20 songs of week1\n",
    "song_week1 = week1[['track_name', 'rank']].head(20)\n",
    "song_week1.columns = ['track_name', 'week1 rank']\n",
    "song_week1"
   ]
  },
  {
   "cell_type": "code",
   "execution_count": 183,
   "id": "203f92ed",
   "metadata": {},
   "outputs": [
    {
     "name": "stdout",
     "output_type": "stream",
     "text": [
      "             track_name  week1 rank                         week2 rank\n",
      "0            Angel Baby           1    0    1\n",
      "Name: rank, dtype: int64\n",
      "1          sun and moon           2    2    3\n",
      "Name: rank, dtype: int64\n",
      "2                  Muli           3    1    2\n",
      "Name: rank, dtype: int64\n",
      "3              Isa lang           4    3    4\n",
      "Name: rank, dtype: int64\n",
      "4               Pagsamo           5    4    5\n",
      "Name: rank, dtype: int64\n",
      "5             As It Was           6    7    8\n",
      "Name: rank, dtype: int64\n",
      "6             Paraluman           7    5    6\n",
      "Name: rank, dtype: int64\n",
      "7     Until I Found You           8    6    7\n",
      "Name: rank, dtype: int64\n",
      "8             Ikaw Lang           9   9    10\n",
      "Name: rank, dtype: int64\n",
      "9                Kagome          10    8    9\n",
      "Name: rank, dtype: int64\n",
      "10                 Pano          11  10    11\n",
      "Name: rank, dtype: int64\n",
      "11  Line Without a Hook          12  13    14\n",
      "Name: rank, dtype: int64\n",
      "12                Ghost          13  11    12\n",
      "Name: rank, dtype: int64\n",
      "13        Asan Ka Na Ba          14  12    13\n",
      "Name: rank, dtype: int64\n",
      "14         Habang Buhay          15  14    15\n",
      "Name: rank, dtype: int64\n",
      "15              Tahanan          16  15    16\n",
      "Name: rank, dtype: int64\n",
      "16                 NVMD          17  16    17\n",
      "Name: rank, dtype: int64\n",
      "17      About Damn Time          18  17    18\n",
      "Name: rank, dtype: int64\n",
      "18                 ZOOM          19  19    20\n",
      "Name: rank, dtype: int64\n",
      "19     Every Summertime          20  18    19\n",
      "Name: rank, dtype: int64\n"
     ]
    }
   ],
   "source": [
    "week2rank = []\n",
    "for song in song_week1['track_name']:\n",
    "     week2rank.append(week2[week2['track_name'] == song]['rank'])\n",
    "#print(week2rank)\n",
    "#week2rank.append(week2['rank'].where(week2['track_name'] == 'sun and moon'))\n",
    "song_week1.insert(2, \"week2 rank\", week2rank, True)\n",
    "\n",
    "#print(week2rank.notnull())\n",
    "\n",
    "\n",
    "print(song_week1)"
   ]
  },
  {
   "cell_type": "markdown",
   "id": "a34a700f",
   "metadata": {},
   "source": [
    "Etc"
   ]
  },
  {
   "cell_type": "code",
   "execution_count": null,
   "id": "c2790963",
   "metadata": {},
   "outputs": [],
   "source": []
  },
  {
   "cell_type": "code",
   "execution_count": null,
   "id": "1183f8fe",
   "metadata": {},
   "outputs": [],
   "source": []
  }
 ],
 "metadata": {
  "kernelspec": {
   "display_name": "Python 3 (ipykernel)",
   "language": "python",
   "name": "python3"
  },
  "language_info": {
   "codemirror_mode": {
    "name": "ipython",
    "version": 3
   },
   "file_extension": ".py",
   "mimetype": "text/x-python",
   "name": "python",
   "nbconvert_exporter": "python",
   "pygments_lexer": "ipython3",
   "version": "3.9.7"
  }
 },
 "nbformat": 4,
 "nbformat_minor": 5
}
